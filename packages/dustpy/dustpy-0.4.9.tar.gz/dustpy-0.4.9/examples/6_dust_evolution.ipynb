{
 "cells": [
  {
   "cell_type": "markdown",
   "metadata": {},
   "source": [
    "# Dust Evolution\n",
    "\n",
    "Dust evolution in `DustPy` consists of three parts: coagulation, hydrodynamics, and external sources.  \n",
    "Their source terms are stored in `Simulation.dust.S`."
   ]
  },
  {
   "cell_type": "code",
   "execution_count": 1,
   "metadata": {},
   "outputs": [],
   "source": [
    "from dustpy import Simulation\n",
    "sim = Simulation()\n",
    "sim.initialize()"
   ]
  },
  {
   "cell_type": "code",
   "execution_count": 2,
   "metadata": {},
   "outputs": [
    {
     "data": {
      "text/plain": [
       "Group (Sources)\n",
       "---------------\n",
       "    coag         : Field (Coagulation sources [g/cm²/s])\n",
       "    ext          : Field (External sources [g/cm²/s])\n",
       "    hyd          : Field (Hydrodynamic sources [g/cm²/s])\n",
       "    tot          : Field (Tot sources [g/cm²/s])\n",
       "  -----"
      ]
     },
     "execution_count": 2,
     "metadata": {},
     "output_type": "execute_result"
    }
   ],
   "source": [
    "sim.dust.S"
   ]
  },
  {
   "cell_type": "markdown",
   "metadata": {},
   "source": [
    "The total source terms `Simulation.dust.S.tot` is used as source terms for the integration method.\n",
    "\n",
    "The dust is by default integrated with the 5th-order adaptive Cash-Karp method provided by `Simframe`. Since the gas is by default integrated with an implicit method it is unconditionally stable and uses the time step set by the dust evolution."
   ]
  },
  {
   "cell_type": "code",
   "execution_count": 3,
   "metadata": {},
   "outputs": [
    {
     "data": {
      "text/plain": [
       "[Instruction (Dust: explicit 5th-order adaptive Cash-Karp method),\n",
       " Instruction (Gas: implicit 1st-order Euler method)]"
      ]
     },
     "execution_count": 3,
     "metadata": {},
     "output_type": "execute_result"
    }
   ],
   "source": [
    "sim.integrator.instructions"
   ]
  },
  {
   "cell_type": "markdown",
   "metadata": {},
   "source": [
    "## Coagulation\n",
    "\n",
    "Please see the previous chapter for details on coagulation.  \n",
    "The coagulation source terms are stored in `Simulation.dust.S.coag`."
   ]
  },
  {
   "cell_type": "markdown",
   "metadata": {},
   "source": [
    "### Turning off Fragmentation\n",
    "\n",
    "If you want to turn off fragmentation (but not sticking), set the sticking probabilities to $1$, the fragmentation probabilities to $0$, and unset the updater of the probabilities."
   ]
  },
  {
   "cell_type": "code",
   "execution_count": 4,
   "metadata": {},
   "outputs": [],
   "source": [
    "sim.dust.p.stick = 1.\n",
    "sim.dust.p.frag = 0.\n",
    "sim.dust.p.updater = None"
   ]
  },
  {
   "cell_type": "markdown",
   "metadata": {},
   "source": [
    "**Note:** You could also set the fragmentation velocities to a very large value that will never be reached. However, this will still calculate the probabilies at every timestep, even though they are constant in this case and consume valuable computational resources."
   ]
  },
  {
   "cell_type": "markdown",
   "metadata": {},
   "source": [
    "### Turning off Coagulation\n",
    "\n",
    "If you want to turn off coagulation in total, set the coagulation sources to $0$ and unset the updater."
   ]
  },
  {
   "cell_type": "code",
   "execution_count": 5,
   "metadata": {},
   "outputs": [],
   "source": [
    "sim.dust.S.coag = 0.\n",
    "sim.dust.S.coag.updater = None"
   ]
  },
  {
   "cell_type": "markdown",
   "metadata": {},
   "source": [
    "You can furthermore unset the updaters of the other fields, that are only used for coagulation to save computational resources."
   ]
  },
  {
   "cell_type": "code",
   "execution_count": 6,
   "metadata": {},
   "outputs": [],
   "source": [
    "sim.dust.p.updater = None\n",
    "sim.dust.v.rel.updater = None\n",
    "sim.dust.v.frag.updater = None\n",
    "sim.dust.kernel.updater = None"
   ]
  },
  {
   "cell_type": "markdown",
   "metadata": {},
   "source": [
    "## Hydrodynamics\n",
    "\n",
    "`DustPy` solves the following equation for dust transport\n",
    "\n",
    "$\\frac{\\partial}{\\partial t} \\Sigma_\\mathrm{d} + \\frac{1}{r} \\frac{\\partial}{\\partial r} \\left( r\\Sigma_\\mathrm{d}v_\\mathrm{rad} \\right) - \\frac{1}{r} \\frac{\\partial}{\\partial r} \\left[ D \\Sigma_\\mathrm{g} \\frac{\\partial}{\\partial r} \\left( \\frac{\\Sigma_\\mathrm{d}}{\\Sigma_\\mathrm{g}} \\right) \\right] = 0$\n",
    "\n",
    "The dust hydrodynamics consists of an advective and an diffusive term. The algorithm calculates the advective and diffusive fluxes separately at the grid cell interfaces. Furthermore, the sum of both is calculated."
   ]
  },
  {
   "cell_type": "code",
   "execution_count": 7,
   "metadata": {},
   "outputs": [
    {
     "data": {
      "text/plain": [
       "Group (Fluxes)\n",
       "--------------\n",
       "    adv          : Field (Advective flux [g/cm/s)\n",
       "    diff         : Field (Diffusive flux [g/cm/s)\n",
       "    tot          : Field (Total flux [g/cm/s)\n",
       "  -----"
      ]
     },
     "execution_count": 7,
     "metadata": {},
     "output_type": "execute_result"
    }
   ],
   "source": [
    "sim.dust.Fi"
   ]
  },
  {
   "cell_type": "markdown",
   "metadata": {},
   "source": [
    "### Advection\n",
    "\n",
    "The advective fluxes at the grid interfaces are calculated as\n",
    "\n",
    "$F_\\mathrm{adv} = v_\\mathrm{rad} \\cdot \\Sigma_\\mathrm{d}$\n",
    "\n",
    "and interpolated onto the grid cell interfaces. The default boundary condition assumes constant velocity."
   ]
  },
  {
   "cell_type": "markdown",
   "metadata": {},
   "source": [
    "### Turning off Advection\n",
    "\n",
    "To turn off advection, you can set the advective fluxes to $0$ and unset the updater."
   ]
  },
  {
   "cell_type": "code",
   "execution_count": 8,
   "metadata": {},
   "outputs": [],
   "source": [
    "sim.dust.Fi.adv = 0\n",
    "sim.dust.Fi.adv.updater = None"
   ]
  },
  {
   "cell_type": "markdown",
   "metadata": {},
   "source": [
    "However, this will still calculate the radial velocities, which will have an effect on the collision velocities caused by radial drift. If you do not want radial drift to contribute to the relative velocities, you also have to unset it."
   ]
  },
  {
   "cell_type": "code",
   "execution_count": 9,
   "metadata": {},
   "outputs": [],
   "source": [
    "sim.dust.v.rad = 0\n",
    "sim.dust.v.rad.updater = None"
   ]
  },
  {
   "cell_type": "markdown",
   "metadata": {},
   "source": [
    "You might also want to unset the relative velocities caused by azimuthal drift.  \n",
    "If you have set a backreaction mechanism you should think if you need to unset it for your model, too."
   ]
  },
  {
   "cell_type": "markdown",
   "metadata": {},
   "source": [
    "### Diffusion\n",
    "\n",
    "The diffusive fluxes are given by\n",
    "\n",
    "$F_\\mathrm{diff} = -D\\Sigma_\\mathrm{g}\\nabla\\frac{\\Sigma_\\mathrm{d}}{\\Sigma_\\mathrm{gas}}$\n",
    "\n",
    "A flux limiter limits the maximum diffusive flux to the diffusive RMS velocity of that dust species. The diffusive flux through the boundaries is set to zero."
   ]
  },
  {
   "cell_type": "markdown",
   "metadata": {},
   "source": [
    "### Turning off Diffusion\n",
    "\n",
    "To turn off dust diffusion you can set the diffusive fluxes to $0$ and unset the updater."
   ]
  },
  {
   "cell_type": "code",
   "execution_count": 10,
   "metadata": {},
   "outputs": [],
   "source": [
    "sim.dust.Fi.diff = 0.\n",
    "sim.dust.Fi.diff.updater = None"
   ]
  },
  {
   "cell_type": "markdown",
   "metadata": {},
   "source": [
    "You can furthermore unset the updater of the diffusivity, since it's not needed."
   ]
  },
  {
   "cell_type": "code",
   "execution_count": 11,
   "metadata": {},
   "outputs": [],
   "source": [
    "sim.dust.D.updater = None"
   ]
  },
  {
   "cell_type": "markdown",
   "metadata": {},
   "source": [
    "### Turning off Hydrodynamics\n",
    "\n",
    "If you want to turn off dust hydrodynamics in total, you can simply set hydrodynamic source terms of the dust to $0$ and unset the updater."
   ]
  },
  {
   "cell_type": "code",
   "execution_count": 12,
   "metadata": {},
   "outputs": [],
   "source": [
    "sim.dust.S.hyd = 0.\n",
    "sim.dust.S.hyd.updater = None"
   ]
  },
  {
   "cell_type": "markdown",
   "metadata": {},
   "source": [
    "You can also unset the updater of the fluxes."
   ]
  },
  {
   "cell_type": "code",
   "execution_count": 13,
   "metadata": {},
   "outputs": [],
   "source": [
    "sim.dust.Fi.updater = None"
   ]
  },
  {
   "cell_type": "markdown",
   "metadata": {},
   "source": [
    "Depending on the aim of your simulation, you can unset the updaters of other fields, if you don't need them."
   ]
  },
  {
   "cell_type": "markdown",
   "metadata": {},
   "source": [
    "## External Sources\n",
    "\n",
    "`DustPy` has the possibility to add external source/loss terms that you can set. With those you can for example add dust in case of infall or remove dust in case of planetesimal formation or pebble accretion.\n",
    "\n",
    "By default the external sources are $0$ without a set updater."
   ]
  },
  {
   "cell_type": "markdown",
   "metadata": {},
   "source": [
    "## Turning off Dust Evolution\n",
    "\n",
    "If you want to deactivate dust evolution as a whole you can set the total source terms to $0$ and unset the updater. This will leave `Simulation.dust.Sigma` unchanged throughout your simulation."
   ]
  },
  {
   "cell_type": "code",
   "execution_count": 14,
   "metadata": {},
   "outputs": [],
   "source": [
    "sim.dust.S.tot = 0.\n",
    "sim.dust.S.updater = None"
   ]
  },
  {
   "cell_type": "markdown",
   "metadata": {},
   "source": [
    "You can also deactivate other fields, that are not needed in that case, as described above.\n",
    "\n",
    "Another possibility of turning off dust evolution is by removing the integration instruction from the instruction set."
   ]
  },
  {
   "cell_type": "code",
   "execution_count": 15,
   "metadata": {},
   "outputs": [
    {
     "data": {
      "text/plain": [
       "[Instruction (Dust: explicit 5th-order adaptive Cash-Karp method),\n",
       " Instruction (Gas: implicit 1st-order Euler method)]"
      ]
     },
     "execution_count": 15,
     "metadata": {},
     "output_type": "execute_result"
    }
   ],
   "source": [
    "sim.integrator.instructions"
   ]
  },
  {
   "cell_type": "code",
   "execution_count": 16,
   "metadata": {},
   "outputs": [],
   "source": [
    "del(sim.integrator.instructions[0])"
   ]
  },
  {
   "cell_type": "code",
   "execution_count": 17,
   "metadata": {},
   "outputs": [
    {
     "data": {
      "text/plain": [
       "[Instruction (Gas: implicit 1st-order Euler method)]"
      ]
     },
     "execution_count": 17,
     "metadata": {},
     "output_type": "execute_result"
    }
   ],
   "source": [
    "sim.integrator.instructions"
   ]
  },
  {
   "cell_type": "markdown",
   "metadata": {},
   "source": [
    "Keep in mind that the updaters of all fields within `Simulation.dust` will still be called and the fields will be updated unless their updaters are unset. This will on one hand cost computational ressources, and on the other hand could influence the physics in an unwanted way.\n",
    "\n",
    "For example the dust backreaction coefficients will still be calculated and can have an effect on the gas, even though the dust is in principle not moving.\n",
    "\n",
    "Always keep in mind what you want to achieve by turning off dust evolution and unset the updaters of certain fields, if required.\n",
    "\n",
    "**Note:** If you remove the dust integration instruction, you have to provide a function that calculates the timestep, since by default `DustPy` uses the timestep the adaptive dust integration scheme suggests. See the chapter about gas evolution tests for details."
   ]
  }
 ],
 "metadata": {
  "kernelspec": {
   "display_name": "Python 3",
   "language": "python",
   "name": "python3"
  },
  "language_info": {
   "codemirror_mode": {
    "name": "ipython",
    "version": 3
   },
   "file_extension": ".py",
   "mimetype": "text/x-python",
   "name": "python",
   "nbconvert_exporter": "python",
   "pygments_lexer": "ipython3",
   "version": "3.8.5"
  }
 },
 "nbformat": 4,
 "nbformat_minor": 4
}
