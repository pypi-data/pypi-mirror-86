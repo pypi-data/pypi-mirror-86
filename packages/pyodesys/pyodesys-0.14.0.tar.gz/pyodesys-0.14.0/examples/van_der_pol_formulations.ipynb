{
 "cells": [
  {
   "cell_type": "markdown",
   "metadata": {},
   "source": [
    "# Van der Pol oscillator\n",
    "We will look at the second order differentual equation (see https://en.wikipedia.org/wiki/Van_der_Pol_oscillator):\n",
    "\n",
    "$$\n",
    "{d^2y_0 \\over dx^2}-\\mu(1-y_0^2){dy_0 \\over dx}+y_0= 0\n",
    "$$"
   ]
  },
  {
   "cell_type": "code",
   "execution_count": null,
   "metadata": {},
   "outputs": [],
   "source": [
    "from __future__ import division, print_function\n",
    "import itertools\n",
    "import numpy as np\n",
    "import sympy as sp\n",
    "import matplotlib.pyplot as plt\n",
    "#from pyodesys.native.gsl import NativeGSLSys as SymbolicSys\n",
    "from pyodesys.native.cvode import NativeCvodeSys as SymbolicSys\n",
    "sp.init_printing()\n",
    "%matplotlib inline\n",
    "print(sp.__version__)"
   ]
  },
  {
   "cell_type": "markdown",
   "metadata": {},
   "source": [
    "Note that we imported ``NativeCvodeSys`` as ``SymbolicSys``, this speed up the time of integration by more than an order of magnitude due to using compiled C++ code for our mathematical expressions.\n",
    "\n",
    "One way to reduce the order of our second order differential equation is to formulate a system of first order ODEs, using:\n",
    "\n",
    "$$ y_1 = \\dot y_0 $$\n",
    "\n",
    "which gives us:\n",
    "\n",
    "$$\n",
    "\\begin{cases}\n",
    "\\dot y_0 = y_1 \\\\\n",
    "\\dot y_1 = \\mu(1-y_0^2) y_1-y_0\n",
    "\\end{cases}\n",
    "$$\n",
    "\n",
    "Let's call this system of ordinary differential equations vdp1:"
   ]
  },
  {
   "cell_type": "code",
   "execution_count": null,
   "metadata": {},
   "outputs": [],
   "source": [
    "vdp1 = lambda x, y, p: [y[1], -y[0] + p[0]*y[1]*(1 - y[0]**2)]\n",
    "mu_val = 2.5\n",
    "y0_1 = [0.0, 1.0]\n",
    "y0_1, (y0_1[0], vdp1(0, y0_1, [mu_val])[0])"
   ]
  },
  {
   "cell_type": "markdown",
   "metadata": {},
   "source": [
    "An alternative would be to use use the Liénard transformation:\n",
    "\n",
    "$$ y = x - x^3/3 - \\dot x/\\mu $$"
   ]
  },
  {
   "cell_type": "code",
   "execution_count": null,
   "metadata": {},
   "outputs": [],
   "source": [
    "transf = lambda y, dydx, p: [y[0], y[0] - y[0]**3/3 - dydx[0]/p[0]]\n",
    "x, mu = sp.symbols('x mu', real=True)\n",
    "y = [yi(x) for yi in sp.symbols('y:2', cls=sp.Function)]\n",
    "dydx = [yi.diff(x) for yi in y]\n",
    "[sp.Eq(yi, expr, evaluate=False) for yi, expr in zip(y, transf(y, dydx, [mu]))]  # Just for displaying"
   ]
  },
  {
   "cell_type": "markdown",
   "metadata": {},
   "source": [
    "which gives us (we could generate this result using SymPy):\n",
    "$$\n",
    "\\begin{cases}\n",
    "\\dot y_0 = \\mu \\left(y_0-\\frac{1}{3}y_0^3-y_1\\right) \\\\\n",
    "\\dot y_1 = \\frac{1}{\\mu} y_0\n",
    "\\end{cases}\n",
    "$$"
   ]
  },
  {
   "cell_type": "code",
   "execution_count": null,
   "metadata": {},
   "outputs": [],
   "source": [
    "vdp2 = lambda x, y, p: [p[0]*(y[0] - y[0]**3/3 - y[1]), y[0]/p[0]]\n",
    "calc_y0_2 = lambda y0, mu: transf(y0, vdp1(0, y0, [mu]), [mu])\n",
    "y0_2 = calc_y0_2(y0_1, mu_val)\n",
    "(y0_2, y0_2[0], vdp2(0, y0_2, [mu_val])[0])"
   ]
  },
  {
   "cell_type": "code",
   "execution_count": null,
   "metadata": {},
   "outputs": [],
   "source": [
    "def solve_and_plot(odesys, y0, tout, mu, indices=None, integrator='native', **kwargs):\n",
    "    plt.figure(figsize=(16, 4))\n",
    "    xout, yout, info = odesys.integrate(tout, y0, [mu], integrator=integrator, **kwargs)\n",
    "    plt.subplot(1, 2, 1)\n",
    "    odesys.plot_result(indices=indices, ls=('-',), c=('k', 'r'))\n",
    "    plt.legend(loc='best')\n",
    "    plt.subplot(1, 2, 2)\n",
    "    odesys.plot_phase_plane()\n",
    "    info.pop('internal_xout')  # too much output\n",
    "    info.pop('internal_yout')\n",
    "    return len(xout), info"
   ]
  },
  {
   "cell_type": "code",
   "execution_count": null,
   "metadata": {},
   "outputs": [],
   "source": [
    "tend = 25"
   ]
  },
  {
   "cell_type": "code",
   "execution_count": null,
   "metadata": {},
   "outputs": [],
   "source": [
    "odesys1 = SymbolicSys.from_callback(vdp1, 2, 1, names='y0 y1'.split())\n",
    "odesys1.exprs"
   ]
  },
  {
   "cell_type": "code",
   "execution_count": null,
   "metadata": {},
   "outputs": [],
   "source": [
    "for mu in [0, 3, 9]:\n",
    "    solve_and_plot(odesys1, y0_1, np.linspace(0, tend, 500), mu)"
   ]
  },
  {
   "cell_type": "markdown",
   "metadata": {},
   "source": [
    "As we see, the period ($\\tau$) varies with $\\mu$, in 1952 Mary Cartwright derived an approximate formula for $\\tau$ (valid for large $\\mu$):\n",
    "\n",
    "$$\n",
    "\\tau  = (3 - 2 \\ln 2)\\mu + 2 \\alpha \\mu^{-1/3}\n",
    "$$\n",
    "\n",
    "where $\\alpha \\approx 2.338$ "
   ]
  },
  {
   "cell_type": "code",
   "execution_count": null,
   "metadata": {},
   "outputs": [],
   "source": [
    "tau = lambda mu: 1.6137056388801094*mu + 4.676*mu**(-1./3)\n",
    "for mu in [20, 40, 60]:\n",
    "    solve_and_plot(odesys1, y0_1, np.linspace(0, 5*tau(mu), 500), mu)"
   ]
  },
  {
   "cell_type": "markdown",
   "metadata": {},
   "source": [
    "For larger values of $\\mu$ we run into trouble (the numerical solver fails).\n",
    "The phase portrait is not well resolved due to rapid variations in y1."
   ]
  },
  {
   "cell_type": "markdown",
   "metadata": {},
   "source": [
    "Let us look at our alternative formulation:"
   ]
  },
  {
   "cell_type": "code",
   "execution_count": null,
   "metadata": {},
   "outputs": [],
   "source": [
    "odesys2 = SymbolicSys.from_callback(vdp2, 2, 1, names='y0 y1'.split())\n",
    "odesys2.exprs"
   ]
  },
  {
   "cell_type": "code",
   "execution_count": null,
   "metadata": {},
   "outputs": [],
   "source": [
    "solve_and_plot(odesys2, y0_2, tend, mu_val, nsteps=2000)"
   ]
  },
  {
   "cell_type": "markdown",
   "metadata": {},
   "source": [
    "This looks much better. Let's see if the solver has an easier time dealing with this formulation of y2 for large values of $\\mu$:"
   ]
  },
  {
   "cell_type": "code",
   "execution_count": null,
   "metadata": {},
   "outputs": [],
   "source": [
    "ls = itertools.cycle(('-', '--', ':'))\n",
    "for mu in [84, 160, 320]:\n",
    "    y0_2 = calc_y0_2(y0_1, mu)\n",
    "    print(y0_2)\n",
    "    solve_and_plot(odesys2, y0_2, np.linspace(0, 5*tau(mu), 500), mu)"
   ]
  },
  {
   "cell_type": "markdown",
   "metadata": {},
   "source": [
    "Indeed it has."
   ]
  },
  {
   "cell_type": "markdown",
   "metadata": {},
   "source": [
    "## Stiffness\n",
    "\n",
    "Let us compare the performance of explicit and implicit steppers (Adams and BDF respectivecly) for varying values of $\\mu$"
   ]
  },
  {
   "cell_type": "code",
   "execution_count": null,
   "metadata": {},
   "outputs": [],
   "source": [
    "solve_and_plot(odesys2, calc_y0_2(y0_1, mu_val), tend, mu_val, nsteps=2000)\n",
    "J = odesys2.get_jac()\n",
    "J"
   ]
  },
  {
   "cell_type": "markdown",
   "metadata": {},
   "source": [
    "For this simple system we can afford calculating the eigenvalues analytically"
   ]
  },
  {
   "cell_type": "code",
   "execution_count": null,
   "metadata": {},
   "outputs": [],
   "source": [
    "odesys2._NativeCode._written_files"
   ]
  },
  {
   "cell_type": "code",
   "execution_count": null,
   "metadata": {},
   "outputs": [],
   "source": [
    "symbs = odesys2.dep + tuple(odesys2.params)\n",
    "symbs"
   ]
  },
  {
   "cell_type": "code",
   "execution_count": null,
   "metadata": {},
   "outputs": [],
   "source": [
    "Jeig = J.eigenvals().keys()\n",
    "eig_cbs = [sp.lambdify(symbs, eig, modules='numpy') for eig in Jeig]\n",
    "Jeig"
   ]
  },
  {
   "cell_type": "code",
   "execution_count": null,
   "metadata": {},
   "outputs": [],
   "source": [
    "eigvals = np.array([(eig_cbs[0](*(tuple(yvals)+(mu_val + 0j,))),\n",
    "                     eig_cbs[1](*(tuple(yvals)+(mu_val + 0j,)))) for yvals in odesys2._internal[1]])"
   ]
  },
  {
   "cell_type": "code",
   "execution_count": null,
   "metadata": {},
   "outputs": [],
   "source": [
    "plt.plot(odesys2._internal[0], odesys2.stiffness(), label='from SVD')\n",
    "plt.plot(odesys2._internal[0], np.abs(eigvals[:,0])/np.abs(eigvals[:,1]), label='analytic')\n",
    "plt.legend()"
   ]
  },
  {
   "cell_type": "markdown",
   "metadata": {},
   "source": [
    "## Audio\n",
    "Plotting is instructive from a mathematical standpoint, but these equations were often investigated by to *listening* to audio amplified by electrical circuits modelled by the equation. So let us generate some audio."
   ]
  },
  {
   "cell_type": "code",
   "execution_count": null,
   "metadata": {},
   "outputs": [],
   "source": [
    "def arr_to_wav(arr, rate=44100):\n",
    "    from IPython.display import Audio\n",
    "    from scipy.io.wavfile import write\n",
    "    scaled = np.int16(arr/np.max(np.abs(arr)) * 32767)\n",
    "    write('test.wav', rate, scaled)\n",
    "    return Audio('test.wav')"
   ]
  },
  {
   "cell_type": "code",
   "execution_count": null,
   "metadata": {},
   "outputs": [],
   "source": [
    "xout, yout, info = odesys2.integrate(np.linspace(0, 500*tau(40.0), 2*44100), y0_1, [40.0], integrator='native')\n",
    "arr_to_wav(yout[:, 0])"
   ]
  },
  {
   "cell_type": "code",
   "execution_count": null,
   "metadata": {},
   "outputs": [],
   "source": [
    "def overlay(tend_mu, odesys=odesys2, time=3, rate=44100, plot=False):\n",
    "    yout_tot = None\n",
    "    for tend, mu in tend_mu:\n",
    "        xout, yout, info = odesys.integrate(np.linspace(0, tend*tau(mu[0]), time*rate), y0_1, mu, integrator='native')\n",
    "        print(tend, mu, tend*tau(mu[0]))\n",
    "        if yout_tot is None:\n",
    "            yout_tot = yout[:, 0]\n",
    "        else:\n",
    "            yout_tot += yout[:, 0]\n",
    "    if plot:\n",
    "        plt.figure(figsize=(16,4))\n",
    "        plt.plot(yout_tot[slice(None) if plot is True else slice(0, plot)])\n",
    "    return arr_to_wav(yout_tot, rate=rate)"
   ]
  },
  {
   "cell_type": "code",
   "execution_count": null,
   "metadata": {},
   "outputs": [],
   "source": [
    "overlay([\n",
    "    (400, [2.0]),\n",
    "    (410, [2.1]),\n",
    "], plot=10000)"
   ]
  },
  {
   "cell_type": "markdown",
   "metadata": {},
   "source": [
    "## Forced van der pol oscillator"
   ]
  },
  {
   "cell_type": "code",
   "execution_count": null,
   "metadata": {},
   "outputs": [],
   "source": [
    "vdp_forced = lambda x, y, p: [y[1], p[1]*sp.sin(p[2]*x) - y[0] + p[0]*y[1]*(1 - y[0]**2)]\n",
    "odesys_forced = SymbolicSys.from_callback(vdp_forced, 2, 3)\n",
    "overlay([(700, [8, 1, 0.5])], odesys_forced, plot=5000)  # Non-chaotic behavior"
   ]
  },
  {
   "cell_type": "code",
   "execution_count": null,
   "metadata": {},
   "outputs": [],
   "source": [
    "overlay([(700, [8, 1.2, 0.6])], odesys_forced, plot=5000)  # Chaotic behavior"
   ]
  },
  {
   "cell_type": "markdown",
   "metadata": {},
   "source": [
    "### Transient $\\mu$"
   ]
  },
  {
   "cell_type": "code",
   "execution_count": null,
   "metadata": {},
   "outputs": [],
   "source": [
    "vdp_transient = lambda x, y, p: [y[1], - y[0] + p[0]*sp.exp(-p[1]*x)*y[1]*(1 - y[0]**2)]\n",
    "odesys_transient = SymbolicSys.from_callback(vdp_transient, 2, 2)\n",
    "odesys_transient.exprs"
   ]
  },
  {
   "cell_type": "code",
   "execution_count": null,
   "metadata": {},
   "outputs": [],
   "source": [
    "overlay([\n",
    "    (440, [0.1, 1/2500.]),\n",
    "    (445, [0.5, 1/1000.]),\n",
    "    (890, [0.1, 2/2500.]),\n",
    "    (896, [0.5, 2/1000.]),\n",
    "], odesys_transient, plot=-1)"
   ]
  },
  {
   "cell_type": "code",
   "execution_count": null,
   "metadata": {},
   "outputs": [],
   "source": [
    "odesys2._native._written_files"
   ]
  },
  {
   "cell_type": "code",
   "execution_count": null,
   "metadata": {},
   "outputs": [],
   "source": []
  }
 ],
 "metadata": {
  "kernelspec": {
   "display_name": "Python 3",
   "language": "python",
   "name": "python"
  },
  "language_info": {
   "codemirror_mode": {
    "name": "ipython",
    "version": 3
   },
   "file_extension": ".py",
   "mimetype": "text/x-python",
   "name": "python",
   "nbconvert_exporter": "python",
   "pygments_lexer": "ipython3",
   "version": "3.6.4"
  }
 },
 "nbformat": 4,
 "nbformat_minor": 1
}
