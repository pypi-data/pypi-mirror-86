{
 "cells": [
  {
   "cell_type": "code",
   "execution_count": null,
   "metadata": {},
   "outputs": [],
   "source": [
    "%load_ext autoreload\n",
    "%autoreload 2"
   ]
  },
  {
   "cell_type": "code",
   "execution_count": null,
   "metadata": {},
   "outputs": [],
   "source": [
    "import numpy as np\n",
    "import matplotlib.pyplot as plt\n",
    "from pyodesys.symbolic import SymbolicSys, get_logexp, symmetricsys, PartiallySolvedSystem\n",
    "import sympy as sp\n",
    "sp.init_printing()\n",
    "%matplotlib inline"
   ]
  },
  {
   "cell_type": "code",
   "execution_count": null,
   "metadata": {},
   "outputs": [],
   "source": [
    "l3sys = SymbolicSys.from_callback(lambda t, y, p: [-p[0]*y[0], p[0]*y[0] - p[1]*y[1], p[1]*y[1]],\n",
    "                                   3, 2, linear_invariants=[[1, 1, 1]])\n",
    "l3sys.exprs, l3sys.linear_invariants, l3sys.nonlinear_invariants or []"
   ]
  },
  {
   "cell_type": "code",
   "execution_count": null,
   "metadata": {},
   "outputs": [],
   "source": [
    "logexp = get_logexp()\n",
    "LogLogSys = symmetricsys(logexp, logexp)\n",
    "def expr_proc(exprs):\n",
    "    return [sp.powsimp(expr.expand(), force=True).simplify() for expr in exprs]\n",
    "\n",
    "t3sys = LogLogSys.from_other(l3sys, exprs_process_cb=expr_proc)\n",
    "t3sys.exprs, t3sys.linear_invariants or [], t3sys.nonlinear_invariants"
   ]
  },
  {
   "cell_type": "code",
   "execution_count": null,
   "metadata": {},
   "outputs": [],
   "source": [
    "l2sys = PartiallySolvedSystem.from_linear_invariants(l3sys)\n",
    "l2sys.exprs, l2sys.linear_invariants or [], l2sys.nonlinear_invariants or []"
   ]
  },
  {
   "cell_type": "code",
   "execution_count": null,
   "metadata": {},
   "outputs": [],
   "source": [
    "t2sys = LogLogSys.from_other(l2sys, exprs_process_cb=expr_proc)\n",
    "t2sys.exprs, l2sys.linear_invariants or [], l2sys.nonlinear_invariants or []"
   ]
  },
  {
   "cell_type": "code",
   "execution_count": null,
   "metadata": {},
   "outputs": [],
   "source": [
    "y0, y1, y2 = l3sys.dep\n",
    "p0, p1 = l3sys.params\n",
    "x = l3sys.indep\n",
    "exp = l3sys.be.exp\n",
    "assert l3sys.exprs[0] + p0*y0 == 0\n",
    "assert l3sys.exprs[1] - p0*y0 + p1*y1 == 0\n",
    "assert l3sys.exprs[2] - p1*y1 == 0\n",
    "assert l3sys.linear_invariants.tolist() == [[1, 1, 1]]\n",
    "\n",
    "assert t3sys.exprs[0] + p0*exp(x) == 0\n",
    "assert t3sys.exprs[1] + p1*exp(x) - p0*exp(x+y0-y1) == 0\n",
    "assert t3sys.exprs[2] - p1*exp(x+y1-y2) == 0\n",
    "assert t3sys.nonlinear_invariants[0] - exp(y0) - exp(y1) - exp(y2) == 0\n",
    "\n",
    "i0, i1, i2 = l2sys.init_dep\n",
    "assert l2sys.exprs[0] - p0*(i0 + i1 + i2 - y1 - y2) + p1*y1 == 0\n",
    "assert l2sys.exprs[1] - p1*y1 == 0\n",
    "\n",
    "assert t2sys.exprs[0] - exp(x-y1)*(p0*(i0 + i1 + i2 - exp(y1) - exp(y2)) - p1*exp(y1))"
   ]
  },
  {
   "cell_type": "code",
   "execution_count": null,
   "metadata": {},
   "outputs": [],
   "source": [
    "l2sys.init_dep"
   ]
  },
  {
   "cell_type": "code",
   "execution_count": null,
   "metadata": {},
   "outputs": [],
   "source": [
    "params = [2.05, 2.4]\n",
    "results = [odesys.integrate(\n",
    "    [1e-8, 3.5], [1, 1e-16, 1e-16], params, integrator='cvode', nsteps=2000,\n",
    "    atol=1e-9, rtol=1e-9) for odesys in [l3sys, l2sys, t3sys, t2sys]]\n",
    "fig, axes = plt.subplots(1, 4, figsize=(16, 4))\n",
    "for res, ax in zip(results, axes):\n",
    "    res.plot(ax=ax)"
   ]
  },
  {
   "cell_type": "code",
   "execution_count": null,
   "metadata": {},
   "outputs": [],
   "source": [
    "from pyodesys.tests.bateman import bateman_full\n",
    "for res in results:\n",
    "    ref = bateman_full(res.yout[0, :], params + [0], res.xout - res.xout[0], exp=np.exp)\n",
    "    assert np.allclose(res.yout, np.array(ref).T)"
   ]
  },
  {
   "cell_type": "code",
   "execution_count": null,
   "metadata": {},
   "outputs": [],
   "source": [
    "logexp16 = get_logexp(1, 10**-16)\n",
    "LogLog16 = symmetricsys(logexp16, logexp16)\n",
    "t3sys16 = LogLog16.from_other(l3sys, lower_bounds=[0]*l3sys.ny, upper_bounds=[1+1e-8]*l3sys.ny)\n",
    "assert np.all(t3sys16.lower_bounds < -30) and np.all(t3sys16.upper_bounds > 0)"
   ]
  },
  {
   "cell_type": "code",
   "execution_count": null,
   "metadata": {},
   "outputs": [],
   "source": []
  }
 ],
 "metadata": {
  "kernelspec": {
   "display_name": "Python 3",
   "language": "python",
   "name": "python3"
  },
  "language_info": {
   "codemirror_mode": {
    "name": "ipython",
    "version": 3
   },
   "file_extension": ".py",
   "mimetype": "text/x-python",
   "name": "python",
   "nbconvert_exporter": "python",
   "pygments_lexer": "ipython3",
   "version": "3.5.2"
  }
 },
 "nbformat": 4,
 "nbformat_minor": 2
}
