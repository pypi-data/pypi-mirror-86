{
 "cells": [
  {
   "cell_type": "markdown",
   "metadata": {},
   "source": [
    "# Solving a transformed system of first order ordinary differential equations\n",
    "In this notebook we explore how we can use different convenient subclasses of ``SymbolicSys`` to reformulate a problem (for other stability/accuracy/performance characteristics)"
   ]
  },
  {
   "cell_type": "code",
   "execution_count": null,
   "metadata": {},
   "outputs": [],
   "source": [
    "from __future__ import print_function, division, absolute_import\n",
    "import numpy as np\n",
    "import matplotlib.pyplot as plt\n",
    "import sympy as sp\n",
    "from pyodesys import OdeSys\n",
    "from pyodesys.symbolic import SymbolicSys, symmetricsys\n",
    "sp.init_printing()\n",
    "%matplotlib inline\n",
    "print(sp.__version__)"
   ]
  },
  {
   "cell_type": "markdown",
   "metadata": {},
   "source": [
    "We will consider a chain of three coupled decays:"
   ]
  },
  {
   "cell_type": "code",
   "execution_count": null,
   "metadata": {},
   "outputs": [],
   "source": [
    "f = lambda t, x, k: [-k[0]*x[0], k[0]*x[0] - k[1]*x[1], k[1]*x[1] - k[2]*x[2], k[2]*x[2] - k[3]*x[3]]\n",
    "k = [7, 3, 2, 0]\n",
    "y0 = [1, 0, 0, 0]\n",
    "tend = 1.0"
   ]
  },
  {
   "cell_type": "markdown",
   "metadata": {},
   "source": [
    "The above equation has an analytic solution, evaluated at t = 1 it is:"
   ]
  },
  {
   "cell_type": "code",
   "execution_count": null,
   "metadata": {},
   "outputs": [],
   "source": [
    "ref = [9.11881965554516244e-04, 8.55315762040415040e-02, 3.07983556726319885e-01, 6.05572985104084083e-01]\n",
    "def rmsd(x):\n",
    "    diff = np.array(ref[4-len(x):]) - x\n",
    "    return np.sum(diff**2)**0.5"
   ]
  },
  {
   "cell_type": "markdown",
   "metadata": {},
   "source": [
    "We can integrate this using e.g. lsoda from scipy:"
   ]
  },
  {
   "cell_type": "code",
   "execution_count": null,
   "metadata": {},
   "outputs": [],
   "source": [
    "odesys = OdeSys(f)\n",
    "res = odesys.integrate(np.linspace(0, tend), y0, params=k)\n",
    "res.plot(names='abcd')\n",
    "plt.legend()\n",
    "{k: v for k, v in res.info.items() if not k.startswith('internal')}, rmsd(res.yout[-1, :])"
   ]
  },
  {
   "cell_type": "markdown",
   "metadata": {},
   "source": [
    "For a stiff system (requiring an implicit method) we would have needed to define the jacobian too, then using symbolic manipulation can be very useful (less error prone and less user code needed to be written):"
   ]
  },
  {
   "cell_type": "code",
   "execution_count": null,
   "metadata": {},
   "outputs": [],
   "source": [
    "odesys = SymbolicSys.from_callback(f, 4, 4, names='abcd')\n",
    "odesys.exprs, odesys.get_jac(), odesys.get_dfdx()"
   ]
  },
  {
   "cell_type": "markdown",
   "metadata": {},
   "source": [
    "Let's define a convienience function for plotting both with linear and logartithmic scale:"
   ]
  },
  {
   "cell_type": "code",
   "execution_count": null,
   "metadata": {},
   "outputs": [],
   "source": [
    "def integrate_and_plot(odesys, integrator, tout, y0, k, interpolate=False, stiffness=False, **kwargs):\n",
    "    plt.figure(figsize=(14,5))\n",
    "    xout, yout, info = odesys.integrate(tout, y0, k, integrator=integrator, **kwargs)\n",
    "    plt.subplot(1, 3 if stiffness else 2, 1)\n",
    "    odesys.plot_result(interpolate=interpolate)\n",
    "    plt.legend(loc='best')\n",
    "    \n",
    "    plt.subplot(1, 3 if stiffness else 2, 2)\n",
    "    plt.gca().set_xscale('log')\n",
    "    plt.gca().set_yscale('log')\n",
    "    odesys.plot_result(interpolate=interpolate)\n",
    "    plt.legend(loc='best')\n",
    "    \n",
    "    if stiffness:\n",
    "        ratios = odesys.stiffness()\n",
    "        plt.subplot(1, 3, 3)\n",
    "        plt.yscale('linear')\n",
    "        plt.plot(odesys._internal[0], ratios)\n",
    "    info.pop('internal_xout')\n",
    "    info.pop('internal_yout')\n",
    "    return len(xout), info, rmsd(yout[-1, :])"
   ]
  },
  {
   "cell_type": "markdown",
   "metadata": {},
   "source": [
    "Let's use the ``vode`` integrator this time and an implicit algorithm:"
   ]
  },
  {
   "cell_type": "code",
   "execution_count": null,
   "metadata": {},
   "outputs": [],
   "source": [
    "integrate_and_plot(odesys, 'scipy', np.linspace(0, tend), y0, k, first_step=1e-14, name='vode', method='bdf')"
   ]
  },
  {
   "cell_type": "markdown",
   "metadata": {},
   "source": [
    "We see that the jacobian was evaluated twice. The final error is slightly higher (which might be expected since the system is not particularly stiff)\n",
    "\n",
    "SymbolicSys has provided us with callbacks if we manually want to evaluate f or its jacobian:"
   ]
  },
  {
   "cell_type": "code",
   "execution_count": null,
   "metadata": {},
   "outputs": [],
   "source": [
    "print(odesys.f_cb(0, y0, k))\n",
    "print()\n",
    "print(odesys.j_cb(0, y0, k))"
   ]
  },
  {
   "cell_type": "markdown",
   "metadata": {},
   "source": [
    "We can use the [cvode](https://computation.llnl.gov/casc/sundials/description/description.html#descr_cvode) integrator (through the use of [pycvodes](https://pypi.python.org/pypi/pycvodes))"
   ]
  },
  {
   "cell_type": "code",
   "execution_count": null,
   "metadata": {},
   "outputs": [],
   "source": [
    "integrate_and_plot(odesys, 'cvode', tend, y0, k, atol=1e-8, rtol=1e-8, method='bdf')"
   ]
  },
  {
   "cell_type": "markdown",
   "metadata": {},
   "source": [
    "Since we are using symbolic manipulation it is very easy to perform a variable transformation.\n",
    "We will look at how this system behaves in logarithmic space (we need $y>0$ so we'll add a $\\delta$ much smaller than our original linear absolute tolerance)\n",
    "\n",
    "First we need to define our transformation, we use the helper function ``symmetricsys`` for this:"
   ]
  },
  {
   "cell_type": "code",
   "execution_count": null,
   "metadata": {},
   "outputs": [],
   "source": [
    "y0aug = [1, 1e-20, 1e-20, 1e-20]\n",
    "logexp = sp.log, sp.exp\n",
    "LogLogSys = symmetricsys(\n",
    "    logexp, logexp, exprs_process_cb=lambda exprs: [\n",
    "    sp.powsimp(expr.expand(), force=True) for expr in exprs])"
   ]
  },
  {
   "cell_type": "markdown",
   "metadata": {},
   "source": [
    "Alright, so our newly defined `LogLogSys` class can now take the same input and give back transformed expressions:"
   ]
  },
  {
   "cell_type": "code",
   "execution_count": null,
   "metadata": {},
   "outputs": [],
   "source": [
    "tsys = LogLogSys.from_callback(f, 4, 4, names=True)\n",
    "tsys.exprs, tsys.get_jac(), tsys.get_dfdx()"
   ]
  },
  {
   "cell_type": "markdown",
   "metadata": {},
   "source": [
    "Now let us integrate the transformed system:"
   ]
  },
  {
   "cell_type": "code",
   "execution_count": null,
   "metadata": {},
   "outputs": [],
   "source": [
    "integrate_and_plot(tsys, 'cvode', [1e-12, tend], y0aug, k, atol=1e-7, rtol=1e-7, first_step=1e-4, nsteps=5000)"
   ]
  },
  {
   "cell_type": "code",
   "execution_count": null,
   "metadata": {},
   "outputs": [],
   "source": [
    "integrate_and_plot(tsys, 'odeint', [1e-12, tend], y0aug, k, atol=1e-8, rtol=1e-8, first_step=1e-4, nsteps=50000)"
   ]
  },
  {
   "cell_type": "markdown",
   "metadata": {},
   "source": [
    "Substantially more work was needed to solve this transformed system, also the accuracy suffered. So this transformation was not of any help for this particular problem, choice of initial conditions and length of integration. There may be situations where it is useful though."
   ]
  },
  {
   "cell_type": "markdown",
   "metadata": {},
   "source": [
    "## Stiffness"
   ]
  },
  {
   "cell_type": "code",
   "execution_count": null,
   "metadata": {},
   "outputs": [],
   "source": [
    "def f2(t, x, p):\n",
    "    y0 = p[0]*sp.exp(-p[1]*t)\n",
    "    return [p[1]*y0 - p[2]*x[0]] + [\n",
    "        p[i+2]*x[i] - p[i+3]*x[i+1] for i in range(len(x) - 1)\n",
    "    ]\n",
    "tsys2 = LogLogSys.from_callback(f2, 3, 5, names=True)\n",
    "tsys2.exprs, tsys2.get_jac()"
   ]
  },
  {
   "cell_type": "code",
   "execution_count": null,
   "metadata": {},
   "outputs": [],
   "source": [
    "integrate_and_plot(tsys2, 'cvode', [1e-12, tend], y0aug[1:], [y0aug[0], 7, 3, 2, 1],\n",
    "                   atol=1e-7, rtol=1e-7, first_step=1e-4, stiffness=True, nsteps=5000)"
   ]
  },
  {
   "cell_type": "code",
   "execution_count": null,
   "metadata": {},
   "outputs": [],
   "source": [
    "integrate_and_plot(odesys, 'cvode', [1e-12, tend], y0aug, [7, 3, 2, 1], atol=1e-7, rtol=1e-7, first_step=1e-4, stiffness=True)"
   ]
  },
  {
   "cell_type": "markdown",
   "metadata": {},
   "source": [
    "# Using PartiallySolvedSys\n",
    "Sometimes we can solve a system paritally by integrating some of the dependent variables. The ODE system then needs to be reformulated in terms of the new anayltic function. ``PartiallySolvedSystem`` helps us with this task:"
   ]
  },
  {
   "cell_type": "code",
   "execution_count": null,
   "metadata": {},
   "outputs": [],
   "source": [
    "from pyodesys.symbolic import PartiallySolvedSystem\n",
    "psys = PartiallySolvedSystem(odesys, lambda x0, y0, p0: {odesys.dep[0]: y0[0]*sp.exp(-p0[0]*(odesys.indep-x0))})\n",
    "psys.exprs, psys.get_jac()"
   ]
  },
  {
   "cell_type": "code",
   "execution_count": null,
   "metadata": {},
   "outputs": [],
   "source": [
    "integrate_and_plot(psys, 'cvode', [1e-12, tend], y0aug, [7, 3, 2, 1], atol=1e-7, rtol=1e-7, first_step=1e-4, stiffness=True)"
   ]
  },
  {
   "cell_type": "markdown",
   "metadata": {},
   "source": [
    "## Using fixed RK4 stepper\n",
    "pyodesys provides an example class of an integrator (``RK4_example_integrator``) in ``pyodesys.integrators``. It can be used as a model integrator when designing custom steppers."
   ]
  },
  {
   "cell_type": "code",
   "execution_count": null,
   "metadata": {},
   "outputs": [],
   "source": [
    "from pyodesys.integrators import RK4_example_integrator"
   ]
  },
  {
   "cell_type": "code",
   "execution_count": null,
   "metadata": {},
   "outputs": [],
   "source": [
    "integrate_and_plot(odesys, RK4_example_integrator, [1e-12, tend], y0aug, k, atol=1e-8, rtol=1e-8, first_step=1e-1)"
   ]
  },
  {
   "cell_type": "code",
   "execution_count": null,
   "metadata": {},
   "outputs": [],
   "source": [
    "integrate_and_plot(psys, RK4_example_integrator, [1e-12, tend], y0aug, [7, 3, 2, 1], atol=1e-8, rtol=1e-8, first_step=1e-1)"
   ]
  },
  {
   "cell_type": "code",
   "execution_count": null,
   "metadata": {},
   "outputs": [],
   "source": []
  }
 ],
 "metadata": {
  "kernelspec": {
   "display_name": "Python 3",
   "language": "python",
   "name": "python3"
  },
  "language_info": {
   "codemirror_mode": {
    "name": "ipython",
    "version": 3
   },
   "file_extension": ".py",
   "mimetype": "text/x-python",
   "name": "python",
   "nbconvert_exporter": "python",
   "pygments_lexer": "ipython3",
   "version": "3.6.1"
  }
 },
 "nbformat": 4,
 "nbformat_minor": 1
}
