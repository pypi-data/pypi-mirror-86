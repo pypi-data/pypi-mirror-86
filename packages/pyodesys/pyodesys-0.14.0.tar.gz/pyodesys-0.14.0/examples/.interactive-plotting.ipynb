{
 "cells": [
  {
   "cell_type": "markdown",
   "metadata": {},
   "source": [
    "# Interactive plotting\n",
    "This notebook uses widgets allowing the user to vary an input parameter (you need to run the notebook locally for the widget to show). For performance reasons we are using [symengine](https://github.com/symengine/symengine) as the backend."
   ]
  },
  {
   "cell_type": "code",
   "execution_count": null,
   "metadata": {
    "collapsed": false
   },
   "outputs": [],
   "source": [
    "import math\n",
    "from ipywidgets import interact\n",
    "from pyodesys.symbolic import SymbolicSys\n",
    "use_gr = False"
   ]
  },
  {
   "cell_type": "code",
   "execution_count": null,
   "metadata": {
    "collapsed": false
   },
   "outputs": [],
   "source": [
    "if use_gr:\n",
    "    import gr\n",
    "    from gr.pygr import plot\n",
    "    gr.inline()    \n",
    "else:  # use matplotlib\n",
    "    from matplotlib.pyplot import plot\n",
    "    %matplotlib inline"
   ]
  },
  {
   "cell_type": "code",
   "execution_count": null,
   "metadata": {
    "collapsed": false
   },
   "outputs": [],
   "source": [
    "def rhs(t, y, p, backend=math):\n",
    "    return [p[0]*y[1], -p[0]*y[0]]"
   ]
  },
  {
   "cell_type": "code",
   "execution_count": null,
   "metadata": {
    "collapsed": false
   },
   "outputs": [],
   "source": [
    "odesys = SymbolicSys.from_callback(rhs, 2, 1, backend='symengine')"
   ]
  },
  {
   "cell_type": "code",
   "execution_count": null,
   "metadata": {
    "collapsed": false
   },
   "outputs": [],
   "source": [
    "def integrate(alpha):\n",
    "    t, y, info = odesys.integrate(10, [0, 1], [alpha], integrator='cvode')\n",
    "    plot(t, y[:, 0])\n",
    "    plot(t, y[:, 1])"
   ]
  },
  {
   "cell_type": "code",
   "execution_count": null,
   "metadata": {
    "collapsed": false,
    "scrolled": false
   },
   "outputs": [],
   "source": [
    "interact(integrate, alpha=(.1, 1, 0.1))"
   ]
  }
 ],
 "metadata": {
  "kernelspec": {
   "display_name": "Python 3",
   "language": "python",
   "name": "python3"
  },
  "language_info": {
   "codemirror_mode": {
    "name": "ipython",
    "version": 3
   },
   "file_extension": ".py",
   "mimetype": "text/x-python",
   "name": "python",
   "nbconvert_exporter": "python",
   "pygments_lexer": "ipython3",
   "version": "3.5.2"
  }
 },
 "nbformat": 4,
 "nbformat_minor": 0
}
