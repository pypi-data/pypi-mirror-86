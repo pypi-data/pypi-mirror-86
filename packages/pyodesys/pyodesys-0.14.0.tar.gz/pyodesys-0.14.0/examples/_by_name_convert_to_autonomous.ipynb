{
 "cells": [
  {
   "cell_type": "code",
   "execution_count": null,
   "metadata": {},
   "outputs": [],
   "source": [
    "import numpy as np\n",
    "import matplotlib.pyplot as plt\n",
    "from pyodesys.symbolic import SymbolicSys\n",
    "%matplotlib inline"
   ]
  },
  {
   "cell_type": "code",
   "execution_count": null,
   "metadata": {},
   "outputs": [],
   "source": [
    "def f(t, y, p):\n",
    "    k = t**p['e']\n",
    "    return {\n",
    "        'a': -k*y['a'],\n",
    "        'b': +k*y['a']\n",
    "    }\n",
    "\n",
    "def analytic(tout, init_y, p):\n",
    "    y0ref = init_y[0]*np.exp(-tout**(p[0]+1)/(p[0]+1))\n",
    "    return np.array([y0ref, init_y[0] - y0ref + init_y[1]]).T"
   ]
  },
  {
   "cell_type": "code",
   "execution_count": null,
   "metadata": {},
   "outputs": [],
   "source": [
    "def integrate_and_plot(odesys, axes=None):\n",
    "    result = odesys.integrate(3, {'a': 2, 'b': 1}, {'e': 2}, integrator='cvode')\n",
    "    if axes is None:\n",
    "        _fig, axes = plt.subplots(1, 3, figsize=(14, 4))\n",
    "    result.plot(ax=axes[0])\n",
    "    result.plot(ax=axes[1], y=result.yout - analytic(result.xout, result.yout[0, :], result.params))\n",
    "    result.plot_invariant_violations(ax=axes[2])\n",
    "    print({k: v for k, v in result.info.items() if not k.startswith('internal')})"
   ]
  },
  {
   "cell_type": "code",
   "execution_count": null,
   "metadata": {},
   "outputs": [],
   "source": [
    "    odes = SymbolicSys.from_callback(f, names='ab', param_names='e', dep_by_name=True, par_by_name=True,\n",
    "                                     linear_invariants=[{'a': 1, 'b': 1}])"
   ]
  },
  {
   "cell_type": "code",
   "execution_count": null,
   "metadata": {},
   "outputs": [],
   "source": [
    "integrate_and_plot(odes)"
   ]
  },
  {
   "cell_type": "code",
   "execution_count": null,
   "metadata": {},
   "outputs": [],
   "source": [
    "odes_auto = odes.as_autonomous()"
   ]
  },
  {
   "cell_type": "code",
   "execution_count": null,
   "metadata": {},
   "outputs": [],
   "source": [
    "integrate_and_plot(odes_auto)"
   ]
  }
 ],
 "metadata": {
  "kernelspec": {
   "display_name": "Python 3",
   "language": "python",
   "name": "python3"
  },
  "language_info": {
   "codemirror_mode": {
    "name": "ipython",
    "version": 3
   },
   "file_extension": ".py",
   "mimetype": "text/x-python",
   "name": "python",
   "nbconvert_exporter": "python",
   "pygments_lexer": "ipython3",
   "version": "3.5.2"
  }
 },
 "nbformat": 4,
 "nbformat_minor": 2
}
