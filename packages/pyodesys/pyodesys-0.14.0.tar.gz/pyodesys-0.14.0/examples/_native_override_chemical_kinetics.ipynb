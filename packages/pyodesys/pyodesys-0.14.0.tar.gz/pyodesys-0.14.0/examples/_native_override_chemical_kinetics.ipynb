{
 "cells": [
  {
   "cell_type": "markdown",
   "metadata": {},
   "source": [
    "# Overriding root-finding in the generated C++ code -- Chemical kinetics\n",
    "This is an advanced notebook exploring how the user can override the root-finding routine in the native C++ code which is exported.\n",
    "\n",
    "If you only want to do some simple modelling of chemical kinetics you may want look into [ChemPy](https://github.io/bjodah/chempy) or [Cantera](http://www.cantera.org/docs/sphinx/html/index.html) (Cantera is more advanced and is the preferred choice when extensive thermodynamic data is available for the reacting species)."
   ]
  },
  {
   "cell_type": "code",
   "execution_count": null,
   "metadata": {},
   "outputs": [],
   "source": [
    "from operator import mul\n",
    "from functools import reduce\n",
    "import subprocess\n",
    "import numpy as np\n",
    "import sympy as sp\n",
    "import matplotlib.pyplot as plt\n",
    "from pyodesys.results import Result\n",
    "from pyodesys.symbolic import SymbolicSys\n",
    "from pyodesys.native import native_sys\n",
    "from pyodesys.native.util import parse_standalone_output\n",
    "from _chem_kinet import get_odesys\n",
    "sp.init_printing()\n",
    "%matplotlib inline"
   ]
  },
  {
   "cell_type": "code",
   "execution_count": null,
   "metadata": {},
   "outputs": [],
   "source": [
    "# Fe+3 + SCN- <-> FeSCN+2\n",
    "stoich_reac, stoich_prod = [(1, 1, 0), (0, 0, 1)], [(0, 0, 1), (1, 1, 0)]\n",
    "kineticsys = get_odesys(stoich_reac, stoich_prod, 'Fe+3 SCN- FeSCN+2'.split(), SymbolicSys,\n",
    "                        steady_state_root=True, latex_names=['%s' % s for s in 'Fe^{3+} SCN^- FeSCN^{2+}'.split()])"
   ]
  },
  {
   "cell_type": "code",
   "execution_count": null,
   "metadata": {},
   "outputs": [],
   "source": [
    "def integrate_and_plot(odesys, plot=True, **kwargs):\n",
    "    tend = 2\n",
    "    result = odesys.integrate(tend, [1e-2, 2e-3, 0], [800, 8], integrator='cvode', **kwargs)\n",
    "    if plot:\n",
    "        fig, axes = plt.subplots(1, 2, figsize=(14, 4))\n",
    "        if result.xout[-1] != tend:\n",
    "            axes[0].axvline(result.xout[-1], linestyle='--', label='t = %.4f' % result.xout[-1])\n",
    "        result.plot(ax=axes[0])\n",
    "        result.plot(ax=axes[1], deriv=True)\n",
    "        axes[1].set_yscale('symlog', linthreshy=1e-9)\n",
    "        axes[1].axhline(1e-9, linestyle='--')\n",
    "        axes[1].axhline(-1e-9, linestyle='--')\n",
    "        for ax in axes:\n",
    "            ax.set_xlim([0, tend])\n",
    "    return result"
   ]
  },
  {
   "cell_type": "code",
   "execution_count": null,
   "metadata": {},
   "outputs": [],
   "source": [
    "integrate_and_plot(kineticsys)"
   ]
  },
  {
   "cell_type": "code",
   "execution_count": null,
   "metadata": {},
   "outputs": [],
   "source": [
    "integrate_and_plot(kineticsys, atol=1e-14, rtol=1e-14)"
   ]
  },
  {
   "cell_type": "code",
   "execution_count": null,
   "metadata": {},
   "outputs": [],
   "source": [
    "integrate_and_plot(kineticsys, atol=1e-14, rtol=1e-14, return_on_root=True)"
   ]
  },
  {
   "cell_type": "code",
   "execution_count": null,
   "metadata": {},
   "outputs": [],
   "source": [
    "kineticsys.roots"
   ]
  },
  {
   "cell_type": "code",
   "execution_count": null,
   "metadata": {},
   "outputs": [],
   "source": [
    "native_override = {\n",
    "    'p_nroots': \"\"\" return 1; \"\"\",\n",
    "    'p_roots': \"\"\"\n",
    "    const indextype ny = get_ny();\n",
    "    std::vector<realtype> f(ny);\n",
    "    realtype tot=0.0;\n",
    "    rhs(x, y, &f[0]);\n",
    "    for (indextype i=0; i<ny; ++i){\n",
    "        tot += std::min(std::abs(f[i]/m_atol[i]), std::abs(f[i]/y[i]/m_rtol));\n",
    "    }\n",
    "    out[0] = tot/ny - m_special_settings[0];\n",
    "    this->nrev++;\n",
    "    return AnyODE::Status::success;\n",
    "\"\"\"\n",
    "}\n",
    "native_extend={\n",
    "    'p_constructor': [\n",
    "        'if (special_settings.size() != 1) std::cerr << \"len(special_settings) != 1\" << std::endl;'\n",
    "    ]\n",
    "}\n",
    "nativesys = native_sys['cvode'].from_other(\n",
    "    kineticsys, namespace_override=native_override, namespace_extend=native_extend)\n",
    "for path in nativesys._native._written_files:\n",
    "    if path.endswith('.cpp'):\n",
    "        print(path)\n",
    "        print('...\\n' + ''.join(open(path).readlines()[-20:]))\n",
    "        print(\"\")"
   ]
  },
  {
   "cell_type": "markdown",
   "metadata": {},
   "source": [
    "There are some linking issues with boost's program options in the below (commented) cells."
   ]
  },
  {
   "cell_type": "code",
   "execution_count": null,
   "metadata": {},
   "outputs": [],
   "source": [
    "#standalone_prog = nativesys.as_standalone('chem_kinet', compile_kwargs=dict(options=['warn', 'pic', 'openmp', 'debug']))\n",
    "#standalone_prog"
   ]
  },
  {
   "cell_type": "code",
   "execution_count": null,
   "metadata": {},
   "outputs": [],
   "source": [
    "#p = subprocess.Popen([standalone_prog, '--return-on-root', '1', '--special-settings', '1000'],\n",
    "#                     stdin=subprocess.PIPE, stdout=subprocess.PIPE, stderr=subprocess.PIPE)\n",
    "#out, err = p.communicate(input='2 1e-2 2e-3 0 800 8 0 0 0 0 1'.encode('utf-8'))\n",
    "#retc = p.wait()\n",
    "#assert retc == 0\n",
    "#print(err.decode('utf-8'))"
   ]
  },
  {
   "cell_type": "code",
   "execution_count": null,
   "metadata": {},
   "outputs": [],
   "source": [
    "#res_sa, = [Result(*args, kineticsys) for args in parse_standalone_output(out.decode('utf-8').split('\\n'))]\n",
    "#res_sa.plot()"
   ]
  },
  {
   "cell_type": "markdown",
   "metadata": {},
   "source": [
    "## Time to reach steady state\n",
    "If we define steady state to occur when the change in chemical concentrations is below a certain threshold, then the obtained time will depend on that threshold. Here we investigate how that choice affects the answer (with respect to numerical precision etc.)"
   ]
  },
  {
   "cell_type": "code",
   "execution_count": null,
   "metadata": {},
   "outputs": [],
   "source": [
    "native = native_sys['cvode'].from_other(kineticsys, namespace_override=native_override)"
   ]
  },
  {
   "cell_type": "code",
   "execution_count": null,
   "metadata": {},
   "outputs": [],
   "source": [
    "def plot_tss_conv(factor, tols, ax):\n",
    "    tol_kw = dict(plot=False, return_on_root=True, nsteps=2000, special_settings=[factor])\n",
    "    tss = [integrate_and_plot(native, atol=tol, rtol=tol, **tol_kw).xout[-1] for tol in tols]\n",
    "    ax.semilogx(tols, tss, label=factor)"
   ]
  },
  {
   "cell_type": "code",
   "execution_count": null,
   "metadata": {},
   "outputs": [],
   "source": [
    "fig, ax = plt.subplots(figsize=(14, 6))\n",
    "tols = np.logspace(-15, -10, 200)\n",
    "for factor in [1e2, 1e3, 1e4, 1.1e4, 1e5, 1e6, 1e7]:\n",
    "    plot_tss_conv(factor, tols, ax)\n",
    "ax.legend()"
   ]
  }
 ],
 "metadata": {
  "kernelspec": {
   "display_name": "Python 3",
   "language": "python",
   "name": "python3"
  },
  "language_info": {
   "codemirror_mode": {
    "name": "ipython",
    "version": 3
   },
   "file_extension": ".py",
   "mimetype": "text/x-python",
   "name": "python",
   "nbconvert_exporter": "python",
   "pygments_lexer": "ipython3",
   "version": "3.6.6"
  }
 },
 "nbformat": 4,
 "nbformat_minor": 1
}
