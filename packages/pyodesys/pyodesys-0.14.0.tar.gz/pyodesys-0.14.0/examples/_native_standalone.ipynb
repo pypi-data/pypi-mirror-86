{
 "cells": [
  {
   "cell_type": "code",
   "execution_count": null,
   "metadata": {},
   "outputs": [],
   "source": [
    "import subprocess\n",
    "import matplotlib.pyplot as plt\n",
    "from pyodesys.results import Result\n",
    "from pyodesys.native import native_sys\n",
    "from pyodesys.native.util import parse_standalone_output\n",
    "from pyodesys.tests.test_symbolic import decay_rhs\n",
    "from pyodesys.tests.bateman import bateman_full\n",
    "%matplotlib inline"
   ]
  },
  {
   "cell_type": "code",
   "execution_count": null,
   "metadata": {},
   "outputs": [],
   "source": [
    "k = [.7, .1]\n",
    "native = native_sys['cvode'].from_callback(decay_rhs, len(k) + 1, len(k))"
   ]
  },
  {
   "cell_type": "code",
   "execution_count": null,
   "metadata": {},
   "outputs": [],
   "source": [
    "res = native.integrate(13, [1] + [0]*len(k), k)"
   ]
  },
  {
   "cell_type": "code",
   "execution_count": null,
   "metadata": {},
   "outputs": [],
   "source": [
    "res.plot()"
   ]
  },
  {
   "cell_type": "code",
   "execution_count": null,
   "metadata": {},
   "outputs": [],
   "source": [
    "standalone_prog = native.as_standalone('standalone', compile_kwargs=dict(options=['warn', 'openmp', 'debug']))\n",
    "standalone_prog"
   ]
  },
  {
   "cell_type": "code",
   "execution_count": null,
   "metadata": {},
   "outputs": [],
   "source": [
    "output = subprocess.check_output([standalone_prog], stdin=open('standalone_input1.txt')).decode('utf-8')\n",
    "print(output)"
   ]
  },
  {
   "cell_type": "code",
   "execution_count": null,
   "metadata": {},
   "outputs": [],
   "source": [
    "results1 = [Result(*args, native) for args in parse_standalone_output(output.split('\\n'))]"
   ]
  },
  {
   "cell_type": "code",
   "execution_count": null,
   "metadata": {},
   "outputs": [],
   "source": [
    "fig, axes = plt.subplots(1, len(results1), figsize=(14, 4))\n",
    "for i, res in enumerate(results1):\n",
    "    res.plot(ax=axes[i])\n",
    "    axes[i].set_title(res.info['nfev'])"
   ]
  },
  {
   "cell_type": "code",
   "execution_count": null,
   "metadata": {},
   "outputs": [],
   "source": [
    "results2 = [Result(*args, native) for args in parse_standalone_output(\n",
    "        subprocess.check_output(\n",
    "            [standalone_prog],\n",
    "            stdin=open('standalone_input2.txt')\n",
    "        ).decode('utf-8').split('\\n'))]\n",
    "fig, axes = plt.subplots(1, len(results2), figsize=(14, 4))\n",
    "for i, res in enumerate(results2):\n",
    "    res.plot(ax=axes[i])\n",
    "    axes[i].set_title(res.info['nfev'])"
   ]
  },
  {
   "cell_type": "code",
   "execution_count": null,
   "metadata": {},
   "outputs": [],
   "source": []
  }
 ],
 "metadata": {
  "kernelspec": {
   "display_name": "Python 3",
   "language": "python",
   "name": "python3"
  },
  "language_info": {
   "codemirror_mode": {
    "name": "ipython",
    "version": 3
   },
   "file_extension": ".py",
   "mimetype": "text/x-python",
   "name": "python",
   "nbconvert_exporter": "python",
   "pygments_lexer": "ipython3",
   "version": "3.6.1"
  }
 },
 "nbformat": 4,
 "nbformat_minor": 1
}
