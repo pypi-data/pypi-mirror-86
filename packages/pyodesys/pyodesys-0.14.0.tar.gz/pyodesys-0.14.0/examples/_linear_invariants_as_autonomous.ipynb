{
 "cells": [
  {
   "cell_type": "code",
   "execution_count": null,
   "metadata": {},
   "outputs": [],
   "source": [
    "import sympy as sm\n",
    "import numpy as np\n",
    "import matplotlib.pyplot as plt\n",
    "from pyodesys.symbolic import SymbolicSys\n",
    "sm.init_printing()\n",
    "%matplotlib inline"
   ]
  },
  {
   "cell_type": "code",
   "execution_count": null,
   "metadata": {},
   "outputs": [],
   "source": [
    "def mk_odesys(power=1):\n",
    "    def rhs(t, y, p):\n",
    "        k = t**power\n",
    "        return [-k*y[0], k*y[0]]\n",
    "    \n",
    "    def analytic(tout, init_y):\n",
    "        y0ref = init_y[0]*np.exp(-tout**(power+1)/(power+1))\n",
    "        return np.array([y0ref, init_y[0] - y0ref + init_y[1]]).T\n",
    "    \n",
    "    odesys = SymbolicSys.from_callback(rhs, 2, 0, linear_invariants=[[1, 1]])\n",
    "    return odesys, analytic"
   ]
  },
  {
   "cell_type": "code",
   "execution_count": null,
   "metadata": {},
   "outputs": [],
   "source": [
    "odesys1, analytic1 = mk_odesys(1)\n",
    "odesys1.dep, odesys1.exprs, odesys1.get_jac()"
   ]
  },
  {
   "cell_type": "code",
   "execution_count": null,
   "metadata": {},
   "outputs": [],
   "source": [
    "def integrate_and_plot(odesys, analytic, axes=None, tout=3, init_y=(1,0)):\n",
    "    result = odesys.integrate(tout, init_y, integrator='cvode')\n",
    "    if axes is None:\n",
    "        _fig, axes = plt.subplots(1, 3, figsize=(14, 4))\n",
    "    result.plot(ax=axes[0])\n",
    "    result.plot(ax=axes[1], y=result.yout - analytic(result.xout, result.yout[0, :]))\n",
    "    result.plot_invariant_violations(ax=axes[2])\n",
    "    print({k: v for k, v in result.info.items() if not k.startswith('internal')})"
   ]
  },
  {
   "cell_type": "code",
   "execution_count": null,
   "metadata": {},
   "outputs": [],
   "source": [
    "integrate_and_plot(odesys1, analytic1)"
   ]
  },
  {
   "cell_type": "code",
   "execution_count": null,
   "metadata": {},
   "outputs": [],
   "source": [
    "asys1 = odesys1.as_autonomous()\n",
    "asys1.dep, asys1.exprs, asys1.get_jac()"
   ]
  },
  {
   "cell_type": "code",
   "execution_count": null,
   "metadata": {},
   "outputs": [],
   "source": [
    "integrate_and_plot(asys1, analytic1)"
   ]
  },
  {
   "cell_type": "code",
   "execution_count": null,
   "metadata": {},
   "outputs": [],
   "source": [
    "def compare(power, **kwargs):\n",
    "    odesys, analytic = mk_odesys(power)\n",
    "    autsys = odesys.as_autonomous()\n",
    "    fig, axes = plt.subplots(2, 3, figsize=(14, 8))\n",
    "    integrate_and_plot(odesys, analytic, axes=axes[0], **kwargs)\n",
    "    integrate_and_plot(autsys, analytic, axes=axes[1], **kwargs)"
   ]
  },
  {
   "cell_type": "code",
   "execution_count": null,
   "metadata": {},
   "outputs": [],
   "source": [
    "compare(2)"
   ]
  },
  {
   "cell_type": "code",
   "execution_count": null,
   "metadata": {},
   "outputs": [],
   "source": [
    "compare(3, init_y=(3,1))"
   ]
  },
  {
   "cell_type": "code",
   "execution_count": null,
   "metadata": {},
   "outputs": [],
   "source": [
    "compare(10, tout=1.5)"
   ]
  }
 ],
 "metadata": {
  "kernelspec": {
   "display_name": "Python 3",
   "language": "python",
   "name": "python3"
  },
  "language_info": {
   "codemirror_mode": {
    "name": "ipython",
    "version": 3
   },
   "file_extension": ".py",
   "mimetype": "text/x-python",
   "name": "python",
   "nbconvert_exporter": "python",
   "pygments_lexer": "ipython3",
   "version": "3.6.1"
  }
 },
 "nbformat": 4,
 "nbformat_minor": 2
}
