{
 "cells": [
  {
   "cell_type": "markdown",
   "metadata": {},
   "source": [
    "## Lorenz system\n",
    "https://en.wikipedia.org/wiki/Lorenz_system"
   ]
  },
  {
   "cell_type": "code",
   "execution_count": null,
   "metadata": {},
   "outputs": [],
   "source": [
    "from IPython.display import display\n",
    "from ipywidgets import interact\n",
    "import matplotlib.pyplot as plt\n",
    "from mpl_toolkits.mplot3d import Axes3D\n",
    "from pyodesys.symbolic import SymbolicSys\n",
    "%matplotlib notebook"
   ]
  },
  {
   "cell_type": "code",
   "execution_count": null,
   "metadata": {},
   "outputs": [],
   "source": [
    "def f(t, s, p):\n",
    "    x, y, z = s['x'], s['y'], s['z']\n",
    "    sigma, rho, beta = p['sigma'], p['rho'], p['beta']\n",
    "    return {\n",
    "        'x': sigma*(y - x),\n",
    "        'y': x*(rho - z) - y,\n",
    "        'z': x*y - beta*z\n",
    "    }"
   ]
  },
  {
   "cell_type": "code",
   "execution_count": null,
   "metadata": {},
   "outputs": [],
   "source": [
    "odesystem = SymbolicSys.from_callback(\n",
    "    f, names='xyz', param_names='sigma rho beta'.split(),\n",
    "    dep_by_name=True, par_by_name=True, indep_name='t')"
   ]
  },
  {
   "cell_type": "code",
   "execution_count": null,
   "metadata": {},
   "outputs": [],
   "source": [
    "y0 = {'x': -10, 'y': -15, 'z': 15}\n",
    "params = {'rho': 28, 'sigma': 10, 'beta': 8/3.}\n",
    "integrate_kwargs = dict(integrator='cvode', nsteps=5000)\n",
    "res = odesystem.integrate(10, y0, params, **integrate_kwargs)"
   ]
  },
  {
   "cell_type": "code",
   "execution_count": null,
   "metadata": {},
   "outputs": [],
   "source": [
    "#fig = plt.figure()\n",
    "res.plot(names='z')\n",
    "_ = plt.legend()"
   ]
  },
  {
   "cell_type": "code",
   "execution_count": null,
   "metadata": {},
   "outputs": [],
   "source": [
    "fig = plt.figure()\n",
    "stack = []\n",
    "def integrate_and_plot_3d(rho=28, sigma=10, beta=2.5):\n",
    "    xout, yout, info = odesystem.integrate(\n",
    "        10, y0, dict(sigma=sigma, rho=rho, beta=beta),\n",
    "        integrator='cvode', nsteps=5000)\n",
    "    ax = fig.gca(projection='3d')\n",
    "    for lines in stack:\n",
    "        lines[0].set_alpha(0.6*lines[0].get_alpha())\n",
    "    stack.append(ax.plot(*yout.T, alpha=1.0, color='g'))\n",
    "    if len(stack) > 4:\n",
    "        lines = stack.pop(0)\n",
    "        lines[0].remove()\n",
    "    display(fig)\n",
    "interact(integrate_and_plot_3d)"
   ]
  }
 ],
 "metadata": {
  "kernelspec": {
   "display_name": "Python 3",
   "language": "python",
   "name": "python3"
  },
  "language_info": {
   "codemirror_mode": {
    "name": "ipython",
    "version": 3
   },
   "file_extension": ".py",
   "mimetype": "text/x-python",
   "name": "python",
   "nbconvert_exporter": "python",
   "pygments_lexer": "ipython3",
   "version": "3.6.1"
  },
  "widgets": {
   "state": {
    "1227bd676837463196be0e10cb19dd6c": {
     "views": [
      {
       "cell_index": 6
      }
     ]
    }
   },
   "version": "1.2.0"
  }
 },
 "nbformat": 4,
 "nbformat_minor": 1
}
