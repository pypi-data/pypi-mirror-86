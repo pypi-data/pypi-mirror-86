{
 "cells": [
  {
   "cell_type": "markdown",
   "metadata": {},
   "source": [
    "<h1 style=\"text-align:center;\">Example notebooks for pyodesys</h1>\n",
    "\n",
    "This is a collection of demonstration notebooks for pyodesys. The pyodesys package allows users to define systems of differential equations symbolically in Python. This allows the user to manipulate the expressions symbolically as well as generating high performance C++ code from the expressions.\n",
    "\n",
    "You can view these notebooks online with [Binder](https://mybinder.org/v2/gh/bjodah/pyodesys/master?filepath=index.ipynb). \n",
    "\n",
    "## Example notebooks\n",
    "- [Different formulations of van der Pol's oscillator](examples/van_der_pol_formulations.ipynb)\n",
    "- [The chaotic Lorenz attractor](examples/lorenz.ipynb)\n",
    "- [Variable transformations](examples/transformations.ipynb)\n",
    "- [Interpolation in output time series](examples/van_der_pol_interpolation.ipynb)\n",
    "\n",
    "there are additional (less polished) notebooks available [here](examples/) (those also serve as test cases on the CI-server)."
   ]
  }
 ],
 "metadata": {
  "anaconda-cloud": {},
  "kernelspec": {
   "display_name": "Python 3",
   "language": "python",
   "name": "python3"
  },
  "language_info": {
   "codemirror_mode": {
    "name": "ipython",
    "version": 3
   },
   "file_extension": ".py",
   "mimetype": "text/x-python",
   "name": "python",
   "nbconvert_exporter": "python",
   "pygments_lexer": "ipython3",
   "version": "3.6.3"
  }
 },
 "nbformat": 4,
 "nbformat_minor": 2
}
