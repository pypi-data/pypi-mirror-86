{
 "cells": [
  {
   "cell_type": "code",
   "execution_count": 1,
   "metadata": {
    "ExecuteTime": {
     "end_time": "2017-05-22T05:12:46.410124",
     "start_time": "2017-05-22T05:12:46.050906Z"
    },
    "collapsed": false
   },
   "outputs": [],
   "source": [
    "from hmf.transfer import Transfer"
   ]
  },
  {
   "cell_type": "code",
   "execution_count": 17,
   "metadata": {
    "ExecuteTime": {
     "end_time": "2017-05-22T05:54:50.276527",
     "start_time": "2017-05-22T05:54:50.269658Z"
    },
    "collapsed": false
   },
   "outputs": [],
   "source": [
    "teh_nl_tk = Transfer(transfer_model=\"EH\", takahashi=True, z= 8.0)\n",
    "teh_nl_ntk = Transfer(transfer_model=\"EH\", takahashi=False, z=8.0)\n"
   ]
  },
  {
   "cell_type": "code",
   "execution_count": 18,
   "metadata": {
    "ExecuteTime": {
     "end_time": "2017-05-22T05:54:52.168860",
     "start_time": "2017-05-22T05:54:52.164999Z"
    },
    "collapsed": true
   },
   "outputs": [],
   "source": [
    "%matplotlib inline\n",
    "import matplotlib.pyplot as plt\n",
    "import numpy as np"
   ]
  },
  {
   "cell_type": "code",
   "execution_count": 20,
   "metadata": {
    "ExecuteTime": {
     "end_time": "2017-05-22T05:56:18.289893",
     "start_time": "2017-05-22T05:56:18.287974Z"
    },
    "collapsed": true
   },
   "outputs": [],
   "source": [
    "teh_nl_tk.update(z=0)"
   ]
  },
  {
   "cell_type": "code",
   "execution_count": 22,
   "metadata": {
    "ExecuteTime": {
     "end_time": "2017-05-22T05:57:46.801646",
     "start_time": "2017-05-22T05:57:46.525151Z"
    },
    "collapsed": false
   },
   "outputs": [
    {
     "data": {
      "image/png": "[encoded data removed]",
      "text/plain": [
       "<matplotlib.figure.Figure at 0x7f256e41fc18>"
      ]
     },
     "metadata": {},
     "output_type": "display_data"
    }
   ],
   "source": [
    "plt.plot(teh_nl_tk.k, np.abs(teh_nl_ntk.nonlinear_power/teh_nl_tk.nonlinear_power -1))\n",
    "#plt.plot(teh_nl_ntk.k, teh_nl_ntk.nonlinear_power)\n",
    "#plt.plot(teh_nl_ntk.k, teh_nl_ntk.power)\n",
    "\n",
    "plt.xscale('log')\n",
    "#plt.yscale('log')\n",
    "plt.grid(True)"
   ]
  },
  {
   "cell_type": "code",
   "execution_count": 8,
   "metadata": {
    "ExecuteTime": {
     "end_time": "2017-05-22T05:15:14.866949",
     "start_time": "2017-05-22T05:15:14.857118Z"
    },
    "collapsed": false
   },
   "outputs": [
    {
     "data": {
      "text/plain": [
       "6.9077552789821368"
      ]
     },
     "execution_count": 8,
     "metadata": {},
     "output_type": "execute_result"
    }
   ],
   "source": [
    "np.log(1e3)"
   ]
  },
  {
   "cell_type": "code",
   "execution_count": 11,
   "metadata": {
    "ExecuteTime": {
     "end_time": "2017-05-22T05:53:05.753761",
     "start_time": "2017-05-22T05:53:05.751971Z"
    },
    "collapsed": true
   },
   "outputs": [],
   "source": [
    "from astropy.cosmology import Planck15"
   ]
  },
  {
   "cell_type": "code",
   "execution_count": 15,
   "metadata": {
    "ExecuteTime": {
     "end_time": "2017-05-22T05:53:42.297282",
     "start_time": "2017-05-22T05:53:42.294272Z"
    },
    "collapsed": false
   },
   "outputs": [
    {
     "data": {
      "text/plain": [
       "0.99009841609741556"
      ]
     },
     "execution_count": 15,
     "metadata": {},
     "output_type": "execute_result"
    }
   ],
   "source": [
    "Planck15.Om(8.0)"
   ]
  },
  {
   "cell_type": "code",
   "execution_count": null,
   "metadata": {
    "collapsed": true
   },
   "outputs": [],
   "source": []
  }
 ],
 "metadata": {
  "kernelspec": {
   "display_name": "Python [conda env:hmf3]",
   "language": "python",
   "name": "conda-env-hmf3-py"
  },
  "language_info": {
   "codemirror_mode": {
    "name": "ipython",
    "version": 3
   },
   "file_extension": ".py",
   "mimetype": "text/x-python",
   "name": "python",
   "nbconvert_exporter": "python",
   "pygments_lexer": "ipython3",
   "version": "3.5.3"
  },
  "latex_envs": {
   "bibliofile": "biblio.bib",
   "cite_by": "apalike",
   "current_citInitial": 1,
   "eqLabelWithNumbers": true,
   "eqNumInitial": 0
  },
  "nav_menu": {},
  "toc": {
   "navigate_menu": true,
   "number_sections": true,
   "sideBar": true,
   "threshold": 6,
   "toc_cell": false,
   "toc_section_display": "block",
   "toc_window_display": true
  }
 },
 "nbformat": 4,
 "nbformat_minor": 2
}
