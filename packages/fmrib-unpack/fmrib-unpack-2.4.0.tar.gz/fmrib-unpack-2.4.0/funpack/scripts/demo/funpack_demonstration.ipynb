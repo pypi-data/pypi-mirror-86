{
 "cells": [
  {
   "cell_type": "markdown",
   "metadata": {},
   "source": [
    "![win logo](win.png)\n",
    "\n",
    "\n",
    "# `funpack` (https://git.fmrib.ox.ac.uk/fsl/funpack)\n",
    "\n",
    "\n",
    "> Paul McCarthy &lt;paul.mccarthy@ndcn.ox.ac.uk&gt;\n",
    "> ([WIN@FMRIB](https://www.win.ox.ac.uk/))\n",
    "\n",
    "\n",
    "`funpack` is a command-line program which you can use to extract data from UK\n",
    "BioBank (and other tabular) data.\n",
    "\n",
    "\n",
    "You can give `funpack` one or more input files (e.g. `.csv`, `.tsv`), and it\n",
    "will merge them together, perform some preprocessing, and produce a single\n",
    "output file.\n",
    "\n",
    "\n",
    "A large number of rules are built into `funpack` which are specific to the UK\n",
    "BioBank data set. But you can control and customise everything that `funpack`\n",
    "does to your data, including which rows and columns to extract, and which\n",
    "cleaning/processing steps to perform on each column.\n",
    "\n",
    "\n",
    "`funpack` comes installed with recent versions of\n",
    "[FSL](https://fsl.fmrib.ox.ac.uk/fsl/fslwiki/). You can also install `funpack`\n",
    "via `conda`:\n",
    "\n",
    "\n",
    "> ```\n",
    "> conda install -c conda-forge fmrib-unpack\n",
    "> ```\n",
    "\n",
    "\n",
    "Or using `pip`:\n",
    "\n",
    "\n",
    "> ```\n",
    "> pip install fmrib-unpack\n",
    "> ```\n",
    "\n",
    "\n",
    "Get command-line help by typing:\n",
    "\n",
    "\n",
    "> ```\n",
    "> funpack -h\n",
    "> ```\n",
    "\n",
    "\n",
    "\n",
    "**Important** The examples in this notebook assume that you have installed `funpack`\n",
    "2.4.0 or newer."
   ]
  },
  {
   "cell_type": "code",
   "execution_count": null,
   "metadata": {},
   "outputs": [],
   "source": [
    "funpack -V"
   ]
  },
  {
   "cell_type": "markdown",
   "metadata": {},
   "source": [
    "### Contents\n",
    "\n",
    "\n",
    "1. [Overview](#Overview)\n",
    "   1. [Import](#1.-Import)\n",
    "   2. [Cleaning](#2.-Cleaning)\n",
    "   3. [Processing](#3.-Processing)\n",
    "   4. [Export](#4.-Export)\n",
    "2. [Examples](#Examples)\n",
    "3. [Import examples](#Import-examples)\n",
    "   1. [Selecting variables (columns)](#Selecting-variables-(columns))\n",
    "      1. [Selecting individual variables](#Selecting-individual-variables)\n",
    "      2. [Selecting variable ranges](#Selecting-variable-ranges)\n",
    "      3. [Selecting variables with a file](#Selecting-variables-with-a-file)\n",
    "      4. [Selecting variables from pre-defined categories](#Selecting-variables-from-pre-defined-categories)\n",
    "   2. [Selecting subjects (rows)](#Selecting-subjects-(rows))\n",
    "      1. [Selecting individual subjects](#Selecting-individual-subjects)\n",
    "      2. [Selecting subject ranges](#Selecting-subject-ranges)\n",
    "      3. [Selecting subjects from a file](#Selecting-subjects-from-a-file)\n",
    "      4. [Selecting subjects by variable value](#Selecting-subjects-by-variable-value)\n",
    "      5. [Excluding subjects](#Excluding-subjects)\n",
    "   3. [Selecting visits](#Selecting-visits)\n",
    "      1. [Evaluating expressions across visits](#Evaluating-expressions-across-visits)\n",
    "   4. [Merging multiple input files](#Merging-multiple-input-files)\n",
    "      1. [Merging by subject](#Merging-by-subject)\n",
    "      2. [Merging by column](#Merging-by-column)\n",
    "      3. [Naive merging](#Merging-by-column)\n",
    "4. [Cleaning examples](#Cleaning-examples)\n",
    "   1. [NA insertion](#NA-insertion)\n",
    "   2. [Variable-specific cleaning functions](#Variable-specific-cleaning-functions)\n",
    "   3. [Categorical recoding](#Categorical-recoding)\n",
    "   4. [Child value replacement](#Child-value-replacement)\n",
    "5. [Processing examples](#Processing-examples)\n",
    "   1. [Sparsity check](#Sparsity-check)\n",
    "   2. [Redundancy check](#Redundancy-check)\n",
    "   3. [Categorical binarisation](#Categorical-binarisation)\n",
    "6. [Custom cleaning, processing and loading - funpack plugins](#Custom-cleaning,-processing-and-loading---funpack-plugins)\n",
    "   1. [Custom cleaning functions](#Custom-cleaning-functions)\n",
    "   2. [Custom processing functions](#Custom-processing-functions)\n",
    "   3. [Custom file loaders](#Custom-file-loaders)\n",
    "7. [Miscellaneous topics](#Miscellaneous-topics)\n",
    "   1. [Non-numeric data](#Non-numeric-data)\n",
    "   2. [Dry run](#Dry-run)\n",
    "   3. [Built-in rules](#Built-in-rules)\n",
    "   4. [Using a configuration file](#Using-a-configuration-file)\n",
    "   5. [Working with unknown/uncategorised variables](#Working-with-unknown/uncategorised-variables)\n",
    "\n",
    "\n",
    "# Overview\n",
    "\n",
    "\n",
    "`funpack` performs the following steps:\n",
    "\n",
    "\n",
    "## 1. Import\n",
    "\n",
    "\n",
    "All data files are loaded in, unwanted columns and subjects are dropped, and\n",
    "the data files are merged into a single table (a.k.a. data frame). Multiple\n",
    "files can be merged according to an index column (e.g. subject ID). Or, if the\n",
    "input files contain the same columns/subjects, they can be naively\n",
    "concatenated along rows or columns.\n",
    "\n",
    "\n",
    "## 2. Cleaning\n",
    "\n",
    "\n",
    "The following cleaning steps are applied to each column:\n",
    "\n",
    "1. **NA value replacement:** Specific values for some columns are replaced\n",
    "   with NA, for example, variables where a value of `-1` indicates *Do not\n",
    "   know*.\n",
    "\n",
    "\n",
    "2. **Variable-specific cleaning functions:** Certain columns are\n",
    "   re-formatted; for example, the [ICD10](https://en.wikipedia.org/wiki/ICD-10)\n",
    "   disease codes can be converted to integer representations.\n",
    "\n",
    "\n",
    "3. **Categorical recoding:** Certain categorical columns are re-coded.\n",
    "\n",
    "\n",
    "4. **Child value replacement:** NA values within some columns which are\n",
    "   dependent upon other columns may have values inserted based on the values\n",
    "   of their parent columns.\n",
    "\n",
    "\n",
    "## 3. Processing\n",
    "\n",
    "\n",
    "During the processing stage, columns may be removed, merged, or expanded into\n",
    "additional columns. For example, a categorical column may be expanded into a set\n",
    "of binary columns, one for each category.\n",
    "\n",
    "\n",
    "A column may also be removed on the basis of being too sparse, or being\n",
    "redundant with respect to another column.\n",
    "\n",
    "\n",
    "## 4. Export\n",
    "\n",
    "\n",
    "The processed data can be saved as a `.csv`, `.tsv`, or `.hdf5` file.\n",
    "\n",
    "\n",
    "# Examples\n",
    "\n",
    "\n",
    "Throughout these examples, we are going to use a few command line\n",
    "options, which you will probably **not** normally want to use:\n",
    "\n",
    " - `-ow` (short for `--overwrite`): This tells `funpack` not to complain if\n",
    "   the output file already exists.\n",
    "\n",
    " - `-q` (short for `--quiet`): This tells `funpack` to be quiet.  Without the\n",
    "   `-q` option, `funpack` can be quite verbose, which can be annoying, but is\n",
    "   very useful when things go wrong. A good strategy is to tell `funpack` to\n",
    "   produce verbose output using the `--noisy` (`-n` for short) option, and to\n",
    "   send all of its output to a log file with the `--log_file` (or `-lf`)\n",
    "   option.  For example:\n",
    "\n",
    "   > ```\n",
    "   > funpack -n -n -n -lf log.txt out.tsv in.tsv\n",
    "   > ```\n",
    "\n",
    "\n",
    "Here's the first example input data set, with UK BioBank-style column names:"
   ]
  },
  {
   "cell_type": "code",
   "execution_count": null,
   "metadata": {},
   "outputs": [],
   "source": [
    "cat data_01.tsv"
   ]
  },
  {
   "cell_type": "markdown",
   "metadata": {},
   "source": [
    "The numbers in each column name typically represent:\n",
    "\n",
    "\n",
    "1. The variable ID\n",
    "2. The visit, for variables which were collected at multiple points in time.\n",
    "3. The \"instance\", for multi-valued variables.\n",
    "\n",
    "\n",
    "Note that one **variable** is typically associated with several **columns**,\n",
    "although we're keeping things simple for this first example - there is only\n",
    "one visit for each variable, and there are no mulit-valued variables.\n",
    "\n",
    "\n",
    "> _Most but not all_ variables in the UK BioBank contain data collected at\n",
    "> different visits, the times that the participants visited a UK BioBank\n",
    "> assessment centre. However there are some variables (e.g.  [ICD10 diagnosis\n",
    "> codes](https://biobank.ctsu.ox.ac.uk/crystal/field.cgi?id=41202)) for which\n",
    "> this is not the case.\n",
    "\n",
    "\n",
    "# Import examples\n",
    "\n",
    "\n",
    "## Selecting variables (columns)\n",
    "\n",
    "\n",
    "You can specify which variables you want to load in the following ways, using\n",
    "the `--variable` (`-v` for short), `--category` (`-c` for short) and\n",
    "`--column` (`-co` for short) command line options:\n",
    "\n",
    "\n",
    " * By variable ID\n",
    " * By variable ranges\n",
    " * By a text file which contains the IDs you want to keep.\n",
    " * By pre-defined variable categories\n",
    " * By column name\n",
    "\n",
    "\n",
    "### Selecting individual variables\n",
    "\n",
    "\n",
    "Simply provide the IDs of the variables you want to extract:"
   ]
  },
  {
   "cell_type": "code",
   "execution_count": null,
   "metadata": {},
   "outputs": [],
   "source": [
    "funpack -q -ow -v 1 -v 5 out.tsv data_01.tsv\n",
    "cat out.tsv"
   ]
  },
  {
   "cell_type": "markdown",
   "metadata": {},
   "source": [
    "### Selecting variable ranges\n",
    "\n",
    "\n",
    "The `--variable`/`-v` option accepts MATLAB-style ranges of the form\n",
    "`start:step:stop` (where the `stop` is inclusive):"
   ]
  },
  {
   "cell_type": "code",
   "execution_count": null,
   "metadata": {},
   "outputs": [],
   "source": [
    "funpack -q -ow -v 1:3:10 out.tsv data_01.tsv\n",
    "cat out.tsv"
   ]
  },
  {
   "cell_type": "markdown",
   "metadata": {},
   "source": [
    "### Selecting variables with a file\n",
    "\n",
    "\n",
    "If your variables of interest are listed in a plain-text file, you can simply\n",
    "pass that file:"
   ]
  },
  {
   "cell_type": "code",
   "execution_count": null,
   "metadata": {},
   "outputs": [],
   "source": [
    "echo -e \"1\\n6\\n9\" > vars.txt\n",
    "funpack -q -ow -v vars.txt out.tsv data_01.tsv\n",
    "cat out.tsv"
   ]
  },
  {
   "cell_type": "markdown",
   "metadata": {},
   "source": [
    "### Selecting variables from pre-defined categories\n",
    "\n",
    "\n",
    "Some UK BioBank-specific categories are [built into\n",
    "`funpack`](#Built-in-rules), but you can also define your own categories - you\n",
    "just need to create a `.tsv` file, and pass it to `funpack` via the\n",
    "`--category_file` (`-cf` for short):"
   ]
  },
  {
   "cell_type": "code",
   "execution_count": null,
   "metadata": {},
   "outputs": [],
   "source": [
    "echo -e \"ID\\tCategory\\tVariables\"      > custom_categories.tsv\n",
    "echo -e \"1\\tCool variables\\t1:5,7\"    >> custom_categories.tsv\n",
    "echo -e \"2\\tUncool variables\\t6,8:10\" >> custom_categories.tsv\n",
    "cat custom_categories.tsv"
   ]
  },
  {
   "cell_type": "markdown",
   "metadata": {},
   "source": [
    "Use the `--category` (`-c` for short) to select categories to output. You can\n",
    "refer to categories by their ID:"
   ]
  },
  {
   "cell_type": "code",
   "execution_count": null,
   "metadata": {},
   "outputs": [],
   "source": [
    "funpack -q -ow -cf custom_categories.tsv -c 1 out.tsv data_01.tsv\n",
    "cat out.tsv"
   ]
  },
  {
   "cell_type": "markdown",
   "metadata": {},
   "source": [
    "Or by name:"
   ]
  },
  {
   "cell_type": "code",
   "execution_count": null,
   "metadata": {},
   "outputs": [],
   "source": [
    "funpack -q -ow -cf custom_categories.tsv -c uncool out.tsv data_01.tsv\n",
    "cat out.tsv"
   ]
  },
  {
   "cell_type": "markdown",
   "metadata": {},
   "source": [
    "### Selecting column names\n",
    "\n",
    "\n",
    "If you are working with data that has non-UK BioBank style column names, you\n",
    "can use the `--column` (`-co` for short) to select individual columns by their\n",
    "name, rather than the variable with which they are associated. The `--column`\n",
    "option accepts full column names, and also shell-style wildcard patterns:"
   ]
  },
  {
   "cell_type": "code",
   "execution_count": null,
   "metadata": {},
   "outputs": [],
   "source": [
    "funpack -q -ow -co 4-0.0 -co \"??-0.0\" out.tsv data_01.tsv\n",
    "cat out.tsv"
   ]
  },
  {
   "cell_type": "markdown",
   "metadata": {},
   "source": [
    "## Selecting subjects (rows)\n",
    "\n",
    "\n",
    "`funpack` assumes that the first column in every input file is a subject\n",
    "ID. You can specify which subjects you want to load via the `--subject` (`-s`\n",
    "for short) option. You can specify subjects in the same way that you specified\n",
    "variables above, and also:\n",
    "\n",
    " * By specifying a conditional expression on variable values - only subjects\n",
    "   for which the expression evaluates to true will be imported\n",
    " * By specifying subjects to exclude\n",
    "\n",
    "\n",
    "### Selecting individual subjects"
   ]
  },
  {
   "cell_type": "code",
   "execution_count": null,
   "metadata": {},
   "outputs": [],
   "source": [
    "funpack -q -ow -s 1 -s 3 -s 5 out.tsv data_01.tsv\n",
    "cat out.tsv"
   ]
  },
  {
   "cell_type": "markdown",
   "metadata": {},
   "source": [
    "### Selecting subject ranges"
   ]
  },
  {
   "cell_type": "code",
   "execution_count": null,
   "metadata": {},
   "outputs": [],
   "source": [
    "funpack -q -ow -s 2:2:10 out.tsv data_01.tsv\n",
    "cat out.tsv"
   ]
  },
  {
   "cell_type": "markdown",
   "metadata": {},
   "source": [
    "### Selecting subjects from a file"
   ]
  },
  {
   "cell_type": "code",
   "execution_count": null,
   "metadata": {},
   "outputs": [],
   "source": [
    "echo -e \"5\\n6\\n7\\n8\\n9\\n10\" > subjects.txt\n",
    "funpack -q -ow -s subjects.txt out.tsv data_01.tsv\n",
    "cat out.tsv"
   ]
  },
  {
   "cell_type": "markdown",
   "metadata": {},
   "source": [
    "### Selecting subjects by variable value\n",
    "\n",
    "\n",
    "The `--subject` option accepts *variable expressions* - you can write an\n",
    "expression performing numerical comparisons on variables (denoted with a\n",
    "leading `v`) and combine these expressions using boolean algebra. Only\n",
    "subjects for which the expression evaluates to true will be imported. For\n",
    "example, to only import subjects where variable 1 is greater than 10, and\n",
    "variable 2 is less than 70, you can type:"
   ]
  },
  {
   "cell_type": "code",
   "execution_count": null,
   "metadata": {},
   "outputs": [],
   "source": [
    "funpack -q -ow -sp -s \"v1 > 10 && v2 < 70\" out.tsv data_01.tsv\n",
    "cat out.tsv"
   ]
  },
  {
   "cell_type": "markdown",
   "metadata": {},
   "source": [
    "The following symbols can be used in variable expressions:\n",
    "\n",
    "\n",
    "| Symbol                    | Meaning                         |\n",
    "|---------------------------|---------------------------------|\n",
    "| `==`                      | equal to                        |\n",
    "| `!=`                      | not equal to                    |\n",
    "| `>`                       | greater than                    |\n",
    "| `>=`                      | greater than or equal to        |\n",
    "| `<`                       | less than                       |\n",
    "| `<=`                      | less than or equal to           |\n",
    "| `na`                      | N/A                             |\n",
    "| `&&`                      | logical and                     |\n",
    "| <code>&#x7c;&#x7c;</code> | logical or                      |\n",
    "| `~`                       | logical not                     |\n",
    "| `contains`                | Contains sub-string             |\n",
    "| `all`                     | all columns must meet condition |\n",
    "| `any`                     | any column must meet condition  |\n",
    "| `()`                      | to denote precedence            |\n",
    "\n",
    "\n",
    "Non-numeric (i.e.  string) variables can be used in these expressions in\n",
    "conjunction with the `==`, `!=`, and `contains` operators. An example of such\n",
    "an expression is given in the section on [non-numeric\n",
    "data](#Non-numeric-data), below.\n",
    "\n",
    "\n",
    "The `all` and `any` symbols allow you to control how an expression is\n",
    "evaluated across multiple columns which are associated with one variable\n",
    "(e.g. separate columns for each visit). We will give an example of this in the\n",
    "section on [selecting visits](#Selecting-visits), below.\n",
    "\n",
    "\n",
    "### Excluding subjects\n",
    "\n",
    "\n",
    "The `--exclude` (`-ex` for short) option allows you to exclude subjects - it\n",
    "accepts individual IDs, an ID range, or a file containing IDs. The\n",
    "`--exclude`/`-ex` option takes precedence over the `--subject`/`-s` option:"
   ]
  },
  {
   "cell_type": "code",
   "execution_count": null,
   "metadata": {},
   "outputs": [],
   "source": [
    "funpack -q -ow -s 1:8 -ex 5:10 out.tsv data_01.tsv\n",
    "cat out.tsv"
   ]
  },
  {
   "cell_type": "markdown",
   "metadata": {},
   "source": [
    "## Selecting visits\n",
    "\n",
    "\n",
    "Many variables in the UK BioBank data contain observations at multiple points in\n",
    "time, or visits. `funpack` allows you to specify which visits you are interested\n",
    "in. Here is an example data set with variables that have data for multiple\n",
    "visits (remember that the second number in the column names denotes the visit):"
   ]
  },
  {
   "cell_type": "code",
   "execution_count": null,
   "metadata": {},
   "outputs": [],
   "source": [
    "cat data_02.tsv"
   ]
  },
  {
   "cell_type": "markdown",
   "metadata": {},
   "source": [
    "We can use the `--visit` (`-vi` for short) option to get just the last visit for\n",
    "each variable:"
   ]
  },
  {
   "cell_type": "code",
   "execution_count": null,
   "metadata": {},
   "outputs": [],
   "source": [
    "funpack -q -ow -vi last out.tsv data_02.tsv\n",
    "cat out.tsv"
   ]
  },
  {
   "cell_type": "markdown",
   "metadata": {},
   "source": [
    "You can also specify which visit you want by its number:"
   ]
  },
  {
   "cell_type": "code",
   "execution_count": null,
   "metadata": {},
   "outputs": [],
   "source": [
    "funpack -q -ow -vi 1 out.tsv data_02.tsv\n",
    "cat out.tsv"
   ]
  },
  {
   "cell_type": "markdown",
   "metadata": {},
   "source": [
    "> Variables which are not associated with specific visits (e.g. [ICD10\n",
    "> diagnosis codes](https://biobank.ctsu.ox.ac.uk/crystal/field.cgi?id=41202))\n",
    "> will not be affected by the `-vi` option.\n",
    "\n",
    "\n",
    "### Evaluating expressions across visits\n",
    "\n",
    "\n",
    "The variable expressions described above in the section on [selecting\n",
    "subjects](#Selecting-subjects-by-variable-value) will be applied to all of\n",
    "the columns associated with a variable. By default, an expression will\n",
    "evaluate to true where the values in _any_ column asssociated with the\n",
    "variable evaluate to true. For example, we can extract the data for subjects\n",
    "where the values of any column of variable 2 were less than 50:"
   ]
  },
  {
   "cell_type": "code",
   "execution_count": null,
   "metadata": {},
   "outputs": [],
   "source": [
    "funpack -q -ow -v 2 -s 'v2 < 50' out.tsv data_02.tsv\n",
    "cat out.tsv"
   ]
  },
  {
   "cell_type": "markdown",
   "metadata": {},
   "source": [
    "We can use the `any` and `all` operators to control how an expression is\n",
    "evaluated across the columns of a variable. For example, we may only be\n",
    "interested in subjects for whom all columns of variable 2 were greater than\n",
    "50:"
   ]
  },
  {
   "cell_type": "code",
   "execution_count": null,
   "metadata": {},
   "outputs": [],
   "source": [
    "funpack -q -ow -v 2 -s 'all(v2 < 50)' out.tsv data_02.tsv\n",
    "cat out.tsv"
   ]
  },
  {
   "cell_type": "markdown",
   "metadata": {},
   "source": [
    "We can use `any` and `all` in expressions involving multiple variables:"
   ]
  },
  {
   "cell_type": "code",
   "execution_count": null,
   "metadata": {},
   "outputs": [],
   "source": [
    "funpack -q -ow -v 2,3 -s 'any(v2 < 50) && all(v3 >= 40)' out.tsv data_02.tsv\n",
    "cat out.tsv"
   ]
  },
  {
   "cell_type": "markdown",
   "metadata": {},
   "source": [
    "## Merging multiple input files\n",
    "\n",
    "\n",
    "If your data is split across multiple files, you can specify how `funpack`\n",
    "should merge them together.\n",
    "\n",
    "### Merging by subject\n",
    "\n",
    "\n",
    "For example, let's say we have these two input files (shown side-by- side):"
   ]
  },
  {
   "cell_type": "code",
   "execution_count": null,
   "metadata": {},
   "outputs": [],
   "source": [
    "echo \" \" | paste data_03.tsv - data_04.tsv"
   ]
  },
  {
   "cell_type": "markdown",
   "metadata": {},
   "source": [
    "Note that each file contains different variables, and different, but\n",
    "overlapping, subjects. By default, when you pass these files to `funpack`, it\n",
    "will output the intersection of the two files (more formally known as an\n",
    "*inner join*), i.e. subjects which are present in both files:"
   ]
  },
  {
   "cell_type": "code",
   "execution_count": null,
   "metadata": {},
   "outputs": [],
   "source": [
    "funpack -q -ow out.tsv data_03.tsv data_04.tsv\n",
    "cat out.tsv"
   ]
  },
  {
   "cell_type": "markdown",
   "metadata": {},
   "source": [
    "If you want to keep all subjects, you can instruct `funpack` to output the union\n",
    "(a.k.a. *outer join*) via the `--merge_strategy` (`-ms` for short) option:"
   ]
  },
  {
   "cell_type": "code",
   "execution_count": null,
   "metadata": {},
   "outputs": [],
   "source": [
    "funpack -q -ow -ms outer out.tsv data_03.tsv data_04.tsv\n",
    "cat out.tsv"
   ]
  },
  {
   "cell_type": "markdown",
   "metadata": {},
   "source": [
    "### Merging by column\n",
    "\n",
    "\n",
    "Your data may be organised in a different way. For example, these next two\n",
    "files contain different groups of subjects, but overlapping columns:"
   ]
  },
  {
   "cell_type": "code",
   "execution_count": null,
   "metadata": {},
   "outputs": [],
   "source": [
    "echo \" \" | paste data_05.tsv - data_06.tsv"
   ]
  },
  {
   "cell_type": "markdown",
   "metadata": {},
   "source": [
    "In this case, we need to tell `funpack` to merge along the row axis, rather than\n",
    "along the column axis. We can do this with the `--merge_axis` (`-ma` for short)\n",
    "option:"
   ]
  },
  {
   "cell_type": "code",
   "execution_count": null,
   "metadata": {},
   "outputs": [],
   "source": [
    "funpack -q -ow -ma rows out.tsv data_05.tsv data_06.tsv\n",
    "cat out.tsv"
   ]
  },
  {
   "cell_type": "markdown",
   "metadata": {},
   "source": [
    "Again, if we want to retain all columns, we can tell `funpack` to perform an\n",
    "outer join with the `-ms` option:"
   ]
  },
  {
   "cell_type": "code",
   "execution_count": null,
   "metadata": {},
   "outputs": [],
   "source": [
    "funpack -q -ow -ma rows -ms outer out.tsv data_05.tsv data_06.tsv\n",
    "cat out.tsv"
   ]
  },
  {
   "cell_type": "markdown",
   "metadata": {},
   "source": [
    "### Naive merging\n",
    "\n",
    "\n",
    "Finally, your data may be organised such that you simply want to \"paste\", or\n",
    "concatenate them together, along either rows or columns. For example, your\n",
    "data files might look like this:"
   ]
  },
  {
   "cell_type": "code",
   "execution_count": null,
   "metadata": {},
   "outputs": [],
   "source": [
    "echo \" \" | paste data_07.tsv - data_08.tsv"
   ]
  },
  {
   "cell_type": "markdown",
   "metadata": {},
   "source": [
    "Here, we have columns for different variables on the same set of subjects, and\n",
    "we just need to concatenate them together horizontally. We do this by using\n",
    "`--merge_strategy naive` (`-ms naive` for short):"
   ]
  },
  {
   "cell_type": "code",
   "execution_count": null,
   "metadata": {},
   "outputs": [],
   "source": [
    "funpack -q -ow -ms naive out.tsv data_07.tsv data_08.tsv\n",
    "cat out.tsv"
   ]
  },
  {
   "cell_type": "markdown",
   "metadata": {},
   "source": [
    "For files which need to be concatenated vertically, such as these:"
   ]
  },
  {
   "cell_type": "code",
   "execution_count": null,
   "metadata": {},
   "outputs": [],
   "source": [
    "echo \" \" | paste data_09.tsv - data_10.tsv"
   ]
  },
  {
   "cell_type": "markdown",
   "metadata": {},
   "source": [
    "We need to tell `funpack` which axis to concatenate along, again using the `-ma`\n",
    "option:"
   ]
  },
  {
   "cell_type": "code",
   "execution_count": null,
   "metadata": {},
   "outputs": [],
   "source": [
    "funpack -q -ow -ms naive -ma rows out.tsv data_09.tsv data_10.tsv\n",
    "cat out.tsv"
   ]
  },
  {
   "cell_type": "markdown",
   "metadata": {},
   "source": [
    "# Cleaning examples\n",
    "\n",
    "\n",
    "Once the data has been imported, a sequence of cleaning steps are applied to\n",
    "each column.\n",
    "\n",
    "\n",
    "## NA insertion\n",
    "\n",
    "\n",
    "For some variables it may make sense to discard or ignore certain values. For\n",
    "example, if an individual selects *Do not know* to a question such as *How\n",
    "much milk did you drink yesterday?*, that answer will be coded with a specific\n",
    "value (e.g. `-1`). It does not make any sense to include these values in most\n",
    "analyses, so `funpack` can be used to mark such values as *Not Available\n",
    "(NA)*.\n",
    "\n",
    "\n",
    "A large number of NA insertion rules, specific to UK BioBank variables, are\n",
    "coded into `funpack`, and are applied when you use the `-cfg fmrib` option\n",
    "(see the section below on [built-in rules](#Built-in-rules)). You can also\n",
    "specify your own rules via the `--na_values` (`-nv` for short) option.\n",
    "\n",
    "\n",
    "Let's say we have this data set:"
   ]
  },
  {
   "cell_type": "code",
   "execution_count": null,
   "metadata": {},
   "outputs": [],
   "source": [
    "cat data_11.tsv"
   ]
  },
  {
   "cell_type": "markdown",
   "metadata": {},
   "source": [
    "For variable 1, we want to ignore values of -1, for variable 2 we want to\n",
    "ignore -1 and 0, and for variable 3 we want to ignore 1 and 2:"
   ]
  },
  {
   "cell_type": "code",
   "execution_count": null,
   "metadata": {},
   "outputs": [],
   "source": [
    "funpack -q -ow -nv 1 \" -1\" -nv 2 \" -1,0\" -nv 3 \"1,2\" out.tsv data_11.tsv\n",
    "cat out.tsv"
   ]
  },
  {
   "cell_type": "markdown",
   "metadata": {},
   "source": [
    "The `--na_values` option expects two arguments:\n",
    " * The variable ID\n",
    " * A comma-separated list of values to replace with NA\n",
    "\n",
    "\n",
    "## Variable-specific cleaning functions\n",
    "\n",
    "\n",
    "A small number of cleaning/preprocessing functions are built into `funpack`,\n",
    "which can be applied to specific variables. For example, some variables in the\n",
    "UK BioBank contain ICD10 disease codes, which may be more useful if converted\n",
    "to a numeric format (e.g. to make them easy to load into MATLAB).  Imagine\n",
    "that we have some data with ICD10 codes:"
   ]
  },
  {
   "cell_type": "code",
   "execution_count": null,
   "metadata": {},
   "outputs": [],
   "source": [
    "cat data_12.tsv"
   ]
  },
  {
   "cell_type": "markdown",
   "metadata": {},
   "source": [
    "We can use the `--clean` (`-cl` for short) option with the built-in\n",
    "`codeToNumeric` cleaning function to convert the codes to a numeric\n",
    "representation<sup>*</sup>:"
   ]
  },
  {
   "cell_type": "code",
   "execution_count": null,
   "metadata": {},
   "outputs": [],
   "source": [
    "funpack -q -ow -cl 1 \"codeToNumeric('icd10')\" out.tsv data_12.tsv\n",
    "cat out.tsv"
   ]
  },
  {
   "cell_type": "markdown",
   "metadata": {},
   "source": [
    "> <sup>*</sup>The `codeToNumeric` function will replace each ICD10 code with\n",
    "> the corresponding *Node* number, as defined in the UK [BioBank ICD10 data\n",
    "> coding](http://biobank.ctsu.ox.ac.uk/crystal/coding.cgi?id=19).\n",
    "\n",
    "\n",
    "The `--clean` option expects two arguments:\n",
    " * The variable ID\n",
    " * The cleaning function to apply. Some cleaning functions accept\n",
    "   arguments - refer to the command-line help for a summary of available\n",
    "   functions.\n",
    "\n",
    "\n",
    "You can define your own cleaning functions by passing them in as a\n",
    "`--plugin_file` (see the [section on custom plugins\n",
    "below](#Custom-cleaning,-processing-and-loading---funpack-plugins)).\n",
    "\n",
    "\n",
    "### Example: flattening hierarchical data\n",
    "\n",
    "\n",
    "Several variables in the UK Biobank (including the ICD10 disease\n",
    "categorisations) are organised in a hierarchical manner - each value is a\n",
    "child of a more general parent category.  The `flattenHierarchical` cleaninng\n",
    "function can be used to replace each value in a data set with the value that\n",
    "corresponds to a parent category. Let's apply this to our example ICD10 data\n",
    "set."
   ]
  },
  {
   "cell_type": "code",
   "execution_count": null,
   "metadata": {},
   "outputs": [],
   "source": [
    "funpack -q -ow -cl 1 \"flattenHierarchical(name='icd10')\" out.tsv data_12.tsv\n",
    "cat out.tsv"
   ]
  },
  {
   "cell_type": "markdown",
   "metadata": {},
   "source": [
    "### Aside: ICD10 mapping file\n",
    "\n",
    "\n",
    "`funpack` has a feature specific to these ICD10 disease categorisations - you\n",
    "can use the `--icd10_map_file` (`-imf` for short) option to tell `funpack` to\n",
    "save a file which contains a list of all ICD10 codes that were present in the\n",
    "input data, and the corresponding numerical codes that `funpack` generated:"
   ]
  },
  {
   "cell_type": "code",
   "execution_count": null,
   "metadata": {},
   "outputs": [],
   "source": [
    "funpack -q -ow -cl 1 \"codeToNumeric('icd10')\" -imf icd10_codes.tsv out.tsv data_12.tsv\n",
    "cat icd10_codes.tsv"
   ]
  },
  {
   "cell_type": "markdown",
   "metadata": {},
   "source": [
    "## Categorical recoding\n",
    "\n",
    "\n",
    "You may have some categorical data which is coded in an awkward manner, such as\n",
    "in this example, which encodes the amount of some item that an individual has\n",
    "consumed:\n",
    "\n",
    "\n",
    "![data coding example](coding.png)\n",
    "\n",
    "\n",
    "You can use the `--recoding` (`-re` for short) option to recode data like this\n",
    "into something more useful. For example, given this data:"
   ]
  },
  {
   "cell_type": "code",
   "execution_count": null,
   "metadata": {},
   "outputs": [],
   "source": [
    "cat data_13.tsv"
   ]
  },
  {
   "cell_type": "markdown",
   "metadata": {},
   "source": [
    "Let's recode it to be more monotonic:"
   ]
  },
  {
   "cell_type": "code",
   "execution_count": null,
   "metadata": {},
   "outputs": [],
   "source": [
    "funpack -q -ow -re 1 \"300,444,555\" \"3,0.25,0.5\" out.tsv data_13.tsv\n",
    "cat out.tsv"
   ]
  },
  {
   "cell_type": "markdown",
   "metadata": {},
   "source": [
    "The `--recoding` option expects three arguments:\n",
    " * The variable ID\n",
    " * A comma-separated list of the values to be replaced\n",
    " * A comma-separated list of the values to replace them with\n",
    "\n",
    "\n",
    "## Child value replacement\n",
    "\n",
    "\n",
    "Imagine that we have these two questions:\n",
    "\n",
    "\n",
    " * **1**: *Do you currently smoke cigarettes?*\n",
    " * **2**: *How many cigarettes did you smoke yesterday?*\n",
    "\n",
    "\n",
    "Now, question 2 was only asked if the answer to question 1 was *Yes*. So for\n",
    "all individuals who answered *No* to question 1, we will have a missing value\n",
    "for question 2. But for some analyses, it would make more sense to have a\n",
    "value of 0, rather than NA, for these subjects.\n",
    "\n",
    "\n",
    "`funpack` can handle these sorts of dependencies by way of *child value\n",
    "replacement*. For question 2, we can define a conditional variable expression\n",
    "such that when both question 2 is NA and question 1 is *No*, we can insert a\n",
    "value of 0 into question 2.\n",
    "\n",
    "\n",
    "This scenario is demonstrated in this example data set (where, for\n",
    "question 1 values of `1` and `0` represent *Yes* and *No* respectively):"
   ]
  },
  {
   "cell_type": "code",
   "execution_count": null,
   "metadata": {},
   "outputs": [],
   "source": [
    "cat data_14.tsv"
   ]
  },
  {
   "cell_type": "markdown",
   "metadata": {},
   "source": [
    "We can fill in the values for variable 2 by using the `--child_values` (`-cv`\n",
    "for short) option:"
   ]
  },
  {
   "cell_type": "code",
   "execution_count": null,
   "metadata": {},
   "outputs": [],
   "source": [
    "funpack -q -ow -cv 2 \"v1 == 0\" \"0\" out.tsv data_14.tsv\n",
    "cat out.tsv"
   ]
  },
  {
   "cell_type": "markdown",
   "metadata": {},
   "source": [
    "The `--child_values` option expects three arguments:\n",
    "* The variable ID\n",
    "* An expression evaluating some condition on the parent variable(s)\n",
    "* A value to replace NA with where the expression evaluates to true.\n",
    "\n",
    "\n",
    "# Processing examples\n",
    "\n",
    "\n",
    "After every column has been cleaned, the entire data set undergoes a series of\n",
    "processing steps. The processing stage may result in columns being removed or\n",
    "manipulated, or new columns being added.\n",
    "\n",
    "\n",
    "The processing stage can be controlled with these options:\n",
    " * `--prepend_process` (`-ppr` for short): Apply a processing function before\n",
    "   the built-in processing\n",
    " * `--append_process` (`-apr` for short): Apply a processing function after the\n",
    "   built-in processing\n",
    "\n",
    "\n",
    "A default set of processing steps are applied when you apply the `fmrib`\n",
    "configuration profile by using `-cfg fmrib` - see the section on [built-in\n",
    "rules](#Built-in-rules).\n",
    "\n",
    "\n",
    "The `--prepend_process` and `--append_process` options require two arguments:\n",
    " * The variable ID(s) to apply the function to, or `all` to denote all\n",
    "   variables.\n",
    " * The processing function to apply. The available processing functions are\n",
    "   listed in the command line help, or you can write your own and pass it in\n",
    "   as a plugin file\n",
    "   ([see below](#Custom-cleaning,-processing-and-loading---funpack-plugins)).\n",
    "\n",
    "\n",
    "## Sparsity check\n",
    "\n",
    "\n",
    "The `removeIfSparse` process will remove columns that are deemed to have too\n",
    "many missing values. If we take this data set:"
   ]
  },
  {
   "cell_type": "code",
   "execution_count": null,
   "metadata": {},
   "outputs": [],
   "source": [
    "cat data_15.tsv"
   ]
  },
  {
   "cell_type": "markdown",
   "metadata": {},
   "source": [
    "Imagine that our analysis requires at least 8 values per variable to work. We\n",
    "can use the `minpres` option to`funpack` to drop any columns which do not meet\n",
    "this threshold:"
   ]
  },
  {
   "cell_type": "code",
   "execution_count": null,
   "metadata": {},
   "outputs": [],
   "source": [
    "funpack -q -ow -apr all \"removeIfSparse(minpres=8)\" out.tsv data_15.tsv\n",
    "cat out.tsv"
   ]
  },
  {
   "cell_type": "markdown",
   "metadata": {},
   "source": [
    "You can also specify `minpres` as a proportion, rather than an absolute number.\n",
    "e.g.:"
   ]
  },
  {
   "cell_type": "code",
   "execution_count": null,
   "metadata": {},
   "outputs": [],
   "source": [
    "funpack -q -ow -apr all \"removeIfSparse(minpres=0.65, abspres=False)\" out.tsv data_15.tsv\n",
    "cat out.tsv"
   ]
  },
  {
   "cell_type": "markdown",
   "metadata": {},
   "source": [
    "## Redundancy check\n",
    "\n",
    "\n",
    "You may wish to remove columns which contain redundant information. The\n",
    "`removeIfRedundant` process calculates the pairwise correlation between all\n",
    "columns, and removes columns with a correlation above a threshold that you\n",
    "provide. Imagine that we have this data set:"
   ]
  },
  {
   "cell_type": "code",
   "execution_count": null,
   "metadata": {},
   "outputs": [],
   "source": [
    "cat data_16.tsv"
   ]
  },
  {
   "cell_type": "markdown",
   "metadata": {},
   "source": [
    "The data in column `2-0.0` is effectively equivalent to the data in column\n",
    "`1-0.0`, so is not of any use to us. We can tell `funpack` to remove it like\n",
    "so:"
   ]
  },
  {
   "cell_type": "code",
   "execution_count": null,
   "metadata": {},
   "outputs": [],
   "source": [
    "funpack -q -ow -apr all \"removeIfRedundant(0.9)\" out.tsv data_16.tsv\n",
    "cat out.tsv"
   ]
  },
  {
   "cell_type": "markdown",
   "metadata": {},
   "source": [
    "The `removeIfRedundant` process can also calculate the correlation of the\n",
    "patterns of missing values between variables - Consider this example:"
   ]
  },
  {
   "cell_type": "code",
   "execution_count": null,
   "metadata": {},
   "outputs": [],
   "source": [
    "cat data_17.tsv"
   ]
  },
  {
   "cell_type": "markdown",
   "metadata": {},
   "source": [
    "All three columns are highly correlated, but the pattern of missing values in\n",
    "column `3-0.0` is different to that of the other columns.\n",
    "\n",
    "\n",
    "If we use the `nathres` option, `funpack` will only remove columns where the\n",
    "correlation of both present and missing values meet the thresholds. Note that\n",
    "the column which contains more missing values will be the one that gets\n",
    "removed:"
   ]
  },
  {
   "cell_type": "code",
   "execution_count": null,
   "metadata": {},
   "outputs": [],
   "source": [
    "funpack -q -ow -apr all \"removeIfRedundant(0.9, nathres=0.6)\" out.tsv data_17.tsv\n",
    "cat out.tsv"
   ]
  },
  {
   "cell_type": "markdown",
   "metadata": {},
   "source": [
    "## Categorical binarisation\n",
    "\n",
    "\n",
    "The `binariseCategorical` process takes a column containing categorical\n",
    "labels, and replaces it with a set of new binary columns, one for each\n",
    "category. Imagine that we have this data:"
   ]
  },
  {
   "cell_type": "code",
   "execution_count": null,
   "metadata": {},
   "outputs": [],
   "source": [
    "cat data_18.tsv"
   ]
  },
  {
   "cell_type": "markdown",
   "metadata": {},
   "source": [
    "We can use the `binariseCategorical` process to split column `1-0.0` into a\n",
    "separate column for each category:"
   ]
  },
  {
   "cell_type": "code",
   "execution_count": null,
   "metadata": {},
   "outputs": [],
   "source": [
    "funpack -q -ow -apr 1 \"binariseCategorical\" out.tsv data_18.tsv\n",
    "cat out.tsv"
   ]
  },
  {
   "cell_type": "markdown",
   "metadata": {},
   "source": [
    "There are a few options to `binariseCategorical`, including controlling whether\n",
    "the original column is removed, and also the naming of the newly created\n",
    "columns:"
   ]
  },
  {
   "cell_type": "code",
   "execution_count": null,
   "metadata": {},
   "outputs": [],
   "source": [
    "funpack -q -ow -apr 1 \"binariseCategorical(replace=False, nameFormat='{vid}:{value}')\" out.tsv data_18.tsv\n",
    "cat out.tsv"
   ]
  },
  {
   "cell_type": "markdown",
   "metadata": {},
   "source": [
    "# Custom cleaning, processing and loading - `funpack` plugins\n",
    "\n",
    "\n",
    "If you want to apply some specific cleaning or processing function to a\n",
    "variable, you can code your functions up in python, and then tell `funpack` to\n",
    "apply them.\n",
    "\n",
    "\n",
    "As an example, let's say we have some data like this:"
   ]
  },
  {
   "cell_type": "code",
   "execution_count": null,
   "metadata": {},
   "outputs": [],
   "source": [
    "cat data_19.tsv"
   ]
  },
  {
   "cell_type": "markdown",
   "metadata": {},
   "source": [
    "## Custom cleaning functions\n",
    "\n",
    "\n",
    "But for our analysis, we are only interested in the even values for columns 1\n",
    "and 2. Let's write a cleaning function which replaces all odd values with NA:"
   ]
  },
  {
   "cell_type": "code",
   "execution_count": null,
   "metadata": {},
   "outputs": [],
   "source": [
    "cat plugin_1.py | pygmentize"
   ]
  },
  {
   "cell_type": "markdown",
   "metadata": {},
   "source": [
    "To use our custom cleaner function, we simply pass our plugin file to `funpack`\n",
    "using the `--plugin_file` (`-p` for short) option:"
   ]
  },
  {
   "cell_type": "code",
   "execution_count": null,
   "metadata": {},
   "outputs": [],
   "source": [
    "funpack -q -ow -p plugin_1.py -cl 1 drop_odd_values -cl 2 drop_odd_values out.tsv data_19.tsv\n",
    "cat out.tsv"
   ]
  },
  {
   "cell_type": "markdown",
   "metadata": {},
   "source": [
    "## Custom processing functions\n",
    "\n",
    "\n",
    "Recall that **cleaning** functions are applied independently to each column,\n",
    "whereas **processing** functions may be applied to multiple columns\n",
    "simultaneously, and may add and/or remove columns. Let's say we want to derive\n",
    "a new column from columns `1-0.0` and `2-0.0` in our example data set. Our\n",
    "plugin file might look like this:"
   ]
  },
  {
   "cell_type": "code",
   "execution_count": null,
   "metadata": {},
   "outputs": [],
   "source": [
    "cat plugin_2.py | pygmentize"
   ]
  },
  {
   "cell_type": "markdown",
   "metadata": {},
   "source": [
    "Again, to use our plugin, we pass it to `funpack` via the `--plugin`/`-p`\n",
    "option:"
   ]
  },
  {
   "cell_type": "code",
   "execution_count": null,
   "metadata": {},
   "outputs": [],
   "source": [
    "funpack -q -ow -p plugin_2.py -apr \"1,2\" \"sum_squares\" out.tsv data_19.tsv\n",
    "cat out.tsv"
   ]
  },
  {
   "cell_type": "markdown",
   "metadata": {},
   "source": [
    "## Custom file loaders\n",
    "\n",
    "\n",
    "You might want to load some auxillary data which is in an awkward format that\n",
    "cannot be automatically parsed by `funpack`. For example, you may have a file\n",
    "which has acquisition date information separated into *year*, *month* and\n",
    "*day* columns, e.g.:"
   ]
  },
  {
   "cell_type": "code",
   "execution_count": null,
   "metadata": {},
   "outputs": [],
   "source": [
    "cat data_20.tsv"
   ]
  },
  {
   "cell_type": "markdown",
   "metadata": {},
   "source": [
    "These three columns would be better loaded as a single column. So we can write a\n",
    "plugin to load this file for us. We need to write two functions:\n",
    "\n",
    " * A \"sniffer\" function, which returns information about the columns contained\n",
    "   in the file.\n",
    " * A \"loader\" function which loads the file, returning it as a\n",
    "   `pandas.DataFrame`."
   ]
  },
  {
   "cell_type": "code",
   "execution_count": null,
   "metadata": {},
   "outputs": [],
   "source": [
    "cat plugin_3.py | pygmentize"
   ]
  },
  {
   "cell_type": "markdown",
   "metadata": {},
   "source": [
    "And to see it in action:"
   ]
  },
  {
   "cell_type": "code",
   "execution_count": null,
   "metadata": {},
   "outputs": [],
   "source": [
    "funpack -q -ow -p plugin_3.py -l data_20.tsv my_datefile_loader out.tsv data_20.tsv\n",
    "cat out.tsv"
   ]
  },
  {
   "cell_type": "markdown",
   "metadata": {},
   "source": [
    "# Miscellaneous topics\n",
    "\n",
    "\n",
    "## Non-numeric data\n",
    "\n",
    "\n",
    "Many UK Biobank variables contain non-numeric data, such as alpha-numeric\n",
    "codes and unstructured text. If you want to select subjects on the basis of\n",
    "such columns, [variable expressions](#Selecting-subjects-by-variable-value)\n",
    "contain some simple mechanisms for doing so.  Here is an example of a file\n",
    "containing both numeric and non-numeric data:"
   ]
  },
  {
   "cell_type": "code",
   "execution_count": null,
   "metadata": {},
   "outputs": [],
   "source": [
    "cat data_21.tsv | column -t -s $'\\t'"
   ]
  },
  {
   "cell_type": "markdown",
   "metadata": {},
   "source": [
    "Let's say we are only interested in subjects where variable 1 contains a value\n",
    "in the `A` category:\n",
    "\n",
    "\n",
    "> Note the use of the `-nb` (`--no_builtins`) option here - this tells\n",
    "> `funpack` to ignore its built-in variable table, which contains information\n",
    "> about the type of each UK BioBank variable, and would otherwise interfere\n",
    "> with this example."
   ]
  },
  {
   "cell_type": "code",
   "execution_count": null,
   "metadata": {},
   "outputs": [],
   "source": [
    "funpack -nb -q -ow -s \"v1 contains 'A'\" out.tsv data_21.tsv\n",
    "cat out.tsv"
   ]
  },
  {
   "cell_type": "markdown",
   "metadata": {},
   "source": [
    "By default, `funpack` will save columns containing non-numeric data to the\n",
    "main output file, just like any other column. However, there are a couple of\n",
    "options you can use to control what `funpack` does with non-numeric data.\n",
    "\n",
    "\n",
    "If you only care about numeric columns, you can use the\n",
    "`--suppress_non_numerics` option (`-esn` for short) - this tells `funpack` to\n",
    "discard all columns that are not numeric:"
   ]
  },
  {
   "cell_type": "code",
   "execution_count": null,
   "metadata": {},
   "outputs": [],
   "source": [
    "funpack -nb -q -ow -esn out.tsv data_21.tsv\n",
    "cat out.tsv"
   ]
  },
  {
   "cell_type": "markdown",
   "metadata": {},
   "source": [
    "You can also tell `funpack` to save all non-numeric columns to a separate file,\n",
    "using the `--write_non_numerics` option (`-wnn` for short):"
   ]
  },
  {
   "cell_type": "code",
   "execution_count": null,
   "metadata": {},
   "outputs": [],
   "source": [
    "funpack -nb -q -ow -esn -wnn out.tsv data_21.tsv\n",
    "cat out.tsv\n",
    "cat out_non_numerics.tsv"
   ]
  },
  {
   "cell_type": "markdown",
   "metadata": {},
   "source": [
    "## Dry run\n",
    "\n",
    "\n",
    "The `--dry_run` (`-d` for short) option allows you to see what `funpack` is\n",
    "going to do - it is useful to perform a dry run before running a large\n",
    "processing job, which could take a long time. For example, if we have a\n",
    "complicated configuration such as the following, we can use the `--dry_run`\n",
    "option to check that `funpack` is going to do what we expect:"
   ]
  },
  {
   "cell_type": "code",
   "execution_count": null,
   "metadata": {},
   "outputs": [],
   "source": [
    "funpack                                  \\\n",
    "  -nb -q -ow -d                          \\\n",
    "  -nv  1   \"7,8,9\"                       \\\n",
    "  -re  2   \"1,2,3\" \"100,200,300\"         \\\n",
    "  -cv  3   \"v4 != 20\" \"25\"               \\\n",
    "  -cl  4   \"makeNa('< 50')\"              \\\n",
    "  -apr all \"removeIfSparse(minpres=0.5)\" \\\n",
    "  out.tsv data_01.tsv"
   ]
  },
  {
   "cell_type": "markdown",
   "metadata": {},
   "source": [
    "## Built-in rules\n",
    "\n",
    "\n",
    "`funpack` has a large number of hand-crafted rules built in, which are\n",
    "specific to variables found in the UK BioBank data set.  These rules are part\n",
    "of the `fmrib` configuration, which can be used by adding `-cfg fmrib` to\n",
    "the command-line options.\n",
    "\n",
    "\n",
    "We can use the `--dry_run` (`-d` for short) option, along with some dummy data\n",
    "files which just contain the UK BioBank column names, to get a summary of\n",
    "these rules:"
   ]
  },
  {
   "cell_type": "code",
   "execution_count": null,
   "metadata": {},
   "outputs": [],
   "source": [
    "funpack -q -ow -cfg fmrib -d out.tsv ukbcols.csv"
   ]
  },
  {
   "cell_type": "markdown",
   "metadata": {},
   "source": [
    "All of these rules are coded in a set of `tsv` files which are installed along\n",
    "the `funpack` source code:"
   ]
  },
  {
   "cell_type": "code",
   "execution_count": null,
   "metadata": {},
   "outputs": [],
   "source": [
    "ukbdir=`python -c \"import os.path as op; import funpack; print(op.dirname(funpack.__file__))\"`\n",
    "ls -l $ukbdir/configs/fmrib/"
   ]
  },
  {
   "cell_type": "markdown",
   "metadata": {},
   "source": [
    "The key files are:\n",
    " * **`variables_*.tsv`**: Child value replacement, and cleaning rules for each\n",
    "   variable.\n",
    " * **`datacodings_*.tsv`**: NA insertion and recoding rules for data codings -\n",
    "   these are used when rules are not explicitly specified in the\n",
    "   `variables_*.tsv` files, for a variable which uses a given data coding.\n",
    " * **`processing.tsv`**: List of all processing functions that are applied, in\n",
    "   order.\n",
    " * **`categories.tsv`**: Variable categories, for use with the `--category`/`-c`\n",
    "   option.\n",
    "\n",
    "If you are not happy with some of the rules defined in these files, you have the\n",
    "following options:\n",
    "\n",
    "\n",
    "1. Override them on the command-line, or in a configuration file (see below)\n",
    "2. Modify them in place.\n",
    "3. Create your own versions of the files, and pass them via the following\n",
    "   command-line options:\n",
    "   * `--variable_file` (`-vf` for short)\n",
    "   * `--datacoding_file` (`-df` for short)\n",
    "   * `--type_file` (`-tf` for short)\n",
    "   * `--processing_file` (`-pf` for short)\n",
    "   * `--category_file` (`-cf` for short)\n",
    "\n",
    "\n",
    "Rules which you provide on the command-line or via the `-vf` and `-df` options\n",
    "will override built-in rules for the same variables/datacodings.\n",
    "\n",
    "\n",
    "The variable and datacoding rules can be stored across multiple files - for\n",
    "example, you may want to write all of the NA insertion rules in one file, and\n",
    "all of the child value replacement rules in another. ``funpack`` will merge\n",
    "all of the built-in files and any additionally provided files together, so you\n",
    "do not need to maintain large and unwieldy variable/datacoding tables.\n",
    "\n",
    "\n",
    "## Using a configuration file\n",
    "\n",
    "\n",
    "`funpack` has an extensive command-line interface, but you don't need to pass\n",
    "all of the settings via the command-line.  Instead, you can put them into a\n",
    "file, and give that file to `funpack` with the `--config` (`-cfg` for short)\n",
    "option. You need to use the long-form of each command-line option, without the\n",
    "leading `--`.\n",
    "\n",
    "\n",
    "Let's take our example from the [dry run section](#Dry-run), and put all of\n",
    "the options into a configuration file:"
   ]
  },
  {
   "cell_type": "code",
   "execution_count": null,
   "metadata": {},
   "outputs": [],
   "source": [
    "cat <<EOF > config.txt\n",
    "no_builtins\n",
    "quiet\n",
    "overwrite\n",
    "na_values      1   \"7,8,9\"\n",
    "recoding       2   \"1,2,3\" \"100,200,300\"\n",
    "child_values   3   \"v4 != 20\" \"25\"\n",
    "clean          4   \"makeNa('< 50')\"\n",
    "append_process all \"removeIfSparse(minpres=0.5)\"\n",
    "EOF\n",
    "\n",
    "cat config.txt"
   ]
  },
  {
   "cell_type": "markdown",
   "metadata": {},
   "source": [
    "Now we can pass this file to `funpack` instead of having to pass all of the\n",
    "command line options:"
   ]
  },
  {
   "cell_type": "code",
   "execution_count": null,
   "metadata": {},
   "outputs": [],
   "source": [
    "funpack -d -cfg config.txt out.tsv data_01.tsv"
   ]
  },
  {
   "cell_type": "markdown",
   "metadata": {},
   "source": [
    "## Working with unknown/uncategorised variables\n",
    "\n",
    "\n",
    "Future UK BioBank data releases may contain new variables that are not present\n",
    "in the built-in variable table used by `funpack`, and thus are not recognised\n",
    "as UKB variables.\n",
    "\n",
    "\n",
    "Furthermore, if you are working with the hand-crafted variable categories from\n",
    "the [built-in `fmrib` configuration](#Built-in-rules), or your own categories,\n",
    "a new data release may contain variables which are not included in any\n",
    "category.\n",
    "\n",
    "\n",
    "To help you identify these new variables, `funpack` has the ability to inform\n",
    "you about variables that it does not know about, or that are not categorised.\n",
    "\n",
    "\n",
    "To demonstrate, let's create a dummy variable table which lists all of the\n",
    "variables that we do know about - variables 1 to 5. We'll also create a custom\n",
    "category file, which adds variables 1 to 3 to a category:"
   ]
  },
  {
   "cell_type": "code",
   "execution_count": null,
   "metadata": {},
   "outputs": [],
   "source": [
    "echo -e \"ID\\n1\\n2\\n3\\n4\\n5\\n\"      > custom_variables.tsv\n",
    "echo -e \"ID\\tCategory\\tVariables\"  > custom_categories.tsv\n",
    "echo -e \"1\\tmy category\\t1:3\"     >> custom_categories.tsv\n",
    "cat custom_variables.tsv\n",
    "cat custom_categories.tsv"
   ]
  },
  {
   "cell_type": "markdown",
   "metadata": {},
   "source": [
    "Now we can use the `--write_unknown_vars` option (`-wu` for short) to generate\n",
    "a summary of the variables which `funpack` did not recognise, or which were\n",
    "not in any category:\n",
    "\n",
    "\n",
    "> Again we are using the `-nb` (`--no_builtins`) option, which tells `funpack`\n",
    "> not to load its built-in table of UK BioBank variables."
   ]
  },
  {
   "cell_type": "code",
   "execution_count": null,
   "metadata": {},
   "outputs": [],
   "source": [
    "funpack -nb -q -ow -vf custom_variables.tsv -cf custom_categories.tsv -wu out.tsv data_01.tsv\n",
    "cat out_unknown_vars.txt"
   ]
  },
  {
   "cell_type": "markdown",
   "metadata": {},
   "source": [
    "This file contains a summary of the columns that were uncategorised or not\n",
    "recognised, and whether they were exported to the output file. If an\n",
    "unknown/uncategorised variable was not exported (e.g. it was removed during\n",
    "[processing](#Processing-examples) by a sparsity or redundancy check), the\n",
    "`exported` column will contain a `0` for that variable.\n",
    "\n",
    "\n",
    "If you are specifically interested in querying or working with these\n",
    "unknown/uncategorised variables, you can select them with the\n",
    "automatically-generated `unknown`/`uncategorised` categories:"
   ]
  },
  {
   "cell_type": "code",
   "execution_count": null,
   "metadata": {},
   "outputs": [],
   "source": [
    "funpack -nb -q -ow -vf custom_variables.tsv -cf custom_categories.tsv -c unknown       unknowns.tsv      data_01.tsv\n",
    "funpack -nb -q -ow -vf custom_variables.tsv -cf custom_categories.tsv -c uncategorised uncategorised.tsv data_01.tsv\n",
    "echo \"Unknown variables:\"\n",
    "cat unknowns.tsv\n",
    "echo \"Uncategorised variables:\"\n",
    "cat uncategorised.tsv"
   ]
  }
 ],
 "metadata":{"kernelspec":{"display_name":"Bash","language":"bash","name":"bash"},"language_info":{"codemirror_mode":"shell","file_extension":".sh","mimetype":"text/x-sh","name":"bash"}},
 "nbformat": 4,
 "nbformat_minor": 4
}
