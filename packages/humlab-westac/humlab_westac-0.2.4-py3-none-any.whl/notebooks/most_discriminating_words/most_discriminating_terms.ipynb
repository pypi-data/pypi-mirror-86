{
 "cells": [
  {
   "cell_type": "markdown",
   "metadata": {},
   "source": [
    "## Most Discriminating Terms"
   ]
  },
  {
   "cell_type": "code",
   "execution_count": null,
   "metadata": {},
   "outputs": [],
   "source": [
    "%load_ext autoreload\n",
    "%autoreload 2\n",
    "\n",
    "# pylint: disable=wrong-import-position\n",
    "\n",
    "import os\n",
    "import sys\n",
    "\n",
    "import penelope.corpus.vectorized_corpus as vectorized_corpus\n",
    "from penelope.common.most_discriminating_terms import compute_most_discriminating_terms\n",
    "\n",
    "from notebooks.most_discriminating_words.most_discriminating_terms_gui import (\n",
    "    display_gui,\n",
    "    display_most_discriminating_terms,\n",
    ")\n",
    "\n",
    "root_folder = os.path.join(os.getcwd().split(\"welfare_state_analytics\")[0], \"welfare_state_analytics\")\n",
    "\n",
    "sys.path = list(set(sys.path + [root_folder]))\n",
    "\n",
    "\n",
    "corpus_folder = os.path.join(root_folder, \"output\")"
   ]
  },
  {
   "cell_type": "code",
   "execution_count": null,
   "metadata": {
    "lines_to_next_cell": 2
   },
   "outputs": [],
   "source": [
    "v_corpus = (\n",
    "    vectorized_corpus.VectorizedCorpus.load(tag=\"SOU_1945-1989_NN+VB+JJ_lemma_L0_+N_+S\", folder=corpus_folder)\n",
    "    .slice_by_n_count(10)\n",
    "    .slice_by_n_top(500000)\n",
    ")"
   ]
  },
  {
   "cell_type": "code",
   "execution_count": null,
   "metadata": {},
   "outputs": [],
   "source": [
    "\n",
    "display_gui(\n",
    "    v_corpus,\n",
    "    v_corpus.documents,\n",
    "    compute_callback=compute_most_discriminating_terms,\n",
    "    display_callback=display_most_discriminating_terms,\n",
    ")"
   ]
  }
 ],
 "metadata": {
  "jupytext": {
   "formats": "ipynb,py:percent"
  },
  "kernelspec": {
   "display_name": "Python 3",
   "language": "python",
   "name": "python3"
  }
 },
 "nbformat": 4,
 "nbformat_minor": 4
}
