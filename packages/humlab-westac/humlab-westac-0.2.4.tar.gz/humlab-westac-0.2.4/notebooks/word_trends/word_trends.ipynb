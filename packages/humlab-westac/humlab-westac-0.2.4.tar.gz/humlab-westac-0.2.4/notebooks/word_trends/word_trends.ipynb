{
 "cells": [
  {
   "cell_type": "markdown",
   "metadata": {},
   "source": [
    "## Word Trend Analysis\n",
    "\n",
    "### Load previously vectorized corpus\n",
    "\n",
    "Use the `vectorize_protocol` script to create a new corpus with different settings."
   ]
  },
  {
   "cell_type": "code",
   "execution_count": null,
   "metadata": {},
   "outputs": [],
   "source": [
    "%load_ext autoreload\n",
    "%autoreload 2"
   ]
  },
  {
   "cell_type": "code",
   "execution_count": null,
   "metadata": {},
   "outputs": [],
   "source": [
    "\n",
    "import penelope.notebook.vectorize_corpus_gui as vectorize_corpus_gui\n",
    "import penelope.notebook.vectorized_corpus_load_gui as load_corpus_gui\n",
    "from bokeh.plotting import output_notebook\n",
    "from penelope.notebook.word_trends import display_word_trends\n",
    "\n",
    "output_notebook()"
   ]
  },
  {
   "cell_type": "code",
   "execution_count": null,
   "metadata": {
    "lines_to_next_cell": 2,
    "tags": [],
    "vscode": {
     "end_execution_time": "2020-08-31T18:34:55.995Z",
     "start_execution_time": "2020-08-31T18:34:55.854Z"
    }
   },
   "outputs": [],
   "source": [
    "\n",
    "vectorize_corpus_gui.display_gui('*sparv4.csv.zip', generated_callback=display_word_trends)"
   ]
  },
  {
   "cell_type": "code",
   "execution_count": null,
   "metadata": {},
   "outputs": [],
   "source": [
    "load_corpus_gui.display_gui(loaded_callback=display_word_trends)"
   ]
  }
 ],
 "metadata": {
  "jupytext": {
   "formats": "ipynb,py:percent"
  },
  "kernelspec": {
   "display_name": "Python 3",
   "language": "python",
   "name": "python3"
  }
 },
 "nbformat": 4,
 "nbformat_minor": 4
}
