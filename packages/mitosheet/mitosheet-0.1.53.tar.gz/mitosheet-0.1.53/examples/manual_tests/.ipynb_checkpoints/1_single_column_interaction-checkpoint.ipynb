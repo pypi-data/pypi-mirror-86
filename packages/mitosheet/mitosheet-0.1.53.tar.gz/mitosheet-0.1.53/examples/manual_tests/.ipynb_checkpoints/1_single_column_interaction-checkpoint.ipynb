{
 "cells": [
  {
   "cell_type": "code",
   "execution_count": 2,
   "metadata": {},
   "outputs": [
    {
     "data": {
      "application/vnd.jupyter.widget-view+json": {
       "model_id": "bdb0cfe7eac34990959e3c3bab9be422",
       "version_major": 2,
       "version_minor": 0
      },
      "text/plain": [
       "MitoWidget(analysis_name='UUID-cab90416-9c65-4ed1-9a8a-1b45b247cc0d', code_json='{\"imports\": \"from mitosheet i…"
      ]
     },
     "metadata": {},
     "output_type": "display_data"
    }
   ],
   "source": [
    "\"\"\"\n",
    "This file tests some basic interactions with mito, including editing the sheet\n",
    "and repeating the analysis.\n",
    "\n",
    "Instructions:\n",
    "1. Run this cell.\n",
    "2. Add a column, and set it equal to =SUM(Nums, 100)\n",
    "3. Check the values are correctly computed [101, 102, 103].\n",
    "4. Switch the order of the two columns\n",
    "4. Save the analysis.\n",
    "5. Delete the bottom cell, and run the top cell (resetting the analysis).\n",
    "6. Use the replay analysis button to replay your previously saved analysis, and check:\n",
    "    - the new column has the correct values \n",
    "    - the columns are in the correct order\n",
    "\"\"\"\n",
    "import mitosheet\n",
    "import pandas as pd\n",
    "df = pd.DataFrame(data={'Nums': [1, 2, 3]})\n",
    "mitosheet.sheet(df)"
   ]
  },
  {
   "cell_type": "code",
   "execution_count": null,
   "metadata": {},
   "outputs": [],
   "source": [
    "# MITO CODE START (DO NOT EDIT)\n",
    "# SAVED-ANALYSIS-STARTUUID-cab90416-9c65-4ed1-9a8a-1b45b247cc0dSAVED-ANALYSIS-END\n",
    "\n",
    "from mitosheet import *\n",
    "\n",
    "# Step 1\n",
    "\n",
    "df['B'] = 0\n",
    "\n",
    "# Step 2\n",
    "\n",
    "df['C'] = 0\n",
    "  \n",
    "# MITO CODE END (DO NOT EDIT)"
   ]
  },
  {
   "cell_type": "code",
   "execution_count": 3,
   "metadata": {},
   "outputs": [
    {
     "data": {
      "application/vnd.jupyter.widget-view+json": {
       "model_id": "3ca2c3531464488f89a1d820cc24fd2e",
       "version_major": 2,
       "version_minor": 0
      },
      "text/plain": [
       "MitoWidget(analysis_name='UUID-fea0c7f8-0c49-4f92-b2b6-5f7bb2b0dabc', code_json='{\"imports\": \"from mitosheet i…"
      ]
     },
     "metadata": {},
     "output_type": "display_data"
    }
   ],
   "source": [
    "df = pd.DataFrame(data={'Nums': [1, 2, 3]})\n",
    "mitosheet.sheet(df)"
   ]
  }
 ],
 "metadata": {
  "kernelspec": {
   "display_name": "Python 3",
   "language": "python",
   "name": "python3"
  },
  "language_info": {
   "codemirror_mode": {
    "name": "ipython",
    "version": 3
   },
   "file_extension": ".py",
   "mimetype": "text/x-python",
   "name": "python",
   "nbconvert_exporter": "python",
   "pygments_lexer": "ipython3",
   "version": "3.8.5"
  },
  "widgets": {
   "application/vnd.jupyter.widget-state+json": {
    "state": {
     "100389e0c2374840bcd30af59cdd2450": {
      "model_module": "@jupyter-widgets/base",
      "model_module_version": "1.2.0",
      "model_name": "LayoutModel",
      "state": {}
     },
     "3ca2c3531464488f89a1d820cc24fd2e": {
      "model_module": "mitosheet",
      "model_module_version": "^0.1.52",
      "model_name": "ExampleModel",
      "state": {
       "_model_module_version": "^0.1.52",
       "_view_module_version": "^0.1.52",
       "analysis_name": "UUID-fea0c7f8-0c49-4f92-b2b6-5f7bb2b0dabc",
       "code_json": "{\"imports\": \"from mitosheet import *\", \"code\": [\"# Step 1\", \"df['B'] = 0\", \"# Step 2\", \"df['C'] = 0\"]}",
       "column_filters_json": "[{\"Nums\": {\"operator\": \"And\", \"filters\": []}, \"B\": {\"operator\": \"And\", \"filters\": []}, \"C\": {\"operator\": \"And\", \"filters\": []}}]",
       "column_spreadsheet_code_json": "[{\"Nums\": \"\", \"B\": \"=0\", \"C\": \"=0\"}]",
       "column_type_json": "[{\"Nums\": \"number\", \"B\": \"number\", \"C\": \"number\"}]",
       "df_names_json": "{\"df_names\": [\"df\"]}",
       "df_shape_json": "[{\"rows\": 3, \"cols\": 3}]",
       "layout": "IPY_MODEL_7af9076062154b25a8c02d5160dc80ed",
       "saved_analysis_names_json": "[\"Testing\"]",
       "sheet_json": "[{\"columns\": [\"Nums\", \"B\", \"C\"], \"index\": [0, 1, 2], \"data\": [[1, 0, 0], [2, 0, 0], [3, 0, 0]]}]",
       "user_id": "nate",
       "value": "Hello World"
      }
     },
     "56336c7298784e70ba034187c4841c5f": {
      "model_module": "mitosheet",
      "model_module_version": "^0.1.52",
      "model_name": "ExampleModel",
      "state": {
       "_model_module_version": "^0.1.52",
       "_view_module_version": "^0.1.52",
       "analysis_name": "UUID-084d4996-3dcc-4287-95f7-f09fe4a0dd69",
       "code_json": "{\"imports\": \"from mitosheet import *\", \"code\": [\"# Step 1\", \"df['B'] = 0\", \"# Step 2\", \"df['C'] = 0\"]}",
       "column_filters_json": "[{\"Nums\": {\"operator\": \"And\", \"filters\": []}, \"B\": {\"operator\": \"And\", \"filters\": []}, \"C\": {\"operator\": \"And\", \"filters\": []}}]",
       "column_spreadsheet_code_json": "[{\"Nums\": \"\", \"B\": \"=0\", \"C\": \"=0\"}]",
       "column_type_json": "[{\"Nums\": \"number\", \"B\": \"number\", \"C\": \"number\"}]",
       "df_names_json": "{\"df_names\": [\"df\"]}",
       "df_shape_json": "[{\"rows\": 3, \"cols\": 3}]",
       "layout": "IPY_MODEL_100389e0c2374840bcd30af59cdd2450",
       "saved_analysis_names_json": "[]",
       "sheet_json": "[{\"columns\": [\"Nums\", \"B\", \"C\"], \"index\": [0, 1, 2], \"data\": [[1, 0, 0], [2, 0, 0], [3, 0, 0]]}]",
       "user_id": "nate",
       "value": "Hello World"
      }
     },
     "7af9076062154b25a8c02d5160dc80ed": {
      "model_module": "@jupyter-widgets/base",
      "model_module_version": "1.2.0",
      "model_name": "LayoutModel",
      "state": {}
     },
     "adc8caa5c22345c0b72680117a4efee9": {
      "model_module": "@jupyter-widgets/base",
      "model_module_version": "1.2.0",
      "model_name": "LayoutModel",
      "state": {}
     },
     "bdb0cfe7eac34990959e3c3bab9be422": {
      "model_module": "mitosheet",
      "model_module_version": "^0.1.52",
      "model_name": "ExampleModel",
      "state": {
       "_model_module_version": "^0.1.52",
       "_view_module_version": "^0.1.52",
       "analysis_name": "UUID-cab90416-9c65-4ed1-9a8a-1b45b247cc0d",
       "code_json": "{\"imports\": \"from mitosheet import *\", \"code\": [\"# Step 1\", \"df['B'] = 0\", \"# Step 2\", \"df['C'] = 0\"]}",
       "column_filters_json": "[{\"Nums\": {\"operator\": \"And\", \"filters\": []}, \"B\": {\"operator\": \"And\", \"filters\": []}, \"C\": {\"operator\": \"And\", \"filters\": []}}]",
       "column_spreadsheet_code_json": "[{\"Nums\": \"\", \"B\": \"=0\", \"C\": \"=0\"}]",
       "column_type_json": "[{\"Nums\": \"number\", \"B\": \"number\", \"C\": \"number\"}]",
       "df_names_json": "{\"df_names\": [\"df\"]}",
       "df_shape_json": "[{\"rows\": 3, \"cols\": 3}]",
       "layout": "IPY_MODEL_adc8caa5c22345c0b72680117a4efee9",
       "saved_analysis_names_json": "[\"Testing\"]",
       "sheet_json": "[{\"columns\": [\"Nums\", \"B\", \"C\"], \"index\": [0, 1, 2], \"data\": [[1, 0, 0], [2, 0, 0], [3, 0, 0]]}]",
       "user_id": "nate",
       "value": "Hello World"
      }
     }
    },
    "version_major": 2,
    "version_minor": 0
   }
  }
 },
 "nbformat": 4,
 "nbformat_minor": 4
}
