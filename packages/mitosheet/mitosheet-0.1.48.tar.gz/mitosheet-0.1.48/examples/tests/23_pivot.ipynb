{
 "cells": [
  {
   "cell_type": "code",
   "execution_count": 3,
   "metadata": {},
   "outputs": [
    {
     "data": {
      "application/vnd.jupyter.widget-view+json": {
       "model_id": "9e377fbef31240f1b147086d60dfcbe2",
       "version_major": 2,
       "version_minor": 0
      },
      "text/plain": [
       "MitoWidget(analysis_name='UUID-3ff90ccf-045e-4e27-ac67-3d781efb20be', code_json='{\"imports\": \"from mitosheet i…"
      ]
     },
     "metadata": {},
     "output_type": "display_data"
    }
   ],
   "source": [
    "\"\"\"\n",
    "This file tests that grouping on multiple rows and a column works correctly\n",
    "\n",
    "1. run this cell\n",
    "2. click on the group modal \n",
    "    - select 'gender' and 'species' as rows\n",
    "    - select 'size' as columns\n",
    "    - aggregate 'weight' using 'sum'\n",
    "    - run the group\n",
    "3. check to make sure a new df, df2 is created that has the top row of [female, dog, 95, NaN]\n",
    "4. run the generated code and print out df2\n",
    "5. make sure df2 is the same as in the mitosheet\n",
    "\"\"\"\n",
    "\n",
    "\n",
    "import mitosheet\n",
    "import pandas as pd\n",
    "df = pd.DataFrame({\n",
    "    'gender': ['male','male','female', 'female', 'female'],\n",
    "    'species': ['human','dog','human', 'human', 'dog'],\n",
    "    'size': ['big', 'small', 'small', 'big', 'big'],\n",
    "    'weight': [160, 20, 110, 175, 95]\n",
    "})\n",
    "mitosheet.sheet(df)"
   ]
  },
  {
   "cell_type": "code",
   "execution_count": null,
   "metadata": {},
   "outputs": [],
   "source": [
    "# MITO CODE START (DO NOT EDIT)\n",
    "# SAVED-ANALYSIS-STARTUUID-3ff90ccf-045e-4e27-ac67-3d781efb20beSAVED-ANALYSIS-END\n",
    "\n",
    "from mitosheet import *\n",
    "\n",
    "# Step 1\n",
    "\n",
    "# Pivot the data\n",
    "pivot_table = df.pivot_table(\n",
    "    index=['First_Name'],\n",
    "    columns=['First_Name'],\n",
    "    values=['Height'],\n",
    "    aggfunc={'Height': 'sum'}\n",
    ")\n",
    "\n",
    "# Flatten the column headers\n",
    "pivot_table.columns = [\n",
    "    '_'.join([str(c) for c in col]).strip() if isinstance(col, tuple) else col\n",
    "    for col in pivot_table.columns.values\n",
    "]\n",
    "\n",
    "# Reset the column name and the indexes\n",
    "df2 = pivot_table.rename_axis(None, axis=1).reset_index()\n",
    "  \n",
    "# MITO CODE END (DO NOT EDIT)"
   ]
  },
  {
   "cell_type": "code",
   "execution_count": null,
   "metadata": {},
   "outputs": [],
   "source": []
  },
  {
   "cell_type": "code",
   "execution_count": null,
   "metadata": {},
   "outputs": [],
   "source": []
  }
 ],
 "metadata": {
  "kernelspec": {
   "display_name": "Python 3",
   "language": "python",
   "name": "python3"
  },
  "language_info": {
   "codemirror_mode": {
    "name": "ipython",
    "version": 3
   },
   "file_extension": ".py",
   "mimetype": "text/x-python",
   "name": "python",
   "nbconvert_exporter": "python",
   "pygments_lexer": "ipython3",
   "version": "3.8.5"
  },
  "widgets": {
   "application/vnd.jupyter.widget-state+json": {
    "state": {
     "4718f2b20a3d44b7afa52b30d965bd21": {
      "model_module": "@jupyter-widgets/base",
      "model_module_version": "1.2.0",
      "model_name": "LayoutModel",
      "state": {}
     },
     "6a0338aeb4764fe693d9af9408de750a": {
      "model_module": "mitosheet",
      "model_module_version": "^0.1.45",
      "model_name": "ExampleModel",
      "state": {
       "_model_module_version": "^0.1.45",
       "_view_module_version": "^0.1.45",
       "analysis_name": "UUID-938f9a39-f6f2-4f21-aa17-140a4fa2d6b3",
       "code_json": "{\"imports\": \"from mitosheet import *\", \"code\": [\"# Step 1\", \"# Pivot the data\\npivot_table = df.pivot_table(\\n    index=['gender', 'species'],\\n    columns=['size'],\\n    values=['weight'],\\n    aggfunc={'weight': 'sum'}\\n)\", \"# Flatten the column headers\\npivot_table.columns = [\\n    '_'.join([str(c) for c in col]).strip() if isinstance(col, tuple) else col\\n    for col in pivot_table.columns.values\\n]\", \"# Reset the column name and the indexes\\ndf2 = pivot_table.rename_axis(None, axis=1).reset_index()\"]}",
       "column_filters_json": "[{\"gender\": {\"operator\": \"And\", \"filters\": []}, \"species\": {\"operator\": \"And\", \"filters\": []}, \"size\": {\"operator\": \"And\", \"filters\": []}, \"weight\": {\"operator\": \"And\", \"filters\": []}}, {\"gender\": {\"operator\": \"And\", \"filters\": []}, \"species\": {\"operator\": \"And\", \"filters\": []}, \"weight_big\": {\"operator\": \"And\", \"filters\": []}, \"weight_small\": {\"operator\": \"And\", \"filters\": []}}]",
       "column_spreadsheet_code_json": "[{\"gender\": \"\", \"species\": \"\", \"size\": \"\", \"weight\": \"\"}, {\"gender\": \"\", \"species\": \"\", \"weight_big\": \"\", \"weight_small\": \"\"}]",
       "column_type_json": "[{\"gender\": \"string\", \"species\": \"string\", \"size\": \"string\", \"weight\": \"number\"}, {\"gender\": \"string\", \"species\": \"string\", \"weight_big\": \"number\", \"weight_small\": \"number\"}]",
       "df_names_json": "{\"df_names\": [\"df\", \"df2\"]}",
       "df_shape_json": "[{\"rows\": 5, \"cols\": 4}, {\"rows\": 4, \"cols\": 4}]",
       "layout": "IPY_MODEL_4718f2b20a3d44b7afa52b30d965bd21",
       "saved_analysis_names_json": "[\"16\"]",
       "sheet_json": "[{\"columns\": [\"gender\", \"species\", \"size\", \"weight\"], \"index\": [0, 1, 2, 3, 4], \"data\": [[\"male\", \"human\", \"big\", 160], [\"male\", \"dog\", \"small\", 20], [\"female\", \"human\", \"small\", 110], [\"female\", \"human\", \"big\", 175], [\"female\", \"dog\", \"big\", 95]]}, {\"columns\": [\"gender\", \"species\", \"weight_big\", \"weight_small\"], \"index\": [0, 1, 2, 3], \"data\": [[\"female\", \"dog\", 95.0, \"NaN\"], [\"female\", \"human\", 175.0, 110.0], [\"male\", \"dog\", \"NaN\", 20.0], [\"male\", \"human\", 160.0, \"NaN\"]]}]",
       "user_id": "nate",
       "value": "Hello World"
      }
     },
     "9e377fbef31240f1b147086d60dfcbe2": {
      "model_module": "mitosheet",
      "model_module_version": "^0.1.45",
      "model_name": "ExampleModel",
      "state": {
       "_model_module_version": "^0.1.45",
       "_view_module_version": "^0.1.45",
       "analysis_name": "UUID-3ff90ccf-045e-4e27-ac67-3d781efb20be",
       "code_json": "{\"imports\": \"from mitosheet import *\", \"code\": [\"# Step 1\", \"# Pivot the data\\npivot_table = df.pivot_table(\\n    index=['First_Name'],\\n    columns=['First_Name'],\\n    values=['Height'],\\n    aggfunc={'Height': 'sum'}\\n)\", \"# Flatten the column headers\\npivot_table.columns = [\\n    '_'.join([str(c) for c in col]).strip() if isinstance(col, tuple) else col\\n    for col in pivot_table.columns.values\\n]\", \"# Reset the column name and the indexes\\ndf2 = pivot_table.rename_axis(None, axis=1).reset_index()\"]}",
       "column_filters_json": "[{\"First_Name\": {\"operator\": \"And\", \"filters\": []}, \"Last_Name\": {\"operator\": \"And\", \"filters\": []}, \"Height\": {\"operator\": \"And\", \"filters\": []}}, {\"First_Name\": {\"operator\": \"And\", \"filters\": []}, \"Height_Nate\": {\"operator\": \"And\", \"filters\": []}}]",
       "column_spreadsheet_code_json": "[{\"First_Name\": \"\", \"Last_Name\": \"\", \"Height\": \"\"}, {\"First_Name\": \"\", \"Height_Nate\": \"\"}]",
       "column_type_json": "[{\"First_Name\": \"string\", \"Last_Name\": \"string\", \"Height\": \"number\"}, {\"First_Name\": \"string\", \"Height_Nate\": \"number\"}]",
       "df_names_json": "{\"df_names\": [\"df\", \"df2\"]}",
       "df_shape_json": "[{\"rows\": 2, \"cols\": 3}, {\"rows\": 1, \"cols\": 2}]",
       "layout": "IPY_MODEL_c5486cba63684d1a9e55fad753833bc0",
       "saved_analysis_names_json": "[\"16\"]",
       "sheet_json": "[{\"columns\": [\"First_Name\", \"Last_Name\", \"Height\"], \"index\": [0, 1], \"data\": [[\"Nate\", \"Rush\", 4], [\"Nate\", \"Jack\", 5]]}, {\"columns\": [\"First_Name\", \"Height_Nate\"], \"index\": [0], \"data\": [[\"Nate\", 9]]}]",
       "user_id": "nate",
       "value": "Hello World"
      }
     },
     "c5486cba63684d1a9e55fad753833bc0": {
      "model_module": "@jupyter-widgets/base",
      "model_module_version": "1.2.0",
      "model_name": "LayoutModel",
      "state": {}
     }
    },
    "version_major": 2,
    "version_minor": 0
   }
  }
 },
 "nbformat": 4,
 "nbformat_minor": 4
}
