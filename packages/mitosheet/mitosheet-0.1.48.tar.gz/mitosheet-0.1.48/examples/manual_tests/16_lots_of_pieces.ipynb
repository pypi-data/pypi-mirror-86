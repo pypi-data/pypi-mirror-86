{
 "cells": [
  {
   "cell_type": "code",
   "execution_count": 2,
   "metadata": {},
   "outputs": [
    {
     "data": {
      "application/vnd.jupyter.widget-view+json": {
       "model_id": "c7af1c46237f482ea3647883e5831d74",
       "version_major": 2,
       "version_minor": 0
      },
      "text/plain": [
       "MitoWidget(analysis_name='UUID-0d169bf7-0500-4ebb-8872-8a48fa651490', code_json='{\"imports\": \"from mitosheet i…"
      ]
     },
     "metadata": {},
     "output_type": "display_data"
    }
   ],
   "source": [
    "\"\"\"\n",
    "This file should tests a complex workflow where lots of things are applied in a row. \n",
    "\n",
    "Steps:\n",
    "- Run this cell. \n",
    "- Merge on id. \n",
    "- Delete a column from each of the first two sheets. \n",
    "- Create a new column called full_name in the third sheet, where you concat the first and last names. \n",
    "- Apply a filter to the third sheet to the full_name column, for all those that contain \"vich.\"\n",
    "- Delete the id column in the third sheet.\n",
    "- Delete the column filter in the third sheet.\n",
    "- Reapply the column filter in the third sheet.\n",
    "- Save the analysis. \n",
    "- Delete everything but this cell, rerun it, and then replay the analysis and make sure it is still correct. \n",
    "- Run the generated code and make sure it works as expected (e.g. displays same values as the sheet).\n",
    "\n",
    "\"\"\"\n",
    "import mitosheet\n",
    "import pandas as pd\n",
    "first = pd.DataFrame(data={'id': [1, 2, 3], 'first_name': ['nate', 'aaron', 'jake']})\n",
    "last = pd.DataFrame(data={'id': [1, 2, 3], 'last_name': ['rush', 'Diamond-Reivich', 'diamond-reivich']})\n",
    "mitosheet.sheet(first, last)"
   ]
  },
  {
   "cell_type": "code",
   "execution_count": null,
   "metadata": {},
   "outputs": [],
   "source": []
  },
  {
   "cell_type": "code",
   "execution_count": null,
   "metadata": {},
   "outputs": [],
   "source": []
  },
  {
   "cell_type": "code",
   "execution_count": null,
   "metadata": {},
   "outputs": [],
   "source": []
  },
  {
   "cell_type": "code",
   "execution_count": null,
   "metadata": {},
   "outputs": [],
   "source": []
  },
  {
   "cell_type": "code",
   "execution_count": null,
   "metadata": {},
   "outputs": [],
   "source": []
  },
  {
   "cell_type": "code",
   "execution_count": null,
   "metadata": {},
   "outputs": [],
   "source": []
  }
 ],
 "metadata": {
  "kernelspec": {
   "display_name": "Python 3",
   "language": "python",
   "name": "python3"
  },
  "language_info": {
   "codemirror_mode": {
    "name": "ipython",
    "version": 3
   },
   "file_extension": ".py",
   "mimetype": "text/x-python",
   "name": "python",
   "nbconvert_exporter": "python",
   "pygments_lexer": "ipython3",
   "version": "3.8.5"
  },
  "widgets": {
   "application/vnd.jupyter.widget-state+json": {
    "state": {
     "1619f00748114d8897086ee73b798379": {
      "model_module": "@jupyter-widgets/base",
      "model_module_version": "1.2.0",
      "model_name": "LayoutModel",
      "state": {}
     },
     "78c1d124032f40b99fb78bbc2183b59d": {
      "model_module": "@jupyter-widgets/base",
      "model_module_version": "1.2.0",
      "model_name": "LayoutModel",
      "state": {}
     },
     "c7af1c46237f482ea3647883e5831d74": {
      "model_module": "mitosheet",
      "model_module_version": "^0.1.47",
      "model_name": "ExampleModel",
      "state": {
       "_model_module_version": "^0.1.47",
       "_view_module_version": "^0.1.47",
       "analysis_name": "UUID-0d169bf7-0500-4ebb-8872-8a48fa651490",
       "code_json": "{\"imports\": \"from mitosheet import *\", \"code\": []}",
       "column_filters_json": "[{\"id\": {\"operator\": \"And\", \"filters\": []}, \"first_name\": {\"operator\": \"And\", \"filters\": []}}, {\"id\": {\"operator\": \"And\", \"filters\": []}, \"last_name\": {\"operator\": \"And\", \"filters\": []}}]",
       "column_spreadsheet_code_json": "[{\"id\": \"\", \"first_name\": \"\"}, {\"id\": \"\", \"last_name\": \"\"}]",
       "column_type_json": "[{\"id\": \"number\", \"first_name\": \"string\"}, {\"id\": \"number\", \"last_name\": \"string\"}]",
       "df_names_json": "{\"df_names\": [\"first\", \"last\"]}",
       "df_shape_json": "[{\"rows\": 3, \"cols\": 2}, {\"rows\": 3, \"cols\": 2}]",
       "layout": "IPY_MODEL_78c1d124032f40b99fb78bbc2183b59d",
       "saved_analysis_names_json": "[\"Test\"]",
       "sheet_json": "[{\"columns\": [\"id\", \"first_name\"], \"index\": [0, 1, 2], \"data\": [[1, \"nate\"], [2, \"aaron\"], [3, \"jake\"]]}, {\"columns\": [\"id\", \"last_name\"], \"index\": [0, 1, 2], \"data\": [[1, \"rush\"], [2, \"Diamond-Reivich\"], [3, \"diamond-reivich\"]]}]",
       "user_id": "nate",
       "value": "Hello World"
      }
     },
     "e9275055a24f4c00b977cb72932b3f7e": {
      "model_module": "mitosheet",
      "model_module_version": "^0.1.47",
      "model_name": "ExampleModel",
      "state": {
       "_model_module_version": "^0.1.47",
       "_view_module_version": "^0.1.47",
       "analysis_name": "UUID-bbba847b-72e8-4dca-8ea9-192352c85cfb",
       "code_json": "{\"imports\": \"from mitosheet import *\", \"code\": []}",
       "column_filters_json": "[{\"id\": {\"operator\": \"And\", \"filters\": []}, \"first_name\": {\"operator\": \"And\", \"filters\": []}}, {\"id\": {\"operator\": \"And\", \"filters\": []}, \"last_name\": {\"operator\": \"And\", \"filters\": []}}]",
       "column_spreadsheet_code_json": "[{\"id\": \"\", \"first_name\": \"\"}, {\"id\": \"\", \"last_name\": \"\"}]",
       "column_type_json": "[{\"id\": \"number\", \"first_name\": \"string\"}, {\"id\": \"number\", \"last_name\": \"string\"}]",
       "df_names_json": "{\"df_names\": [\"first\", \"last\"]}",
       "df_shape_json": "[{\"rows\": 3, \"cols\": 2}, {\"rows\": 3, \"cols\": 2}]",
       "layout": "IPY_MODEL_1619f00748114d8897086ee73b798379",
       "saved_analysis_names_json": "[\"Test\"]",
       "sheet_json": "[{\"columns\": [\"id\", \"first_name\", \"testing\"], \"index\": [0, 1, 2], \"data\": [[1, \"nate\", \"nate\"], [2, \"aaron\", \"aaron\"], [3, \"jake\", \"jake\"]]}, {\"columns\": [\"id\", \"last_name\"], \"index\": [0, 1, 2], \"data\": [[1, \"rush\"], [2, \"Diamond-Reivich\"], [3, \"diamond-reivich\"]]}, {\"columns\": [\"id\", \"first_name\"], \"index\": [0, 1, 2], \"data\": [[1, \"nate\"], [2, \"aaron\"], [3, \"jake\"]]}, {\"columns\": [\"id\", \"first_name\", \"D\", \"last_name\"], \"index\": [0, 1, 2], \"data\": [[1, \"nate\", 0, \"rush\"], [2, \"aaron\", 0, \"Diamond-Reivich\"], [3, \"jake\", 0, \"diamond-reivich\"]]}]",
       "user_id": "nate",
       "value": "Hello World"
      }
     }
    },
    "version_major": 2,
    "version_minor": 0
   }
  }
 },
 "nbformat": 4,
 "nbformat_minor": 4
}
