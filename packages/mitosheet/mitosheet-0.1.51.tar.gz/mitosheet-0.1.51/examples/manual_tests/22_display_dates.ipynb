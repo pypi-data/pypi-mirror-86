{
 "cells": [
  {
   "cell_type": "code",
   "execution_count": null,
   "metadata": {},
   "outputs": [],
   "source": [
    "\"\"\"\n",
    "This file should tests dates are displayed correctly in the sheet.\n",
    "\n",
    "Instructions:\n",
    "- Run this cell. \n",
    "- Check the dates in the sheet, and make sure they are displayed correctly (YYYY-MM-DD).\n",
    "- Add three new columns, and use the YEAR, MONTH, and DAY functions respectively to \n",
    "- Create a new column, and use the CONCAT function to get the new columns back to YYYY-MM-DD format as a string.\n",
    "- Create a final new column, and use the DATETIME function to return to a date (which doesn't change anything).\n",
    "- Add a new filter to the final column, getting all dates between December 1, 2001, and January 1, 2003.\n",
    "\"\"\"\n",
    "import mitosheet\n",
    "import pandas as pd\n",
    "df = pd.DataFrame({\n",
    "    'name': ['alice','bob','charlie'],\n",
    "    'dob': ['2005-10-23','2002-10-2','2001-11-14']\n",
    "})\n",
    "df['dob'] = pd.to_datetime(df['dob'])\n",
    "mitosheet.sheet(df)"
   ]
  }
 ],
 "metadata": {
  "kernelspec": {
   "display_name": "Python 3",
   "language": "python",
   "name": "python3"
  },
  "language_info": {
   "codemirror_mode": {
    "name": "ipython",
    "version": 3
   },
   "file_extension": ".py",
   "mimetype": "text/x-python",
   "name": "python",
   "nbconvert_exporter": "python",
   "pygments_lexer": "ipython3",
   "version": "3.8.5"
  },
  "widgets": {
   "application/vnd.jupyter.widget-state+json": {
    "state": {
     "1681e85516a5494bb7c1d0ab74aa8e2b": {
      "model_module": "mitosheet",
      "model_module_version": "^0.1.50",
      "model_name": "ExampleModel",
      "state": {
       "_model_module_version": "^0.1.50",
       "_view_module_version": "^0.1.50",
       "analysis_name": "UUID-f39773b9-7f4c-470c-afdf-37626e76da14",
       "code_json": "{\"imports\": \"from mitosheet import *\", \"code\": [\"# Step 1\", \"df['C'] = CONCAT(df['dob'], \\\"A\\\")\"]}",
       "column_filters_json": "[{\"name\": {\"operator\": \"And\", \"filters\": []}, \"dob\": {\"operator\": \"And\", \"filters\": []}, \"C\": {\"operator\": \"And\", \"filters\": []}}]",
       "column_spreadsheet_code_json": "[{\"name\": \"\", \"dob\": \"\", \"C\": \"=CONCAT(dob, \\\"A\\\")\"}]",
       "column_type_json": "[{\"name\": \"string\", \"dob\": \"datetime\", \"C\": \"string\"}]",
       "df_names_json": "{\"df_names\": [\"df\"]}",
       "df_shape_json": "[{\"rows\": 3, \"cols\": 3}]",
       "layout": "IPY_MODEL_917a8a7ce2984f57924b7f0c3608d34b",
       "saved_analysis_names_json": "[\"Test1\"]",
       "sheet_json": "[{\"columns\": [\"name\", \"dob\", \"C\"], \"index\": [0, 1, 2], \"data\": [[\"alice\", \"2005-10-23 00:00:00\", \"2005-10-23 00:00:00A\"], [\"bob\", \"2002-10-02 00:00:00\", \"2002-10-02 00:00:00A\"], [\"charlie\", \"2001-11-14 00:00:00\", \"2001-11-14 00:00:00A\"]]}]",
       "user_id": "nate",
       "value": "Hello World"
      }
     },
     "917a8a7ce2984f57924b7f0c3608d34b": {
      "model_module": "@jupyter-widgets/base",
      "model_module_version": "1.2.0",
      "model_name": "LayoutModel",
      "state": {}
     }
    },
    "version_major": 2,
    "version_minor": 0
   }
  }
 },
 "nbformat": 4,
 "nbformat_minor": 4
}
