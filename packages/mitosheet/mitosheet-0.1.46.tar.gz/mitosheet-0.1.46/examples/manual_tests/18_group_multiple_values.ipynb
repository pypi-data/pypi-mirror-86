{
 "cells": [
  {
   "cell_type": "code",
   "execution_count": null,
   "metadata": {},
   "outputs": [],
   "source": [
    "\"\"\"\n",
    "Tests grouping with mulitple value outputs, that then get used in a calculation\n",
    "\n",
    "Steps:\n",
    "- Run this cell.\n",
    "- Create new dataframes with the following format, using the group by modal:\n",
    "    1. Two rows. Each row looks like [Name, Max-Hight, Min-Weight]\n",
    "    2. A column for each user. The columns have two rows, of mean hight, count of weight (should be 2).\n",
    "    3. A column for each user, weight pair. There should be a column for Nate_4, Nate_5, Aaron_6, and Aaron_7.\n",
    "        - The entry in each of these columns should be the sum of weight.\n",
    "- After creating each of these pivots, run the code cell below and make sure that the \n",
    "  calculated dataframe matches the dataframe in the sheet exactly.\n",
    "\"\"\"\n",
    "import mitosheet\n",
    "import pandas as pd\n",
    "df1 = pd.DataFrame(data={'Name': ['Nate', 'Nate', 'Aaron', 'Aaron'], 'Height': [4, 5, 6, 7], 'Weight': [100, 200, 300, 400]})\n",
    "mitosheet.sheet(df1)"
   ]
  }
 ],
 "metadata": {
  "kernelspec": {
   "display_name": "Python 3",
   "language": "python",
   "name": "python3"
  },
  "language_info": {
   "codemirror_mode": {
    "name": "ipython",
    "version": 3
   },
   "file_extension": ".py",
   "mimetype": "text/x-python",
   "name": "python",
   "nbconvert_exporter": "python",
   "pygments_lexer": "ipython3",
   "version": "3.8.5"
  },
  "widgets": {
   "application/vnd.jupyter.widget-state+json": {
    "state": {
     "08cf0467c3744bdbb5fa923d8940fe2e": {
      "model_module": "mitosheet",
      "model_module_version": "^0.1.45",
      "model_name": "ExampleModel",
      "state": {
       "_model_module_version": "^0.1.45",
       "_view_module_version": "^0.1.45",
       "analysis_name": "UUID-1cee7352-775b-44e3-b653-d3247b12620a",
       "code_json": "{\"imports\": \"from mitosheet import *\", \"code\": []}",
       "column_filters_json": "[{\"First_Name\": {\"operator\": \"And\", \"filters\": []}, \"Last_Name\": {\"operator\": \"And\", \"filters\": []}, \"Height\": {\"operator\": \"And\", \"filters\": []}}]",
       "column_spreadsheet_code_json": "[{\"First_Name\": \"\", \"Last_Name\": \"\", \"Height\": \"\"}]",
       "column_type_json": "[{\"First_Name\": \"string\", \"Last_Name\": \"string\", \"Height\": \"number\"}]",
       "df_names_json": "{\"df_names\": [\"df\"]}",
       "df_shape_json": "[{\"rows\": 2, \"cols\": 3}]",
       "layout": "IPY_MODEL_0c79370a56a24688812cbd01e3710515",
       "saved_analysis_names_json": "[\"16\"]",
       "sheet_json": "[{\"columns\": [\"First_Name\", \"Last_Name\", \"Height\"], \"index\": [0, 1], \"data\": [[\"Nate\", \"Rush\", 4], [\"Nate\", \"Jack\", 5]]}]",
       "user_id": "nate",
       "value": "Hello World"
      }
     },
     "0c79370a56a24688812cbd01e3710515": {
      "model_module": "@jupyter-widgets/base",
      "model_module_version": "1.2.0",
      "model_name": "LayoutModel",
      "state": {}
     },
     "1d6be343ab874c95953c12005c4543c8": {
      "model_module": "mitosheet",
      "model_module_version": "^0.1.45",
      "model_name": "ExampleModel",
      "state": {
       "_model_module_version": "^0.1.45",
       "_view_module_version": "^0.1.45",
       "analysis_name": "UUID-ef5b67c6-7c2f-4e08-9692-27c64c98842c",
       "code_json": "{\"imports\": \"from mitosheet import *\", \"code\": [\"# Step 1\", \"# Pivot the data\\npivot_table = df1.pivot_table(\\n    index=['Name'],\\n    values=['Height', 'Weight'],\\n    aggfunc={'Height': 'sum', 'Weight': 'sum'}\\n)\", \"# Reset the column name and the indexes\\ndf2 = pivot_table.rename_axis(None, axis=1).reset_index()\"]}",
       "column_filters_json": "[{\"Name\": {\"operator\": \"And\", \"filters\": []}, \"Height\": {\"operator\": \"And\", \"filters\": []}, \"Weight\": {\"operator\": \"And\", \"filters\": []}}, {\"Name\": {\"operator\": \"And\", \"filters\": []}, \"Height\": {\"operator\": \"And\", \"filters\": []}, \"Weight\": {\"operator\": \"And\", \"filters\": []}}]",
       "column_spreadsheet_code_json": "[{\"Name\": \"\", \"Height\": \"\", \"Weight\": \"\"}, {\"Name\": \"\", \"Height\": \"\", \"Weight\": \"\"}]",
       "column_type_json": "[{\"Name\": \"string\", \"Height\": \"number\", \"Weight\": \"number\"}, {\"Name\": \"string\", \"Height\": \"number\", \"Weight\": \"number\"}]",
       "df_names_json": "{\"df_names\": [\"df1\", \"df2\"]}",
       "df_shape_json": "[{\"rows\": 4, \"cols\": 3}, {\"rows\": 2, \"cols\": 3}]",
       "layout": "IPY_MODEL_5e0102c403044af593470e17515d0df1",
       "saved_analysis_names_json": "[\"16\"]",
       "sheet_json": "[{\"columns\": [\"Name\", \"Height\", \"Weight\"], \"index\": [0, 1, 2, 3], \"data\": [[\"Nate\", 4, 100], [\"Nate\", 5, 200], [\"Aaron\", 6, 300], [\"Aaron\", 7, 400]]}, {\"columns\": [\"Name\", \"Height\", \"Weight\"], \"index\": [0, 1], \"data\": [[\"Aaron\", 13, 700], [\"Nate\", 9, 300]]}]",
       "user_id": "nate",
       "value": "Hello World"
      }
     },
     "5e0102c403044af593470e17515d0df1": {
      "model_module": "@jupyter-widgets/base",
      "model_module_version": "1.2.0",
      "model_name": "LayoutModel",
      "state": {}
     },
     "a40533d4a0df49229ce6197c0a473886": {
      "model_module": "mitosheet",
      "model_module_version": "^0.1.45",
      "model_name": "ExampleModel",
      "state": {
       "_model_module_version": "^0.1.45",
       "_view_module_version": "^0.1.45",
       "analysis_name": "UUID-16b4130d-8ab6-41cb-a1a5-27b851169cb9",
       "code_json": "{\"imports\": \"from mitosheet import *\", \"code\": [\"# Step 1\", \"# Pivot the data\\npivot_table = df1.pivot_table(\\n    index=['Name'],\\n    values=['Height', 'Weight'],\\n    aggfunc={'Height': 'sum', 'Weight': 'sum'}\\n)\", \"# Reset the column name and the indexes\\ndf2 = pivot_table.rename_axis(None, axis=1).reset_index()\"]}",
       "column_filters_json": "[{\"Name\": {\"operator\": \"And\", \"filters\": []}, \"Height\": {\"operator\": \"And\", \"filters\": []}, \"Weight\": {\"operator\": \"And\", \"filters\": []}}, {\"Name\": {\"operator\": \"And\", \"filters\": []}, \"Height\": {\"operator\": \"And\", \"filters\": []}, \"Weight\": {\"operator\": \"And\", \"filters\": []}}]",
       "column_spreadsheet_code_json": "[{\"Name\": \"\", \"Height\": \"\", \"Weight\": \"\"}, {\"Name\": \"\", \"Height\": \"\", \"Weight\": \"\"}]",
       "column_type_json": "[{\"Name\": \"string\", \"Height\": \"number\", \"Weight\": \"number\"}, {\"Name\": \"string\", \"Height\": \"number\", \"Weight\": \"number\"}]",
       "df_names_json": "{\"df_names\": [\"df1\", \"df2\"]}",
       "df_shape_json": "[{\"rows\": 4, \"cols\": 3}, {\"rows\": 2, \"cols\": 3}]",
       "layout": "IPY_MODEL_d803c21adf3f49ec8f17b7d30daf97ba",
       "saved_analysis_names_json": "[\"16\"]",
       "sheet_json": "[{\"columns\": [\"Name\", \"Height\", \"Weight\"], \"index\": [0, 1, 2, 3], \"data\": [[\"Nate\", 4, 100], [\"Nate\", 5, 200], [\"Aaron\", 6, 300], [\"Aaron\", 7, 400]]}, {\"columns\": [\"Name\", \"Height\", \"Weight\"], \"index\": [0, 1], \"data\": [[\"Aaron\", 13, 700], [\"Nate\", 9, 300]]}]",
       "user_id": "nate",
       "value": "Hello World"
      }
     },
     "b290a614191940b59e896db8aa9ecedf": {
      "model_module": "mitosheet",
      "model_module_version": "^0.1.45",
      "model_name": "ExampleModel",
      "state": {
       "_model_module_version": "^0.1.45",
       "_view_module_version": "^0.1.45",
       "analysis_name": "UUID-704e698a-62c6-4d48-a231-8db450e742db",
       "code_json": "{\"imports\": \"from mitosheet import *\", \"code\": [\"# Step 1\", \"df['D'] = 0\", \"# Step 2\", \"groupby_obj = df.groupby(['First_Name'], as_index=False)\", \"df2 = groupby_obj.size()\"]}",
       "column_filters_json": "[{\"First_Name\": {\"operator\": \"And\", \"filters\": []}, \"Last_Name\": {\"operator\": \"And\", \"filters\": []}, \"Height\": {\"operator\": \"And\", \"filters\": []}, \"D\": {\"operator\": \"And\", \"filters\": []}}, {\"First_Name\": {\"operator\": \"And\", \"filters\": []}, \"size\": {\"operator\": \"And\", \"filters\": []}}]",
       "column_spreadsheet_code_json": "[{\"First_Name\": \"\", \"Last_Name\": \"\", \"Height\": \"\", \"D\": \"=0\"}, {\"First_Name\": \"\", \"size\": \"\"}]",
       "column_type_json": "[{\"First_Name\": \"string\", \"Last_Name\": \"string\", \"Height\": \"number\", \"D\": \"number\"}, {\"First_Name\": \"string\", \"size\": \"number\"}]",
       "df_names_json": "{\"df_names\": [\"df\", \"df2\"]}",
       "df_shape_json": "[{\"rows\": 2, \"cols\": 4}, {\"rows\": 1, \"cols\": 2}]",
       "layout": "IPY_MODEL_e0f0a1ac2cd743ea93e02fa76a97a6de",
       "saved_analysis_names_json": "[\"16\"]",
       "sheet_json": "[{\"columns\": [\"First_Name\", \"Last_Name\", \"Height\", \"D\"], \"index\": [0, 1], \"data\": [[\"Nate\", \"Rush\", 4, 0], [\"Nate\", \"Jack\", 5, 0]]}, {\"columns\": [\"First_Name\", \"size\"], \"index\": [0], \"data\": [[\"Nate\", 2]]}]",
       "user_id": "nate",
       "value": "Hello World"
      }
     },
     "d803c21adf3f49ec8f17b7d30daf97ba": {
      "model_module": "@jupyter-widgets/base",
      "model_module_version": "1.2.0",
      "model_name": "LayoutModel",
      "state": {}
     },
     "e0f0a1ac2cd743ea93e02fa76a97a6de": {
      "model_module": "@jupyter-widgets/base",
      "model_module_version": "1.2.0",
      "model_name": "LayoutModel",
      "state": {}
     }
    },
    "version_major": 2,
    "version_minor": 0
   }
  }
 },
 "nbformat": 4,
 "nbformat_minor": 4
}
