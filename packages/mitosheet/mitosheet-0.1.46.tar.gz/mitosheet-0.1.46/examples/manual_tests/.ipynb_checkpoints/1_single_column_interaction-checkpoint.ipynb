{
 "cells": [
  {
   "cell_type": "code",
   "execution_count": null,
   "metadata": {},
   "outputs": [],
   "source": [
    "\"\"\"\n",
    "This file tests some basic interactions with mito, including editing the sheet\n",
    "and repeating the analysis.\n",
    "\n",
    "Instructions:\n",
    "1. Run this cell.\n",
    "2. Add a column, and set it equal to =SUM(Nums, 100)\n",
    "3. Check the values are correctly computed [101, 102, 103].\n",
    "4. Save the analysis.\n",
    "5. Delete the bottom cell, and run the top cell (resetting the analysis).\n",
    "6. Use the replay analysis button to replay your previously saved analysis, and check the new column has the correct values.\n",
    "\"\"\"\n",
    "import mitosheet\n",
    "import pandas as pd\n",
    "df = pd.DataFrame(data={'Nums': [1, 2, 3]})\n",
    "mitosheet.sheet(df)"
   ]
  }
 ],
 "metadata": {
  "kernelspec": {
   "display_name": "Python 3",
   "language": "python",
   "name": "python3"
  },
  "language_info": {
   "codemirror_mode": {
    "name": "ipython",
    "version": 3
   },
   "file_extension": ".py",
   "mimetype": "text/x-python",
   "name": "python",
   "nbconvert_exporter": "python",
   "pygments_lexer": "ipython3",
   "version": "3.8.5"
  },
  "widgets": {
   "application/vnd.jupyter.widget-state+json": {
    "state": {
     "56027bdab65344cabfb83de6ed281b11": {
      "model_module": "@jupyter-widgets/base",
      "model_module_version": "1.2.0",
      "model_name": "LayoutModel",
      "state": {}
     },
     "9fa78cecb5534e62be51fe1d2c2af13f": {
      "model_module": "mitosheet",
      "model_module_version": "^0.1.36",
      "model_name": "ExampleModel",
      "state": {
       "_model_module_version": "^0.1.36",
       "_view_module_version": "^0.1.36",
       "analysis_name": "UUID-c2660bdb-6f9f-48a3-bc21-1da22c745789",
       "code_json": "{\"imports\": \"from mitosheet import AVG,CLEAN,CONCAT,FIND,LEFT,LEN,LOWER,MID,MULTIPLY,PROPER,RIGHT,SUBSTITUTE,SUM,TRIM,UPPER\", \"code\": [\"# Step 1\", \"df['B'] = SUM(df['Nums'], 100)\"]}",
       "column_spreadsheet_code_json": "[{\"Nums\": \"\", \"B\": \"=SUM(Nums, 100)\"}]",
       "df_names_json": "{\"df_names\": [\"df\"]}",
       "layout": "IPY_MODEL_56027bdab65344cabfb83de6ed281b11",
       "saved_analysis_names_json": "[\"Add 100\"]",
       "sheet_json": "[{\"columns\": [\"Nums\", \"B\"], \"index\": [0, 1, 2], \"data\": [[1, 101], [2, 102], [3, 103]]}]",
       "user_id": "nate",
       "value": "Hello World"
      }
     }
    },
    "version_major": 2,
    "version_minor": 0
   }
  }
 },
 "nbformat": 4,
 "nbformat_minor": 4
}
