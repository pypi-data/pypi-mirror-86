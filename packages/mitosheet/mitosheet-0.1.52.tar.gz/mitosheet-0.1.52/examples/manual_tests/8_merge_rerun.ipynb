{
 "cells": [
  {
   "cell_type": "code",
   "execution_count": 1,
   "metadata": {},
   "outputs": [
    {
     "data": {
      "application/vnd.jupyter.widget-view+json": {
       "model_id": "a3131244b84541c38cc56bbba6cd8a6a",
       "version_major": 2,
       "version_minor": 0
      },
      "text/plain": [
       "MitoWidget(analysis_name='UUID-e79ec312-f6e9-422c-bb55-fdc7003a7f88', code_json='{\"imports\": \"from mitosheet i…"
      ]
     },
     "metadata": {},
     "output_type": "display_data"
    }
   ],
   "source": [
    "\"\"\"\n",
    "This file tests some repetitive merging functionality with Mito, where\n",
    "the merged sheet is then used as part of another merge\n",
    "\n",
    "Instructions:\n",
    "1. Run this cell\n",
    "2. Click the merge button in the toolbar and merge df1 and df2 together on Key1 and Key2, respectivly\n",
    "3. Check that a new sheet, df3, is created and that it contains only 4 rows. The first row should read: [A, 1, A, 5]. \n",
    "4. Rerun this cell. \n",
    "5. Check that the sheet, df3, is still there. \n",
    "6. In sheet df3, put the columns in the order Key1, Key2, value_df1, value_df2\n",
    "7. On Sheet df1, create a new column and set it equal to column Key1\n",
    "8. On Sheet df2, create a new column and set it equal to column Key2 \n",
    "9. On df3, create a new column and set it to =CONCAT(Key1, Key2)\n",
    "10. Take a look at each sheet, rerun the codeblock and make sure that each sheet did not change. Make sure you can edit the columns you made above. \n",
    "11. Open the Merge modal\n",
    "    1. Set First Sheet to df1\n",
    "    2. Set Second Sheet to df3\n",
    "    3. Check to make sure that the keys automatically updated to Key1 and Key1\n",
    "    4. Click Merge\n",
    "12. Check the new sheet exists. \n",
    "\"\"\"\n",
    "\n",
    "    \n",
    "import pandas as pd\n",
    "import mitosheet\n",
    "df1 = pd.DataFrame(data={'Key1': ['A', 'B', 'C', 'D'], 'value': [1,2,3,4]})\n",
    "df2 = pd.DataFrame(data={'Key2': ['A', 'A', 'B', 'B'], 'value': [5,6,7,8]})\n",
    "mitosheet.sheet(df1, df2)"
   ]
  }
 ],
 "metadata": {
  "kernelspec": {
   "display_name": "Python 3",
   "language": "python",
   "name": "python3"
  },
  "language_info": {
   "codemirror_mode": {
    "name": "ipython",
    "version": 3
   },
   "file_extension": ".py",
   "mimetype": "text/x-python",
   "name": "python",
   "nbconvert_exporter": "python",
   "pygments_lexer": "ipython3",
   "version": "3.8.5"
  },
  "widgets": {
   "application/vnd.jupyter.widget-state+json": {
    "state": {
     "6f90ae6f61f343a6876652357d9e30cf": {
      "model_module": "@jupyter-widgets/base",
      "model_module_version": "1.2.0",
      "model_name": "LayoutModel",
      "state": {}
     },
     "a3131244b84541c38cc56bbba6cd8a6a": {
      "model_module": "mitosheet",
      "model_module_version": "^0.1.51",
      "model_name": "ExampleModel",
      "state": {
       "_model_module_version": "^0.1.51",
       "_view_module_version": "^0.1.51",
       "analysis_name": "UUID-e79ec312-f6e9-422c-bb55-fdc7003a7f88",
       "code_json": "{\"imports\": \"from mitosheet import *\", \"code\": [\"# Step 1\", \"df1 = df1[~df1['Key1'].str.contains('A', na=False)]\", \"df1 = df1.reset_index(drop=True)\"]}",
       "column_filters_json": "[{\"Key1\": {\"operator\": \"And\", \"filters\": [{\"type\": \"string\", \"condition\": \"string_does_not_contain\", \"value\": \"A\"}]}, \"value\": {\"operator\": \"And\", \"filters\": []}}, {\"Key2\": {\"operator\": \"And\", \"filters\": []}, \"value\": {\"operator\": \"And\", \"filters\": []}}]",
       "column_spreadsheet_code_json": "[{\"Key1\": \"\", \"value\": \"\"}, {\"Key2\": \"\", \"value\": \"\"}]",
       "column_type_json": "[{\"Key1\": \"string\", \"value\": \"number\"}, {\"Key2\": \"string\", \"value\": \"number\"}]",
       "df_names_json": "{\"df_names\": [\"df1\", \"df2\"]}",
       "df_shape_json": "[{\"rows\": 3, \"cols\": 2}, {\"rows\": 4, \"cols\": 2}]",
       "layout": "IPY_MODEL_6f90ae6f61f343a6876652357d9e30cf",
       "saved_analysis_names_json": "[\"test\"]",
       "sheet_json": "[{\"columns\": [\"Key1\", \"value\"], \"index\": [0, 1, 2], \"data\": [[\"B\", 2], [\"C\", 3], [\"D\", 4]]}, {\"columns\": [\"Key2\", \"value\"], \"index\": [0, 1, 2, 3], \"data\": [[\"A\", 5], [\"A\", 6], [\"B\", 7], [\"B\", 8]]}]",
       "user_id": "nate",
       "value": "Hello World"
      }
     }
    },
    "version_major": 2,
    "version_minor": 0
   }
  }
 },
 "nbformat": 4,
 "nbformat_minor": 4
}
