{
 "cells": [
  {
   "cell_type": "code",
   "execution_count": null,
   "metadata": {},
   "outputs": [],
   "source": [
    "\"\"\"\n",
    "Tests grouping in a variety of different ways with all the aggregation options.\n",
    "\n",
    "Steps:\n",
    "- Run this cell.\n",
    "- Click the group button:\n",
    "    - Select Name in rows. Set the value to height sum.\n",
    "    - Click group.\n",
    "- Rerun this cell, and check that the dataframes are still defined properly.\n",
    "- Redo the above, 3 more times, from the most recently defined dataframe.\n",
    "\"\"\"\n",
    "import mitosheet\n",
    "import pandas as pd\n",
    "df1 = pd.DataFrame(data={'Name': ['Nate', 'Nate', 'Aaron', 'Aaron'], 'Height': [4, 5, 6, 7]})\n",
    "mitosheet.sheet(df1)"
   ]
  }
 ],
 "metadata": {
  "kernelspec": {
   "display_name": "Python 3",
   "language": "python",
   "name": "python3"
  },
  "language_info": {
   "codemirror_mode": {
    "name": "ipython",
    "version": 3
   },
   "file_extension": ".py",
   "mimetype": "text/x-python",
   "name": "python",
   "nbconvert_exporter": "python",
   "pygments_lexer": "ipython3",
   "version": "3.8.5"
  },
  "widgets": {
   "application/vnd.jupyter.widget-state+json": {
    "state": {
     "0f6fb7a220214dec8bed65b474cffdde": {
      "model_module": "@jupyter-widgets/base",
      "model_module_version": "1.2.0",
      "model_name": "LayoutModel",
      "state": {}
     },
     "11c2731319bd4ed38c8732f8c2fb5135": {
      "model_module": "mitosheet",
      "model_module_version": "^0.1.45",
      "model_name": "ExampleModel",
      "state": {
       "_model_module_version": "^0.1.45",
       "_view_module_version": "^0.1.45",
       "analysis_name": "UUID-e530e351-4771-44fb-8f55-6ea48d376ff9",
       "code_json": "{\"imports\": \"from mitosheet import *\", \"code\": [\"# Step 1\", \"# Pivot the data\\npivot_table = df1.pivot_table(\\n    index=['Name'],\\n    values=['Height'],\\n    aggfunc={'Height': 'sum'}\\n)\", \"# Reset the column name and the indexes\\ndf2 = pivot_table.rename_axis(None, axis=1).reset_index()\", \"# Step 2\", \"# Pivot the data\\npivot_table = df2.pivot_table(\\n    index=['Name'],\\n    values=['Height'],\\n    aggfunc={'Height': 'sum'}\\n)\", \"# Reset the column name and the indexes\\ndf3 = pivot_table.rename_axis(None, axis=1).reset_index()\", \"# Step 3\", \"# Pivot the data\\npivot_table = df3.pivot_table(\\n    index=['Height'],\\n    values=['Name'],\\n    aggfunc={'Name': 'sum'}\\n)\", \"# Reset the column name and the indexes\\ndf4 = pivot_table.rename_axis(None, axis=1).reset_index()\"]}",
       "column_filters_json": "[{\"Name\": {\"operator\": \"And\", \"filters\": []}, \"Height\": {\"operator\": \"And\", \"filters\": []}}, {\"Name\": {\"operator\": \"And\", \"filters\": []}, \"Height\": {\"operator\": \"And\", \"filters\": []}}, {\"Name\": {\"operator\": \"And\", \"filters\": []}, \"Height\": {\"operator\": \"And\", \"filters\": []}}, {\"Height\": {\"operator\": \"And\", \"filters\": []}, \"Name\": {\"operator\": \"And\", \"filters\": []}}]",
       "column_spreadsheet_code_json": "[{\"Name\": \"\", \"Height\": \"\"}, {\"Name\": \"\", \"Height\": \"\"}, {\"Name\": \"\", \"Height\": \"\"}, {\"Height\": \"\", \"Name\": \"\"}]",
       "column_type_json": "[{\"Name\": \"string\", \"Height\": \"number\"}, {\"Name\": \"string\", \"Height\": \"number\"}, {\"Name\": \"string\", \"Height\": \"number\"}, {\"Height\": \"number\", \"Name\": \"string\"}]",
       "df_names_json": "{\"df_names\": [\"df1\", \"df2\", \"df3\", \"df4\"]}",
       "df_shape_json": "[{\"rows\": 4, \"cols\": 2}, {\"rows\": 2, \"cols\": 2}, {\"rows\": 2, \"cols\": 2}, {\"rows\": 2, \"cols\": 2}]",
       "layout": "IPY_MODEL_19c49646b94c477bb6c16ca9440a92eb",
       "saved_analysis_names_json": "[\"16\"]",
       "sheet_json": "[{\"columns\": [\"Name\", \"Height\"], \"index\": [0, 1, 2, 3], \"data\": [[\"Nate\", 4], [\"Nate\", 5], [\"Aaron\", 6], [\"Aaron\", 7]]}, {\"columns\": [\"Name\", \"Height\"], \"index\": [0, 1], \"data\": [[\"Aaron\", 13], [\"Nate\", 9]]}, {\"columns\": [\"Name\", \"Height\"], \"index\": [0, 1], \"data\": [[\"Aaron\", 13], [\"Nate\", 9]]}, {\"columns\": [\"Height\", \"Name\"], \"index\": [0, 1], \"data\": [[9, \"Nate\"], [13, \"Aaron\"]]}]",
       "user_id": "nate",
       "value": "Hello World"
      }
     },
     "19c49646b94c477bb6c16ca9440a92eb": {
      "model_module": "@jupyter-widgets/base",
      "model_module_version": "1.2.0",
      "model_name": "LayoutModel",
      "state": {}
     },
     "1e08b630bfa44988afb8d5a11c99ee7b": {
      "model_module": "@jupyter-widgets/base",
      "model_module_version": "1.2.0",
      "model_name": "LayoutModel",
      "state": {}
     },
     "36eacd30913a486098542c1b220a3fda": {
      "model_module": "@jupyter-widgets/base",
      "model_module_version": "1.2.0",
      "model_name": "LayoutModel",
      "state": {}
     },
     "3a5950363cee40378218b43167e2f9cb": {
      "model_module": "mitosheet",
      "model_module_version": "^0.1.45",
      "model_name": "ExampleModel",
      "state": {
       "_model_module_version": "^0.1.45",
       "_view_module_version": "^0.1.45",
       "analysis_name": "UUID-e76a6ae2-a2d3-4a2a-81f8-c2f9e6d07226",
       "code_json": "{\"imports\": \"from mitosheet import *\", \"code\": [\"# Step 1\", \"# Pivot the data\\npivot_table = df1.pivot_table(\\n    columns=['Name'],\\n    values=['Name'],\\n    aggfunc={'Name': 'count'}\\n)\", \"# Reset the column name and the indexes\\ndf2 = pivot_table.rename_axis(None, axis=1).reset_index()\"]}",
       "column_filters_json": "[{\"Name\": {\"operator\": \"And\", \"filters\": []}, \"Height\": {\"operator\": \"And\", \"filters\": []}}, {\"index\": {\"operator\": \"And\", \"filters\": []}, \"Aaron\": {\"operator\": \"And\", \"filters\": []}, \"Nate\": {\"operator\": \"And\", \"filters\": []}}]",
       "column_spreadsheet_code_json": "[{\"Name\": \"\", \"Height\": \"\"}, {\"index\": \"\", \"Aaron\": \"\", \"Nate\": \"\"}]",
       "column_type_json": "[{\"Name\": \"string\", \"Height\": \"number\"}, {\"index\": \"string\", \"Aaron\": \"number\", \"Nate\": \"number\"}]",
       "df_names_json": "{\"df_names\": [\"df1\", \"df2\"]}",
       "df_shape_json": "[{\"rows\": 4, \"cols\": 2}, {\"rows\": 1, \"cols\": 3}]",
       "layout": "IPY_MODEL_82e45bdc3cd94cb9b22a161f0e5f5e1b",
       "saved_analysis_names_json": "[\"16\"]",
       "sheet_json": "[{\"columns\": [\"Name\", \"Height\"], \"index\": [0, 1, 2, 3], \"data\": [[\"Nate\", 4], [\"Nate\", 5], [\"Aaron\", 6], [\"Aaron\", 7]]}, {\"columns\": [\"index\", \"Aaron\", \"Nate\"], \"index\": [0], \"data\": [[\"Name\", 2, 2]]}]",
       "user_id": "nate",
       "value": "Hello World"
      }
     },
     "66d5440404db4b42a8ceaa322934629c": {
      "model_module": "@jupyter-widgets/base",
      "model_module_version": "1.2.0",
      "model_name": "LayoutModel",
      "state": {}
     },
     "762fc0d03ef444cd94d7f5938bbb4c15": {
      "model_module": "mitosheet",
      "model_module_version": "^0.1.45",
      "model_name": "ExampleModel",
      "state": {
       "_model_module_version": "^0.1.45",
       "_view_module_version": "^0.1.45",
       "analysis_name": "UUID-ee1d7555-8954-4a56-8cc0-e5bf2019da1f",
       "code_json": "{\"imports\": \"from mitosheet import *\", \"code\": [\"# Step 1\", \"# Pivot the data\\npivot_table = df1.pivot_table(\\n    index=['Name'],\\n)\", \"# Reset the column name and the indexes\\ndf2 = pivot_table.rename_axis(None, axis=1).reset_index()\", \"# Step 2\", \"# Pivot the data\\npivot_table = df1.pivot_table(\\n    index=['Name'],\\n    values=['Height'],\\n    aggfunc={'Height': 'sum'}\\n)\", \"# Reset the column name and the indexes\\ndf3 = pivot_table.rename_axis(None, axis=1).reset_index()\"]}",
       "column_filters_json": "[{\"Name\": {\"operator\": \"And\", \"filters\": []}, \"Height\": {\"operator\": \"And\", \"filters\": []}}, {\"Name\": {\"operator\": \"And\", \"filters\": []}, \"Height\": {\"operator\": \"And\", \"filters\": []}}, {\"Name\": {\"operator\": \"And\", \"filters\": []}, \"Height\": {\"operator\": \"And\", \"filters\": []}}]",
       "column_spreadsheet_code_json": "[{\"Name\": \"\", \"Height\": \"\"}, {\"Name\": \"\", \"Height\": \"\"}, {\"Name\": \"\", \"Height\": \"\"}]",
       "column_type_json": "[{\"Name\": \"string\", \"Height\": \"number\"}, {\"Name\": \"string\", \"Height\": \"number\"}, {\"Name\": \"string\", \"Height\": \"number\"}]",
       "df_names_json": "{\"df_names\": [\"df1\", \"df2\", \"df3\"]}",
       "df_shape_json": "[{\"rows\": 4, \"cols\": 2}, {\"rows\": 2, \"cols\": 2}, {\"rows\": 2, \"cols\": 2}]",
       "layout": "IPY_MODEL_9a961b2b6c71460b936350e931eb17d5",
       "saved_analysis_names_json": "[\"16\"]",
       "sheet_json": "[{\"columns\": [\"Name\", \"Height\"], \"index\": [0, 1, 2, 3], \"data\": [[\"Nate\", 4], [\"Nate\", 5], [\"Aaron\", 6], [\"Aaron\", 7]]}, {\"columns\": [\"Name\", \"Height\"], \"index\": [0, 1], \"data\": [[\"Aaron\", 6.5], [\"Nate\", 4.5]]}, {\"columns\": [\"Name\", \"Height\"], \"index\": [0, 1], \"data\": [[\"Aaron\", 13], [\"Nate\", 9]]}]",
       "user_id": "nate",
       "value": "Hello World"
      }
     },
     "7c28a7e6fb9843f8bb476b152040a6ba": {
      "model_module": "@jupyter-widgets/base",
      "model_module_version": "1.2.0",
      "model_name": "LayoutModel",
      "state": {}
     },
     "82e45bdc3cd94cb9b22a161f0e5f5e1b": {
      "model_module": "@jupyter-widgets/base",
      "model_module_version": "1.2.0",
      "model_name": "LayoutModel",
      "state": {}
     },
     "9a961b2b6c71460b936350e931eb17d5": {
      "model_module": "@jupyter-widgets/base",
      "model_module_version": "1.2.0",
      "model_name": "LayoutModel",
      "state": {}
     },
     "9e04bd495b1d474badad46fd03f26e8c": {
      "model_module": "@jupyter-widgets/base",
      "model_module_version": "1.2.0",
      "model_name": "LayoutModel",
      "state": {}
     },
     "a1fc5438960145498af55fe4f7dc0043": {
      "model_module": "mitosheet",
      "model_module_version": "^0.1.45",
      "model_name": "ExampleModel",
      "state": {
       "_model_module_version": "^0.1.45",
       "_view_module_version": "^0.1.45",
       "analysis_name": "UUID-2d5b4735-452a-4ded-b4ba-32058580014c",
       "code_json": "{\"imports\": \"from mitosheet import *\", \"code\": [\"# Step 1\", \"# Pivot the data\\npivot_table = df1.pivot_table(\\n    columns=['Name'],\\n    values=['Name'],\\n    aggfunc={'Name': 'count'}\\n)\", \"# Reset the column name and the indexes\\ndf2 = pivot_table.rename_axis(None, axis=1).reset_index()\", \"# Step 2\", \"# Pivot the data\\npivot_table = df1.pivot_table(\\n    columns=['Name'],\\n    values=['Name'],\\n    aggfunc={'Name': 'count'}\\n)\", \"# Reset the column name and the indexes\\ndf3 = pivot_table.rename_axis(None, axis=1).reset_index()\"]}",
       "column_filters_json": "[{\"Name\": {\"operator\": \"And\", \"filters\": []}, \"Height\": {\"operator\": \"And\", \"filters\": []}}, {\"index\": {\"operator\": \"And\", \"filters\": []}, \"Aaron\": {\"operator\": \"And\", \"filters\": []}, \"Nate\": {\"operator\": \"And\", \"filters\": []}}, {\"index\": {\"operator\": \"And\", \"filters\": []}, \"Aaron\": {\"operator\": \"And\", \"filters\": []}, \"Nate\": {\"operator\": \"And\", \"filters\": []}}]",
       "column_spreadsheet_code_json": "[{\"Name\": \"\", \"Height\": \"\"}, {\"index\": \"\", \"Aaron\": \"\", \"Nate\": \"\"}, {\"index\": \"\", \"Aaron\": \"\", \"Nate\": \"\"}]",
       "column_type_json": "[{\"Name\": \"string\", \"Height\": \"number\"}, {\"index\": \"string\", \"Aaron\": \"number\", \"Nate\": \"number\"}, {\"index\": \"string\", \"Aaron\": \"number\", \"Nate\": \"number\"}]",
       "df_names_json": "{\"df_names\": [\"df1\", \"df2\"]}",
       "df_shape_json": "[{\"rows\": 4, \"cols\": 2}, {\"rows\": 1, \"cols\": 3}, {\"rows\": 1, \"cols\": 3}]",
       "layout": "IPY_MODEL_9e04bd495b1d474badad46fd03f26e8c",
       "saved_analysis_names_json": "[\"16\"]",
       "sheet_json": "[{\"columns\": [\"Name\", \"Height\"], \"index\": [0, 1, 2, 3], \"data\": [[\"Nate\", 4], [\"Nate\", 5], [\"Aaron\", 6], [\"Aaron\", 7]]}, {\"columns\": [\"index\", \"Aaron\", \"Nate\"], \"index\": [0], \"data\": [[\"Name\", 2, 2]]}, {\"columns\": [\"index\", \"Aaron\", \"Nate\"], \"index\": [0], \"data\": [[\"Name\", 2, 2]]}]",
       "user_id": "nate",
       "value": "Hello World"
      }
     },
     "a6ef3a7288154c2aa4ef32fad780a7a8": {
      "model_module": "mitosheet",
      "model_module_version": "^0.1.45",
      "model_name": "ExampleModel",
      "state": {
       "_model_module_version": "^0.1.45",
       "_view_module_version": "^0.1.45",
       "analysis_name": "UUID-9257b395-52fe-44a9-b580-f414e1937d81",
       "code_json": "{\"imports\": \"from mitosheet import *\", \"code\": [\"# Step 1\", \"# Pivot the data\\npivot_table = df1.pivot_table(\\n    columns=['Name'],\\n    values=['Name'],\\n    aggfunc={'Name': 'count'}\\n)\", \"# Reset the column name and the indexes\\ndf2 = pivot_table.rename_axis(None, axis=1).reset_index()\"]}",
       "column_filters_json": "[{\"Name\": {\"operator\": \"And\", \"filters\": []}, \"Height\": {\"operator\": \"And\", \"filters\": []}}, {\"index\": {\"operator\": \"And\", \"filters\": []}, \"Aaron\": {\"operator\": \"And\", \"filters\": []}, \"Nate\": {\"operator\": \"And\", \"filters\": []}}]",
       "column_spreadsheet_code_json": "[{\"Name\": \"\", \"Height\": \"\"}, {\"index\": \"\", \"Aaron\": \"\", \"Nate\": \"\"}]",
       "column_type_json": "[{\"Name\": \"string\", \"Height\": \"number\"}, {\"index\": \"string\", \"Aaron\": \"number\", \"Nate\": \"number\"}]",
       "df_names_json": "{\"df_names\": [\"df1\", \"df2\"]}",
       "df_shape_json": "[{\"rows\": 4, \"cols\": 2}, {\"rows\": 1, \"cols\": 3}]",
       "layout": "IPY_MODEL_66d5440404db4b42a8ceaa322934629c",
       "saved_analysis_names_json": "[\"16\"]",
       "sheet_json": "[{\"columns\": [\"Name\", \"Height\"], \"index\": [0, 1, 2, 3], \"data\": [[\"Nate\", 4], [\"Nate\", 5], [\"Aaron\", 6], [\"Aaron\", 7]]}, {\"columns\": [\"index\", \"Aaron\", \"Nate\"], \"index\": [0], \"data\": [[\"Name\", 2, 2]]}]",
       "user_id": "nate",
       "value": "Hello World"
      }
     },
     "b10155ffcdf7476683015e3507a97141": {
      "model_module": "mitosheet",
      "model_module_version": "^0.1.45",
      "model_name": "ExampleModel",
      "state": {
       "_model_module_version": "^0.1.45",
       "_view_module_version": "^0.1.45",
       "analysis_name": "UUID-bb523bc1-1112-4750-91b9-06f055c35752",
       "code_json": "{\"imports\": \"from mitosheet import *\", \"code\": []}",
       "column_filters_json": "[{\"Name\": {\"operator\": \"And\", \"filters\": []}, \"Height\": {\"operator\": \"And\", \"filters\": []}}]",
       "column_spreadsheet_code_json": "[{\"Name\": \"\", \"Height\": \"\"}]",
       "column_type_json": "[{\"Name\": \"string\", \"Height\": \"number\"}]",
       "df_names_json": "{\"df_names\": [\"df1\"]}",
       "df_shape_json": "[{\"rows\": 4, \"cols\": 2}]",
       "layout": "IPY_MODEL_0f6fb7a220214dec8bed65b474cffdde",
       "saved_analysis_names_json": "[\"16\"]",
       "sheet_json": "[{\"columns\": [\"Name\", \"Height\"], \"index\": [0, 1, 2, 3], \"data\": [[\"Nate\", 4], [\"Nate\", 5], [\"Aaron\", 6], [\"Aaron\", 7]]}]",
       "user_id": "nate",
       "value": "Hello World"
      }
     },
     "b6da4336df3d4a58a9cb419451f5d6a0": {
      "model_module": "mitosheet",
      "model_module_version": "^0.1.45",
      "model_name": "ExampleModel",
      "state": {
       "_model_module_version": "^0.1.45",
       "_view_module_version": "^0.1.45",
       "analysis_name": "UUID-bd7213ec-a581-407e-a010-755d63b6f97c",
       "code_json": "{\"imports\": \"from mitosheet import *\", \"code\": [\"# Step 1\", \"# Pivot the data\\npivot_table = df1.pivot_table(\\n    columns=['Name'],\\n    values=['Name'],\\n    aggfunc={'Name': 'count'}\\n)\", \"# Reset the column name and the indexes\\ndf2 = pivot_table.rename_axis(None, axis=1).reset_index()\"]}",
       "column_filters_json": "[{\"Name\": {\"operator\": \"And\", \"filters\": []}, \"Height\": {\"operator\": \"And\", \"filters\": []}}, {\"index\": {\"operator\": \"And\", \"filters\": []}, \"Aaron\": {\"operator\": \"And\", \"filters\": []}, \"Nate\": {\"operator\": \"And\", \"filters\": []}}]",
       "column_spreadsheet_code_json": "[{\"Name\": \"\", \"Height\": \"\"}, {\"index\": \"\", \"Aaron\": \"\", \"Nate\": \"\"}]",
       "column_type_json": "[{\"Name\": \"string\", \"Height\": \"number\"}, {\"index\": \"string\", \"Aaron\": \"number\", \"Nate\": \"number\"}]",
       "df_names_json": "{\"df_names\": [\"df1\", \"df2\"]}",
       "df_shape_json": "[{\"rows\": 4, \"cols\": 2}, {\"rows\": 1, \"cols\": 3}]",
       "layout": "IPY_MODEL_7c28a7e6fb9843f8bb476b152040a6ba",
       "saved_analysis_names_json": "[\"16\"]",
       "sheet_json": "[{\"columns\": [\"Name\", \"Height\"], \"index\": [0, 1, 2, 3], \"data\": [[\"Nate\", 4], [\"Nate\", 5], [\"Aaron\", 6], [\"Aaron\", 7]]}, {\"columns\": [\"index\", \"Aaron\", \"Nate\"], \"index\": [0], \"data\": [[\"Name\", 2, 2]]}]",
       "user_id": "nate",
       "value": "Hello World"
      }
     },
     "bd636bd3c027471795b7f6caa3870702": {
      "model_module": "mitosheet",
      "model_module_version": "^0.1.45",
      "model_name": "ExampleModel",
      "state": {
       "_model_module_version": "^0.1.45",
       "_view_module_version": "^0.1.45",
       "analysis_name": "UUID-b943dcd7-3df1-47f6-877f-b87fc6b34481",
       "code_json": "{\"imports\": \"from mitosheet import *\", \"code\": []}",
       "column_filters_json": "[{\"Name\": {\"operator\": \"And\", \"filters\": []}, \"Height\": {\"operator\": \"And\", \"filters\": []}}]",
       "column_spreadsheet_code_json": "[{\"Name\": \"\", \"Height\": \"\"}]",
       "column_type_json": "[{\"Name\": \"string\", \"Height\": \"number\"}]",
       "df_names_json": "{\"df_names\": [\"df1\"]}",
       "df_shape_json": "[{\"rows\": 4, \"cols\": 2}]",
       "layout": "IPY_MODEL_1e08b630bfa44988afb8d5a11c99ee7b",
       "saved_analysis_names_json": "[\"16\"]",
       "sheet_json": "[{\"columns\": [\"Name\", \"Height\"], \"index\": [0, 1, 2, 3], \"data\": [[\"Nate\", 4], [\"Nate\", 5], [\"Aaron\", 6], [\"Aaron\", 7]]}]",
       "user_id": "nate",
       "value": "Hello World"
      }
     },
     "ed29fb39dee34821b01158893e7fd9bc": {
      "model_module": "mitosheet",
      "model_module_version": "^0.1.45",
      "model_name": "ExampleModel",
      "state": {
       "_model_module_version": "^0.1.45",
       "_view_module_version": "^0.1.45",
       "analysis_name": "UUID-d3400cb2-bd59-4233-9e0a-1c2557add1fd",
       "code_json": "{\"imports\": \"from mitosheet import *\", \"code\": [\"# Step 1\", \"# Pivot the data\\npivot_table = df1.pivot_table(\\n    index=['Name'],\\n    values=['Height'],\\n    aggfunc={'Height': 'sum'}\\n)\", \"# Reset the column name and the indexes\\ndf2 = pivot_table.rename_axis(None, axis=1).reset_index()\"]}",
       "column_filters_json": "[{\"Name\": {\"operator\": \"And\", \"filters\": []}, \"Height\": {\"operator\": \"And\", \"filters\": []}}, {\"Name\": {\"operator\": \"And\", \"filters\": []}, \"Height\": {\"operator\": \"And\", \"filters\": []}}]",
       "column_spreadsheet_code_json": "[{\"Name\": \"\", \"Height\": \"\"}, {\"Name\": \"\", \"Height\": \"\"}]",
       "column_type_json": "[{\"Name\": \"string\", \"Height\": \"number\"}, {\"Name\": \"string\", \"Height\": \"number\"}]",
       "df_names_json": "{\"df_names\": [\"df1\", \"df2\"]}",
       "df_shape_json": "[{\"rows\": 4, \"cols\": 2}, {\"rows\": 2, \"cols\": 2}]",
       "layout": "IPY_MODEL_36eacd30913a486098542c1b220a3fda",
       "saved_analysis_names_json": "[\"16\"]",
       "sheet_json": "[{\"columns\": [\"Name\", \"Height\"], \"index\": [0, 1, 2, 3], \"data\": [[\"Nate\", 4], [\"Nate\", 5], [\"Aaron\", 6], [\"Aaron\", 7]]}, {\"columns\": [\"Name\", \"Height\"], \"index\": [0, 1], \"data\": [[\"Aaron\", 13], [\"Nate\", 9]]}]",
       "user_id": "nate",
       "value": "Hello World"
      }
     }
    },
    "version_major": 2,
    "version_minor": 0
   }
  }
 },
 "nbformat": 4,
 "nbformat_minor": 4
}
