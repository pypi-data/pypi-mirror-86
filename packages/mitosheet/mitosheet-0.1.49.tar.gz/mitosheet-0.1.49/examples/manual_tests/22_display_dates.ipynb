{
 "cells": [
  {
   "cell_type": "code",
   "execution_count": 1,
   "metadata": {},
   "outputs": [
    {
     "data": {
      "application/vnd.jupyter.widget-view+json": {
       "model_id": "386e041dce564ff2b3b9121a76febd0d",
       "version_major": 2,
       "version_minor": 0
      },
      "text/plain": [
       "MitoWidget(code_json='{\"imports\": \"from mitosheet import *\", \"code\": []}', column_filters_json='[{\"name\": {\"op…"
      ]
     },
     "metadata": {},
     "output_type": "display_data"
    }
   ],
   "source": [
    "\"\"\"\n",
    "This file should tests dates are displayed correctly in the sheet.\n",
    "\n",
    "Instructions:\n",
    "- Run this cell. \n",
    "- Check the dates in the sheet, and make sure they are displayed correctly (YYYY-MM-DD).\n",
    "- Add three new columns, and use the YEAR, MONTH, and DAY functions respectively to \n",
    "- Create a new column, and use the CONCAT function to get the new columns back to YYYY-MM-DD format as a string.\n",
    "- Create a final new column, and use the DATETIME function to return to a date (which doesn't change anything).\n",
    "- Add a new filter to the final column, getting all dates between December 1, 2001, and January 1, 2003.\n",
    "\"\"\"\n",
    "import mitosheet\n",
    "import pandas as pd\n",
    "df = pd.DataFrame({\n",
    "    'name': ['alice','bob','charlie'],\n",
    "    'dob': ['2005-10-23','2002-10-2','2001-11-14']\n",
    "})\n",
    "df['dob'] = pd.to_datetime(df['dob'])\n",
    "mitosheet.sheet(df)"
   ]
  },
  {
   "cell_type": "code",
   "execution_count": null,
   "metadata": {},
   "outputs": [],
   "source": [
    "# MITO CODE START (DO NOT EDIT)\n",
    "# SAVED-ANALYSIS-STARTUUID-75eef9c8-f72b-4a6d-b1bf-0b2b523efd1bSAVED-ANALYSIS-END\n",
    "\n",
    "from mitosheet import *\n",
    "\n",
    "# Step 1\n",
    "\n",
    "df['C'] = 0\n",
    "\n",
    "# Step 2\n",
    "\n",
    "df['C'] = 0\n",
    "\n",
    "# Step 3\n",
    "\n",
    "df['C'] = df['dob']\n",
    "  \n",
    "# MITO CODE END (DO NOT EDIT)"
   ]
  },
  {
   "cell_type": "code",
   "execution_count": null,
   "metadata": {},
   "outputs": [],
   "source": []
  },
  {
   "cell_type": "code",
   "execution_count": null,
   "metadata": {},
   "outputs": [],
   "source": []
  }
 ],
 "metadata": {
  "kernelspec": {
   "display_name": "Python 3",
   "language": "python",
   "name": "python3"
  },
  "language_info": {
   "codemirror_mode": {
    "name": "ipython",
    "version": 3
   },
   "file_extension": ".py",
   "mimetype": "text/x-python",
   "name": "python",
   "nbconvert_exporter": "python",
   "pygments_lexer": "ipython3",
   "version": "3.8.5"
  },
  "widgets": {
   "application/vnd.jupyter.widget-state+json": {
    "state": {},
    "version_major": 2,
    "version_minor": 0
   }
  }
 },
 "nbformat": 4,
 "nbformat_minor": 4
}
