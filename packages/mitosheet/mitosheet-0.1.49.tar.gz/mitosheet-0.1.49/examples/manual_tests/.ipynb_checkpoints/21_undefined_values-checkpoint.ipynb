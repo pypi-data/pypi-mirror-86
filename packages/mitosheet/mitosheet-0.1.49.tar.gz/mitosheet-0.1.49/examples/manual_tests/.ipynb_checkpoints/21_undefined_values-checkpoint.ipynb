{
 "cells": [
  {
   "cell_type": "code",
   "execution_count": 1,
   "metadata": {},
   "outputs": [
    {
     "data": {
      "application/vnd.jupyter.widget-view+json": {
       "model_id": "7fad279eff60409584aa262f559ecedf",
       "version_major": 2,
       "version_minor": 0
      },
      "text/plain": [
       "MitoWidget(code_json='{\"imports\": \"from mitosheet import *\", \"code\": []}', column_filters_json='[{\"Name\": {\"op…"
      ]
     },
     "metadata": {},
     "output_type": "display_data"
    }
   ],
   "source": [
    "\"\"\"\n",
    "Tests how the mitosheet handles undefined values.\n",
    "\n",
    "Steps:\n",
    "- Run this cell.\n",
    "- Check that there is a NaN in three Mito cells in the sheet, in a diagonal pattern.\n",
    "- Create a new column, and set it equal to Height / Weight. The last row should hold a value, and the other rows should have NaN.\n",
    "- Filter the column Weight to get rid of the NaN (is not empty). Check the last row is still defined. \n",
    "- Filter the Height column to get rid of NaNs (as above).\n",
    "- Run the generated code, and make sure the dataframe matches the above. \n",
    "\"\"\"\n",
    "import mitosheet\n",
    "import pandas as pd\n",
    "df1 = pd.DataFrame(data={'Name': ['Nate', 'Aaron', None], 'Height': ['4', None, 7], 'Weight': [None, 300, 400]})\n",
    "mitosheet.sheet(df1)"
   ]
  },
  {
   "cell_type": "code",
   "execution_count": null,
   "metadata": {},
   "outputs": [],
   "source": []
  },
  {
   "cell_type": "code",
   "execution_count": null,
   "metadata": {},
   "outputs": [],
   "source": []
  },
  {
   "cell_type": "code",
   "execution_count": null,
   "metadata": {},
   "outputs": [],
   "source": []
  }
 ],
 "metadata": {
  "kernelspec": {
   "display_name": "Python 3",
   "language": "python",
   "name": "python3"
  },
  "language_info": {
   "codemirror_mode": {
    "name": "ipython",
    "version": 3
   },
   "file_extension": ".py",
   "mimetype": "text/x-python",
   "name": "python",
   "nbconvert_exporter": "python",
   "pygments_lexer": "ipython3",
   "version": "3.8.5"
  },
  "widgets": {
   "application/vnd.jupyter.widget-state+json": {
    "state": {
     "2c75d2e4cd8f45fdb8a231ceda3a695c": {
      "model_module": "@jupyter-widgets/base",
      "model_module_version": "1.2.0",
      "model_name": "LayoutModel",
      "state": {}
     },
     "7fad279eff60409584aa262f559ecedf": {
      "model_module": "mitosheet",
      "model_module_version": "^0.1.43",
      "model_name": "ExampleModel",
      "state": {
       "_model_module_version": "^0.1.43",
       "_view_module_version": "^0.1.43",
       "analysis_name": "UUID-6bb46f33-7664-44c0-a9a9-597418342b09",
       "code_json": "{\"imports\": \"from mitosheet import *\", \"code\": []}",
       "column_filters_json": "[{\"Name\": {\"operator\": \"And\", \"filters\": []}, \"Height\": {\"operator\": \"And\", \"filters\": []}, \"Weight\": {\"operator\": \"And\", \"filters\": []}}]",
       "column_spreadsheet_code_json": "[{\"Name\": \"\", \"Height\": \"\", \"Weight\": \"\"}]",
       "column_type_json": "[{\"Name\": \"string\", \"Height\": \"string\", \"Weight\": \"number\"}]",
       "df_names_json": "{\"df_names\": [\"df1\"]}",
       "layout": "IPY_MODEL_2c75d2e4cd8f45fdb8a231ceda3a695c",
       "saved_analysis_names_json": "[]",
       "sheet_json": "[{\"columns\": [\"Name\", \"Height\", \"Weight\"], \"index\": [0, 1, 2], \"data\": [[\"Nate\", \"4\", \"NaN\"], [\"Aaron\", \"NaN\", 300.0], [\"NaN\", 7, 400.0]]}]",
       "user_id": "nate",
       "value": "Hello World"
      }
     }
    },
    "version_major": 2,
    "version_minor": 0
   }
  }
 },
 "nbformat": 4,
 "nbformat_minor": 4
}
