{
 "cells": [
  {
   "cell_type": "code",
   "execution_count": null,
   "metadata": {},
   "outputs": [],
   "source": [
    "\"\"\"\n",
    "This file tests some complex analysis with Mito, where mulitple mito instances\n",
    "exist in the same workbook. \n",
    "\n",
    "Instructions:\n",
    "1. Run this cell. Save the workbook.\n",
    "2. Refresh the page. Make sure the mito sheet reappears.\n",
    "3. Add a column, and set it to = Nums + 1.\n",
    "4. Check the values are correct, and that sheet tab has the correct data frame name at the bottom.\n",
    "5. Update the formula in B to = Nums + 2, and check it updates the sheet and codeblock correctly.  \n",
    "\"\"\"\n",
    "import mitosheet\n",
    "import pandas as pd\n",
    "df1 = pd.DataFrame(data={'Nums': [1, 2]})\n",
    "mitosheet.sheet(df1)"
   ]
  }
 ],
 "metadata": {
  "kernelspec": {
   "display_name": "Python 3",
   "language": "python",
   "name": "python3"
  },
  "language_info": {
   "codemirror_mode": {
    "name": "ipython",
    "version": 3
   },
   "file_extension": ".py",
   "mimetype": "text/x-python",
   "name": "python",
   "nbconvert_exporter": "python",
   "pygments_lexer": "ipython3",
   "version": "3.8.5"
  },
  "widgets": {
   "application/vnd.jupyter.widget-state+json": {
    "state": {
     "0f000a2dbe77483da393dbc1bc0d8171": {
      "model_module": "@jupyter-widgets/base",
      "model_module_version": "1.2.0",
      "model_name": "LayoutModel",
      "state": {}
     },
     "136630ec180847908b1b879534c69f86": {
      "model_module": "@jupyter-widgets/base",
      "model_module_version": "1.2.0",
      "model_name": "LayoutModel",
      "state": {}
     },
     "553e350b2dbf4d80a20612083e85dbee": {
      "model_module": "@jupyter-widgets/base",
      "model_module_version": "1.2.0",
      "model_name": "LayoutModel",
      "state": {}
     },
     "6e560696fe3940ce89768bd47f1fefb0": {
      "model_module": "mitosheet",
      "model_module_version": "^0.1.38",
      "model_name": "ExampleModel",
      "state": {
       "_model_module_version": "^0.1.38",
       "_view_module_version": "^0.1.38",
       "analysis_name": "UUID-70119333-5a59-4d24-8a18-f5bc95889242",
       "code_json": "{\"imports\": \"from mitosheet import *\", \"code\": [\"# Step 1\", \"# Make sure the columns are defined in the correct order\", \"df1['First_Name'] = 0; df1['Last_Name'] = 0; df1['Height'] = 0\", \"# Step 2\", \"groupby_obj = df1.groupby([\\\"First_Name\\\"], as_index=False)\", \"df2 = groupby_obj.agg({\\\"Height\\\": \\\"min\\\"})\", \"df2.rename(columns={\\\"Height\\\": \\\"Height_min\\\"}, inplace=True)\", \"# Step 3\", \"df2['Height'] = 0\", \"# Step 4\", \"groupby_obj = df1.groupby([\\\"First_Name\\\"], as_index=False)\", \"df3 = groupby_obj.agg({\\\"Height\\\": \\\"mean\\\"})\", \"df3.rename(columns={\\\"Height\\\": \\\"Height_mean\\\"}, inplace=True)\", \"# Step 5\", \"df3['Height'] = 0\", \"# Step 6\", \"groupby_obj = df1.groupby([\\\"First_Name\\\", \\\"Last_Name\\\"], as_index=False)\", \"df4 = groupby_obj.agg({})\", \"# Step 7\", \"groupby_obj = df1.groupby([\\\"First_Name\\\", \\\"Last_Name\\\"], as_index=False)\", \"df5 = groupby_obj.agg({\\\"Height\\\": \\\"max\\\"})\", \"df5.rename(columns={\\\"Height\\\": \\\"Height_max\\\"}, inplace=True)\", \"# Step 8\", \"df5['Height'] = 0\", \"# Step 9\", \"groupby_obj = df1.groupby([\\\"First_Name\\\"], as_index=False)\", \"df6 = groupby_obj.agg({\\\"Height\\\": \\\"mean\\\"})\", \"df6.rename(columns={\\\"Height\\\": \\\"Height_mean\\\"}, inplace=True)\", \"# Step 10\", \"df6['Height'] = 0\"]}",
       "column_filters_json": "[{\"Nums\": {\"condition\": \"none\", \"value\": \"\", \"type\": \"number\"}, \"First_Name\": {\"condition\": \"none\", \"value\": \"\", \"type\": \"number\"}, \"Last_Name\": {\"condition\": \"none\", \"value\": \"\", \"type\": \"number\"}, \"Height\": {\"condition\": \"none\", \"value\": \"\", \"type\": \"number\"}}, {\"First_Name\": {\"condition\": \"none\", \"value\": \"\", \"type\": \"number\"}, \"Height_min\": {\"condition\": \"none\", \"value\": \"\", \"type\": \"number\"}, \"Height\": {\"condition\": \"none\", \"value\": \"\", \"type\": \"number\"}}, {\"First_Name\": {\"condition\": \"none\", \"value\": \"\", \"type\": \"number\"}, \"Height_mean\": {\"condition\": \"none\", \"value\": \"\", \"type\": \"number\"}, \"Height\": {\"condition\": \"none\", \"value\": \"\", \"type\": \"number\"}}, {\"First_Name\": {\"condition\": \"none\", \"value\": \"\", \"type\": \"number\"}, \"Last_Name\": {\"condition\": \"none\", \"value\": \"\", \"type\": \"number\"}}, {\"First_Name\": {\"condition\": \"none\", \"value\": \"\", \"type\": \"number\"}, \"Last_Name\": {\"condition\": \"none\", \"value\": \"\", \"type\": \"number\"}, \"Height_max\": {\"condition\": \"none\", \"value\": \"\", \"type\": \"number\"}, \"Height\": {\"condition\": \"none\", \"value\": \"\", \"type\": \"number\"}}, {\"First_Name\": {\"condition\": \"none\", \"value\": \"\", \"type\": \"number\"}, \"Height_mean\": {\"condition\": \"none\", \"value\": \"\", \"type\": \"number\"}, \"Height\": {\"condition\": \"none\", \"value\": \"\", \"type\": \"number\"}}]",
       "column_spreadsheet_code_json": "[{\"Nums\": \"\", \"First_Name\": \"=0\", \"Last_Name\": \"=0\", \"Height\": \"=0\"}, {\"First_Name\": \"\", \"Height_min\": \"\", \"Height\": \"=0\"}, {\"First_Name\": \"\", \"Height_mean\": \"\", \"Height\": \"=0\"}, {\"First_Name\": \"\", \"Last_Name\": \"\"}, {\"First_Name\": \"\", \"Last_Name\": \"\", \"Height_max\": \"\", \"Height\": \"=0\"}, {\"First_Name\": \"\", \"Height_mean\": \"\", \"Height\": \"=0\"}]",
       "df_names_json": "{\"df_names\": [\"df1\", \"df2\", \"df3\", \"df4\", \"df5\", \"df6\"]}",
       "layout": "IPY_MODEL_553e350b2dbf4d80a20612083e85dbee",
       "saved_analysis_names_json": "[\"test_save0.010456446546556974\", \"test_save0.011830948190040824\", \"test_save0.059428101802818656\", \"test_save0.08983270555169676\", \"test_save0.13043771852994002\", \"test_save0.15920997935204728\", \"test_save0.22813724353102027\", \"test_save0.4532640009210266\", \"test_save0.6954276161821007\"]",
       "sheet_json": "[{\"columns\": [\"Nums\", \"First_Name\", \"Last_Name\", \"Height\"], \"index\": [0, 1], \"data\": [[1, 0, 0, 0], [2, 0, 0, 0]]}, {\"columns\": [\"First_Name\", \"Height_min\", \"Height\"], \"index\": [0], \"data\": [[0, 0, 0]]}, {\"columns\": [\"First_Name\", \"Height_mean\", \"Height\"], \"index\": [0], \"data\": [[0, 0, 0]]}, {\"columns\": [\"First_Name\", \"Last_Name\"], \"index\": [0], \"data\": [[0, 0]]}, {\"columns\": [\"First_Name\", \"Last_Name\", \"Height_max\", \"Height\"], \"index\": [0], \"data\": [[0, 0, 0, 0]]}, {\"columns\": [\"First_Name\", \"Height_mean\", \"Height\"], \"index\": [0], \"data\": [[0, 0, 0]]}]",
       "user_id": "nate",
       "value": "Hello World"
      }
     },
     "705ad3bb6a084d899c9d17162510032f": {
      "model_module": "@jupyter-widgets/base",
      "model_module_version": "1.2.0",
      "model_name": "LayoutModel",
      "state": {}
     },
     "85589c4e5a3e4b47aeb30073bdcc58fc": {
      "model_module": "@jupyter-widgets/base",
      "model_module_version": "1.2.0",
      "model_name": "LayoutModel",
      "state": {}
     },
     "87e76fc81182436e9bf3f59ae1e5df9a": {
      "model_module": "@jupyter-widgets/base",
      "model_module_version": "1.2.0",
      "model_name": "LayoutModel",
      "state": {}
     },
     "943c7c0f1dd14da2b57d388dd0fd0a78": {
      "model_module": "mitosheet",
      "model_module_version": "^0.1.38",
      "model_name": "ExampleModel",
      "state": {
       "_model_module_version": "^0.1.38",
       "_view_module_version": "^0.1.38",
       "analysis_name": "UUID-b40fe416-5322-4db5-b717-f423446c21b9",
       "code_json": "{\"imports\": \"from mitosheet import *\", \"code\": []}",
       "column_filters_json": "[{\"Name\": {\"condition\": \"none\", \"value\": \"\", \"type\": \"string\"}, \"Height\": {\"condition\": \"none\", \"value\": \"\", \"type\": \"string\"}}]",
       "column_spreadsheet_code_json": "[{\"Name\": \"\", \"Height\": \"\"}]",
       "df_names_json": "{\"df_names\": [\"df1\"]}",
       "layout": "IPY_MODEL_85589c4e5a3e4b47aeb30073bdcc58fc",
       "saved_analysis_names_json": "[\"test_save0.010456446546556974\", \"test_save0.011830948190040824\", \"test_save0.059428101802818656\", \"test_save0.08983270555169676\", \"test_save0.13043771852994002\", \"test_save0.15920997935204728\", \"test_save0.22813724353102027\", \"test_save0.4532640009210266\", \"test_save0.6954276161821007\"]",
       "sheet_json": "[{\"columns\": [\"Name\", \"Height\"], \"index\": [0, 1], \"data\": [[\"Nate\", \"4\"], [\"Nate\", \"5\"]]}]",
       "user_id": "nate",
       "value": "Hello World"
      }
     },
     "c2bb8120462944deb0573fef78ca37bf": {
      "model_module": "mitosheet",
      "model_module_version": "^0.1.38",
      "model_name": "ExampleModel",
      "state": {
       "_model_module_version": "^0.1.38",
       "_view_module_version": "^0.1.38",
       "analysis_name": "UUID-9a636d22-5928-4165-bad1-24d204c07404",
       "code_json": "{\"imports\": \"from mitosheet import *\", \"code\": [\"# Step 1\", \"groupby_obj = df1.groupby([\\\"Name\\\"], as_index=False)\", \"df2 = groupby_obj.agg({\\\"Name\\\": \\\"count\\\"})\", \"df2.rename(columns={\\\"Name\\\": \\\"Name_count\\\"}, inplace=True)\", \"# Step 2\", \"groupby_obj = df1.groupby([\\\"Name\\\"], as_index=False)\", \"df3 = groupby_obj.agg({\\\"Height\\\": \\\"count\\\"})\", \"df3.rename(columns={\\\"Height\\\": \\\"Height_count\\\"}, inplace=True)\"]}",
       "column_filters_json": "[{\"Name\": {\"condition\": \"none\", \"value\": \"\", \"type\": \"string\"}, \"Height\": {\"condition\": \"none\", \"value\": \"\", \"type\": \"string\"}}, {\"Name_count\": {\"condition\": \"none\", \"value\": \"\", \"type\": \"number\"}}, {\"Name\": {\"condition\": \"none\", \"value\": \"\", \"type\": \"string\"}, \"Height_count\": {\"condition\": \"none\", \"value\": \"\", \"type\": \"number\"}}]",
       "column_spreadsheet_code_json": "[{\"Name\": \"\", \"Height\": \"\"}, {\"Name_count\": \"\"}, {\"Name\": \"\", \"Height_count\": \"\"}]",
       "df_names_json": "{\"df_names\": [\"df1\", \"df2\", \"df3\"]}",
       "layout": "IPY_MODEL_705ad3bb6a084d899c9d17162510032f",
       "saved_analysis_names_json": "[\"test_save0.010456446546556974\", \"test_save0.011830948190040824\", \"test_save0.059428101802818656\", \"test_save0.08983270555169676\", \"test_save0.13043771852994002\", \"test_save0.15920997935204728\", \"test_save0.22813724353102027\", \"test_save0.4532640009210266\", \"test_save0.6954276161821007\"]",
       "sheet_json": "[{\"columns\": [\"Name\", \"Height\"], \"index\": [0, 1], \"data\": [[\"Nate\", \"4\"], [\"Nate\", \"5\"]]}, {\"columns\": [\"Name_count\"], \"index\": [0], \"data\": [[2]]}, {\"columns\": [\"Name\", \"Height_count\"], \"index\": [0], \"data\": [[\"Nate\", 2]]}]",
       "user_id": "nate",
       "value": "Hello World"
      }
     },
     "de588a02f67f4004bd56991108d21a31": {
      "model_module": "mitosheet",
      "model_module_version": "^0.1.38",
      "model_name": "ExampleModel",
      "state": {
       "_model_module_version": "^0.1.38",
       "_view_module_version": "^0.1.38",
       "analysis_name": "UUID-2c9461d6-aa90-4ecb-913e-ef488c9163cb",
       "code_json": "{\"imports\": \"from mitosheet import *\", \"code\": [\"# Step 1\", \"groupby_obj = df1.groupby([\\\"Name\\\"], as_index=False)\", \"df2 = groupby_obj.agg({})\"]}",
       "column_filters_json": "[{\"Name\": {\"condition\": \"none\", \"value\": \"\", \"type\": \"string\"}, \"Height\": {\"condition\": \"none\", \"value\": \"\", \"type\": \"string\"}}, {\"Name\": {\"condition\": \"none\", \"value\": \"\", \"type\": \"string\"}}]",
       "column_spreadsheet_code_json": "[{\"Name\": \"\", \"Height\": \"\"}, {\"Name\": \"\"}]",
       "df_names_json": "{\"df_names\": [\"df1\"]}",
       "layout": "IPY_MODEL_0f000a2dbe77483da393dbc1bc0d8171",
       "saved_analysis_names_json": "[\"test_save0.010456446546556974\", \"test_save0.011830948190040824\", \"test_save0.059428101802818656\", \"test_save0.08983270555169676\", \"test_save0.13043771852994002\", \"test_save0.15920997935204728\", \"test_save0.22813724353102027\", \"test_save0.4532640009210266\", \"test_save0.6954276161821007\"]",
       "sheet_json": "[{\"columns\": [\"Name\", \"Height\"], \"index\": [0, 1], \"data\": [[\"Nate\", \"4\"], [\"Nate\", \"5\"]]}, {\"columns\": [\"Name\"], \"index\": [0], \"data\": [[\"Nate\"]]}]",
       "user_id": "nate",
       "value": "Hello World"
      }
     },
     "e34e4baa7ca54c3db3292be73929607c": {
      "model_module": "mitosheet",
      "model_module_version": "^0.1.38",
      "model_name": "ExampleModel",
      "state": {
       "_model_module_version": "^0.1.38",
       "_view_module_version": "^0.1.38",
       "analysis_name": "UUID-a139f5b0-5f02-4f0d-9715-2537ed341623",
       "code_json": "{\"imports\": \"from mitosheet import *\", \"code\": [\"# Step 1\", \"groupby_obj = df1.groupby([\\\"Name\\\"], as_index=False)\", \"df2 = groupby_obj.agg({\\\"Name\\\": \\\"count\\\"})\", \"df2.rename(columns={\\\"Name\\\": \\\"Name_count\\\"}, inplace=True)\", \"# Step 2\", \"groupby_obj = df1.groupby([\\\"Name\\\"], as_index=False)\", \"df3 = groupby_obj.agg({\\\"Height\\\": \\\"count\\\"})\", \"df3.rename(columns={\\\"Height\\\": \\\"Height_count\\\"}, inplace=True)\"]}",
       "column_filters_json": "[{\"Name\": {\"condition\": \"none\", \"value\": \"\", \"type\": \"string\"}, \"Height\": {\"condition\": \"none\", \"value\": \"\", \"type\": \"string\"}}, {\"Name_count\": {\"condition\": \"none\", \"value\": \"\", \"type\": \"number\"}}, {\"Name\": {\"condition\": \"none\", \"value\": \"\", \"type\": \"string\"}, \"Height_count\": {\"condition\": \"none\", \"value\": \"\", \"type\": \"number\"}}]",
       "column_spreadsheet_code_json": "[{\"Name\": \"\", \"Height\": \"\"}, {\"Name_count\": \"\"}, {\"Name\": \"\", \"Height_count\": \"\"}]",
       "df_names_json": "{\"df_names\": [\"df1\"]}",
       "layout": "IPY_MODEL_136630ec180847908b1b879534c69f86",
       "saved_analysis_names_json": "[\"test_save0.010456446546556974\", \"test_save0.011830948190040824\", \"test_save0.059428101802818656\", \"test_save0.08983270555169676\", \"test_save0.13043771852994002\", \"test_save0.15920997935204728\", \"test_save0.22813724353102027\", \"test_save0.4532640009210266\", \"test_save0.6954276161821007\"]",
       "sheet_json": "[{\"columns\": [\"Name\", \"Height\"], \"index\": [0, 1], \"data\": [[\"Nate\", \"4\"], [\"Nate\", \"5\"]]}, {\"columns\": [\"Name_count\"], \"index\": [0], \"data\": [[2]]}, {\"columns\": [\"Name\", \"Height_count\"], \"index\": [0], \"data\": [[\"Nate\", 2]]}]",
       "user_id": "nate",
       "value": "Hello World"
      }
     },
     "f383af3afc954e5497dab2f142116401": {
      "model_module": "mitosheet",
      "model_module_version": "^0.1.38",
      "model_name": "ExampleModel",
      "state": {
       "_model_module_version": "^0.1.38",
       "_view_module_version": "^0.1.38",
       "analysis_name": "UUID-1fe4c9fe-ab1c-49f9-b525-84196a27d646",
       "code_json": "{\"imports\": \"from mitosheet import *\", \"code\": []}",
       "column_filters_json": "[{\"Name\": {\"condition\": \"none\", \"value\": \"\", \"type\": \"string\"}, \"Height\": {\"condition\": \"none\", \"value\": \"\", \"type\": \"string\"}}]",
       "column_spreadsheet_code_json": "[{\"Name\": \"\", \"Height\": \"\"}]",
       "df_names_json": "{\"df_names\": [\"df1\"]}",
       "layout": "IPY_MODEL_87e76fc81182436e9bf3f59ae1e5df9a",
       "saved_analysis_names_json": "[\"test_save0.010456446546556974\", \"test_save0.011830948190040824\", \"test_save0.059428101802818656\", \"test_save0.08983270555169676\", \"test_save0.13043771852994002\", \"test_save0.15920997935204728\", \"test_save0.22813724353102027\", \"test_save0.4532640009210266\", \"test_save0.6954276161821007\"]",
       "sheet_json": "[{\"columns\": [\"Name\", \"Height\"], \"index\": [0, 1], \"data\": [[\"Nate\", \"4\"], [\"Nate\", \"5\"]]}]",
       "user_id": "nate",
       "value": "Hello World"
      }
     }
    },
    "version_major": 2,
    "version_minor": 0
   }
  }
 },
 "nbformat": 4,
 "nbformat_minor": 4
}
