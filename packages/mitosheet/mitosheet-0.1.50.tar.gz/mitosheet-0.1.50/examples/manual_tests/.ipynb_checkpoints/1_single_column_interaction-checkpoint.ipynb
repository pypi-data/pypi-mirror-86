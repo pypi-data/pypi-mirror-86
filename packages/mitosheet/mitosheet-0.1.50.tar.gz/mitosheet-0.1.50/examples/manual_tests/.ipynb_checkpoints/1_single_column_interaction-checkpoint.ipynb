{
 "cells": [
  {
   "cell_type": "code",
   "execution_count": null,
   "metadata": {},
   "outputs": [],
   "source": [
    "\"\"\"\n",
    "This file tests some basic interactions with mito, including editing the sheet\n",
    "and repeating the analysis.\n",
    "\n",
    "Instructions:\n",
    "1. Run this cell.\n",
    "2. Add a column, and set it equal to =SUM(Nums, 100)\n",
    "3. Check the values are correctly computed [101, 102, 103].\n",
    "4. Switch the order of the two columns\n",
    "4. Save the analysis.\n",
    "5. Delete the bottom cell, and run the top cell (resetting the analysis).\n",
    "6. Use the replay analysis button to replay your previously saved analysis, and check:\n",
    "    - the new column has the correct values \n",
    "    - the columns are in the correct order\n",
    "\"\"\"\n",
    "import mitosheet\n",
    "import pandas as pd\n",
    "df = pd.DataFrame(data={'Nums': [1, 2, 3]})\n",
    "mitosheet.sheet(df)"
   ]
  }
 ],
 "metadata": {
  "kernelspec": {
   "display_name": "Python 3",
   "language": "python",
   "name": "python3"
  },
  "language_info": {
   "codemirror_mode": {
    "name": "ipython",
    "version": 3
   },
   "file_extension": ".py",
   "mimetype": "text/x-python",
   "name": "python",
   "nbconvert_exporter": "python",
   "pygments_lexer": "ipython3",
   "version": "3.8.5"
  },
  "widgets": {
   "application/vnd.jupyter.widget-state+json": {
    "state": {
     "1355d18c01b14713a8ddd5a542545096": {
      "model_module": "mitosheet",
      "model_module_version": "^0.1.47",
      "model_name": "ExampleModel",
      "state": {
       "_model_module_version": "^0.1.47",
       "_view_module_version": "^0.1.47",
       "analysis_name": "UUID-78d3329b-b194-4b3f-b7f4-672109ec7587",
       "code_json": "{\"imports\": \"from mitosheet import *\", \"code\": []}",
       "column_filters_json": "[{\"Nums\": {\"operator\": \"And\", \"filters\": []}}]",
       "column_spreadsheet_code_json": "[{\"Nums\": \"\"}]",
       "column_type_json": "[{\"Nums\": \"number\"}]",
       "df_names_json": "{\"df_names\": [\"df\"]}",
       "df_shape_json": "[{\"rows\": 3, \"cols\": 1}]",
       "layout": "IPY_MODEL_89ff578f563740a8bf845637955aaaee",
       "saved_analysis_names_json": "[\"Test\"]",
       "sheet_json": "[{\"columns\": [\"Nums\"], \"index\": [0, 1, 2], \"data\": [[1], [2], [3]]}]",
       "user_id": "nate",
       "value": "Hello World"
      }
     },
     "89ff578f563740a8bf845637955aaaee": {
      "model_module": "@jupyter-widgets/base",
      "model_module_version": "1.2.0",
      "model_name": "LayoutModel",
      "state": {}
     },
     "a2c613fde134491bb8161fdfcb90de19": {
      "model_module": "mitosheet",
      "model_module_version": "^0.1.47",
      "model_name": "ExampleModel",
      "state": {
       "_model_module_version": "^0.1.47",
       "_view_module_version": "^0.1.47",
       "analysis_name": "UUID-ab82facc-d2b4-4624-9e38-e859e7073a07",
       "code_json": "{\"imports\": \"from mitosheet import *\", \"code\": []}",
       "column_filters_json": "[{\"Nums\": {\"operator\": \"And\", \"filters\": []}}]",
       "column_spreadsheet_code_json": "[{\"Nums\": \"\"}]",
       "column_type_json": "[{\"Nums\": \"number\"}]",
       "df_names_json": "{\"df_names\": [\"df\"]}",
       "df_shape_json": "[{\"rows\": 3, \"cols\": 1}]",
       "layout": "IPY_MODEL_b803e249ad7b410783cd7c1ba4b11749",
       "saved_analysis_names_json": "[\"Test\"]",
       "sheet_json": "[{\"columns\": [\"Nums\"], \"index\": [0, 1, 2], \"data\": [[1], [2], [3]]}]",
       "user_id": "nate",
       "value": "Hello World"
      }
     },
     "b803e249ad7b410783cd7c1ba4b11749": {
      "model_module": "@jupyter-widgets/base",
      "model_module_version": "1.2.0",
      "model_name": "LayoutModel",
      "state": {}
     }
    },
    "version_major": 2,
    "version_minor": 0
   }
  }
 },
 "nbformat": 4,
 "nbformat_minor": 4
}
