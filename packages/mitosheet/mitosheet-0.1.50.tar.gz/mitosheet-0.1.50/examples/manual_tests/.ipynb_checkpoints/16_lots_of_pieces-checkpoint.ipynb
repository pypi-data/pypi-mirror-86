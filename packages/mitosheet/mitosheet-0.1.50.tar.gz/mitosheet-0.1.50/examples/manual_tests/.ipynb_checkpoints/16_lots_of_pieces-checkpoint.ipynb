{
 "cells": [
  {
   "cell_type": "code",
   "execution_count": null,
   "metadata": {},
   "outputs": [],
   "source": [
    "\"\"\"\n",
    "This file should tests a complex workflow where lots of things are applied in a row. \n",
    "\n",
    "Steps:\n",
    "- Run this cell. \n",
    "- Merge on id. \n",
    "- Delete a column from each of the first two sheets. \n",
    "- Create a new column called full_name in the third sheet, where you concat the first and last names. \n",
    "- Apply a filter to the third sheet to the full_name column, for all those that contain \"vich.\"\n",
    "- Delete the id column in the third sheet.\n",
    "- Delete the column filter in the third sheet.\n",
    "- Reapply the column filter in the third sheet.\n",
    "- Save the analysis. \n",
    "- Delete everything but this cell, rerun it, and then replay the analysis and make sure it is still correct. \n",
    "- Run the generated code and make sure it works as expected (e.g. displays same values as the sheet).\n",
    "\n",
    "\"\"\"\n",
    "import mitosheet\n",
    "import pandas as pd\n",
    "first = pd.DataFrame(data={'id': [1, 2, 3], 'first_name': ['nate', 'aaron', 'jake']})\n",
    "last = pd.DataFrame(data={'id': [1, 2, 3], 'last_name': ['rush', 'Diamond-Reivich', 'diamond-reivich']})\n",
    "mitosheet.sheet(first, last)"
   ]
  }
 ],
 "metadata": {
  "kernelspec": {
   "display_name": "Python 3",
   "language": "python",
   "name": "python3"
  },
  "language_info": {
   "codemirror_mode": {
    "name": "ipython",
    "version": 3
   },
   "file_extension": ".py",
   "mimetype": "text/x-python",
   "name": "python",
   "nbconvert_exporter": "python",
   "pygments_lexer": "ipython3",
   "version": "3.8.5"
  },
  "widgets": {
   "application/vnd.jupyter.widget-state+json": {
    "state": {
     "024216aac2ce45959afd83186cccad08": {
      "model_module": "@jupyter-widgets/base",
      "model_module_version": "1.2.0",
      "model_name": "LayoutModel",
      "state": {}
     },
     "ca549b90888748be878a7b374398432d": {
      "model_module": "mitosheet",
      "model_module_version": "^0.1.47",
      "model_name": "ExampleModel",
      "state": {
       "_model_module_version": "^0.1.47",
       "_view_module_version": "^0.1.47",
       "analysis_name": "UUID-37f4bd42-4e5a-4ddf-8e32-ec6e46c87369",
       "code_json": "{\"imports\": \"from mitosheet import *\", \"code\": []}",
       "column_filters_json": "[{\"id\": {\"operator\": \"And\", \"filters\": []}, \"first_name\": {\"operator\": \"And\", \"filters\": []}}, {\"id\": {\"operator\": \"And\", \"filters\": []}, \"last_name\": {\"operator\": \"And\", \"filters\": []}}]",
       "column_spreadsheet_code_json": "[{\"id\": \"\", \"first_name\": \"\"}, {\"id\": \"\", \"last_name\": \"\"}]",
       "column_type_json": "[{\"id\": \"number\", \"first_name\": \"string\"}, {\"id\": \"number\", \"last_name\": \"string\"}]",
       "df_names_json": "{\"df_names\": [\"first\", \"last\", \"df3\", \"df4\"]}",
       "df_shape_json": "[{\"rows\": 3, \"cols\": 2}, {\"rows\": 3, \"cols\": 2}]",
       "layout": "IPY_MODEL_024216aac2ce45959afd83186cccad08",
       "saved_analysis_names_json": "[\"Test\"]",
       "sheet_json": "[{\"columns\": [\"id\", \"first_name\"], \"index\": [0, 1, 2], \"data\": [[1, \"nate\"], [2, \"aaron\"], [3, \"jake\"]]}, {\"columns\": [\"id\", \"last_name\"], \"index\": [0, 1, 2], \"data\": [[1, \"rush\"], [2, \"Diamond-Reivich\"], [3, \"diamond-reivich\"]]}]",
       "user_id": "nate",
       "value": "Hello World"
      }
     }
    },
    "version_major": 2,
    "version_minor": 0
   }
  }
 },
 "nbformat": 4,
 "nbformat_minor": 4
}
