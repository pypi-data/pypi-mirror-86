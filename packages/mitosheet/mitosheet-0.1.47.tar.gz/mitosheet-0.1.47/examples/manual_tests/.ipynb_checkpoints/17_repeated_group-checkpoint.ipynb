{
 "cells": [
  {
   "cell_type": "code",
   "execution_count": null,
   "metadata": {},
   "outputs": [],
   "source": [
    "\"\"\"\n",
    "Tests grouping in a variety of different ways with all the aggregation options.\n",
    "\n",
    "Steps:\n",
    "- Run this cell.\n",
    "- Click the group button:\n",
    "    - Select df1 as the sheet\n",
    "    - Select Name as the group by key\n",
    "    - Add a value, which shuold default to (Height, sum). \n",
    "    - Click group, and check the new sheet and generated code.\n",
    "- Rerun this cell, and check that the dataframes are still defined properly.\n",
    "- Rerun this cell, and make sure all the dataframes redefine properly.\n",
    "\"\"\"\n",
    "import mitosheet\n",
    "import pandas as pd\n",
    "df1 = pd.DataFrame(data={'Name': ['Nate', 'Nate', 'Aaron', 'Aaron'], 'Height': [4, 5, 6, 7]})\n",
    "mitosheet.sheet(df1)"
   ]
  }
 ],
 "metadata": {
  "kernelspec": {
   "display_name": "Python 3",
   "language": "python",
   "name": "python3"
  },
  "language_info": {
   "codemirror_mode": {
    "name": "ipython",
    "version": 3
   },
   "file_extension": ".py",
   "mimetype": "text/x-python",
   "name": "python",
   "nbconvert_exporter": "python",
   "pygments_lexer": "ipython3",
   "version": "3.8.5"
  },
  "widgets": {
   "application/vnd.jupyter.widget-state+json": {
    "state": {
     "6528721396e94917b62871a4844e0923": {
      "model_module": "@jupyter-widgets/base",
      "model_module_version": "1.2.0",
      "model_name": "LayoutModel",
      "state": {}
     },
     "f0cbde6c851e4522989c2d6ef87c2455": {
      "model_module": "mitosheet",
      "model_module_version": "^0.1.38",
      "model_name": "ExampleModel",
      "state": {
       "_model_module_version": "^0.1.38",
       "_view_module_version": "^0.1.38",
       "analysis_name": "UUID-f9dc7b97-2980-42e5-b24b-56764c1fb4fc",
       "code_json": "{\"imports\": \"from mitosheet import *\", \"code\": [\"# Step 1\", \"groupby_obj = df1.groupby([\\\"Name\\\"], as_index=False)\", \"df2 = groupby_obj.agg({\\\"Height\\\": \\\"min\\\"})\", \"df2.rename(columns={\\\"Height\\\": \\\"Height_min\\\"}, inplace=True)\"]}",
       "column_filters_json": "[{\"Name\": {\"condition\": \"none\", \"value\": \"\", \"type\": \"string\"}, \"Height\": {\"condition\": \"none\", \"value\": \"\", \"type\": \"number\"}}, {\"Name\": {\"condition\": \"none\", \"value\": \"\", \"type\": \"string\"}, \"Height_min\": {\"condition\": \"none\", \"value\": \"\", \"type\": \"number\"}}]",
       "column_spreadsheet_code_json": "[{\"Name\": \"\", \"Height\": \"\"}, {\"Name\": \"\", \"Height_min\": \"\"}]",
       "df_names_json": "{\"df_names\": [\"df1\"]}",
       "layout": "IPY_MODEL_6528721396e94917b62871a4844e0923",
       "saved_analysis_names_json": "[\"test_save0.010456446546556974\", \"test_save0.011830948190040824\", \"test_save0.059428101802818656\", \"test_save0.08983270555169676\", \"test_save0.13043771852994002\", \"test_save0.15920997935204728\", \"test_save0.22813724353102027\", \"test_save0.4532640009210266\", \"test_save0.6954276161821007\"]",
       "sheet_json": "[{\"columns\": [\"Name\", \"Height\"], \"index\": [0, 1, 2, 3], \"data\": [[\"Nate\", 4], [\"Nate\", 5], [\"Aaron\", 6], [\"Aaron\", 7]]}, {\"columns\": [\"Name\", \"Height_min\"], \"index\": [0, 1], \"data\": [[\"Aaron\", 6], [\"Nate\", 4]]}]",
       "user_id": "nate",
       "value": "Hello World"
      }
     }
    },
    "version_major": 2,
    "version_minor": 0
   }
  }
 },
 "nbformat": 4,
 "nbformat_minor": 4
}
