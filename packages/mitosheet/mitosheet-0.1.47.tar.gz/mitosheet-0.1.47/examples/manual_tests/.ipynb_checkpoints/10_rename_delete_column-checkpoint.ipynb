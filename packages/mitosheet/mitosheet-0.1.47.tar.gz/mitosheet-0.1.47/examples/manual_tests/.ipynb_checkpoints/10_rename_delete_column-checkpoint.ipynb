{
 "cells": [
  {
   "cell_type": "code",
   "execution_count": null,
   "metadata": {},
   "outputs": [],
   "source": [
    "\"\"\"\n",
    "This file tests renaming a column in Mito, and then rerunning this analysis.\n",
    "\n",
    "Instructions:\n",
    "1. Run this cell. \n",
    "2. Add a column, click on the column header, and try setting it to \"123\", \"ha ha\" and \"123!\" (w/o quotes), and they should register as invalid. \n",
    "3. Then set the column to \"ABC\"\n",
    "4. This should update in the sheet.\n",
    "5. Then rerun the top cell, it should still be renamed. \n",
    "6. Run the generated code cell and check the resulting data frame, and make sure the header has been updated.\n",
    "7. Go back to the sheet, and delete the column ABC\n",
    "8. Rerun the top cell, and make sure the column is still gone.\n",
    "9. Rerun the bottom cell, and make sure the column is gone.\n",
    "\"\"\"\n",
    "import mitosheet\n",
    "import pandas as pd\n",
    "df = pd.DataFrame(data={'Data': [1, 2, 3]})\n",
    "mitosheet.sheet(df)"
   ]
  }
 ],
 "metadata": {
  "kernelspec": {
   "display_name": "Python 3",
   "language": "python",
   "name": "python3"
  },
  "language_info": {
   "codemirror_mode": {
    "name": "ipython",
    "version": 3
   },
   "file_extension": ".py",
   "mimetype": "text/x-python",
   "name": "python",
   "nbconvert_exporter": "python",
   "pygments_lexer": "ipython3",
   "version": "3.8.5"
  },
  "widgets": {
   "application/vnd.jupyter.widget-state+json": {
    "state": {
     "0793456fa05446f585ff4238d1180115": {
      "model_module": "@jupyter-widgets/base",
      "model_module_version": "1.2.0",
      "model_name": "LayoutModel",
      "state": {}
     },
     "18c82e7da6e145dc8738e2390fccbc51": {
      "model_module": "mitosheet",
      "model_module_version": "^0.1.33",
      "model_name": "ExampleModel",
      "state": {
       "_model_module_version": "^0.1.33",
       "_view_module_version": "^0.1.33",
       "analysis_name": "fcf41b4a-a744-45ab-a006-a0c4977d0e02",
       "code_json": "{\"imports\": \"from mitosheet import AVG,CLEAN,CONCAT,FIND,LEFT,LEN,LOWER,MID,MULTIPLY,PROPER,RIGHT,SUBSTITUTE,SUM,TRIM,UPPER\", \"code\": [\"# Step 1\", \"df['B'] = 0\", \"# Step 2\", \"df.rename(columns={\\\"B\\\": \\\"ABC\\\"}, inplace=True)\"]}",
       "column_spreadsheet_code_json": "[{\"Data\": \"\", \"ABC\": \"=0\"}]",
       "df_names_json": "{\"df_names\": [\"df\"]}",
       "layout": "IPY_MODEL_0793456fa05446f585ff4238d1180115",
       "sheet_json": "[{\"columns\": [\"Data\", \"ABC\"], \"index\": [0, 1, 2], \"data\": [[1, 0], [2, 0], [3, 0]]}]",
       "user_id": "nate",
       "value": "Hello World"
      }
     },
     "5b5c8a020d81447fa35f173faf039978": {
      "model_module": "mitosheet",
      "model_module_version": "^0.1.33",
      "model_name": "ExampleModel",
      "state": {
       "_model_module_version": "^0.1.33",
       "_view_module_version": "^0.1.33",
       "analysis_name": "5cc4a2b1-fe22-4e73-aaa1-057dbe0e2980",
       "code_json": "{\"imports\": \"from mitosheet import AVG,CLEAN,CONCAT,FIND,LEFT,LEN,LOWER,MID,MULTIPLY,PROPER,RIGHT,SUBSTITUTE,SUM,TRIM,UPPER\", \"code\": [\"# Step 1\", \"df['B'] = 0\", \"# Step 2\", \"df.rename(columns={\\\"B\\\": \\\"ABC\\\"}, inplace=True)\", \"# Step 3\", \"df['ABC'] = 0\", \"# Step 4\", \"df.drop('ABC', axis=1, inplace=True)\"]}",
       "column_spreadsheet_code_json": "[{\"Data\": \"\"}]",
       "df_names_json": "{\"df_names\": [\"df\"]}",
       "layout": "IPY_MODEL_7539b8b1fde948b5931f6140ad0ea96a",
       "sheet_json": "[{\"columns\": [\"Data\"], \"index\": [0, 1, 2], \"data\": [[1], [2], [3]]}]",
       "user_id": "nate",
       "value": "Hello World"
      }
     },
     "7539b8b1fde948b5931f6140ad0ea96a": {
      "model_module": "@jupyter-widgets/base",
      "model_module_version": "1.2.0",
      "model_name": "LayoutModel",
      "state": {}
     },
     "9c2970b739b545e78459fb6b756133d2": {
      "model_module": "mitosheet",
      "model_module_version": "^0.1.33",
      "model_name": "ExampleModel",
      "state": {
       "_model_module_version": "^0.1.33",
       "_view_module_version": "^0.1.33",
       "analysis_name": "a03be068-6666-4da8-8ce9-54db82aabe27",
       "code_json": "{\"imports\": \"from mitosheet import AVG,CLEAN,CONCAT,FIND,LEFT,LEN,LOWER,MID,MULTIPLY,PROPER,RIGHT,SUBSTITUTE,SUM,TRIM,UPPER\", \"code\": [\"# Step 1\", \"df['B'] = 0\", \"# Step 2\", \"df.rename(columns={\\\"B\\\": \\\"ABC\\\"}, inplace=True)\", \"# Step 3\", \"df['ABC'] = 0\", \"# Step 4\", \"df.drop('ABC', axis=1, inplace=True)\"]}",
       "column_spreadsheet_code_json": "[{\"Data\": \"\"}]",
       "df_names_json": "{\"df_names\": [\"df\"]}",
       "layout": "IPY_MODEL_ff6f509af3cc490c8d9feb142db3f83a",
       "sheet_json": "[{\"columns\": [\"Data\"], \"index\": [0, 1, 2], \"data\": [[1], [2], [3]]}]",
       "user_id": "nate",
       "value": "Hello World"
      }
     },
     "ff6f509af3cc490c8d9feb142db3f83a": {
      "model_module": "@jupyter-widgets/base",
      "model_module_version": "1.2.0",
      "model_name": "LayoutModel",
      "state": {}
     }
    },
    "version_major": 2,
    "version_minor": 0
   }
  }
 },
 "nbformat": 4,
 "nbformat_minor": 4
}
