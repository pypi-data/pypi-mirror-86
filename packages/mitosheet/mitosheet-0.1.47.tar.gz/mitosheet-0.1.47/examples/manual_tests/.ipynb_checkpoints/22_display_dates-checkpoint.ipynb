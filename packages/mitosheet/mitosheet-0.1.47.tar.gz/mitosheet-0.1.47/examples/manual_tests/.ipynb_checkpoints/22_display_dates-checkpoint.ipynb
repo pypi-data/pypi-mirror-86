{
 "cells": [
  {
   "cell_type": "code",
   "execution_count": null,
   "metadata": {},
   "outputs": [],
   "source": [
    "\"\"\"\n",
    "This file should tests dates are displayed correctly in the sheet.\n",
    "\n",
    "Instructions:\n",
    "- Run this cell. \n",
    "- Check the dates in the sheet, and make sure they are displayed correctly (YYYY-MM-DD).\n",
    "- Add three new columns, and use the YEAR, MONTH, and DAY functions respectively to \n",
    "- Create a new column, and use the CONCAT function to get the new columns back to YYYY-MM-DD format as a string.\n",
    "- Create a final new column, and use the DATETIME function to return to a date (which doesn't change anything).\n",
    "- Add a new filter to the final column, getting all dates between December 1, 2001, and January 1, 2003.\n",
    "\"\"\"\n",
    "import mitosheet\n",
    "import pandas as pd\n",
    "df = pd.DataFrame({\n",
    "    'name': ['alice','bob','charlie'],\n",
    "    'dob': ['2005-10-23','2002-10-2','2001-11-14']\n",
    "})\n",
    "df['dob'] = pd.to_datetime(df['dob'])\n",
    "mitosheet.sheet(df)"
   ]
  }
 ],
 "metadata": {
  "kernelspec": {
   "display_name": "Python 3",
   "language": "python",
   "name": "python3"
  },
  "language_info": {
   "codemirror_mode": {
    "name": "ipython",
    "version": 3
   },
   "file_extension": ".py",
   "mimetype": "text/x-python",
   "name": "python",
   "nbconvert_exporter": "python",
   "pygments_lexer": "ipython3",
   "version": "3.8.5"
  },
  "widgets": {
   "application/vnd.jupyter.widget-state+json": {
    "state": {
     "7e036bb89d8245288d0c722687786f92": {
      "model_module": "mitosheet",
      "model_module_version": "^0.1.45",
      "model_name": "ExampleModel",
      "state": {
       "_model_module_version": "^0.1.45",
       "_view_module_version": "^0.1.45",
       "analysis_name": "UUID-258721bc-48fe-4713-9872-ae2e43001f92",
       "code_json": "{\"imports\": \"from mitosheet import *\", \"code\": []}",
       "column_filters_json": "[{\"name\": {\"operator\": \"And\", \"filters\": []}, \"dob\": {\"operator\": \"And\", \"filters\": []}}]",
       "column_spreadsheet_code_json": "[{\"name\": \"\", \"dob\": \"\"}]",
       "column_type_json": "[{\"name\": \"string\", \"dob\": \"datetime\"}]",
       "df_names_json": "{\"df_names\": [\"df\"]}",
       "df_shape_json": "[{\"rows\": 3, \"cols\": 2}]",
       "layout": "IPY_MODEL_8a89341657144edbbf8b1f7dffc4a90d",
       "saved_analysis_names_json": "[\"16\"]",
       "sheet_json": "[{\"columns\": [\"name\", \"dob\"], \"index\": [0, 1, 2], \"data\": [[\"alice\", \"2005-10-25\"], [\"bob\", \"2002-10-02\"], [\"charlie\", \"2001-11-14\"]]}]",
       "user_id": "nate",
       "value": "Hello World"
      }
     },
     "8247444b448148729cdf0ec4f650ba5d": {
      "model_module": "@jupyter-widgets/base",
      "model_module_version": "1.2.0",
      "model_name": "LayoutModel",
      "state": {}
     },
     "8a89341657144edbbf8b1f7dffc4a90d": {
      "model_module": "@jupyter-widgets/base",
      "model_module_version": "1.2.0",
      "model_name": "LayoutModel",
      "state": {}
     },
     "a3a5e9ec5a1849b392e101e22ac2d3e7": {
      "model_module": "mitosheet",
      "model_module_version": "^0.1.45",
      "model_name": "ExampleModel",
      "state": {
       "_model_module_version": "^0.1.45",
       "_view_module_version": "^0.1.45",
       "analysis_name": "UUID-c76c61a0-6032-4d15-b7ac-5a013878a3b5",
       "code_json": "{\"imports\": \"from mitosheet import *\", \"code\": [\"# Step 1\", \"# Make sure the columns are defined in the correct order\", \"df['C'] = 0; df['D'] = 0; df['E'] = 0\"]}",
       "column_filters_json": "[{\"name\": {\"operator\": \"And\", \"filters\": []}, \"dob\": {\"operator\": \"And\", \"filters\": []}, \"C\": {\"operator\": \"And\", \"filters\": []}, \"D\": {\"operator\": \"And\", \"filters\": []}, \"E\": {\"operator\": \"And\", \"filters\": []}}]",
       "column_spreadsheet_code_json": "[{\"name\": \"\", \"dob\": \"\", \"C\": \"=0\", \"D\": \"=0\", \"E\": \"=0\"}]",
       "column_type_json": "[{\"name\": \"string\", \"dob\": \"datetime\", \"C\": \"number\", \"D\": \"number\", \"E\": \"number\"}]",
       "df_names_json": "{\"df_names\": [\"df\"]}",
       "df_shape_json": "[{\"rows\": 3, \"cols\": 5}]",
       "layout": "IPY_MODEL_c255b21443fb42788d68bf3f21f4de9e",
       "saved_analysis_names_json": "[\"16\"]",
       "sheet_json": "[{\"columns\": [\"name\", \"dob\", \"C\", \"D\", \"E\"], \"index\": [0, 1, 2], \"data\": [[\"alice\", \"2005-10-25\", 0, 0, 0], [\"bob\", \"2002-10-02\", 0, 0, 0], [\"charlie\", \"2001-11-14\", 0, 0, 0]]}]",
       "user_id": "nate",
       "value": "Hello World"
      }
     },
     "aaa14d81311b4ad5a4f4677296ebcf27": {
      "model_module": "mitosheet",
      "model_module_version": "^0.1.45",
      "model_name": "ExampleModel",
      "state": {
       "_model_module_version": "^0.1.45",
       "_view_module_version": "^0.1.45",
       "analysis_name": "UUID-211ba411-baa4-4e8a-9411-53691e617d36",
       "code_json": "{\"imports\": \"from mitosheet import *\", \"code\": []}",
       "column_filters_json": "[{\"name\": {\"operator\": \"And\", \"filters\": []}, \"dob\": {\"operator\": \"And\", \"filters\": []}}]",
       "column_spreadsheet_code_json": "[{\"name\": \"\", \"dob\": \"\"}]",
       "column_type_json": "[{\"name\": \"string\", \"dob\": \"datetime\"}]",
       "df_names_json": "{\"df_names\": [\"df\"]}",
       "df_shape_json": "[{\"rows\": 3, \"cols\": 2}]",
       "layout": "IPY_MODEL_8247444b448148729cdf0ec4f650ba5d",
       "saved_analysis_names_json": "[\"16\"]",
       "sheet_json": "[{\"columns\": [\"name\", \"dob\"], \"index\": [0, 1, 2], \"data\": [[\"alice\", \"2005-10-25\"], [\"bob\", \"2002-10-02\"], [\"charlie\", \"2001-11-14\"]]}]",
       "user_id": "nate",
       "value": "Hello World"
      }
     },
     "c255b21443fb42788d68bf3f21f4de9e": {
      "model_module": "@jupyter-widgets/base",
      "model_module_version": "1.2.0",
      "model_name": "LayoutModel",
      "state": {}
     }
    },
    "version_major": 2,
    "version_minor": 0
   }
  }
 },
 "nbformat": 4,
 "nbformat_minor": 4
}
