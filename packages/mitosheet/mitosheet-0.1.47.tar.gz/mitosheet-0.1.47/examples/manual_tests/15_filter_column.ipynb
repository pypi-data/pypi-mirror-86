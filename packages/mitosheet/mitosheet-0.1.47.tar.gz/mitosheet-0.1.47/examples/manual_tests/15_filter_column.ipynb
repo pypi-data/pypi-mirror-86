{
 "cells": [
  {
   "cell_type": "code",
   "execution_count": 18,
   "metadata": {},
   "outputs": [
    {
     "data": {
      "application/vnd.jupyter.widget-view+json": {
       "model_id": "3641e61ed45f4de6a3e37a7bae185a7d",
       "version_major": 2,
       "version_minor": 0
      },
      "text/plain": [
       "MitoWidget(analysis_name='UUID-d19a31fc-d03b-405f-90f3-a8ba619f09f9', code_json='{\"imports\": \"from mitosheet i…"
      ]
     },
     "metadata": {},
     "output_type": "display_data"
    }
   ],
   "source": [
    "\"\"\"\n",
    "This file should tests all the filter conditions on\n",
    "\n",
    "Instructions:\n",
    "- Run this cell. \n",
    "- Add three columns and set them equal to A, B, and C respectively (put them in parens, to avoid the suggestion box bug).\n",
    "- Test filter D to each of the possible conditions, choosing random values.\n",
    "- Test filter E to each of the possible conditions, choosing random values.\n",
    "- Test filter F to each of the possible conditions, choosing random values.\n",
    "- Check that the code is being generated and updated as you cycle through conditions.\n",
    "\"\"\"\n",
    "import mitosheet\n",
    "import pandas as pd\n",
    "df1 = pd.DataFrame(data={'A': [\"123\", \"1\", \"2\", \"3\", \"4\", \"5\", \"5\", \"6\", \"7\", \"8\", \"9\"], \n",
    "                        'B': [123, 1, 2, 3, 4, 5, 5, 6, 7, 8, 9],\n",
    "                        'C': [123, \"1\", \"2\", \"3\", 4, 5, 5, 6, 7, 8, 9]})\n",
    "\n",
    "mitosheet.sheet(df1)"
   ]
  }
 ],
 "metadata": {
  "kernelspec": {
   "display_name": "Python 3",
   "language": "python",
   "name": "python3"
  },
  "language_info": {
   "codemirror_mode": {
    "name": "ipython",
    "version": 3
   },
   "file_extension": ".py",
   "mimetype": "text/x-python",
   "name": "python",
   "nbconvert_exporter": "python",
   "pygments_lexer": "ipython3",
   "version": "3.8.5"
  },
  "widgets": {
   "application/vnd.jupyter.widget-state+json": {
    "state": {
     "099f9a216e50406cbc3171fe6c93073e": {
      "model_module": "mitosheet",
      "model_module_version": "^0.1.46",
      "model_name": "ExampleModel",
      "state": {
       "_model_module_version": "^0.1.46",
       "_view_module_version": "^0.1.46",
       "analysis_name": "UUID-be62d6ca-798e-4c92-a47f-daa9889ed3a7",
       "code_json": "{\"imports\": \"from mitosheet import *\", \"code\": [\"# Step 1\", \"# Make sure the columns are defined in the correct order\", \"df1['D'] = 0; df1['E'] = 0; df1['F'] = 0\", \"df1['E'] = df1['B']\", \"# Step 2\", \"df1 = df1[df1['E'] < 2]\", \"df1 = df1.reset_index(drop=True)\"]}",
       "column_filters_json": "[{\"A\": {\"operator\": \"And\", \"filters\": []}, \"B\": {\"operator\": \"And\", \"filters\": []}, \"C\": {\"operator\": \"And\", \"filters\": []}, \"D\": {\"operator\": \"And\", \"filters\": []}, \"E\": {\"operator\": \"And\", \"filters\": [{\"type\": \"number\", \"condition\": \"less\", \"value\": 2}]}, \"F\": {\"operator\": \"And\", \"filters\": []}}]",
       "column_spreadsheet_code_json": "[{\"A\": \"\", \"B\": \"\", \"C\": \"\", \"D\": \"=0\", \"E\": \"=B\", \"F\": \"=0\"}]",
       "column_type_json": "[{\"A\": \"string\", \"B\": \"number\", \"C\": \"string\", \"D\": \"number\", \"E\": \"number\", \"F\": \"number\"}]",
       "df_names_json": "{\"df_names\": [\"df1\"]}",
       "df_shape_json": "[{\"rows\": 1, \"cols\": 6}]",
       "layout": "IPY_MODEL_47d41d82cdd342428c13560888b4051a",
       "saved_analysis_names_json": "[]",
       "sheet_json": "[{\"columns\": [\"A\", \"B\", \"C\", \"D\", \"E\", \"F\"], \"index\": [0], \"data\": [[\"1\", 1, \"1\", 0, 1, 0]]}]",
       "user_id": "nate",
       "value": "Hello World"
      }
     },
     "1cc821e3b0024de89f34d9742ba81ed4": {
      "model_module": "mitosheet",
      "model_module_version": "^0.1.46",
      "model_name": "ExampleModel",
      "state": {
       "_model_module_version": "^0.1.46",
       "_view_module_version": "^0.1.46",
       "analysis_name": "UUID-ae4469ef-80a4-4acb-bb5b-c41a09b92610",
       "code_json": "{\"imports\": \"from mitosheet import *\", \"code\": [\"# Step 1\", \"# Make sure the columns are defined in the correct order\", \"df1['D'] = 0; df1['E'] = 0; df1['F'] = 0\", \"df1['E'] = df1['B']\", \"# Step 2\", \"df1 = df1[df1.E.notnull()]\", \"df1 = df1.reset_index(drop=True)\"]}",
       "column_filters_json": "[{\"A\": {\"operator\": \"And\", \"filters\": []}, \"B\": {\"operator\": \"And\", \"filters\": []}, \"C\": {\"operator\": \"And\", \"filters\": []}, \"D\": {\"operator\": \"And\", \"filters\": []}, \"E\": {\"operator\": \"And\", \"filters\": [{\"type\": \"number\", \"condition\": \"not_empty\", \"value\": 0}]}, \"F\": {\"operator\": \"And\", \"filters\": []}}]",
       "column_spreadsheet_code_json": "[{\"A\": \"\", \"B\": \"\", \"C\": \"\", \"D\": \"=0\", \"E\": \"=B\", \"F\": \"=0\"}]",
       "column_type_json": "[{\"A\": \"string\", \"B\": \"number\", \"C\": \"string\", \"D\": \"number\", \"E\": \"number\", \"F\": \"number\"}]",
       "df_names_json": "{\"df_names\": [\"df1\"]}",
       "df_shape_json": "[{\"rows\": 11, \"cols\": 6}]",
       "layout": "IPY_MODEL_31e5d929f51c41e495b125fa59729682",
       "saved_analysis_names_json": "[]",
       "sheet_json": "[{\"columns\": [\"A\", \"B\", \"C\", \"D\", \"E\", \"F\"], \"index\": [0, 1, 2, 3, 4, 5, 6, 7, 8, 9, 10], \"data\": [[\"123\", 123, 123, 0, 123, 0], [\"1\", 1, \"1\", 0, 1, 0], [\"2\", 2, \"2\", 0, 2, 0], [\"3\", 3, \"3\", 0, 3, 0], [\"4\", 4, 4, 0, 4, 0], [\"5\", 5, 5, 0, 5, 0], [\"5\", 5, 5, 0, 5, 0], [\"6\", 6, 6, 0, 6, 0], [\"7\", 7, 7, 0, 7, 0], [\"8\", 8, 8, 0, 8, 0], [\"9\", 9, 9, 0, 9, 0]]}]",
       "user_id": "nate",
       "value": "Hello World"
      }
     },
     "31e5d929f51c41e495b125fa59729682": {
      "model_module": "@jupyter-widgets/base",
      "model_module_version": "1.2.0",
      "model_name": "LayoutModel",
      "state": {}
     },
     "3641e61ed45f4de6a3e37a7bae185a7d": {
      "model_module": "mitosheet",
      "model_module_version": "^0.1.46",
      "model_name": "ExampleModel",
      "state": {
       "_model_module_version": "^0.1.46",
       "_view_module_version": "^0.1.46",
       "analysis_name": "UUID-d19a31fc-d03b-405f-90f3-a8ba619f09f9",
       "code_json": "{\"imports\": \"from mitosheet import *\", \"code\": [\"# Step 1\", \"# Make sure the columns are defined in the correct order\", \"df1['D'] = 0; df1['E'] = 0; df1['F'] = 0\", \"df1['F'] = df1['C']\", \"df1['E'] = df1['B']\", \"# Step 2\", \"df1 = df1[df1['F'] == '1']\", \"df1 = df1.reset_index(drop=True)\"]}",
       "column_filters_json": "[{\"A\": {\"operator\": \"And\", \"filters\": []}, \"B\": {\"operator\": \"And\", \"filters\": []}, \"C\": {\"operator\": \"And\", \"filters\": []}, \"D\": {\"operator\": \"And\", \"filters\": []}, \"E\": {\"operator\": \"And\", \"filters\": []}, \"F\": {\"operator\": \"And\", \"filters\": [{\"type\": \"string\", \"condition\": \"string_exactly\", \"value\": \"1\"}]}}]",
       "column_spreadsheet_code_json": "[{\"A\": \"\", \"B\": \"\", \"C\": \"\", \"D\": \"=0\", \"E\": \"=B\", \"F\": \"=C\"}]",
       "column_type_json": "[{\"A\": \"string\", \"B\": \"number\", \"C\": \"string\", \"D\": \"number\", \"E\": \"number\", \"F\": \"string\"}]",
       "df_names_json": "{\"df_names\": [\"df1\"]}",
       "df_shape_json": "[{\"rows\": 1, \"cols\": 6}]",
       "layout": "IPY_MODEL_8ed4d35c14bb4325beb9d3739af853b6",
       "saved_analysis_names_json": "[]",
       "sheet_json": "[{\"columns\": [\"A\", \"B\", \"C\", \"D\", \"E\", \"F\"], \"index\": [0], \"data\": [[\"1\", 1, \"1\", 0, 1, \"1\"]]}]",
       "user_id": "nate",
       "value": "Hello World"
      }
     },
     "47d41d82cdd342428c13560888b4051a": {
      "model_module": "@jupyter-widgets/base",
      "model_module_version": "1.2.0",
      "model_name": "LayoutModel",
      "state": {}
     },
     "8ac0d2f86bfc4a6abd766cc174556383": {
      "model_module": "mitosheet",
      "model_module_version": "^0.1.46",
      "model_name": "ExampleModel",
      "state": {
       "_model_module_version": "^0.1.46",
       "_view_module_version": "^0.1.46",
       "analysis_name": "UUID-5126d048-4bfd-4593-a697-c2fcf8e55b57",
       "code_json": "{\"imports\": \"from mitosheet import *\", \"code\": [\"# Step 1\", \"# Make sure the columns are defined in the correct order\", \"df1['D'] = 0; df1['E'] = 0; df1['F'] = 0\", \"df1['D'] = df1['A']\", \"# Step 2\", \"df1 = df1[df1['D'].str.contains('1', na=False)]\", \"df1 = df1.reset_index(drop=True)\", \"# Step 3\", \"df1['F'] = 0\", \"df1['E'] = 0\", \"df1['D'] = df1['A']\", \"df1['G'] = FIND(df1['D'], \\\"1\\\")\", \"df1['H'] = df1['G']\"]}",
       "column_filters_json": "[{\"A\": {\"operator\": \"And\", \"filters\": []}, \"B\": {\"operator\": \"And\", \"filters\": []}, \"C\": {\"operator\": \"And\", \"filters\": []}, \"D\": {\"operator\": \"And\", \"filters\": [{\"type\": \"string\", \"condition\": \"contains\", \"value\": \"1\"}]}, \"E\": {\"operator\": \"And\", \"filters\": []}, \"F\": {\"operator\": \"And\", \"filters\": []}, \"G\": {\"operator\": \"And\", \"filters\": []}, \"H\": {\"operator\": \"And\", \"filters\": []}}]",
       "column_spreadsheet_code_json": "[{\"A\": \"\", \"B\": \"\", \"C\": \"\", \"D\": \"=A\", \"E\": \"=0\", \"F\": \"=0\", \"G\": \"=FIND(D, \\\"1\\\")\", \"H\": \"=G\"}]",
       "column_type_json": "[{\"A\": \"string\", \"B\": \"number\", \"C\": \"string\", \"D\": \"string\", \"E\": \"number\", \"F\": \"number\", \"G\": \"number\", \"H\": \"number\"}]",
       "df_names_json": "{\"df_names\": [\"df1\"]}",
       "df_shape_json": "[{\"rows\": 2, \"cols\": 8}]",
       "layout": "IPY_MODEL_d4141ea8d74e494db7efaa40f8a0990b",
       "saved_analysis_names_json": "[]",
       "sheet_json": "[{\"columns\": [\"A\", \"B\", \"C\", \"D\", \"E\", \"F\", \"G\", \"H\"], \"index\": [0, 1], \"data\": [[\"123\", 123, 123, \"123\", 0, 0, 1, 1], [\"1\", 1, \"1\", \"1\", 0, 0, 1, 1]]}]",
       "user_id": "nate",
       "value": "Hello World"
      }
     },
     "8ed4d35c14bb4325beb9d3739af853b6": {
      "model_module": "@jupyter-widgets/base",
      "model_module_version": "1.2.0",
      "model_name": "LayoutModel",
      "state": {}
     },
     "93232ac9704043508e8a79fe27305747": {
      "model_module": "mitosheet",
      "model_module_version": "^0.1.46",
      "model_name": "ExampleModel",
      "state": {
       "_model_module_version": "^0.1.46",
       "_view_module_version": "^0.1.46",
       "analysis_name": "UUID-0d8e86ac-5395-4b4b-a207-297e1dab8660",
       "code_json": "{\"imports\": \"from mitosheet import *\", \"code\": [\"# Step 1\", \"# Make sure the columns are defined in the correct order\", \"df1['D'] = 0; df1['E'] = 0; df1['F'] = 0\", \"df1['D'] = df1['A']\", \"# Step 2\", \"df1 = df1[df1['D'].str.contains('1', na=False)]\", \"df1 = df1.reset_index(drop=True)\", \"# Step 3\", \"df1['F'] = 0\", \"df1['E'] = 0\", \"df1['D'] = df1['A']\", \"df1['G'] = FIND(df1['D'], \\\"1\\\")\", \"df1['H'] = df1['G']\"]}",
       "column_filters_json": "[{\"A\": {\"operator\": \"And\", \"filters\": []}, \"B\": {\"operator\": \"And\", \"filters\": []}, \"C\": {\"operator\": \"And\", \"filters\": []}, \"D\": {\"operator\": \"And\", \"filters\": [{\"type\": \"string\", \"condition\": \"contains\", \"value\": \"1\"}]}, \"E\": {\"operator\": \"And\", \"filters\": []}, \"F\": {\"operator\": \"And\", \"filters\": []}, \"G\": {\"operator\": \"And\", \"filters\": []}, \"H\": {\"operator\": \"And\", \"filters\": []}}]",
       "column_spreadsheet_code_json": "[{\"A\": \"\", \"B\": \"\", \"C\": \"\", \"D\": \"=A\", \"E\": \"=0\", \"F\": \"=0\", \"G\": \"=FIND(D, \\\"1\\\")\", \"H\": \"=G\"}]",
       "column_type_json": "[{\"A\": \"string\", \"B\": \"number\", \"C\": \"string\", \"D\": \"string\", \"E\": \"number\", \"F\": \"number\", \"G\": \"number\", \"H\": \"number\"}]",
       "df_names_json": "{\"df_names\": [\"df1\"]}",
       "df_shape_json": "[{\"rows\": 2, \"cols\": 8}]",
       "layout": "IPY_MODEL_f2ea7344577c4ce5aa0bff1160dc85a8",
       "saved_analysis_names_json": "[]",
       "sheet_json": "[{\"columns\": [\"A\", \"B\", \"C\", \"D\", \"E\", \"F\", \"G\", \"H\"], \"index\": [0, 1], \"data\": [[\"123\", 123, 123, \"123\", 0, 0, 1, 1], [\"1\", 1, \"1\", \"1\", 0, 0, 1, 1]]}]",
       "user_id": "nate",
       "value": "Hello World"
      }
     },
     "a845cd665da14790b949692ed5cd2d36": {
      "model_module": "@jupyter-widgets/base",
      "model_module_version": "1.2.0",
      "model_name": "LayoutModel",
      "state": {}
     },
     "bb08341de520494dbc752a5536e91317": {
      "model_module": "mitosheet",
      "model_module_version": "^0.1.46",
      "model_name": "ExampleModel",
      "state": {
       "_model_module_version": "^0.1.46",
       "_view_module_version": "^0.1.46",
       "analysis_name": "UUID-d8c8d0da-13eb-467b-983d-fb3774ceba88",
       "code_json": "{\"imports\": \"from mitosheet import *\", \"code\": [\"# Step 1\", \"# Make sure the columns are defined in the correct order\", \"df1['D'] = 0; df1['E'] = 0; df1['F'] = 0\", \"df1['F'] = df1['C']\", \"df1['E'] = df1['B']\", \"df1['D'] = df1['A']\", \"# Step 2\", \"df1 = df1[df1.D.notnull()]\", \"df1 = df1.reset_index(drop=True)\"]}",
       "column_filters_json": "[{\"A\": {\"operator\": \"And\", \"filters\": []}, \"B\": {\"operator\": \"And\", \"filters\": []}, \"C\": {\"operator\": \"And\", \"filters\": []}, \"D\": {\"operator\": \"And\", \"filters\": [{\"type\": \"string\", \"condition\": \"not_empty\", \"value\": 0}]}, \"E\": {\"operator\": \"And\", \"filters\": []}, \"F\": {\"operator\": \"And\", \"filters\": []}}]",
       "column_spreadsheet_code_json": "[{\"A\": \"\", \"B\": \"\", \"C\": \"\", \"D\": \"=A\", \"E\": \"=B\", \"F\": \"=C\"}]",
       "column_type_json": "[{\"A\": \"string\", \"B\": \"number\", \"C\": \"string\", \"D\": \"string\", \"E\": \"number\", \"F\": \"string\"}]",
       "df_names_json": "{\"df_names\": [\"df1\"]}",
       "df_shape_json": "[{\"rows\": 11, \"cols\": 6}]",
       "layout": "IPY_MODEL_a845cd665da14790b949692ed5cd2d36",
       "saved_analysis_names_json": "[]",
       "sheet_json": "[{\"columns\": [\"A\", \"B\", \"C\", \"D\", \"E\", \"F\"], \"index\": [0, 1, 2, 3, 4, 5, 6, 7, 8, 9, 10], \"data\": [[\"123\", 123, 123, \"123\", 123, 123], [\"1\", 1, \"1\", \"1\", 1, \"1\"], [\"2\", 2, \"2\", \"2\", 2, \"2\"], [\"3\", 3, \"3\", \"3\", 3, \"3\"], [\"4\", 4, 4, \"4\", 4, 4], [\"5\", 5, 5, \"5\", 5, 5], [\"5\", 5, 5, \"5\", 5, 5], [\"6\", 6, 6, \"6\", 6, 6], [\"7\", 7, 7, \"7\", 7, 7], [\"8\", 8, 8, \"8\", 8, 8], [\"9\", 9, 9, \"9\", 9, 9]]}]",
       "user_id": "nate",
       "value": "Hello World"
      }
     },
     "c735955a7da84bfbb3efbde15e8c284c": {
      "model_module": "mitosheet",
      "model_module_version": "^0.1.46",
      "model_name": "ExampleModel",
      "state": {
       "_model_module_version": "^0.1.46",
       "_view_module_version": "^0.1.46",
       "analysis_name": "UUID-cf619275-501c-46f5-8aa7-d79b19392395",
       "code_json": "{\"imports\": \"from mitosheet import *\", \"code\": [\"# Step 1\", \"# Make sure the columns are defined in the correct order\", \"df1['D'] = 0; df1['E'] = 0; df1['F'] = 0\", \"df1['E'] = df1['B']\", \"# Step 2\", \"df1 = df1[df1['E'] <= 2]\", \"df1 = df1.reset_index(drop=True)\"]}",
       "column_filters_json": "[{\"A\": {\"operator\": \"And\", \"filters\": []}, \"B\": {\"operator\": \"And\", \"filters\": []}, \"C\": {\"operator\": \"And\", \"filters\": []}, \"D\": {\"operator\": \"And\", \"filters\": []}, \"E\": {\"operator\": \"And\", \"filters\": [{\"type\": \"number\", \"condition\": \"less_than_or_equal\", \"value\": 2}]}, \"F\": {\"operator\": \"And\", \"filters\": []}}]",
       "column_spreadsheet_code_json": "[{\"A\": \"\", \"B\": \"\", \"C\": \"\", \"D\": \"=0\", \"E\": \"=B\", \"F\": \"=0\"}]",
       "column_type_json": "[{\"A\": \"string\", \"B\": \"number\", \"C\": \"string\", \"D\": \"number\", \"E\": \"number\", \"F\": \"number\"}]",
       "df_names_json": "{\"df_names\": [\"df1\"]}",
       "df_shape_json": "[{\"rows\": 2, \"cols\": 6}]",
       "layout": "IPY_MODEL_cca1a4c8a5114b2e8fa22efe3a7542f8",
       "saved_analysis_names_json": "[]",
       "sheet_json": "[{\"columns\": [\"A\", \"B\", \"C\", \"D\", \"E\", \"F\"], \"index\": [0, 1], \"data\": [[\"1\", 1, \"1\", 0, 1, 0], [\"2\", 2, \"2\", 0, 2, 0]]}]",
       "user_id": "nate",
       "value": "Hello World"
      }
     },
     "cca1a4c8a5114b2e8fa22efe3a7542f8": {
      "model_module": "@jupyter-widgets/base",
      "model_module_version": "1.2.0",
      "model_name": "LayoutModel",
      "state": {}
     },
     "d4141ea8d74e494db7efaa40f8a0990b": {
      "model_module": "@jupyter-widgets/base",
      "model_module_version": "1.2.0",
      "model_name": "LayoutModel",
      "state": {}
     },
     "f2ea7344577c4ce5aa0bff1160dc85a8": {
      "model_module": "@jupyter-widgets/base",
      "model_module_version": "1.2.0",
      "model_name": "LayoutModel",
      "state": {}
     }
    },
    "version_major": 2,
    "version_minor": 0
   }
  }
 },
 "nbformat": 4,
 "nbformat_minor": 4
}
