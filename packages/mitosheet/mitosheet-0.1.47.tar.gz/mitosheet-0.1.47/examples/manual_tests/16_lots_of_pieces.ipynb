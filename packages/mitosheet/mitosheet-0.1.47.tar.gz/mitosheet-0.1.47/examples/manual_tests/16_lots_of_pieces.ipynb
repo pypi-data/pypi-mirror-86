{
 "cells": [
  {
   "cell_type": "code",
   "execution_count": 1,
   "metadata": {},
   "outputs": [
    {
     "data": {
      "application/vnd.jupyter.widget-view+json": {
       "model_id": "fa8f8cbe7c6a4d2d973b914538be7ca2",
       "version_major": 2,
       "version_minor": 0
      },
      "text/plain": [
       "MitoWidget(analysis_name='UUID-9f963045-b6d5-436e-8b18-15121ce33a2f', code_json='{\"imports\": \"from mitosheet i…"
      ]
     },
     "metadata": {},
     "output_type": "display_data"
    }
   ],
   "source": [
    "\"\"\"\n",
    "This file should tests a complex workflow where lots of things are applied in a row. \n",
    "\n",
    "Steps:\n",
    "- Run this cell. \n",
    "- Merge on id. \n",
    "- Delete a column from each of the first two sheets. \n",
    "- Create a new column called full_name in the third sheet, where you concat the first and last names. \n",
    "- Apply a filter to the third sheet to the full_name column, for all those that contain \"vich.\"\n",
    "- Delete the id column in the third sheet.\n",
    "- Delete the column filter in the third sheet.\n",
    "- Reapply the column filter in the third sheet.\n",
    "- Save the analysis. \n",
    "- Delete everything but this cell, rerun it, and then replay the analysis and make sure it is still correct. \n",
    "- Run the generated code and make sure it works as expected (e.g. displays same values as the sheet).\n",
    "\n",
    "\"\"\"\n",
    "import mitosheet\n",
    "import pandas as pd\n",
    "first = pd.DataFrame(data={'id': [1, 2, 3], 'first_name': ['nate', 'aaron', 'jake']})\n",
    "last = pd.DataFrame(data={'id': [1, 2, 3], 'last_name': ['rush', 'Diamond-Reivich', 'diamond-reivich']})\n",
    "mitosheet.sheet(first, last)"
   ]
  },
  {
   "cell_type": "code",
   "execution_count": null,
   "metadata": {},
   "outputs": [],
   "source": [
    "# MITO CODE START (DO NOT EDIT)\n",
    "# SAVED-ANALYSIS-STARTUUID-9f963045-b6d5-436e-8b18-15121ce33a2fSAVED-ANALYSIS-END\n",
    "\n",
    "from mitosheet import *\n",
    "\n",
    "# Step 1\n",
    "\n",
    "temp_df = last.drop_duplicates(subset='id')\n",
    "\n",
    "df3 = first.merge(temp_df, left_on=['id'], right_on=['id'], how='left', suffixes=['_first', '_last'])\n",
    "  \n",
    "# MITO CODE END (DO NOT EDIT)"
   ]
  },
  {
   "cell_type": "code",
   "execution_count": null,
   "metadata": {},
   "outputs": [],
   "source": []
  },
  {
   "cell_type": "code",
   "execution_count": null,
   "metadata": {},
   "outputs": [],
   "source": []
  }
 ],
 "metadata": {
  "kernelspec": {
   "display_name": "Python 3",
   "language": "python",
   "name": "python3"
  },
  "language_info": {
   "codemirror_mode": {
    "name": "ipython",
    "version": 3
   },
   "file_extension": ".py",
   "mimetype": "text/x-python",
   "name": "python",
   "nbconvert_exporter": "python",
   "pygments_lexer": "ipython3",
   "version": "3.8.5"
  },
  "widgets": {
   "application/vnd.jupyter.widget-state+json": {
    "state": {
     "4531e70dc0c843d9ab51f01e73333304": {
      "model_module": "@jupyter-widgets/base",
      "model_module_version": "1.2.0",
      "model_name": "LayoutModel",
      "state": {}
     },
     "fa8f8cbe7c6a4d2d973b914538be7ca2": {
      "model_module": "mitosheet",
      "model_module_version": "^0.1.46",
      "model_name": "ExampleModel",
      "state": {
       "_model_module_version": "^0.1.46",
       "_view_module_version": "^0.1.46",
       "analysis_name": "UUID-9f963045-b6d5-436e-8b18-15121ce33a2f",
       "code_json": "{\"imports\": \"from mitosheet import *\", \"code\": [\"# Step 1\", \"temp_df = last.drop_duplicates(subset='id')\", \"df3 = first.merge(temp_df, left_on=['id'], right_on=['id'], how='left', suffixes=['_first', '_last'])\"]}",
       "column_filters_json": "[{\"id\": {\"operator\": \"And\", \"filters\": []}, \"first_name\": {\"operator\": \"And\", \"filters\": []}}, {\"id\": {\"operator\": \"And\", \"filters\": []}, \"last_name\": {\"operator\": \"And\", \"filters\": []}}, {\"id\": {\"operator\": \"And\", \"filters\": []}, \"first_name\": {\"operator\": \"And\", \"filters\": []}, \"last_name\": {\"operator\": \"And\", \"filters\": []}}]",
       "column_spreadsheet_code_json": "[{\"id\": \"\", \"first_name\": \"\"}, {\"id\": \"\", \"last_name\": \"\"}, {\"id\": \"\", \"first_name\": \"\", \"last_name\": \"\"}]",
       "column_type_json": "[{\"id\": \"number\", \"first_name\": \"string\"}, {\"id\": \"number\", \"last_name\": \"string\"}, {\"id\": \"number\", \"first_name\": \"string\", \"last_name\": \"string\"}]",
       "df_names_json": "{\"df_names\": [\"first\", \"last\", \"df3\"]}",
       "df_shape_json": "[{\"rows\": 3, \"cols\": 2}, {\"rows\": 3, \"cols\": 2}, {\"rows\": 3, \"cols\": 3}]",
       "layout": "IPY_MODEL_4531e70dc0c843d9ab51f01e73333304",
       "saved_analysis_names_json": "[]",
       "sheet_json": "[{\"columns\": [\"id\", \"first_name\"], \"index\": [0, 1, 2], \"data\": [[1, \"nate\"], [2, \"aaron\"], [3, \"jake\"]]}, {\"columns\": [\"id\", \"last_name\"], \"index\": [0, 1, 2], \"data\": [[1, \"rush\"], [2, \"Diamond-Reivich\"], [3, \"diamond-reivich\"]]}, {\"columns\": [\"id\", \"first_name\", \"last_name\"], \"index\": [0, 1, 2], \"data\": [[1, \"nate\", \"rush\"], [2, \"aaron\", \"Diamond-Reivich\"], [3, \"jake\", \"diamond-reivich\"]]}]",
       "user_id": "nate",
       "value": "Hello World"
      }
     }
    },
    "version_major": 2,
    "version_minor": 0
   }
  }
 },
 "nbformat": 4,
 "nbformat_minor": 4
}
