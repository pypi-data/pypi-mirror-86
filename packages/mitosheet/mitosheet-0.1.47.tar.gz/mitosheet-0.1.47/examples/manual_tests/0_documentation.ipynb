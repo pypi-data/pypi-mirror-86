{
 "cells": [
  {
   "cell_type": "code",
   "execution_count": 1,
   "metadata": {},
   "outputs": [
    {
     "data": {
      "application/vnd.jupyter.widget-view+json": {
       "model_id": "86911341466946ca956dd23a51eeb98e",
       "version_major": 2,
       "version_minor": 0
      },
      "text/plain": [
       "MitoWidget(analysis_name='UUID-a19b876e-3014-498c-8cd7-bdf986b779ba', code_json='{\"imports\": \"from mitosheet i…"
      ]
     },
     "metadata": {},
     "output_type": "display_data"
    }
   ],
   "source": [
    "\"\"\"\n",
    "This file should test the documentation is working as expected.\n",
    "\n",
    "Instructions:\n",
    "1. Click the documentation button in the toolbar. \n",
    "2. Scroll through the documentation and select 2 random functions, and make sure they have the correct information.\n",
    "    - Read the documentation in full, see if you notice any errors!\n",
    "    - Mark down what functions you look at.\n",
    "3. Close the documentation.\n",
    "4. Create three new columns, named Column1, Column2, and AVG. Set Column1 =1\n",
    "5. In AVG, write =Column and see both columns appear in the suggestion box. Take Column1, and then press enter (and the formula should submit).\n",
    "6. In Column2, write =AVG, and see both the average function and the average column. Try taking both respectively, and make sure they autofill the column correctly. \n",
    "\"\"\"\n",
    "import mitosheet\n",
    "import pandas as pd\n",
    "\n",
    "df = pd.DataFrame(data={'Names': [\"Jake Diamond-Revich\", \"Aaron Diamond-Reivich\", \"Nate Rush\"]})\n",
    "mitosheet.sheet(df)"
   ]
  },
  {
   "cell_type": "code",
   "execution_count": null,
   "metadata": {},
   "outputs": [],
   "source": []
  },
  {
   "cell_type": "code",
   "execution_count": null,
   "metadata": {},
   "outputs": [],
   "source": []
  }
 ],
 "metadata": {
  "kernelspec": {
   "display_name": "Python 3",
   "language": "python",
   "name": "python3"
  },
  "language_info": {
   "codemirror_mode": {
    "name": "ipython",
    "version": 3
   },
   "file_extension": ".py",
   "mimetype": "text/x-python",
   "name": "python",
   "nbconvert_exporter": "python",
   "pygments_lexer": "ipython3",
   "version": "3.8.5"
  },
  "widgets": {
   "application/vnd.jupyter.widget-state+json": {
    "state": {
     "74bea98fde8c422eadd897143829a72c": {
      "model_module": "@jupyter-widgets/base",
      "model_module_version": "1.2.0",
      "model_name": "LayoutModel",
      "state": {}
     },
     "86911341466946ca956dd23a51eeb98e": {
      "model_module": "mitosheet",
      "model_module_version": "^0.1.45",
      "model_name": "ExampleModel",
      "state": {
       "_model_module_version": "^0.1.45",
       "_view_module_version": "^0.1.45",
       "analysis_name": "UUID-a19b876e-3014-498c-8cd7-bdf986b779ba",
       "code_json": "{\"imports\": \"from mitosheet import *\", \"code\": [\"# Step 1\", \"# Make sure the columns are defined in the correct order\", \"df1['Name'] = 0; df1['Height'] = 0\", \"\\n\"]}",
       "column_filters_json": "[{\"Names\": {\"operator\": \"And\", \"filters\": []}, \"Name\": {\"operator\": \"And\", \"filters\": []}, \"Height\": {\"operator\": \"And\", \"filters\": []}}]",
       "column_spreadsheet_code_json": "[{\"Names\": \"\", \"Name\": \"=0\", \"Height\": \"=0\"}]",
       "column_type_json": "[{\"Names\": \"string\", \"Name\": \"number\", \"Height\": \"number\"}]",
       "df_names_json": "{\"df_names\": [\"df1\"]}",
       "df_shape_json": "[{\"rows\": 3, \"cols\": 3}]",
       "layout": "IPY_MODEL_74bea98fde8c422eadd897143829a72c",
       "saved_analysis_names_json": "[\"16\"]",
       "sheet_json": "[{\"columns\": [\"Names\", \"Name\", \"Height\"], \"index\": [0, 1, 2], \"data\": [[\"Jake Diamond-Revich\", 0, 0], [\"Aaron Diamond-Reivich\", 0, 0], [\"Nate Rush\", 0, 0]]}]",
       "user_id": "nate",
       "value": "Hello World"
      }
     }
    },
    "version_major": 2,
    "version_minor": 0
   }
  }
 },
 "nbformat": 4,
 "nbformat_minor": 4
}
