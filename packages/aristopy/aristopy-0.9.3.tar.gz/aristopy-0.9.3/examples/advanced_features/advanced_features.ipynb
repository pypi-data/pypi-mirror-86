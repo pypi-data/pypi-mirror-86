{
 "cells": [
  {
   "cell_type": "markdown",
   "metadata": {},
   "source": [
    "# Advanced features\n",
    "\n",
    "* File name: advanced_features.ipynb\n",
    "* Last edited: 2020-06-25\n",
    "* Created by: Stefan Bruche (TU Berlin)"
   ]
  },
  {
   "cell_type": "markdown",
   "metadata": {},
   "source": [
    "```python\n",
    "import copy\n",
    "import pandas as pd\n",
    "import aristopy as ar\n",
    "\n",
    "# Get data from csv-file \n",
    "data = pd.read_csv('testdata.csv', sep=';', decimal='.', index_col=[0])\n",
    "\n",
    "# USER-INPUT: \"hpts\" (hours per time step)\n",
    "hpts = 4\n",
    "\n",
    "# Aggregate data with \"hours_per_time_step\" for simplification of this notebook\n",
    "c_elec = ar.utils.aggregate_time_series(data['c_elec [EUR/MWh]'], hpts, 'mean')\n",
    "q_demand = ar.utils.aggregate_time_series(data['Q_demand [MWh]'], hpts, 'sum')\n",
    "\n",
    "# Create energy system instance\n",
    "es = ar.EnergySystem(\n",
    "    number_of_time_steps=8760//hpts, hours_per_time_step=hpts,\n",
    "    interest_rate=0.05, economic_lifetime=20, logging=ar.Logger(\n",
    "        default_log_handler='file', default_log_level='INFO', \n",
    "        write_screen_output_to_logfile=True))\n",
    "\n",
    "# Add a gas source, a heat and electricity sink and a heat bus for collecting\n",
    "gas_source = ar.Source(\n",
    "    ensys=es, name='gas_source', commodity_cost=20, outlet=ar.Flow('Fuel'))\n",
    "\n",
    "heat_sink = ar.Sink(\n",
    "    ensys=es, name='heat_sink', inlet=ar.Flow('Heat', link='heat_bus'),\n",
    "    commodity_rate_fix=ar.Series('q_demand', q_demand))\n",
    "\n",
    "elec_sink = ar.Sink(\n",
    "    ensys=es, name='elec_sink', inlet=ar.Flow('Elec'),\n",
    "    commodity_revenues=ar.Series('c_elec', c_elec))\n",
    "\n",
    "heat_bus = ar.Bus(\n",
    "    ensys=es, name='heat_bus',\n",
    "    inlet=ar.Flow('Heat', var_name='Heat_inlet'),\n",
    "    outlet=ar.Flow('Heat', var_name='Heat_outlet'))\n",
    "\n",
    "gas_boiler = ar.Conversion(\n",
    "    ensys=es, name='gas_boiler', basic_variable='Heat',\n",
    "    inlet=ar.Flow('Fuel', 'gas_source'), outlet=ar.Flow('Heat', 'heat_bus'),\n",
    "    capacity_max=250, capex_per_capacity=60e3,\n",
    "    user_expressions='Heat == 0.9 * Fuel')\n",
    "\n",
    "# Add a group of 5 gas engine units with fixed size\n",
    "gas_engine = ar.Conversion(\n",
    "    ensys=es, name='gas_engine', basic_variable='Elec',\n",
    "    inlet=ar.Flow('Fuel', 'gas_source'),\n",
    "    outlet=[ar.Flow('Heat', 'heat_bus'), ar.Flow('Elec', 'elec_sink')],\n",
    "    has_existence_binary_var=True, has_operation_binary_var=True,\n",
    "    additional_vars=ar.Var('Load', ub=1), scalar_params={'dt': hpts},\n",
    "    capacity=20, min_load_rel=0.2,\n",
    "    user_expressions=['Load <= BI_OP',\n",
    "                      'Elec == (20 * Load) * dt',\n",
    "                      'Heat <= (17 * Load + 2.5 * BI_OP) * dt',\n",
    "                      'Fuel == (37 * Load + 7 * BI_OP) * dt'],\n",
    "    capex_per_capacity=1000e3, opex_per_capacity=12.5e3, opex_operation=6,\n",
    "    instances_in_group=5)\n",
    "\n",
    "# Add a heat storage component\n",
    "heat_storage = ar.Storage(\n",
    "    ensys=es, name='heat_storage',\n",
    "    inlet=ar.Flow('Heat', link='heat_bus', var_name='Heat_charge'),\n",
    "    outlet=ar.Flow('Heat', link='heat_bus', var_name='Heat_discharge'),\n",
    "    has_existence_binary_var=True,\n",
    "    maximal_module_number=5, capacity_per_module=50,  # max: 5 * 50 MWh\n",
    "    capex_per_capacity=12e3, opex_per_capacity=0.015*12e3,  # 12,000 €/MWh CAPEX\n",
    "    self_discharge=0.01, charge_rate=1/6, discharge_rate=1/6,\n",
    "    opex_operation=1e-9, use_inter_period_formulation=False)\n",
    "\n",
    "# Use a backdoor to the pyomo model instance and add a user-defined constraint\n",
    "# specifying the installed nominal thermal capacity needs to be at least 220 MW.\n",
    "def minimal_installed_capacity_heat(ensys, m):\n",
    "    expr = 0\n",
    "    for comp in ensys.components.values():\n",
    "        if comp.name == 'gas_boiler':\n",
    "            expr += comp.block.CAP\n",
    "        elif comp.group_name == 'gas_engine':\n",
    "            expr += 19.5 * comp.block.BI_EX\n",
    "    return expr >= 220\n",
    "es.add_constraint(name='min_cap_heat', has_time_set=False,\n",
    "                  rule=minimal_installed_capacity_heat)\n",
    "\n",
    "\n",
    "# Create a deepcopy of the original (full scale) model instance for later use\n",
    "original_model = copy.deepcopy(es)\n",
    "\n",
    "\n",
    "# Conventional optimization:\n",
    "# ~~~~~~~~~~~~~~~~~~~~~~~~~~\n",
    "# Run the optimization of the original model instance\n",
    "es.optimize(solver='gurobi', time_limit=300, optimization_specs='mipgap=5e-3')\n",
    "\n",
    "\n",
    "# Time series clustering:\n",
    "# ~~~~~~~~~~~~~~~~~~~~~~~\n",
    "# Cluster time series data to 20 typical days.\n",
    "es.cluster(number_of_typical_periods=20,\n",
    "           number_of_time_steps_per_period=24//hpts)\n",
    "\n",
    "# Use aggregated data to run the optimization\n",
    "es.optimize(use_clustered_data=True)\n",
    "\n",
    "# Plot results for a single period and scaled to full year with hourly resolution\n",
    "plotter = ar.Plotter('results.json')\n",
    "plotter.plot_operation('heat_storage', 'Heat', ylabel='Thermal energy [MWh]',\n",
    "                       file_name='heat_storage', plot_single_period_with_index=7)\n",
    "plotter.plot_operation('heat_bus', 'Heat', ylabel='Thermal energy [MWh]', \n",
    "                       file_name='heat_bus', scale_to_hourly_resolution=True)\n",
    "\n",
    "\n",
    "# Two-stage model run:\n",
    "# ~~~~~~~~~~~~~~~~~~~~\n",
    "# Construct (declare) a persistent model of the original (full scale) instance\n",
    "original_model.declare_model(use_clustered_data=False, declare_persistent=True)\n",
    "\n",
    "# Cluster time series data, declare the model and relax the integrality of the\n",
    "# binary operation variables\n",
    "es.cluster(number_of_typical_periods=20,\n",
    "           number_of_time_steps_per_period=24 // hpts)\n",
    "es.declare_model(use_clustered_data=True)\n",
    "es.relax_integrality(include_time_dependent=True, \n",
    "                     include_existence=False, include_modules=False)\n",
    "\n",
    "# Iteratively run the model (1st stage and 2nd stage)\n",
    "for icc in range(3):\n",
    "\n",
    "    # Run optimization with clustered data\n",
    "    es.optimize(use_clustered_data=True, declare_model=False,\n",
    "                tee=False, results_file=f'1st_stage_results_{icc}.json')\n",
    "\n",
    "    # Export the configuration to a DataFrame and store it in an Excel-File\n",
    "    config = es.export_component_configuration(\n",
    "        write_to_excel=True, file_name=f'1st_stage_config_{icc}.xlsx')\n",
    "\n",
    "    # Import the optimal configuration and fix design variables\n",
    "    original_model.import_component_configuration(config)\n",
    "\n",
    "    # Run the already declared persistent, full scale model\n",
    "    original_model.optimize(declare_model=False, tee=False,\n",
    "                            results_file=f'2nd_stage_results_{icc}.json')\n",
    "\n",
    "    # Reset variables to their original (unfixed) values\n",
    "    original_model.reset_component_variables()\n",
    "\n",
    "    # Add an integer-cut constraint for the gas engines to the aggregated model\n",
    "    # => Exclude previously found optimal design from the solution space\n",
    "    es.add_design_integer_cut_constraint(which_instances=['gas_engine'])\n",
    "```"
   ]
  },
  {
   "cell_type": "markdown",
   "metadata": {},
   "source": [
    "### Data and model\n",
    "\n",
    "Read the input data from a csv-file for one year in hourly resolution (8760 time steps) with pandas."
   ]
  },
  {
   "cell_type": "code",
   "execution_count": 1,
   "metadata": {},
   "outputs": [],
   "source": [
    "# Import the required packages (jupyter magic only required for jupyter notebooks)\n",
    "%reload_ext autoreload\n",
    "%autoreload 2\n",
    "%matplotlib inline\n",
    "\n",
    "import copy\n",
    "import pandas as pd\n",
    "import aristopy as ar\n",
    "\n",
    "# Get data from csv-file \n",
    "data = pd.read_csv('testdata.csv', sep=';', decimal='.', index_col=[0])"
   ]
  },
  {
   "cell_type": "code",
   "execution_count": 2,
   "metadata": {},
   "outputs": [
    {
     "data": {
      "text/html": [
       "<div>\n",
       "<style scoped>\n",
       "    .dataframe tbody tr th:only-of-type {\n",
       "        vertical-align: middle;\n",
       "    }\n",
       "\n",
       "    .dataframe tbody tr th {\n",
       "        vertical-align: top;\n",
       "    }\n",
       "\n",
       "    .dataframe thead th {\n",
       "        text-align: right;\n",
       "    }\n",
       "</style>\n",
       "<table border=\"1\" class=\"dataframe\">\n",
       "  <thead>\n",
       "    <tr style=\"text-align: right;\">\n",
       "      <th></th>\n",
       "      <th>c_elec [EUR/MWh]</th>\n",
       "      <th>Q_demand [MWh]</th>\n",
       "    </tr>\n",
       "  </thead>\n",
       "  <tbody>\n",
       "    <tr>\n",
       "      <th>01.01.2018 00:00</th>\n",
       "      <td>-5.27</td>\n",
       "      <td>51.828932</td>\n",
       "    </tr>\n",
       "    <tr>\n",
       "      <th>01.01.2018 01:00</th>\n",
       "      <td>-29.99</td>\n",
       "      <td>51.123716</td>\n",
       "    </tr>\n",
       "    <tr>\n",
       "      <th>01.01.2018 02:00</th>\n",
       "      <td>-56.65</td>\n",
       "      <td>49.202127</td>\n",
       "    </tr>\n",
       "    <tr>\n",
       "      <th>01.01.2018 03:00</th>\n",
       "      <td>-63.14</td>\n",
       "      <td>49.060032</td>\n",
       "    </tr>\n",
       "    <tr>\n",
       "      <th>01.01.2018 04:00</th>\n",
       "      <td>-64.62</td>\n",
       "      <td>52.669893</td>\n",
       "    </tr>\n",
       "    <tr>\n",
       "      <th>01.01.2018 05:00</th>\n",
       "      <td>-67.00</td>\n",
       "      <td>59.055207</td>\n",
       "    </tr>\n",
       "    <tr>\n",
       "      <th>01.01.2018 06:00</th>\n",
       "      <td>-72.54</td>\n",
       "      <td>64.771925</td>\n",
       "    </tr>\n",
       "    <tr>\n",
       "      <th>01.01.2018 07:00</th>\n",
       "      <td>-76.01</td>\n",
       "      <td>66.424269</td>\n",
       "    </tr>\n",
       "  </tbody>\n",
       "</table>\n",
       "</div>"
      ],
      "text/plain": [
       "                  c_elec [EUR/MWh]  Q_demand [MWh]\n",
       "01.01.2018 00:00             -5.27       51.828932\n",
       "01.01.2018 01:00            -29.99       51.123716\n",
       "01.01.2018 02:00            -56.65       49.202127\n",
       "01.01.2018 03:00            -63.14       49.060032\n",
       "01.01.2018 04:00            -64.62       52.669893\n",
       "01.01.2018 05:00            -67.00       59.055207\n",
       "01.01.2018 06:00            -72.54       64.771925\n",
       "01.01.2018 07:00            -76.01       66.424269"
      ]
     },
     "execution_count": 2,
     "metadata": {},
     "output_type": "execute_result"
    }
   ],
   "source": [
    "# print the first 8 rows\n",
    "data.head(8)"
   ]
  },
  {
   "cell_type": "markdown",
   "metadata": {},
   "source": [
    "Aggregate the data for simplification purposes in this notebook by summing/averaging over 4 hours. There is a built-in function in the file utils.py to assist in completing this task."
   ]
  },
  {
   "cell_type": "code",
   "execution_count": 3,
   "metadata": {},
   "outputs": [
    {
     "data": {
      "text/plain": [
       "(array([-38.7625, -70.0425, -64.1025, ...,  61.3   ,  64.1375,  43.5775]),\n",
       " array([201.21480811, 242.92129394, 306.69530448, ..., 432.8322987 ,\n",
       "        463.4687946 , 381.27112154]))"
      ]
     },
     "execution_count": 3,
     "metadata": {},
     "output_type": "execute_result"
    }
   ],
   "source": [
    "# USER-INPUT: \"hpts\" (hours per time step)\n",
    "hpts = 4\n",
    "\n",
    "# Aggregate data with \"hours_per_time_step\" for simplification of this notebook\n",
    "c_elec = ar.utils.aggregate_time_series(data['c_elec [EUR/MWh]'], hpts, 'mean')\n",
    "q_demand = ar.utils.aggregate_time_series(data['Q_demand [MWh]'], hpts, 'sum')\n",
    "\n",
    "# Show aggregated data on screen\n",
    "c_elec, q_demand"
   ]
  },
  {
   "cell_type": "markdown",
   "metadata": {},
   "source": [
    "As in the first example, first, an energy system instance must be created as the main model container. This time an additional logger is added to store information about the modeling and solving process in a log-file. Moreover, a gas source and electricity and heat sinks are added."
   ]
  },
  {
   "cell_type": "code",
   "execution_count": null,
   "metadata": {},
   "outputs": [],
   "source": [
    "# Create energy system instance\n",
    "es = ar.EnergySystem(\n",
    "    number_of_time_steps=8760//hpts, hours_per_time_step=hpts,\n",
    "    interest_rate=0.05, economic_lifetime=20, logging=ar.Logger(\n",
    "        default_log_handler='file', default_log_level='INFO', \n",
    "        write_screen_output_to_logfile=True))\n",
    "\n",
    "# Add a gas source, a heat and electricity sink and a heat bus for collecting\n",
    "gas_source = ar.Source(\n",
    "    ensys=es, name='gas_source', commodity_cost=20, outlet=ar.Flow('Fuel'))\n",
    "\n",
    "heat_sink = ar.Sink(\n",
    "    ensys=es, name='heat_sink', inlet=ar.Flow('Heat', link='heat_bus'),\n",
    "    commodity_rate_fix=ar.Series('q_demand', q_demand))\n",
    "\n",
    "elec_sink = ar.Sink(\n",
    "    ensys=es, name='elec_sink', inlet=ar.Flow('Elec'),\n",
    "    commodity_revenues=ar.Series('c_elec', c_elec))"
   ]
  },
  {
   "cell_type": "markdown",
   "metadata": {},
   "source": [
    "The bus component collects all heat flows at the inlet and transports them (with or without losses) to the outlet. \n",
    "\n",
    "<div class=\"alert alert-info\">\n",
    "\n",
    "**Note:** \n",
    "\n",
    "The same commodity is present at the inlet and the outlet. Therefore, different names for the created variables must be specified in the corresponding flows.\n",
    "</div>"
   ]
  },
  {
   "cell_type": "code",
   "execution_count": 5,
   "metadata": {},
   "outputs": [],
   "source": [
    "heat_bus = ar.Bus(\n",
    "    ensys=es, name='heat_bus',\n",
    "    inlet=ar.Flow('Heat', var_name='Heat_inlet'),\n",
    "    outlet=ar.Flow('Heat', var_name='Heat_outlet'))\n",
    "\n",
    "gas_boiler = ar.Conversion(\n",
    "    ensys=es, name='gas_boiler', basic_variable='Heat',\n",
    "    inlet=ar.Flow('Fuel', 'gas_source'), outlet=ar.Flow('Heat', 'heat_bus'),\n",
    "    capacity_max=250, capex_per_capacity=60e3,\n",
    "    user_expressions='Heat == 0.9 * Fuel')"
   ]
  },
  {
   "cell_type": "markdown",
   "metadata": {},
   "source": [
    "Next, we add five gas engine instances with identical specifications that are simultaneously created and arranged in a group (see \"instances_in_group\"). The five components can work independently, but have an order for their binary existence and operation variables (see API of the [Conversion class](conversion.rst))."
   ]
  },
  {
   "cell_type": "code",
   "execution_count": 6,
   "metadata": {},
   "outputs": [],
   "source": [
    "# Add maximal 5 gas engine units with fixed size\n",
    "gas_engine = ar.Conversion(\n",
    "    ensys=es, name='gas_engine', basic_variable='Elec',\n",
    "    inlet=ar.Flow('Fuel', 'gas_source'),\n",
    "    outlet=[ar.Flow('Heat', 'heat_bus'), ar.Flow('Elec', 'elec_sink')],\n",
    "    has_existence_binary_var=True, has_operation_binary_var=True,\n",
    "    additional_vars=ar.Var('Load', ub=1), scalar_params={'dt': hpts},\n",
    "    capacity=20, min_load_rel=0.2,\n",
    "    user_expressions=['Load <= BI_OP',\n",
    "                      'Elec == (20 * Load) * dt',\n",
    "                      'Heat <= (17 * Load + 2.5 * BI_OP) * dt',\n",
    "                      'Fuel == (37 * Load + 7 * BI_OP) * dt'],\n",
    "    capex_per_capacity=1000e3, opex_per_capacity=12.5e3, opex_operation=6,\n",
    "    instances_in_group=5)"
   ]
  },
  {
   "cell_type": "markdown",
   "metadata": {},
   "source": [
    "The performance modeling in the user expressions of the gas engines involves using binary operating variables (default name \"BI_OP\" is defined in file utils.py). Due to the y-axis intercept, the resulting efficiency curves show non-linear characteristics.\n",
    "\n",
    "<div class=\"alert alert-info\">\n",
    "\n",
    "**Note:** \n",
    "\n",
    "If required, we could also introduce time-varying parameters in the user-expressions to describe the dependency of the conversion rates on, e.g., ambient conditions.\n",
    "</div>"
   ]
  },
  {
   "cell_type": "code",
   "execution_count": 7,
   "metadata": {},
   "outputs": [
    {
     "data": {
      "image/png": "[encoded data removed]",
      "text/plain": [
       "<Figure size 432x288 with 1 Axes>"
      ]
     },
     "metadata": {
      "needs_background": "light"
     },
     "output_type": "display_data"
    }
   ],
   "source": [
    "import matplotlib.pyplot as plt\n",
    "import numpy as np\n",
    "\n",
    "idx = np.linspace(0.2, 1, 20)\n",
    "plt.plot(idx, (20*idx)/(37*idx+7)*100, label='el. efficiency')\n",
    "plt.plot(idx, (17*idx+2.5)/(37*idx+7)*100, label='th. efficiency')\n",
    "plt.xlabel('Load [-]'), plt.ylabel('Efficiency [%]'), plt.legend(loc=4)\n",
    "plt.show()"
   ]
  },
  {
   "cell_type": "markdown",
   "metadata": {},
   "source": [
    "A heat storage component is also included in the design. The storage tank has a modular design and can consist of up to 5 modules of 50 MWh. It should be noted that, similar to the bus component, different variable names must be specified for the inlet and outlet flows. The small value for the argument \"opex_operation\" is set to prevent simultaneous loading and unloading of the storage. For all other keyword arguments, please consult the documentation of the [storage class API](storage.rst)."
   ]
  },
  {
   "cell_type": "code",
   "execution_count": 8,
   "metadata": {},
   "outputs": [],
   "source": [
    "# Add a heat storage component\n",
    "heat_storage = ar.Storage(\n",
    "    ensys=es, name='heat_storage',\n",
    "    inlet=ar.Flow('Heat', link='heat_bus', var_name='Heat_charge'),\n",
    "    outlet=ar.Flow('Heat', link='heat_bus', var_name='Heat_discharge'),\n",
    "    has_existence_binary_var=True,\n",
    "    maximal_module_number=5, capacity_per_module=50,  # max: 5 * 50 MWh\n",
    "    capex_per_capacity=12e3, opex_per_capacity=0.015*12e3,  # 12,000 €/MWh CAPEX\n",
    "    self_discharge=0.01, charge_rate=1/6, discharge_rate=1/6,\n",
    "    opex_operation=1e-9, use_inter_period_formulation=False)"
   ]
  },
  {
   "cell_type": "markdown",
   "metadata": {},
   "source": [
    "Finally, we introduce a constraint that the total installed thermal capacity of the gas boiler and all gas engines must be at least 220 MW. To add this condition to the model, we use a back door to the main pyomo model instance, accessible via the method ```add_constraint``` of the energy system. It must be determined whether the constraint is time-dependent (or has a different set), and a function must be assigned as the constraint rule. This function needs to have at least two arguments. The first one represents the energy system instance; the second one is the pyomo model instance. For a time-dependent constraint, we would need to add two more arguments, representing period (p) and time-step (t). <br>\n",
    "Furthermore, *aristopy* offers the possibility to add additional variables and objective function contributions to the main pyomo model instance. The functions ```add_variable``` and ```add_objective_function_contribution``` are available for this purpose. Please consult the API of the [EnergySystem class](energySystem.rst) for further information."
   ]
  },
  {
   "cell_type": "code",
   "execution_count": 9,
   "metadata": {},
   "outputs": [],
   "source": [
    "# Use a backdoor to the pyomo model instance and add a user-defined constraint\n",
    "# specifying the installed nominal thermal capacity needs to be at least 220 MW.\n",
    "def minimal_installed_capacity_heat(ensys, m):\n",
    "    expr = 0\n",
    "    for comp in ensys.components.values():\n",
    "        if comp.name == 'gas_boiler':\n",
    "            expr += comp.block.CAP\n",
    "        elif comp.group_name == 'gas_engine':\n",
    "            expr += 19.5 * comp.block.BI_EX\n",
    "    return expr >= 220\n",
    "es.add_constraint(name='min_cap_heat', has_time_set=False,\n",
    "                  rule=minimal_installed_capacity_heat)"
   ]
  },
  {
   "cell_type": "markdown",
   "metadata": {},
   "source": [
    "Before we pass the developed model to a solver, we create a copy by using the method ```deepcopy``` of the copy-package. We will use this original model instance later."
   ]
  },
  {
   "cell_type": "code",
   "execution_count": 10,
   "metadata": {},
   "outputs": [],
   "source": [
    "# Create a deepcopy of the original (full scale) model instance for later use\n",
    "original_model = copy.deepcopy(es)"
   ]
  },
  {
   "cell_type": "markdown",
   "metadata": {},
   "source": [
    "### Conventional optimization\n",
    "\n",
    "As in the first example, the model can simply be by calling the method ```optimize``` of the energy system instance. To control the solving process, we add a time limitation in seconds and a requested relative MIP-gap to the solver Gurobi. "
   ]
  },
  {
   "cell_type": "code",
   "execution_count": 11,
   "metadata": {},
   "outputs": [],
   "source": [
    "# Run the optimization of the original model instance\n",
    "es.optimize(solver='gurobi', time_limit=300, optimization_specs='mipgap=1e-3', \n",
    "            results_file='full_scale_results.json', tee=False)"
   ]
  },
  {
   "cell_type": "code",
   "execution_count": 12,
   "metadata": {},
   "outputs": [
    {
     "data": {
      "text/plain": [
       "{'solver_name': 'gurobi',\n",
       " 'time_limit': 300,\n",
       " 'optimization_specs': 'mipgap=1e-3',\n",
       " 'model_build_time': 4,\n",
       " 'model_solve_time': 308,\n",
       " 'upper_bound': -163634109.14349702,\n",
       " 'lower_bound': -163920996.8127097,\n",
       " 'sense': 'maximize',\n",
       " 'solver_status': 'aborted',\n",
       " 'termination_condition': 'maxTimeLimit'}"
      ]
     },
     "execution_count": 12,
     "metadata": {},
     "output_type": "execute_result"
    }
   ],
   "source": [
    "# show basic information about the model building and solving process\n",
    "es.run_info"
   ]
  },
  {
   "cell_type": "markdown",
   "metadata": {},
   "source": [
    "The optimal design solution of the original (full scale) model instance can be accessed with the ```export_component_configuration``` method and is stated in the table below. The objective function contributions of the individual components are shown in the following figure."
   ]
  },
  {
   "cell_type": "code",
   "execution_count": 13,
   "metadata": {},
   "outputs": [
    {
     "data": {
      "text/html": [
       "<div>\n",
       "<style scoped>\n",
       "    .dataframe tbody tr th:only-of-type {\n",
       "        vertical-align: middle;\n",
       "    }\n",
       "\n",
       "    .dataframe tbody tr th {\n",
       "        vertical-align: top;\n",
       "    }\n",
       "\n",
       "    .dataframe thead th {\n",
       "        text-align: right;\n",
       "    }\n",
       "</style>\n",
       "<table border=\"1\" class=\"dataframe\">\n",
       "  <thead>\n",
       "    <tr style=\"text-align: right;\">\n",
       "      <th></th>\n",
       "      <th>gas_source</th>\n",
       "      <th>heat_sink</th>\n",
       "      <th>elec_sink</th>\n",
       "      <th>heat_bus</th>\n",
       "      <th>gas_boiler</th>\n",
       "      <th>gas_engine_1</th>\n",
       "      <th>gas_engine_2</th>\n",
       "      <th>gas_engine_3</th>\n",
       "      <th>gas_engine_4</th>\n",
       "      <th>gas_engine_5</th>\n",
       "      <th>heat_storage</th>\n",
       "    </tr>\n",
       "  </thead>\n",
       "  <tbody>\n",
       "    <tr>\n",
       "      <th>BI_EX</th>\n",
       "      <td>None</td>\n",
       "      <td>None</td>\n",
       "      <td>None</td>\n",
       "      <td>None</td>\n",
       "      <td>None</td>\n",
       "      <td>1</td>\n",
       "      <td>1</td>\n",
       "      <td>1</td>\n",
       "      <td>1</td>\n",
       "      <td>-0</td>\n",
       "      <td>1</td>\n",
       "    </tr>\n",
       "    <tr>\n",
       "      <th>BI_MODULE_EX</th>\n",
       "      <td>None</td>\n",
       "      <td>None</td>\n",
       "      <td>None</td>\n",
       "      <td>None</td>\n",
       "      <td>None</td>\n",
       "      <td>None</td>\n",
       "      <td>None</td>\n",
       "      <td>None</td>\n",
       "      <td>None</td>\n",
       "      <td>None</td>\n",
       "      <td>{1: 1.0, 2: 1.0, 3: 1.0, 4: 1.0, 5: -0.0}</td>\n",
       "    </tr>\n",
       "    <tr>\n",
       "      <th>CAP</th>\n",
       "      <td>None</td>\n",
       "      <td>None</td>\n",
       "      <td>None</td>\n",
       "      <td>None</td>\n",
       "      <td>142</td>\n",
       "      <td>20</td>\n",
       "      <td>20</td>\n",
       "      <td>20</td>\n",
       "      <td>20</td>\n",
       "      <td>0</td>\n",
       "      <td>200</td>\n",
       "    </tr>\n",
       "  </tbody>\n",
       "</table>\n",
       "</div>"
      ],
      "text/plain": [
       "             gas_source heat_sink elec_sink heat_bus gas_boiler gas_engine_1  \\\n",
       "BI_EX              None      None      None     None       None            1   \n",
       "BI_MODULE_EX       None      None      None     None       None         None   \n",
       "CAP                None      None      None     None        142           20   \n",
       "\n",
       "             gas_engine_2 gas_engine_3 gas_engine_4 gas_engine_5  \\\n",
       "BI_EX                   1            1            1           -0   \n",
       "BI_MODULE_EX         None         None         None         None   \n",
       "CAP                    20           20           20            0   \n",
       "\n",
       "                                           heat_storage  \n",
       "BI_EX                                                 1  \n",
       "BI_MODULE_EX  {1: 1.0, 2: 1.0, 3: 1.0, 4: 1.0, 5: -0.0}  \n",
       "CAP                                                 200  "
      ]
     },
     "execution_count": 13,
     "metadata": {},
     "output_type": "execute_result"
    }
   ],
   "source": [
    "es.export_component_configuration()"
   ]
  },
  {
   "cell_type": "code",
   "execution_count": 14,
   "metadata": {},
   "outputs": [
    {
     "data": {
      "image/png": "[encoded data removed]",
      "text/plain": [
       "<Figure size 720x432 with 1 Axes>"
      ]
     },
     "metadata": {
      "needs_background": "light"
     },
     "output_type": "display_data"
    }
   ],
   "source": [
    "ar.Plotter('full_scale_results.json').plot_objective(show_plot=True)"
   ]
  },
  {
   "cell_type": "markdown",
   "metadata": {},
   "source": [
    "### Time series clustering\n",
    "\n",
    "To reduce the number of variables and to speed up the calculation, we can perform the optimization for only a few typical periods. To do this, we first call the ```cluster``` method and break the time series data into elements of equal length and combine similar items into clusters. In the example below, 20 typical days are formed from the input data, and the optimization is performed with these aggregated data (\"use_clustered_data\" is True)."
   ]
  },
  {
   "cell_type": "code",
   "execution_count": 15,
   "metadata": {},
   "outputs": [],
   "source": [
    "# Cluster time series data to 20 typical days.\n",
    "es.cluster(number_of_typical_periods=20,\n",
    "           number_of_time_steps_per_period=24//hpts)\n",
    "\n",
    "# Use clustered data to run the optimization\n",
    "es.optimize(use_clustered_data=True, tee=False, results_file='clustered_results.json')"
   ]
  },
  {
   "cell_type": "markdown",
   "metadata": {},
   "source": [
    "The required time to build and solve the model can be reduced significantly by using clustered input data. The optimal design solution found is comparable to the one of the original model."
   ]
  },
  {
   "cell_type": "code",
   "execution_count": 16,
   "metadata": {},
   "outputs": [
    {
     "data": {
      "text/plain": [
       "{'solver_name': 'gurobi',\n",
       " 'time_limit': None,\n",
       " 'optimization_specs': '',\n",
       " 'model_build_time': 0,\n",
       " 'model_solve_time': 2,\n",
       " 'upper_bound': -170278358.02702567,\n",
       " 'lower_bound': -170278358.02702567,\n",
       " 'sense': 'maximize',\n",
       " 'solver_status': 'ok',\n",
       " 'termination_condition': 'optimal'}"
      ]
     },
     "execution_count": 16,
     "metadata": {},
     "output_type": "execute_result"
    }
   ],
   "source": [
    "es.run_info"
   ]
  },
  {
   "cell_type": "code",
   "execution_count": 17,
   "metadata": {},
   "outputs": [
    {
     "data": {
      "text/html": [
       "<div>\n",
       "<style scoped>\n",
       "    .dataframe tbody tr th:only-of-type {\n",
       "        vertical-align: middle;\n",
       "    }\n",
       "\n",
       "    .dataframe tbody tr th {\n",
       "        vertical-align: top;\n",
       "    }\n",
       "\n",
       "    .dataframe thead th {\n",
       "        text-align: right;\n",
       "    }\n",
       "</style>\n",
       "<table border=\"1\" class=\"dataframe\">\n",
       "  <thead>\n",
       "    <tr style=\"text-align: right;\">\n",
       "      <th></th>\n",
       "      <th>gas_source</th>\n",
       "      <th>heat_sink</th>\n",
       "      <th>elec_sink</th>\n",
       "      <th>heat_bus</th>\n",
       "      <th>gas_boiler</th>\n",
       "      <th>gas_engine_1</th>\n",
       "      <th>gas_engine_2</th>\n",
       "      <th>gas_engine_3</th>\n",
       "      <th>gas_engine_4</th>\n",
       "      <th>gas_engine_5</th>\n",
       "      <th>heat_storage</th>\n",
       "    </tr>\n",
       "  </thead>\n",
       "  <tbody>\n",
       "    <tr>\n",
       "      <th>BI_EX</th>\n",
       "      <td>None</td>\n",
       "      <td>None</td>\n",
       "      <td>None</td>\n",
       "      <td>None</td>\n",
       "      <td>None</td>\n",
       "      <td>1</td>\n",
       "      <td>1</td>\n",
       "      <td>1</td>\n",
       "      <td>-0</td>\n",
       "      <td>-0</td>\n",
       "      <td>1</td>\n",
       "    </tr>\n",
       "    <tr>\n",
       "      <th>BI_MODULE_EX</th>\n",
       "      <td>None</td>\n",
       "      <td>None</td>\n",
       "      <td>None</td>\n",
       "      <td>None</td>\n",
       "      <td>None</td>\n",
       "      <td>None</td>\n",
       "      <td>None</td>\n",
       "      <td>None</td>\n",
       "      <td>None</td>\n",
       "      <td>None</td>\n",
       "      <td>{1: 1.0, 2: 1.0, 3: 1.0, 4: -0.0, 5: -0.0}</td>\n",
       "    </tr>\n",
       "    <tr>\n",
       "      <th>CAP</th>\n",
       "      <td>None</td>\n",
       "      <td>None</td>\n",
       "      <td>None</td>\n",
       "      <td>None</td>\n",
       "      <td>161.5</td>\n",
       "      <td>20</td>\n",
       "      <td>20</td>\n",
       "      <td>20</td>\n",
       "      <td>-0</td>\n",
       "      <td>-0</td>\n",
       "      <td>150</td>\n",
       "    </tr>\n",
       "  </tbody>\n",
       "</table>\n",
       "</div>"
      ],
      "text/plain": [
       "             gas_source heat_sink elec_sink heat_bus gas_boiler gas_engine_1  \\\n",
       "BI_EX              None      None      None     None       None            1   \n",
       "BI_MODULE_EX       None      None      None     None       None         None   \n",
       "CAP                None      None      None     None      161.5           20   \n",
       "\n",
       "             gas_engine_2 gas_engine_3 gas_engine_4 gas_engine_5  \\\n",
       "BI_EX                   1            1           -0           -0   \n",
       "BI_MODULE_EX         None         None         None         None   \n",
       "CAP                    20           20           -0           -0   \n",
       "\n",
       "                                            heat_storage  \n",
       "BI_EX                                                  1  \n",
       "BI_MODULE_EX  {1: 1.0, 2: 1.0, 3: 1.0, 4: -0.0, 5: -0.0}  \n",
       "CAP                                                  150  "
      ]
     },
     "execution_count": 17,
     "metadata": {},
     "output_type": "execute_result"
    }
   ],
   "source": [
    "es.export_component_configuration()"
   ]
  },
  {
   "cell_type": "markdown",
   "metadata": {},
   "source": [
    "The following figures show the state of charge (SOC) of the heat storage tank and the associated loading and unloading operations for a selected typical period. Besides, the heat flows, entering and leaving the heat bus component are plotted scaled to a full year cycle."
   ]
  },
  {
   "cell_type": "code",
   "execution_count": 18,
   "metadata": {},
   "outputs": [
    {
     "data": {
      "image/png": "[encoded data removed]",
      "text/plain": [
       "<Figure size 720x432 with 1 Axes>"
      ]
     },
     "metadata": {
      "needs_background": "light"
     },
     "output_type": "display_data"
    },
    {
     "data": {
      "image/png": "[encoded data removed]",
      "text/plain": [
       "<Figure size 720x432 with 1 Axes>"
      ]
     },
     "metadata": {
      "needs_background": "light"
     },
     "output_type": "display_data"
    }
   ],
   "source": [
    "plotter = ar.Plotter('clustered_results.json')\n",
    "plotter.plot_operation('heat_storage', 'Heat', ylabel='Thermal energy [MWh]',\n",
    "                       file_name='heat_storage', plot_single_period_with_index=7,\n",
    "                       show_plot=True)\n",
    "plotter.plot_operation('heat_bus', 'Heat', ylabel='Thermal energy [MWh]',\n",
    "                       file_name='heat_bus', scale_to_hourly_resolution=True, \n",
    "                       show_plot=True)"
   ]
  },
  {
   "cell_type": "markdown",
   "metadata": {},
   "source": [
    "### Two-stage model run\n",
    "\n",
    "The last part of this example shows the possibility of dividing the original problem into two levels to reduce computation time and enable the fast generation of several high-quality design solution candidates.\n",
    "The developers of *aristopy* have published a comparable method in [this paper](https://doi.org/10.1115/IMECE2019-11519). <br>\n",
    "In the first optimization stage, a simplified problem is considered, and a design candidate is generated. The simplification is achieved by the aggregation of time series data and the relaxation of binary operation variables. In the second step, the design candidate's objective function value is determined for the original problem by considering the full-scale model.\n",
    "\n",
    "Building a large optimization model in Pyomo can take a considerable time. Therefore Pyomo offers the possibility to create so-called persistent solvers (only for Gurobi and CPLEX). This solver instance is created only once, and the model is added via its persistent interface. Later, this model can be solved various times without the time-consuming building phase. The flag \"declare_persistent\" must be set to True during model declaration to exploit these persistent models in *aristopy*. Minor changes can be added to the persistent solver at a later stage. More information about the persistent solver interface of Pyomo can be found [here](https://pyomo.readthedocs.io/en/stable/advanced_topics/persistent_solvers.html)."
   ]
  },
  {
   "cell_type": "code",
   "execution_count": 19,
   "metadata": {},
   "outputs": [],
   "source": [
    "# Construct (declare) a persistent model of the original (full scale) instance\n",
    "original_model.declare_model(use_clustered_data=False, declare_persistent=True)"
   ]
  },
  {
   "cell_type": "markdown",
   "metadata": {},
   "source": [
    "In the following steps, the cluster function is called for the energy system model (not the original/full-scale model!), and the model is declared with aggregated data. Then the binary operating variables (ON/OFF) are relaxed so that they can take on values between zero and one. The existence variables remain binary."
   ]
  },
  {
   "cell_type": "code",
   "execution_count": 20,
   "metadata": {},
   "outputs": [],
   "source": [
    "# Cluster time series data, declare the model and relax the integrality of the\n",
    "# binary operation variables\n",
    "es.cluster(number_of_typical_periods=20,\n",
    "           number_of_time_steps_per_period=24//hpts)\n",
    "es.declare_model(use_clustered_data=True)\n",
    "es.relax_integrality(include_time_dependent=True,\n",
    "                     include_existence=False, include_modules=False)"
   ]
  },
  {
   "cell_type": "markdown",
   "metadata": {},
   "source": [
    "Subsequently, several optimization problems are iteratively solved, and the results are stored in a pandas DataFrame for further comparison. In the first step, the problem is solved with clustered data (model is not declared again!). The configuration (existence and capacity of the components) is imported into the full-scale problem. Now, this original problem is solved with a fixed design as a pure dispatch model. \n",
    "In the last step, an integer cut constraint is introduced in the aggregated model. Thus, the current design solution (the combination of binary variables) is excluded from the solution space, and another design solution must be generated in the next model run."
   ]
  },
  {
   "cell_type": "code",
   "execution_count": 21,
   "metadata": {},
   "outputs": [],
   "source": [
    "# Create a number of integer-cuts\n",
    "nbr_of_icc = 5\n",
    "\n",
    "# Store some results in a DataFrame to compare solutions\n",
    "results = pd.DataFrame(index=range(nbr_of_icc), columns=[\n",
    "    'Obj. value [Mio.€]', 'Nbr. of engines [-]', \n",
    "    'Capacity storage [MWh]', 'Capacity boiler [MW]', \n",
    "    '1st stage time [s]', '2nd stage time [s]'])\n",
    "\n",
    "for icc in range(nbr_of_icc):\n",
    "\n",
    "    # Run optimization with clustered data\n",
    "    es.optimize(use_clustered_data=True, declare_model=False,\n",
    "                tee=False, results_file=f'1st_stage_results_{icc}.json')\n",
    "\n",
    "    # Export the configuration to a DataFrame and store it in an Excel-File\n",
    "    config = es.export_component_configuration(\n",
    "        write_to_excel=True, file_name=f'1st_stage_config_{icc}.xlsx')\n",
    "\n",
    "    # Import the optimal configuration and fix design variables\n",
    "    original_model.import_component_configuration(config)\n",
    "\n",
    "    # Run the already declared persistent, full scale model\n",
    "    original_model.optimize(declare_model=False, tee=False,\n",
    "                            results_file=f'2nd_stage_results_{icc}.json')\n",
    "\n",
    "    # Reset variables to their original (unfixed) values\n",
    "    original_model.reset_component_variables()\n",
    "\n",
    "    # Add an integer-cut constraint for the gas engines to the aggregated model\n",
    "    # => Exclude previously found optimal design from the solution space\n",
    "    es.add_design_integer_cut_constraint(which_instances=['gas_engine'])\n",
    "                                               \n",
    "    \n",
    "    results['Obj. value [Mio.€]'].loc[icc] = original_model.run_info['lower_bound'] / 1e6    \n",
    "    results['Nbr. of engines [-]'].loc[icc] = sum(comp.block.BI_EX.value \n",
    "                                                  for comp in es.components.values() \n",
    "                                                  if comp.group_name == 'gas_engine')\n",
    "    results['Capacity storage [MWh]'].loc[icc] = config['heat_storage'].loc['CAP']\n",
    "    results['Capacity boiler [MW]'].loc[icc] = config['gas_boiler'].loc['CAP']\n",
    "    results['1st stage time [s]'].loc[icc] = es.run_info['model_solve_time']\n",
    "    results['2nd stage time [s]'].loc[icc] = original_model.run_info['model_solve_time']"
   ]
  },
  {
   "cell_type": "markdown",
   "metadata": {},
   "source": [
    "The following summary of the results shows that a single iteration can be performed much faster by splitting it into two optimization levels. The detected solutions are comparable to the globally optimal solution of the original problem (see above). In addition, further design candidates are evaluated, and a deeper understanding of the present model is gained."
   ]
  },
  {
   "cell_type": "code",
   "execution_count": 22,
   "metadata": {},
   "outputs": [
    {
     "data": {
      "text/html": [
       "<div>\n",
       "<style scoped>\n",
       "    .dataframe tbody tr th:only-of-type {\n",
       "        vertical-align: middle;\n",
       "    }\n",
       "\n",
       "    .dataframe tbody tr th {\n",
       "        vertical-align: top;\n",
       "    }\n",
       "\n",
       "    .dataframe thead th {\n",
       "        text-align: right;\n",
       "    }\n",
       "</style>\n",
       "<table border=\"1\" class=\"dataframe\">\n",
       "  <thead>\n",
       "    <tr style=\"text-align: right;\">\n",
       "      <th></th>\n",
       "      <th>Obj. value [Mio.€]</th>\n",
       "      <th>Nbr. of engines [-]</th>\n",
       "      <th>Capacity storage [MWh]</th>\n",
       "      <th>Capacity boiler [MW]</th>\n",
       "      <th>1st stage time [s]</th>\n",
       "      <th>2nd stage time [s]</th>\n",
       "    </tr>\n",
       "  </thead>\n",
       "  <tbody>\n",
       "    <tr>\n",
       "      <th>0</th>\n",
       "      <td>-164.202</td>\n",
       "      <td>3</td>\n",
       "      <td>100</td>\n",
       "      <td>161.5</td>\n",
       "      <td>0</td>\n",
       "      <td>11</td>\n",
       "    </tr>\n",
       "    <tr>\n",
       "      <th>1</th>\n",
       "      <td>-166.424</td>\n",
       "      <td>2</td>\n",
       "      <td>100</td>\n",
       "      <td>181</td>\n",
       "      <td>0</td>\n",
       "      <td>4</td>\n",
       "    </tr>\n",
       "    <tr>\n",
       "      <th>2</th>\n",
       "      <td>-163.98</td>\n",
       "      <td>4</td>\n",
       "      <td>150</td>\n",
       "      <td>142</td>\n",
       "      <td>0</td>\n",
       "      <td>36</td>\n",
       "    </tr>\n",
       "    <tr>\n",
       "      <th>3</th>\n",
       "      <td>-172.912</td>\n",
       "      <td>1</td>\n",
       "      <td>0</td>\n",
       "      <td>200.5</td>\n",
       "      <td>0</td>\n",
       "      <td>1</td>\n",
       "    </tr>\n",
       "    <tr>\n",
       "      <th>4</th>\n",
       "      <td>-166.653</td>\n",
       "      <td>5</td>\n",
       "      <td>150</td>\n",
       "      <td>122.5</td>\n",
       "      <td>1</td>\n",
       "      <td>94</td>\n",
       "    </tr>\n",
       "  </tbody>\n",
       "</table>\n",
       "</div>"
      ],
      "text/plain": [
       "  Obj. value [Mio.€] Nbr. of engines [-] Capacity storage [MWh]  \\\n",
       "0           -164.202                   3                    100   \n",
       "1           -166.424                   2                    100   \n",
       "2            -163.98                   4                    150   \n",
       "3           -172.912                   1                      0   \n",
       "4           -166.653                   5                    150   \n",
       "\n",
       "  Capacity boiler [MW] 1st stage time [s] 2nd stage time [s]  \n",
       "0                161.5                  0                 11  \n",
       "1                  181                  0                  4  \n",
       "2                  142                  0                 36  \n",
       "3                200.5                  0                  1  \n",
       "4                122.5                  1                 94  "
      ]
     },
     "execution_count": 22,
     "metadata": {},
     "output_type": "execute_result"
    }
   ],
   "source": [
    "# print the results on the screen\n",
    "results"
   ]
  }
 ],
 "metadata": {
  "kernelspec": {
   "display_name": "Python 3",
   "language": "python",
   "name": "python3"
  },
  "language_info": {
   "codemirror_mode": {
    "name": "ipython",
    "version": 3
   },
   "file_extension": ".py",
   "mimetype": "text/x-python",
   "name": "python",
   "nbconvert_exporter": "python",
   "pygments_lexer": "ipython3",
   "version": "3.7.1"
  }
 },
 "nbformat": 4,
 "nbformat_minor": 4
}
