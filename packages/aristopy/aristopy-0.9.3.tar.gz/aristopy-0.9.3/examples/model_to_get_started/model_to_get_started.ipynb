{
 "cells": [
  {
   "cell_type": "markdown",
   "metadata": {},
   "source": [
    "# Model to get started\n",
    "\n",
    "* File name: model_to_get_started.ipynb\n",
    "* Last edited: 2020-06-24\n",
    "* Created by: Stefan Bruche (TU Berlin)"
   ]
  },
  {
   "cell_type": "markdown",
   "metadata": {},
   "source": [
    "```python\n",
    "import aristopy as ar\n",
    "\n",
    "# Create basic energy system instance\n",
    "es = ar.EnergySystem(\n",
    "    number_of_time_steps=3, hours_per_time_step=1, \n",
    "    interest_rate=0.05, economic_lifetime=20)\n",
    "\n",
    "# Add a gas source, two different conversion units and sinks\n",
    "gas_source = ar.Source(\n",
    "    ensys=es, name='gas_source', commodity_cost=20, outlet=ar.Flow('Fuel'))\n",
    "\n",
    "gas_boiler = ar.Conversion(\n",
    "    ensys=es, name='gas_boiler', basic_variable='Heat',\n",
    "    inlet=ar.Flow('Fuel', 'gas_source'), outlet=ar.Flow('Heat', 'heat_sink'),\n",
    "    capacity_max=150, capex_per_capacity=60e3, \n",
    "    user_expressions='Heat == 0.9 * Fuel')\n",
    "\n",
    "chp_unit = ar.Conversion(\n",
    "    ensys=es, name='chp_unit', basic_variable='Elec',\n",
    "    inlet=ar.Flow('Fuel', 'gas_source'), \n",
    "    outlet=[ar.Flow('Heat', 'heat_sink'), ar.Flow('Elec', 'elec_sink')],\n",
    "    capacity_max=100, capex_per_capacity=600e3,\n",
    "    user_expressions=['Heat == 0.5 * Fuel', \n",
    "                      'Elec == 0.4 * Fuel'])\n",
    "\n",
    "heat_sink = ar.Sink(\n",
    "    ensys=es, name='heat_sink', inlet=ar.Flow('Heat'),\n",
    "    commodity_rate_fix=ar.Series('heat_demand', [100, 200, 150]))\n",
    "\n",
    "elec_sink = ar.Sink(\n",
    "    ensys=es, name='elec_sink', inlet=ar.Flow('Elec'), commodity_revenues=30)\n",
    "\n",
    "# Run the optimization\n",
    "es.optimize(solver='cbc', results_file='results.json')\n",
    "\n",
    "# Plot some results\n",
    "plotter = ar.Plotter('results.json')\n",
    "plotter.plot_operation('heat_sink', 'Heat', lgd_pos='lower center', \n",
    "                       bar_lw=0.5, ylabel='Thermal energy [MWh]')\n",
    "plotter.plot_objective(lgd_pos='lower center')\n",
    "```"
   ]
  },
  {
   "cell_type": "markdown",
   "metadata": {},
   "source": [
    "### Create *aristopy* model\n",
    "\n",
    "First, we need to import the *aristopy* package. If the import fails, you might need to recheck the installation instructions."
   ]
  },
  {
   "cell_type": "code",
   "execution_count": 1,
   "metadata": {},
   "outputs": [],
   "source": [
    "# Import the required packages (jupyter magic only required for jupyter notebooks)\n",
    "%reload_ext autoreload\n",
    "%autoreload 2\n",
    "%matplotlib inline\n",
    "\n",
    "import aristopy as ar"
   ]
  },
  {
   "cell_type": "markdown",
   "metadata": {},
   "source": [
    "An *aristopy* model consists of an instance of the EnergySystem class and the added components. <br> \n",
    "To create an energy system, we need to specify the number of considered time steps and the number of hours per time step. Additionally, the interest rate and the economic lifetime of the installed components are required to calculate the net present value (objective function value)."
   ]
  },
  {
   "cell_type": "code",
   "execution_count": 2,
   "metadata": {},
   "outputs": [],
   "source": [
    "# Create basic energy system instance\n",
    "es = ar.EnergySystem(number_of_time_steps=3, hours_per_time_step=1,\n",
    "                     interest_rate=0.05, economic_lifetime=20)"
   ]
  },
  {
   "cell_type": "markdown",
   "metadata": {},
   "source": [
    "To instantiate a Component instance (Source, Sink, Conversion, Bus, Storage), we need to specify the EnergySystem instance, where it is added to and set a name for the component. Next, we add flows on the inlets and outlets. A Flow instance represents a connection point of a component and is used to create links with other components. Additionally, the flow introduces a commodity to the component and triggers the creation of an associated commodity variable (usually with the same name). The number of required or accepted inlet and outlet flows and component commodities depends on the component type (see table below). You can add multiple flows on an inlet or outlet for setting different commodities or linking components, by arranging them in a list."
   ]
  },
  {
   "cell_type": "markdown",
   "metadata": {},
   "source": [
    "| Component type | Nbr. of inlet flows | Nbr. of outlet flows | Nbr. of commodities |\n",
    "| :---           | :---: | :---: | :---: |\n",
    "| Source         | 0 | $\\ge$ 1 | 1 |\n",
    "| Sink           | $\\ge$ 1 | 0 | 1 |\n",
    "| Conversion     | $\\ge$ 1 | $\\ge$ 1 | $\\ge$ 1 |\n",
    "| Storage        | $\\ge$ 1 | $\\ge$ 1 | 1 |\n",
    "| Bus            | $\\ge$ 1 | $\\ge$ 1 | 1 |\n",
    "\n"
   ]
  },
  {
   "cell_type": "code",
   "execution_count": 3,
   "metadata": {},
   "outputs": [],
   "source": [
    "# Add a gas source\n",
    "gas_source = ar.Source(ensys=es, name='gas_source', outlet=ar.Flow('Fuel'),\n",
    "                       commodity_cost=20)"
   ]
  },
  {
   "cell_type": "markdown",
   "metadata": {},
   "source": [
    "The conversion instances usually have different commodities on their inlets and outlets. That's why we need to specify the name of the basic variable for conversion components. This basic variable is used to restrict capacities, set operation rates, and calculate CAPEX and OPEX."
   ]
  },
  {
   "cell_type": "code",
   "execution_count": 4,
   "metadata": {},
   "outputs": [],
   "source": [
    "# Add a gas boiler conversion unit\n",
    "gas_boiler = ar.Conversion(ensys=es, name='gas_boiler',\n",
    "                           basic_variable='Heat',\n",
    "                           inlet=ar.Flow(commodity='Fuel', link='gas_source'),\n",
    "                           outlet=ar.Flow('Heat', 'heat_sink'),\n",
    "                           capacity_max=150, capex_per_capacity=60e3,\n",
    "                           user_expressions='Heat == 0.9 * Fuel')"
   ]
  },
  {
   "cell_type": "markdown",
   "metadata": {},
   "source": [
    "We can use the keyword argument **user_expressions** to specify commodity conversion rates, limit capacities, and set other internal component constraints manually. Here we can use the names (identifiers) of the commodity variables created by adding flows, and, if applicable, variables with standard names, e.g.:\n",
    "\n",
    "* CAP - component capacity variable\n",
    "* BI_EX - binary existence variable\n",
    "* BI_OP - binary operation variable\n",
    "* ... (see file utils.py in your aristopy directory) \n",
    "\n",
    "The expressions are simply added as a list of strings. The options for mathematical operators are: <br> \n",
    "``sum, sin, cos, exp, log, ==, >=, <=, **, *, /, +, -, (, )``. <br> \n",
    "The indexes (sets) of the variables and parameters are processed automatically behind the scenes."
   ]
  },
  {
   "cell_type": "code",
   "execution_count": 5,
   "metadata": {},
   "outputs": [],
   "source": [
    "# Add a CHP unit\n",
    "chp_unit = ar.Conversion(ensys=es, name='chp_unit', basic_variable='Elec',\n",
    "                         inlet=ar.Flow('Fuel', 'gas_source'),\n",
    "                         outlet=[ar.Flow('Heat', 'heat_sink'), ar.Flow('Elec', 'elec_sink')],\n",
    "                         capacity_max=100, capex_per_capacity=600e3,\n",
    "                         user_expressions=['Heat == 0.5 * Fuel',\n",
    "                                           'Elec == 0.4 * Fuel'])"
   ]
  },
  {
   "cell_type": "markdown",
   "metadata": {},
   "source": [
    "Time series data can be introduced as an aristopy Series instance and might be applied to set commodity rates, and time-dependent commodity cost or revenues, or generally for the scripting of user expressions."
   ]
  },
  {
   "cell_type": "code",
   "execution_count": 6,
   "metadata": {},
   "outputs": [],
   "source": [
    "# Add a sink with fixed heat demand\n",
    "heat_sink = ar.Sink(ensys=es, name='heat_sink', inlet=ar.Flow('Heat'),\n",
    "                    commodity_rate_fix=ar.Series('heat_demand', [100, 200, 150]))\n",
    "\n",
    "elec_sink = ar.Sink(ensys=es, name='elec_sink', inlet=ar.Flow('Elec'),\n",
    "                    commodity_revenues=30)"
   ]
  },
  {
   "cell_type": "markdown",
   "metadata": {},
   "source": [
    "<div class=\"alert alert-info\">\n",
    "\n",
    "**Note:** \n",
    "    \n",
    "Alternatively, we could use the *time_series_data* and *user_expressions* keyword arguments so set the required fixed commodity rate of the heat sink.\n",
    "```python\n",
    "heat_sink = ar.Sink(ensys=es, name='heat_sink', inlet=ar.Flow('Heat'),\n",
    "                    time_series_data=ar.Series('heat_demand', [100, 200, 150]),\n",
    "                    user_expressions='Heat == heat_demand')\n",
    "```\n",
    "</div>"
   ]
  },
  {
   "cell_type": "markdown",
   "metadata": {},
   "source": [
    "### Run optimization\n",
    "\n",
    "To run the optimization, we need to call the EnergySystem method *optimize*. The most important input to this method is the name of the applied solver. You have to ensure the solver is available on your machine and can be detected with this name. The solver output is suppressed for convenience in this notebook (*tee=False*). The results of the model run are written to a JSON-file with a specified name. "
   ]
  },
  {
   "cell_type": "code",
   "execution_count": 7,
   "metadata": {},
   "outputs": [],
   "source": [
    "es.optimize(solver='cbc', tee=False, results_file='results.json')"
   ]
  },
  {
   "cell_type": "markdown",
   "metadata": {},
   "source": [
    "Basic information about the building and solving process of the optimzation model are stored in the Python dictionary *run_info* of the EnergySystem instane."
   ]
  },
  {
   "cell_type": "code",
   "execution_count": 8,
   "metadata": {},
   "outputs": [
    {
     "data": {
      "text/plain": [
       "{'solver_name': 'cbc',\n",
       " 'time_limit': None,\n",
       " 'optimization_specs': '',\n",
       " 'model_build_time': 0,\n",
       " 'model_solve_time': 0,\n",
       " 'upper_bound': 349147961.7,\n",
       " 'lower_bound': 349147961.7,\n",
       " 'sense': 'maximize',\n",
       " 'solver_status': 'ok',\n",
       " 'termination_condition': 'optimal'}"
      ]
     },
     "execution_count": 8,
     "metadata": {},
     "output_type": "execute_result"
    }
   ],
   "source": [
    "es.run_info"
   ]
  },
  {
   "cell_type": "markdown",
   "metadata": {},
   "source": [
    "The pyomo ConcreteModel instance of the energy system can be accessed with the attribute *model*. All of the conventional pyomo functions can be applied here (e.g., pprint of the objective function)."
   ]
  },
  {
   "cell_type": "code",
   "execution_count": 9,
   "metadata": {},
   "outputs": [
    {
     "name": "stdout",
     "output_type": "stream",
     "text": [
      "Obj : Size=1, Index=None, Active=True\n",
      "    Key  : Active : Sense    : Expression\n",
      "    None :   True : maximize : -249.24420685079974*(gas_source.Fuel[0,0] + gas_source.Fuel[0,1] + gas_source.Fuel[0,2])/0.00034246575342465754 - 60000.0*gas_boiler.CAP - 600000.0*chp_unit.CAP + 373.8663102761996*(elec_sink.Elec[0,0] + elec_sink.Elec[0,1] + elec_sink.Elec[0,2])/0.00034246575342465754\n"
     ]
    }
   ],
   "source": [
    "es.model.Obj.pprint()"
   ]
  },
  {
   "cell_type": "markdown",
   "metadata": {},
   "source": [
    "The component variables and constraints are stored in separate pyomo Block models. They can be accessed via attribute block directly on the components. All components are also added to EnergySystem's dictionary components and can be reached with their specified name."
   ]
  },
  {
   "cell_type": "code",
   "execution_count": 10,
   "metadata": {},
   "outputs": [
    {
     "name": "stdout",
     "output_type": "stream",
     "text": [
      "Heat : Size=3, Index=time_set\n",
      "    Key    : Lower : Value : Upper : Fixed : Stale : Domain\n",
      "    (0, 0) :     0 :   0.0 :  None : False : False : NonNegativeReals\n",
      "    (0, 1) :     0 :  75.0 :  None : False : False : NonNegativeReals\n",
      "    (0, 2) :     0 :  25.0 :  None : False : False : NonNegativeReals\n"
     ]
    }
   ],
   "source": [
    "gas_boiler.block.Heat.pprint()"
   ]
  },
  {
   "cell_type": "code",
   "execution_count": 11,
   "metadata": {},
   "outputs": [
    {
     "data": {
      "text/plain": [
       "{(0, 0): 80.0, (0, 1): 100.0, (0, 2): 100.0}"
      ]
     },
     "execution_count": 11,
     "metadata": {},
     "output_type": "execute_result"
    }
   ],
   "source": [
    "# return dictionary of variable 'Elec' for component 'chp_unit'   \n",
    "es.components['chp_unit'].block.Elec.get_values()"
   ]
  },
  {
   "cell_type": "markdown",
   "metadata": {},
   "source": [
    "### Plot results\n",
    "\n",
    "The Plotter class is used to read the exported optimization results from the JSON-file and to provide basic plotting routines. Additional keyword arguments are available to customize the plotting output, e.g., set labels, figure size, legend position, etc. (see dictionary *props* of the Plotter class)."
   ]
  },
  {
   "cell_type": "code",
   "execution_count": 12,
   "metadata": {},
   "outputs": [],
   "source": [
    "# Create instance of Plotter class and read in file 'results.json'\n",
    "plotter = ar.Plotter('results.json')"
   ]
  },
  {
   "cell_type": "markdown",
   "metadata": {},
   "source": [
    "The method *plot_operation* returns a mixed bar and line plot that visualizes the operation of a component on the\n",
    "basis of a selected commodity."
   ]
  },
  {
   "cell_type": "code",
   "execution_count": 13,
   "metadata": {},
   "outputs": [
    {
     "data": {
      "image/png": "[encoded data removed]",
      "text/plain": [
       "<Figure size 720x432 with 1 Axes>"
      ]
     },
     "metadata": {
      "needs_background": "light"
     },
     "output_type": "display_data"
    }
   ],
   "source": [
    "plotter.plot_operation('heat_sink', 'Heat', lgd_pos='lower center',\n",
    "                       bar_lw=0.5, ylabel='Thermal energy [MWh]', \n",
    "                       show_plot=True)"
   ]
  },
  {
   "cell_type": "markdown",
   "metadata": {},
   "source": [
    "The method *plot_objective* returns a bar chart that summarizes the cost contributions of each component to the\n",
    "overall objective function value."
   ]
  },
  {
   "cell_type": "code",
   "execution_count": 14,
   "metadata": {},
   "outputs": [
    {
     "data": {
      "image/png": "[encoded data removed]",
      "text/plain": [
       "<Figure size 720x432 with 1 Axes>"
      ]
     },
     "metadata": {
      "needs_background": "light"
     },
     "output_type": "display_data"
    }
   ],
   "source": [
    "plotter.plot_objective(lgd_pos='lower center', show_plot=True)"
   ]
  }
 ],
 "metadata": {
  "kernelspec": {
   "display_name": "Python 3",
   "language": "python",
   "name": "python3"
  },
  "language_info": {
   "codemirror_mode": {
    "name": "ipython",
    "version": 3
   },
   "file_extension": ".py",
   "mimetype": "text/x-python",
   "name": "python",
   "nbconvert_exporter": "python",
   "pygments_lexer": "ipython3",
   "version": "3.7.1"
  }
 },
 "nbformat": 4,
 "nbformat_minor": 2
}
