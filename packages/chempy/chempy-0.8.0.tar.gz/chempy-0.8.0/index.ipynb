{
 "cells": [
  {
   "cell_type": "markdown",
   "metadata": {},
   "source": [
    "<h1 style=\"text-align:center;\">Example notebooks for ChemPy</h1>\n",
    "\n",
    "This is a collection of demonstration notebooks for chempy. The chempy package contains classes and functions for modelling e.g. chemical kinetics, chemical equilibria (e.g. speciation problems). It also collects a steadily growing collection of parametrizations of various chemical properties from the litterature.\n",
    "\n",
    "You can view these notebooks online with [Binder](https://mybinder.org/v2/gh/bjodah/chempy/181c41cec04bf2d41a64d2c2bb55b4ac112bf46f?filepath=index.ipynb). \n",
    "\n",
    "## Example notebooks\n",
    "\n",
    "### Kinetics\n",
    "- [Parameter variation studies of kinetic systems (with units)](examples/kinetics_decay_chain_units_varied_params.ipynb)\n",
    "- [Interactive kinetic modelling](examples/interactive_kinetic_modelling.ipynb)\n",
    "- [Kinetic modelling with time-varying conditions](examples/kinetics_ode_time_dependent.ipynb)\n",
    "- [Protein binding & undfolding – a four-state model](examples/protein_binding_unfolding_4state_model.ipynb)\n",
    "- [Continuously stirred tank reactor (CSTR)](examples/kinetics_cstr.ipynb)\n",
    "- [Aqueous radiolysis - looking at dominant reactions in kinetic models](examples/aqueous_radiolysis.ipynb)\n",
    "\n",
    "\n",
    "### Equilibira\n",
    "- [Copper(II)amine complexes (speciation)](examples/ammonical_cupric_solution.ipynb)\n",
    "- [Simple system of equilibria for aqueous ammonia](examples/Ammonia.ipynb)\n",
    "- [NaCl precipitation (multi-phase equilibria)](examples/NaCl_precipitation.ipynb)\n",
    "\n",
    "### Other\n",
    "- [Exploring Debye-Hückel theory for electrolytes](examples/demo_debye_huckel.ipynb)\n",
    "\n",
    "\n",
    "\n",
    "there are additional (less polished) notebooks available [here](examples/) (those also serve as test cases on the CI-server)."
   ]
  }
 ],
 "metadata": {
  "anaconda-cloud": {},
  "kernelspec": {
   "display_name": "Python 3",
   "language": "python",
   "name": "python3"
  },
  "language_info": {
   "codemirror_mode": {
    "name": "ipython",
    "version": 3
   },
   "file_extension": ".py",
   "mimetype": "text/x-python",
   "name": "python",
   "nbconvert_exporter": "python",
   "pygments_lexer": "ipython3",
   "version": "3.6.4"
  }
 },
 "nbformat": 4,
 "nbformat_minor": 2
}
