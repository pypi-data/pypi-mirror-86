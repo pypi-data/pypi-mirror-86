{
 "cells": [
  {
   "cell_type": "code",
   "execution_count": null,
   "metadata": {},
   "outputs": [],
   "source": [
    "from astropy.io import fits\n",
    "from astropy.table import Table\n",
    "from astronify import simulator, series"
   ]
  },
  {
   "cell_type": "markdown",
   "metadata": {},
   "source": [
    "Let's start off with a simulated light curve that has almost no variation at all, to orient ourselves.  We'll use the simulator to create a \"flat\" light curve with almost zero noise (specified via the noise parameter).  The length parameter specifies how long we want our light curve to be.  Setting visualize to True means a plot will be made showing the fluxes (brightness) as a function of time.  The yoffset parameter is used to specify the baseline brightness level."
   ]
  },
  {
   "cell_type": "code",
   "execution_count": null,
   "metadata": {},
   "outputs": [],
   "source": [
    "lc_data = simulator.simulated_lc(\"flat\", lc_length=500, lc_noise=0.1, visualize=True, lc_yoffset=100.)"
   ]
  },
  {
   "cell_type": "markdown",
   "metadata": {},
   "source": [
    "Now let's create a sonified version of the data!"
   ]
  },
  {
   "cell_type": "code",
   "execution_count": null,
   "metadata": {},
   "outputs": [],
   "source": [
    "soni_obj = series.SoniSeries(lc_data)\n",
    "soni_obj.sonify()"
   ]
  },
  {
   "cell_type": "markdown",
   "metadata": {},
   "source": [
    "And now let's listen to the sound!"
   ]
  },
  {
   "cell_type": "code",
   "execution_count": null,
   "metadata": {},
   "outputs": [],
   "source": [
    "soni_obj.play()"
   ]
  },
  {
   "cell_type": "markdown",
   "metadata": {},
   "source": [
    "You can inject different amounts of noise.  Let's make a light curve with a lot of noise.  In our first example, we used a value of 0.1 for the noise parameter.  Now we'll make a light curve with 1000 times the level of noise."
   ]
  },
  {
   "cell_type": "code",
   "execution_count": null,
   "metadata": {},
   "outputs": [],
   "source": [
    "lc_data = simulator.simulated_lc(\"flat\", lc_length=500, lc_noise=100., visualize=True, lc_yoffset=100.)"
   ]
  },
  {
   "cell_type": "markdown",
   "metadata": {},
   "source": [
    "Let's sonify this light curve and listen to it."
   ]
  },
  {
   "cell_type": "code",
   "execution_count": null,
   "metadata": {},
   "outputs": [],
   "source": [
    "soni_obj = series.SoniSeries(lc_data)\n",
    "soni_obj.sonify()\n",
    "soni_obj.play()"
   ]
  },
  {
   "cell_type": "markdown",
   "metadata": {},
   "source": [
    "You can also use the simulator to inject signals of different types.  Let's inject a signal expected from a transiting extrasolar planet.  For now, we will use all the defaults for the parameters."
   ]
  },
  {
   "cell_type": "code",
   "execution_count": null,
   "metadata": {},
   "outputs": [],
   "source": [
    "lc_data = simulator.simulated_lc(\"transit\", visualize=True, transit_width=10)"
   ]
  },
  {
   "cell_type": "markdown",
   "metadata": {},
   "source": [
    "Let's sonify this light curve and see if we can hear the drop in brightness caused by the planet blocking a very small part of the star's surface when it passes in front of the star."
   ]
  },
  {
   "cell_type": "code",
   "execution_count": null,
   "metadata": {},
   "outputs": [],
   "source": [
    "soni_obj = series.SoniSeries(lc_data)\n",
    "soni_obj.pitch_mapper.pitch_map_args[\"zero_point\"] = 95.\n",
    "soni_obj.sonify()\n",
    "soni_obj.play()"
   ]
  },
  {
   "cell_type": "markdown",
   "metadata": {},
   "source": [
    "Now let's explore the options when adding a transiting extrasolar planet signal.  We will specify the depth of the transit (how much the planet blocks), the period (how long it takes the planet to make one full pass around the star), and the width (how long the planet takes to cross the star's surface).  We'll also add some noise to the light curve, and finally ask for a slightly longer light curve so we can get more opportunities to have the planet cross in front of the star."
   ]
  },
  {
   "cell_type": "code",
   "execution_count": null,
   "metadata": {},
   "outputs": [],
   "source": [
    "lc_data = simulator.simulated_lc(\"transit\", visualize=True, transit_depth=1.5, transit_period=145,\n",
    "                                 transit_width=42, lc_noise=0.5, lc_length=750)"
   ]
  },
  {
   "cell_type": "markdown",
   "metadata": {},
   "source": [
    "Let's sonify this light curve!"
   ]
  },
  {
   "cell_type": "code",
   "execution_count": null,
   "metadata": {},
   "outputs": [],
   "source": [
    "soni_obj = series.SoniSeries(lc_data)\n",
    "soni_obj.pitch_mapper.pitch_map_args[\"zero_point\"] = 99.\n",
    "soni_obj.sonify()\n",
    "soni_obj.play()"
   ]
  },
  {
   "cell_type": "markdown",
   "metadata": {},
   "source": [
    "You can add a stellar flare to the data.  Let's add one using the default parameters.  Stellar flares are sudden increases in brightness over a short time."
   ]
  },
  {
   "cell_type": "code",
   "execution_count": null,
   "metadata": {},
   "outputs": [],
   "source": [
    "lc_data = simulator.simulated_lc(\"flare\", visualize=True)"
   ]
  },
  {
   "cell_type": "markdown",
   "metadata": {},
   "source": [
    "Time to sonify!"
   ]
  },
  {
   "cell_type": "code",
   "execution_count": null,
   "metadata": {},
   "outputs": [],
   "source": [
    "soni_obj = series.SoniSeries(lc_data)\n",
    "soni_obj.sonify()\n",
    "soni_obj.play()"
   ]
  },
  {
   "cell_type": "markdown",
   "metadata": {},
   "source": [
    "You can change the amplitude (height) of the flare, and the width.  Let's make one that is 10 times larger in amplitude and lasts 10 times as long.  You can also specify the index that corresponds to the peak of the flare."
   ]
  },
  {
   "cell_type": "code",
   "execution_count": null,
   "metadata": {},
   "outputs": [],
   "source": [
    "lc_data = simulator.simulated_lc(\"flare\", visualize=True, flare_amp=1000., flare_halfwidth=50, flare_time=100)"
   ]
  },
  {
   "cell_type": "markdown",
   "metadata": {},
   "source": [
    "Let's give it a listen."
   ]
  },
  {
   "cell_type": "code",
   "execution_count": null,
   "metadata": {},
   "outputs": [],
   "source": [
    "soni_obj = series.SoniSeries(lc_data)\n",
    "soni_obj.sonify()\n",
    "soni_obj.play()"
   ]
  },
  {
   "cell_type": "markdown",
   "metadata": {},
   "source": [
    "You can also add sinusoidal signals to the data.  Let's create a light curve like this using the default parameters."
   ]
  },
  {
   "cell_type": "code",
   "execution_count": null,
   "metadata": {},
   "outputs": [],
   "source": [
    "lc_data = simulator.simulated_lc(\"sine\", visualize=True)"
   ]
  },
  {
   "cell_type": "markdown",
   "metadata": {},
   "source": [
    "Let's sonify this light curve and listen to it."
   ]
  },
  {
   "cell_type": "code",
   "execution_count": null,
   "metadata": {},
   "outputs": [],
   "source": [
    "soni_obj = series.SoniSeries(lc_data)\n",
    "soni_obj.sonify()\n",
    "soni_obj.play()"
   ]
  },
  {
   "cell_type": "markdown",
   "metadata": {},
   "source": [
    "Now let's make a sinusoidal signal and use some of the parameter options.  We will change the amplitude (how \"big\" the curve is from top to bottom), and the period (how long it takes to make one full cycle from peak to bottom and back to peak again).  We'll also add a little noise to the light curve, and ask for a light curve that lasts twice as long as the default."
   ]
  },
  {
   "cell_type": "code",
   "execution_count": null,
   "metadata": {},
   "outputs": [],
   "source": [
    "lc_data = simulator.simulated_lc(\"sine\", visualize=True, sine_amp=1.5, sine_period=142, lc_noise=0.5, lc_length=1000)"
   ]
  },
  {
   "cell_type": "markdown",
   "metadata": {},
   "source": [
    "Let's sonify this."
   ]
  },
  {
   "cell_type": "code",
   "execution_count": null,
   "metadata": {},
   "outputs": [],
   "source": [
    "soni_obj = series.SoniSeries(lc_data)\n",
    "soni_obj.sonify()\n",
    "soni_obj.play()"
   ]
  },
  {
   "cell_type": "markdown",
   "metadata": {},
   "source": [
    "If you would like to save a light curve you create with the simulator to a file for use later, you can specify an output file name and a FITS file will be created that will store the parameters you used to create the light curve, as well as the times, fluxes, and fluxes without noise added.  Let's do that now using the call above (and we won't ask for a plot this time).  Note: because noise is added randomly, it won't be exactly the same as the one above, but will be close enough."
   ]
  },
  {
   "cell_type": "code",
   "execution_count": null,
   "metadata": {},
   "outputs": [],
   "source": [
    "lc_data = simulator.simulated_lc(\"sine\", lc_ofile=\"sim_lc_sine.fits\", visualize=False, sine_amp=1.5, sine_period=142,\n",
    "                                 lc_noise=0.5, lc_length=1000)"
   ]
  }
 ],
 "metadata": {
  "kernelspec": {
   "display_name": "Python 3",
   "language": "python",
   "name": "python3"
  },
  "language_info": {
   "codemirror_mode": {
    "name": "ipython",
    "version": 3
   },
   "file_extension": ".py",
   "mimetype": "text/x-python",
   "name": "python",
   "nbconvert_exporter": "python",
   "pygments_lexer": "ipython3",
   "version": "3.8.1"
  }
 },
 "nbformat": 4,
 "nbformat_minor": 2
}
