{
 "cells": [
  {
   "cell_type": "markdown",
   "metadata": {},
   "source": [
    "# Astronify: Sonifying Time Series\n",
    "\n",
    "This tutorial will demonstrate the sonification of time series data, specifically light curves using Astronify. It will cover basic usage, adjusting sonification parameters, playing the sonification within the browser, and saving the sonification as a wav file.\n",
    "\n",
    "1. [Imports](#Imports)\n",
    "2. [Getting data](#Getting-data)\n",
    "3. [Basic sonification](#Basic-sonification)\n",
    "4. [Changing sonification parameters](#Changing-sonification-parameters)\n",
    "5. [Outputing an audio file](#Outputing-an-audio-file)"
   ]
  },
  {
   "cell_type": "markdown",
   "metadata": {},
   "source": [
    "## Imports\n",
    "\n",
    "In addition to Astronify, we will use the [Lightkurve](https://docs.lightkurve.org/) package to query and download Kepler light curves, [matplotlib](https://matplotlib.org/) to plot the light curves (these cells will be markes and can be skipped by those for whom plots are not useful), and [Astropy](https://www.astropy.org/) for various data manipulation tasks.\n",
    "\n",
    "\\* Don't worry if you get a warning about WxPython not being found, it's used for the GUI functionality audio library, which Astronify does not use."
   ]
  },
  {
   "cell_type": "code",
   "execution_count": null,
   "metadata": {},
   "outputs": [],
   "source": [
    "from astronify.series import SoniSeries\n",
    "import lightkurve\n",
    "\n",
    "import matplotlib\n",
    "%matplotlib inline\n",
    "import matplotlib.pyplot as plt\n",
    "\n",
    "from astropy.table import Table"
   ]
  },
  {
   "cell_type": "markdown",
   "metadata": {},
   "source": [
    "## Getting data\n",
    "\n",
    "Fundamentally all that Astronify requires is an Astropy Table object where one colum will be translated into time (default is “time”) and one column will be translated into pitch (default is “flux”).\n",
    "\n",
    "Simply because it is easy I will download a Kepler light curve using lightkurve (lightkurve is a user friendly way to get Kepler and TESS data). This is a light curve that shows Kepler 12b, a transiting exoplanet."
   ]
  },
  {
   "cell_type": "code",
   "execution_count": null,
   "metadata": {},
   "outputs": [],
   "source": [
    "kep12b_lc = lightkurve.search_lightcurvefile(\"KIC 11804465\", cadence=\"long\", quarter=1).download_all()[0].SAP_FLUX.to_table()"
   ]
  },
  {
   "cell_type": "markdown",
   "metadata": {},
   "source": [
    "## Basic sonification\n",
    "\n",
    "Here we will use all of the sonification defaults and see what we get.\n",
    "\n",
    "First a small peak at the data visually for those of us who find that useful."
   ]
  },
  {
   "cell_type": "code",
   "execution_count": null,
   "metadata": {},
   "outputs": [],
   "source": [
    "f, ax = plt.subplots(figsize=(12, 6))\n",
    "ax.plot(kep12b_lc['time'].jd, kep12b_lc['flux'])\n",
    "ax.set_xlabel(\"Time (JD)\")\n",
    "ax.set_ylabel(\"Flux\")\n",
    "        \n",
    "plt.show()"
   ]
  },
  {
   "cell_type": "markdown",
   "metadata": {},
   "source": [
    "Now to sonify the same data."
   ]
  },
  {
   "cell_type": "code",
   "execution_count": null,
   "metadata": {},
   "outputs": [],
   "source": [
    "kep12b_obj = SoniSeries(kep12b_lc)\n",
    "kep12b_obj.sonify()"
   ]
  },
  {
   "cell_type": "markdown",
   "metadata": {},
   "source": [
    "And play the sonification."
   ]
  },
  {
   "cell_type": "code",
   "execution_count": null,
   "metadata": {},
   "outputs": [],
   "source": [
    "kep12b_obj.play()"
   ]
  },
  {
   "cell_type": "markdown",
   "metadata": {},
   "source": [
    "The playback will stop at the end, but we can also stop it early."
   ]
  },
  {
   "cell_type": "code",
   "execution_count": null,
   "metadata": {},
   "outputs": [],
   "source": [
    "kep12b_obj.stop()"
   ]
  },
  {
   "cell_type": "markdown",
   "metadata": {},
   "source": [
    "## Changing sonification parameters\n",
    "\n",
    "Let's look at the current sonification parameters."
   ]
  },
  {
   "cell_type": "code",
   "execution_count": null,
   "metadata": {},
   "outputs": [],
   "source": [
    "kep12b_obj.pitch_mapper.pitch_map_args"
   ]
  },
  {
   "cell_type": "markdown",
   "metadata": {},
   "source": [
    "We can change all of these default arguments as well as adding any additional arguments allowed by the pitch mapping function.\n",
    "\n",
    "### Changing the center pitch"
   ]
  },
  {
   "cell_type": "code",
   "execution_count": null,
   "metadata": {},
   "outputs": [],
   "source": [
    "kep12b_obj.pitch_mapper.pitch_map_args[\"center_pitch\"] = 880\n",
    "\n",
    "kep12b_obj.sonify()\n",
    "kep12b_obj.play()"
   ]
  },
  {
   "cell_type": "code",
   "execution_count": null,
   "metadata": {},
   "outputs": [],
   "source": [
    "kep12b_obj.stop()\n",
    "\n",
    "kep12b_obj.pitch_mapper.pitch_map_args[\"center_pitch\"] = 440"
   ]
  },
  {
   "cell_type": "markdown",
   "metadata": {},
   "source": [
    "### Changing the  stretch to logarithmic"
   ]
  },
  {
   "cell_type": "code",
   "execution_count": null,
   "metadata": {},
   "outputs": [],
   "source": [
    "kep12b_obj.pitch_mapper.pitch_map_args[\"stretch\"] = \"log\"\n",
    "\n",
    "kep12b_obj.sonify()\n",
    "kep12b_obj.play()"
   ]
  },
  {
   "cell_type": "code",
   "execution_count": null,
   "metadata": {},
   "outputs": [],
   "source": [
    "kep12b_obj.stop()\n",
    "\n",
    "kep12b_obj.pitch_mapper.pitch_map_args[\"stretch\"] = \"linear\""
   ]
  },
  {
   "cell_type": "markdown",
   "metadata": {},
   "source": [
    "### Removing the outer 1% of data points"
   ]
  },
  {
   "cell_type": "code",
   "execution_count": null,
   "metadata": {},
   "outputs": [],
   "source": [
    "kep12b_obj.pitch_mapper.pitch_map_args[\"minmax_percent\"] = [0.5, 99.5]\n",
    "\n",
    "kep12b_obj.sonify()\n",
    "kep12b_obj.play()"
   ]
  },
  {
   "cell_type": "code",
   "execution_count": null,
   "metadata": {},
   "outputs": [],
   "source": [
    "kep12b_obj.stop()\n",
    "\n",
    "del kep12b_obj.pitch_mapper.pitch_map_args[\"minmax_percent\"]"
   ]
  },
  {
   "cell_type": "markdown",
   "metadata": {},
   "source": [
    "## Outputing an audio file\n",
    "\n",
    "Once the sonification sounds the way we like we can output the result to a wav file."
   ]
  },
  {
   "cell_type": "code",
   "execution_count": null,
   "metadata": {},
   "outputs": [],
   "source": [
    "kep12b_obj.write(\"kepler_12b.wav\")"
   ]
  }
 ],
 "metadata": {
  "kernelspec": {
   "display_name": "Python 3",
   "language": "python",
   "name": "python3"
  },
  "language_info": {
   "codemirror_mode": {
    "name": "ipython",
    "version": 3
   },
   "file_extension": ".py",
   "mimetype": "text/x-python",
   "name": "python",
   "nbconvert_exporter": "python",
   "pygments_lexer": "ipython3",
   "version": "3.8.1"
  }
 },
 "nbformat": 4,
 "nbformat_minor": 4
}
