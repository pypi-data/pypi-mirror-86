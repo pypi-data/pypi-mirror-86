{
 "cells": [
  {
   "cell_type": "markdown",
   "metadata": {},
   "source": [
    "# Rotating Cube\n",
    "\n",
    "This is a notebook version of the \"examples/basics/visuals/cube.py\" example."
   ]
  },
  {
   "cell_type": "code",
   "execution_count": 1,
   "metadata": {},
   "outputs": [
    {
     "name": "stderr",
     "output_type": "stream",
     "text": [
      "/Users/davidh/anaconda/envs/vispy_py37_pyqt5/lib/python3.7/site-packages/dask/config.py:168: YAMLLoadWarning: calling yaml.load() without Loader=... is deprecated, as the default Loader is unsafe. Please read https://msg.pyyaml.org/load for full details.\n",
      "  data = yaml.load(f.read()) or {}\n"
     ]
    },
    {
     "data": {
      "application/vnd.jupyter.widget-view+json": {
       "model_id": "7e8f7947b9b343a6a17acc9119696903",
       "version_major": 2,
       "version_minor": 0
      },
      "text/plain": [
       "VispyWidget(height=400, width=400)"
      ]
     },
     "metadata": {},
     "output_type": "display_data"
    }
   ],
   "source": [
    "# -*- coding: utf-8 -*-\n",
    "# Copyright (c) Vispy Development Team. All Rights Reserved.\n",
    "# Distributed under the (new) BSD License. See LICENSE.txt for more info.\n",
    "\n",
    "\"\"\"\n",
    "Demonstration of Cube\n",
    "\"\"\"\n",
    "\n",
    "import sys\n",
    "\n",
    "from vispy import app, gloo\n",
    "from vispy.visuals import CubeVisual, transforms\n",
    "\n",
    "\n",
    "class Canvas(app.Canvas):\n",
    "    def __init__(self):\n",
    "        app.Canvas.__init__(self, 'Cube', keys='interactive',\n",
    "                            size=(400, 400))\n",
    "\n",
    "        self.cube = CubeVisual((1.0, 0.5, 0.25), color='red', edge_color=\"k\")\n",
    "        self.theta = 0\n",
    "        self.phi = 0\n",
    "\n",
    "        # Create a TransformSystem that will tell the visual how to draw\n",
    "        self.cube_transform = transforms.MatrixTransform()\n",
    "        self.cube.transform = self.cube_transform\n",
    "\n",
    "        self._timer = app.Timer('auto', connect=self.on_timer, start=True)\n",
    "\n",
    "#         self.show()\n",
    "\n",
    "    def on_resize(self, event):\n",
    "        # Set canvas viewport and reconfigure visual transforms to match.\n",
    "        vp = (0, 0, self.physical_size[0], self.physical_size[1])\n",
    "        self.context.set_viewport(*vp)\n",
    "        self.cube.transforms.configure(canvas=self, viewport=vp)\n",
    "\n",
    "    def on_draw(self, event):\n",
    "        gloo.set_viewport(0, 0, *self.physical_size)\n",
    "        gloo.clear('white', depth=True)\n",
    "\n",
    "        self.cube.draw()\n",
    "\n",
    "    def on_timer(self, event):\n",
    "        self.theta += .5\n",
    "        self.phi += .5\n",
    "        self.cube_transform.reset()\n",
    "        self.cube_transform.rotate(self.theta, (0, 0, 1))\n",
    "        self.cube_transform.rotate(self.phi, (0, 1, 0))\n",
    "        self.cube_transform.scale((100, 100, 0.001))\n",
    "        self.cube_transform.translate((200, 200))\n",
    "        self.update()\n",
    "\n",
    "win = Canvas()\n",
    "win.show()"
   ]
  },
  {
   "cell_type": "code",
   "execution_count": 12,
   "metadata": {},
   "outputs": [
    {
     "name": "stdout",
     "output_type": "stream",
     "text": [
      "_send:  {'method': 'custom', 'content': {'msg_type': 'glir_commands', 'commands': [['CURRENT', 0, 0]], 'array_serialization': 'binary'}}\n",
      "_send:  {'method': 'custom', 'content': {'msg_type': 'glir_commands', 'commands': [['FUNC', 'viewport', 0, 0, 400, 400], ['FUNC', 'clearColor', 1.0, 1.0, 1.0, 1.0], ['FUNC', 'clear', 17664], ['FUNC', 'enable', 'polygon_offset_fill'], ['FUNC', 'polygonOffset', 1.0, 1.0], ['FUNC', 'enable', 'depth_test'], ['UNIFORM', 1, 'u_matrix', 'mat4', [99.08135986328125, 9.584575653076172, -9.540449536871165e-05, 0.0, -9.540450096130371, 99.53961944580078, 9.186408533423673e-06, 0.0, 9.584575653076172, 0.0, 0.0009953961707651615, 0.0, 200.0, 200.0, 0.0, 1.0]], ['DRAW', 1, 'triangles', [0, 36]]], 'array_serialization': 'binary'}}\n",
      "_send:  {'method': 'custom', 'content': {'msg_type': 'glir_commands', 'commands': [['FUNC', 'disable', 'cull_face'], ['FUNC', 'enable', 'depth_test'], ['FUNC', 'enable', 'blend'], ['FUNC', 'blendFuncSeparate', 'src_alpha', 'one_minus_src_alpha', 'src_alpha', 'one_minus_src_alpha'], ['UNIFORM', 5, 'u_matrix', 'mat4', [99.08135986328125, 9.584575653076172, -9.540449536871165e-05, 0.0, -9.540450096130371, 99.53961944580078, 9.186408533423673e-06, 0.0, 9.584575653076172, 0.0, 0.0009953961707651615, 0.0, 200.0, 200.0, 0.0, 1.0]], ['DRAW', 5, 'lines', [0, 48]]], 'array_serialization': 'binary'}}\n",
      "_send:  {'method': 'custom', 'content': {'msg_type': 'glir_commands', 'commands': [['SWAP']], 'array_serialization': 'binary'}}\n"
     ]
    }
   ],
   "source": [
    "win.on_timer(None)"
   ]
  },
  {
   "cell_type": "code",
   "execution_count": null,
   "metadata": {},
   "outputs": [],
   "source": []
  },
  {
   "cell_type": "code",
   "execution_count": null,
   "metadata": {},
   "outputs": [],
   "source": []
  },
  {
   "cell_type": "code",
   "execution_count": null,
   "metadata": {},
   "outputs": [],
   "source": []
  }
 ],
 "metadata": {
  "kernelspec": {
   "display_name": "Python 3",
   "language": "python",
   "name": "python3"
  },
  "language_info": {
   "codemirror_mode": {
    "name": "ipython",
    "version": 3
   },
   "file_extension": ".py",
   "mimetype": "text/x-python",
   "name": "python",
   "nbconvert_exporter": "python",
   "pygments_lexer": "ipython3",
   "version": "3.7.1"
  }
 },
 "nbformat": 4,
 "nbformat_minor": 2
}
