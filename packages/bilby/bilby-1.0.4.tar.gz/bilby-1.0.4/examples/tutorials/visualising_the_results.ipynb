{
 "cells": [
  {
   "cell_type": "code",
   "execution_count": null,
   "metadata": {},
   "outputs": [],
   "source": [
    "! rm visualising_the_results/*"
   ]
  },
  {
   "cell_type": "markdown",
   "metadata": {},
   "source": [
    "# Visualising the results\n",
    "\n",
    "In this tutorial, we demonstrate the plotting tools built-in to `bilby` and how to extend them. First, we run a simple injection study and return the `result` object."
   ]
  },
  {
   "cell_type": "code",
   "execution_count": null,
   "metadata": {},
   "outputs": [],
   "source": [
    "import bilby\n",
    "import matplotlib.pyplot as plt\n",
    "%matplotlib inline\n",
    "\n",
    "time_duration = 4.                     # time duration (seconds)\n",
    "sampling_frequency = 2048.             # sampling frequency (Hz)\n",
    "outdir = 'visualising_the_results'     # directory in which to store output\n",
    "label = 'example'                      # identifier to apply to output files\n",
    "\n",
    "# specify injection parameters\n",
    "injection_parameters = dict(\n",
    "mass_1=36.,                          # source frame (non-redshifted) primary mass (solar masses)\n",
    "mass_2=29.,                          # source frame (non-redshifted) secondary mass (solar masses)\n",
    "a_1=0.4,                             # primary dimensionless spin magnitude\n",
    "a_2=0.3,                             # secondary dimensionless spin magnitude\n",
    "tilt_1=0.5,                          # polar angle between primary spin and the orbital angular momentum (radians)\n",
    "tilt_2=1.0,                          # polar angle between secondary spin and the orbital angular momentum \n",
    "phi_12=1.7,                          # azimuthal angle between primary and secondary spin (radians)\n",
    "phi_jl=0.3,                          # azimuthal angle between total angular momentum and orbital angular momentum (radians)\n",
    "luminosity_distance=200.,            # luminosity distance to source (Mpc)\n",
    "theta_jn=0.4,                        # inclination angle between line of sight and orbital angular momentum (radians)\n",
    "phase=1.3,                           # phase (radians)\n",
    "ra=1.375,                            # source right ascension (radians)\n",
    "dec=-1.2108,                         # source declination (radians)\n",
    "geocent_time=1126259642.413,         # reference time at geocentre (time of coalescence or peak amplitude) (GPS seconds)\n",
    "psi=2.659                            # gravitational wave polarisation angle\n",
    ")\n",
    "\n",
    "# specify waveform arguments\n",
    "waveform_arguments = dict(\n",
    "waveform_approximant='IMRPhenomPv2', # waveform approximant name\n",
    "reference_frequency=50.,             # gravitational waveform reference frequency (Hz)\n",
    ")\n",
    "\n",
    "# set up the waveform generator\n",
    "waveform_generator = bilby.gw.waveform_generator.WaveformGenerator(\n",
    "    sampling_frequency=sampling_frequency, duration=time_duration,\n",
    "    frequency_domain_source_model=bilby.gw.source.lal_binary_black_hole,\n",
    "    parameters=injection_parameters, waveform_arguments=waveform_arguments)\n",
    "# create the frequency domain signal\n",
    "hf_signal = waveform_generator.frequency_domain_strain()\n",
    "\n",
    "# initialise an interferometer based on LIGO Hanford, complete with simulated noise and injected signal\n",
    "IFOs = [bilby.gw.detector.get_interferometer_with_fake_noise_and_injection(\n",
    "    'H1', injection_polarizations=hf_signal, injection_parameters=injection_parameters, duration=time_duration,\n",
    "    sampling_frequency=sampling_frequency, outdir=outdir)]\n",
    "\n",
    "# first, set up all priors to be equal to a delta function at their designated value\n",
    "priors = bilby.gw.prior.BBHPriorDict(injection_parameters.copy())\n",
    "# then, reset the priors on the masses and luminosity distance to conduct a search over these parameters\n",
    "priors['mass_1'] = bilby.core.prior.Uniform(20, 50, 'mass_1')\n",
    "priors['mass_2'] = bilby.core.prior.Uniform(20, 50, 'mass_2')\n",
    "priors['luminosity_distance'] = bilby.core.prior.Uniform(100, 300, 'luminosity_distance')\n",
    "\n",
    "# compute the likelihoods\n",
    "likelihood = bilby.gw.likelihood.GravitationalWaveTransient(interferometers=IFOs, waveform_generator=waveform_generator)\n",
    "\n",
    "result = bilby.core.sampler.run_sampler(likelihood=likelihood, priors=priors, sampler='dynesty', npoints=100,\n",
    "                                   injection_parameters=injection_parameters, outdir=outdir, label=label,\n",
    "                                   walks=5)\n",
    "\n",
    "# display the corner plot\n",
    "plt.show()"
   ]
  },
  {
   "cell_type": "markdown",
   "metadata": {},
   "source": [
    "In running this code, we already made the first plot! In the function `bilby.detector.get_interferometer_with_fake_noise_and_injection`, the ASD, detector data, and signal are plotted together. This figure is saved under `visualsing_the_results/H1_frequency_domain_data.png`. Note that `visualising_the_result` is our `outdir` where all the output of the run is stored. Let's take a quick look at that directory now:"
   ]
  },
  {
   "cell_type": "code",
   "execution_count": null,
   "metadata": {},
   "outputs": [],
   "source": [
    "!ls visualising_the_results/"
   ]
  },
  {
   "cell_type": "markdown",
   "metadata": {},
   "source": [
    "## Corner plots\n",
    "\n",
    "Now lets make some corner plots. You can easily generate a corner plot using `result.plot_corner()` like this:"
   ]
  },
  {
   "cell_type": "code",
   "execution_count": null,
   "metadata": {},
   "outputs": [],
   "source": [
    "result.plot_corner()\n",
    "plt.show()"
   ]
  },
  {
   "cell_type": "markdown",
   "metadata": {},
   "source": [
    "In a notebook, this figure will display. But by default the file is also saved to `visualising_the_result/example_corner.png`. If you change the label to something more descriptive then the `example` here will of course be replaced."
   ]
  },
  {
   "cell_type": "markdown",
   "metadata": {},
   "source": [
    "You may also want to plot a subset of the parameters, or perhaps add the `injection_paramters` as lines to check if you recovered them correctly. All this can be done through `plot_corner`. Under the hood, `plot_corner` uses\n",
    "[chain consumer](https://samreay.github.io/ChainConsumer/index.html), and all the keyword arguments passed to `plot_corner` are passed through to [the `plot` function of chain consumer](https://samreay.github.io/ChainConsumer/chain_api.html#chainconsumer.plotter.Plotter.plot).\n",
    "\n",
    "### Adding injection parameters to the plot\n",
    "\n",
    "In the previous plot, you'll notice `bilby` added the injection parameters to the plot by default. You can switch this off by setting `truth=None` when you call `plot_corner`. Or to add different injection parameters to the plot, just pass this as a keyword argument for `truth`. In this example, we just add a line for the luminosity distance by passing a dictionary of the value we want to display."
   ]
  },
  {
   "cell_type": "code",
   "execution_count": null,
   "metadata": {},
   "outputs": [],
   "source": [
    "result.plot_corner(truth=dict(luminosity_distance=201))\n",
    "plt.show()"
   ]
  },
  {
   "cell_type": "markdown",
   "metadata": {},
   "source": [
    "### Plot a subset of the corner plot\n",
    "\n",
    "Or, to plot just a subset of parameters, just pass a list of the names you want."
   ]
  },
  {
   "cell_type": "code",
   "execution_count": null,
   "metadata": {},
   "outputs": [],
   "source": [
    "result.plot_corner(parameters=['mass_1', 'mass_2'], filename='{}/subset.png'.format(outdir))\n",
    "plt.show()"
   ]
  },
  {
   "cell_type": "markdown",
   "metadata": {},
   "source": [
    "Notice here, we also passed in a keyword argument `filename=`, this overwrites the default filename and instead saves the file as `visualising_the_results/subset.png`. Useful if you want to create lots of different plots. Let's check what the outdir looks like now"
   ]
  },
  {
   "cell_type": "code",
   "execution_count": null,
   "metadata": {},
   "outputs": [],
   "source": [
    "!ls visualising_the_results/"
   ]
  },
  {
   "cell_type": "markdown",
   "metadata": {},
   "source": [
    "## Alternative\n",
    "\n",
    "If you would prefer to do the plotting yourself, you can get hold of the samples and the ordering as follows and then plot with a different module. Here is an example using the [`corner`](http://corner.readthedocs.io/en/latest/) package"
   ]
  },
  {
   "cell_type": "code",
   "execution_count": null,
   "metadata": {},
   "outputs": [],
   "source": [
    "import corner\n",
    "samples = result.samples\n",
    "labels = result.parameter_labels\n",
    "fig = corner.corner(samples, labels=labels)\n",
    "plt.show()"
   ]
  },
  {
   "cell_type": "markdown",
   "metadata": {},
   "source": [
    "## Other plots\n",
    "\n",
    "We also include some other types of plots which may be useful. Again, these are built on chain consumer so you may find it useful to check the [documentation](https://samreay.github.io/ChainConsumer/chain_api.html#plotter-class) to see how these plots can be extended. Below, we show just one example of these.\n",
    "\n",
    "#### Distribution plots\n",
    "\n",
    "These plots just show the 1D histograms for each parameter"
   ]
  },
  {
   "cell_type": "code",
   "execution_count": null,
   "metadata": {},
   "outputs": [],
   "source": [
    "result.plot_marginals()\n",
    "plt.show()"
   ]
  },
  {
   "cell_type": "markdown",
   "metadata": {
    "collapsed": false,
    "pycharm": {
     "name": "#%% md\n"
    }
   },
   "source": [
    "#### Best-Fit Time Domain Waveform plot\n",
    "Some plots sepcific to compact binary coalescence parameter estimation results can\n",
    "be created by re-loading the result as a `CBCResult`:"
   ]
  },
  {
   "cell_type": "code",
   "execution_count": null,
   "metadata": {
    "pycharm": {
     "name": "#%%\n"
    }
   },
   "outputs": [],
   "source": [
    "from bilby.gw.result import CBCResult\n",
    "\n",
    "cbc_result = CBCResult.from_json(\"visualising_the_results/example_result.json\")\n",
    "cbc_result.plot_waveform_posterior()\n",
    "plt.show()"
   ]
  },
  {
   "cell_type": "markdown",
   "metadata": {
    "collapsed": false
   },
   "source": [
    "Again, notice that the plot is saved as a \"waveform.png\" in the output dir.\n",
    "\n",
    "\n",
    "\n"
   ]
  }
 ],
 "metadata": {
  "kernelspec": {
   "display_name": "Python 3",
   "language": "python",
   "name": "python3"
  },
  "language_info": {
   "codemirror_mode": {
    "name": "ipython",
    "version": 3
   },
   "file_extension": ".py",
   "mimetype": "text/x-python",
   "name": "python",
   "nbconvert_exporter": "python",
   "pygments_lexer": "ipython3",
   "version": "3.7.3"
  }
 },
 "nbformat": 4,
 "nbformat_minor": 2
}
