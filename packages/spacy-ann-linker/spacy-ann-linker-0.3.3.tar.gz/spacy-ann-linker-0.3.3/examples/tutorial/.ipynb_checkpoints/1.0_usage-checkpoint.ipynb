{
 "cells": [
  {
   "cell_type": "code",
   "execution_count": 1,
   "metadata": {},
   "outputs": [
    {
     "name": "stdout",
     "output_type": "stream",
     "text": [
      "CALL:  [] []\n",
      "CALL:  [] []\n",
      "CALL:  [] []\n",
      "CALL:  [] []\n",
      "CALL:  [] []\n",
      "CALL:  [] []\n",
      "CALL:  ['NLP', 'Machine learning'] [[AliasCandidate(alias='NLP', similarity=1.0)], [AliasCandidate(alias='Machine learning', similarity=1.0)]]\n",
      "[AliasCandidate(alias='NLP', similarity=1.0)]\n",
      "[0.03103021 0.01627601]\n",
      "0\n",
      "[AliasCandidate(alias='Machine learning', similarity=1.0)]\n",
      "[0.05310947]\n",
      "0\n"
     ]
    }
   ],
   "source": [
    "import spacy\n",
    "from spacy_ann import AnnLinker\n",
    "\n",
    "# Load the spaCy model from the output_dir you used from the create_index command\n",
    "model_dir = \"models/ann_linker\"\n",
    "nlp = spacy.load(model_dir)\n",
    "\n",
    "# The NER component of the en_core_web_md model doesn't actually recognize the aliases as entities\n",
    "# so we'll add a spaCy EntityRuler component for now to extract them.\n",
    "ruler = nlp.create_pipe('entity_ruler')\n",
    "patterns = [{\"label\": \"SKILL\", \"pattern\": alias} for alias in nlp.get_pipe('ann_linker').kb.get_alias_strings()]\n",
    "ruler.add_patterns(patterns)\n",
    "nlp.add_pipe(ruler, before=\"ann_linker\")"
   ]
  },
  {
   "cell_type": "code",
   "execution_count": 4,
   "metadata": {},
   "outputs": [
    {
     "name": "stdout",
     "output_type": "stream",
     "text": [
      "CALL:  [] []\n"
     ]
    },
    {
     "data": {
      "text/plain": [
       "More text about nlpe"
      ]
     },
     "execution_count": 4,
     "metadata": {},
     "output_type": "execute_result"
    }
   ],
   "source": [
    "nlp(\"More text about nlpe\")"
   ]
  },
  {
   "cell_type": "code",
   "execution_count": 2,
   "metadata": {},
   "outputs": [
    {
     "name": "stdout",
     "output_type": "stream",
     "text": [
      "[('NLP', 'SKILL', 'a3'), ('Machine learning', 'SKILL', 'a1')]\n"
     ]
    }
   ],
   "source": [
    "print([(e.text, e.label_, e.kb_id_) for e in doc.ents])"
   ]
  },
  {
   "cell_type": "code",
   "execution_count": null,
   "metadata": {},
   "outputs": [],
   "source": []
  }
 ],
 "metadata": {
  "kernelspec": {
   "display_name": "Python 3",
   "language": "python",
   "name": "python3"
  },
  "language_info": {
   "codemirror_mode": {
    "name": "ipython",
    "version": 3
   },
   "file_extension": ".py",
   "mimetype": "text/x-python",
   "name": "python",
   "nbconvert_exporter": "python",
   "pygments_lexer": "ipython3",
   "version": "3.6.8"
  }
 },
 "nbformat": 4,
 "nbformat_minor": 4
}
