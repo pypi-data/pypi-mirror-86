{
 "cells": [
  {
   "cell_type": "code",
   "execution_count": 17,
   "metadata": {},
   "outputs": [],
   "source": [
    "import spacy\n",
    "nlp = spacy.blank(\"en\")"
   ]
  },
  {
   "cell_type": "code",
   "execution_count": 18,
   "metadata": {},
   "outputs": [],
   "source": [
    "remote_ann_linker = nlp.create_pipe('remote_ann_linker', {'base_url': \"http://localhost:8080/link\"})\n",
    "nlp.add_pipe(remote_ann_linker)"
   ]
  },
  {
   "cell_type": "code",
   "execution_count": 19,
   "metadata": {},
   "outputs": [],
   "source": [
    "ruler = nlp.create_pipe('entity_ruler', {\"overwrite_ents\": True})\n",
    "patterns = [{\"label\": \"SKILL\", \"pattern\": alias} for alias in ['machine learning', 'ML', 'NLP', 'researched']]\n",
    "ruler.add_patterns(patterns)\n",
    "nlp.add_pipe(ruler, before=\"remote_ann_linker\")"
   ]
  },
  {
   "cell_type": "code",
   "execution_count": 21,
   "metadata": {},
   "outputs": [
    {
     "name": "stdout",
     "output_type": "stream",
     "text": [
      "(NLP, researched, machine learning)\n"
     ]
    }
   ],
   "source": [
    "with nlp.disable_pipes('remote_ann_linker'):\n",
    "    doc = nlp('NLP is a highly researched area of machine learning')\n",
    "    print(doc.ents)"
   ]
  },
  {
   "cell_type": "code",
   "execution_count": 22,
   "metadata": {},
   "outputs": [],
   "source": [
    "texts = [\n",
    "    \"NLP is a highly researched area of machine learning\",\n",
    "    \"NLP is a pseodo-psychological concept for healing of patients.\",\n",
    "    \"I've researched many ways to apply NLP to help heal patients\"\n",
    "]"
   ]
  },
  {
   "cell_type": "code",
   "execution_count": 23,
   "metadata": {},
   "outputs": [
    {
     "data": {
      "text/plain": [
       "[('NLP', 'SKILL', 'a3'),\n",
       " ('researched', 'SKILL', 'a15'),\n",
       " ('machine learning', 'SKILL', 'a1')]"
      ]
     },
     "execution_count": 23,
     "metadata": {},
     "output_type": "execute_result"
    }
   ],
   "source": [
    "doc = nlp(texts[0])\n",
    "[(e.text, e.label_, e.kb_id_) for e in doc.ents]"
   ]
  },
  {
   "cell_type": "code",
   "execution_count": 24,
   "metadata": {},
   "outputs": [
    {
     "name": "stdout",
     "output_type": "stream",
     "text": [
      "[('NLP', 'SKILL', 'a3'), ('researched', 'SKILL', 'a15'), ('machine learning', 'SKILL', 'a1')]\n",
      "[('NLP', 'SKILL', 'a3')]\n",
      "[('researched', 'SKILL', 'a15'), ('NLP', 'SKILL', 'a4')]\n"
     ]
    }
   ],
   "source": [
    "for doc in nlp.pipe(texts):\n",
    "    print([(e.text, e.label_, e.kb_id_) for e in doc.ents])"
   ]
  },
  {
   "cell_type": "code",
   "execution_count": null,
   "metadata": {},
   "outputs": [],
   "source": []
  }
 ],
 "metadata": {
  "kernelspec": {
   "display_name": "Python 3",
   "language": "python",
   "name": "python3"
  },
  "language_info": {
   "codemirror_mode": {
    "name": "ipython",
    "version": 3
   },
   "file_extension": ".py",
   "mimetype": "text/x-python",
   "name": "python",
   "nbconvert_exporter": "python",
   "pygments_lexer": "ipython3",
   "version": "3.6.8"
  }
 },
 "nbformat": 4,
 "nbformat_minor": 4
}
