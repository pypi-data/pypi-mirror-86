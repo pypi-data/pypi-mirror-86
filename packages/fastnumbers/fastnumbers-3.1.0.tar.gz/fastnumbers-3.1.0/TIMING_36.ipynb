{
 "cells": [
  {
   "cell_type": "markdown",
   "metadata": {},
   "source": [
    "# Timing Tests of `fastnumbers` Functions Compared to Equivalent Solutions\n",
    "\n",
    "In order for you to see the benefit of `fastnumbers`, some timings are collected below for comparison to equivalent python implementations. The numbers may change depending on the machine you are on or the Python version you are using.\n",
    "\n",
    "Feel free to download this Jupyter Notebook and run the tests yourself to see how `fastnumbers` performs on your machine (it takes about 1-2 minutes total).\n",
    "\n",
    "**This notebook contains timing results for Python 3.6.**\n",
    "\n",
    "#### Some notes about the data\n",
    "\n",
    " - Each test is the time it takes for the function to run 100,000 times on a given input.\n",
    " - Each test is repeated either 5 or 100 times, and the mean ± standard deviation is reported.\n",
    " - The fastest time is shown in **bold**\n",
    " - The timing results for the pure-Python functions include about 10-15 ms of \"function call overhead\"; the `fastnumbers` functions do not suffer from as much overhead because they are C-extensions.\n",
    " - Python version-dependent behaviors:\n",
    "   - **Python 2.7** has a particularly slow `int` function, so the `fastnumbers` speedup is much larger on Python 2.7 than Python 3.x\n",
    "   - **Python >=3.6** is slightly slower in general than previous versions because underscores are now allowed in floats and integers which makes parsing take a bit longer due to the extra logic.\n",
    "   \n",
    "#### Notes about the `Timing` class below\n",
    "\n",
    "The timing runner class is implemented below, and this is used in all the tests to perform the actual timing tests in the sections below. In general you can skip this implementation, but of note is the `THINGS_TO_TIME` tuple, which contains the values that are passed to the functions to type the various input types."
   ]
  },
  {
   "cell_type": "code",
   "execution_count": 1,
   "metadata": {},
   "outputs": [
    {
     "name": "stdout",
     "output_type": "stream",
     "text": [
      "sys.version_info(major=3, minor=6, micro=9, releaselevel='final', serial=0)\n"
     ]
    }
   ],
   "source": [
    "from __future__ import print_function, division\n",
    "import re\n",
    "import math\n",
    "import timeit\n",
    "from IPython.display import Markdown, display, clear_output\n",
    "\n",
    "class Timer(object):\n",
    "    \"\"\"Class to time functions and make pretty tables of the output.\"\"\"\n",
    "    \n",
    "    # This is a list of all the things we will time with an associated label.\n",
    "    THINGS_TO_TIME = (\n",
    "        ('not_a_number', 'Non-number String'),\n",
    "        ('-4', 'Small Int String'),\n",
    "        ('-41053', 'Int String'),\n",
    "        ('35892482945872302493947939485729', 'Large Int String'),\n",
    "        ('-4.1', 'Small Float String'),\n",
    "        ('-41053.543034e34', 'Float String'),\n",
    "        ('-41053.543028758302e256', 'Large Float String'),\n",
    "        (-41053, 'Int'),\n",
    "        (-41053.543028758302e100, 'Float'),\n",
    "    )\n",
    "\n",
    "    # Formatting strings.\n",
    "    FUNCTION_CALL_FMT = '{}({!r})'\n",
    "    \n",
    "    def __init__(self, title):\n",
    "        display(Markdown('### ' + title))\n",
    "        self.functions = []\n",
    "    \n",
    "    def add_function(self, func, label, setup='pass'):\n",
    "        \"\"\"Add a function to be timed and compared.\"\"\"\n",
    "        self.functions.append((func, setup, label))\n",
    "\n",
    "    def time_functions(self, repeat=5):\n",
    "        \"\"\"Time all the given functions against all input then display results.\"\"\"\n",
    "\n",
    "        # Collect the function labels to make the header of this table.\n",
    "        # Show that the units are seconds for each.\n",
    "        function_labels = [label + ' (ms)' for _, _, label in self.functions]\n",
    "        \n",
    "        # Construct the table strings, formatted in Markdown.\n",
    "        # Store each line as a string element in a list.\n",
    "        # This portion here is the table header only for now.\n",
    "        table = Table()\n",
    "        table.add_header('Input type', *function_labels)\n",
    "        \n",
    "        # For each value, time each function and collect the results.\n",
    "        for value, value_label in self.THINGS_TO_TIME:\n",
    "            row = []\n",
    "            for func, setup, _ in self.functions:\n",
    "                call = self.FUNCTION_CALL_FMT.format(func, value)\n",
    "                try:\n",
    "                    row.append(self._timeit(call, setup, repeat))\n",
    "                except (ValueError, TypeError):\n",
    "                    # We might send in some invalid input accidentally.\n",
    "                    # Ignore those inputs.\n",
    "                    break\n",
    "\n",
    "            # Only add this row if the for loop quit without break.\n",
    "            else:\n",
    "                # Convert to milliseconds\n",
    "                row = [(mean * 1000, stddev * 1000) for mean, stddev in row]\n",
    "                # Make the lowest value bold.\n",
    "                min_indx = min(enumerate(row), key=lambda x: x[1])[0]\n",
    "                row = ['{:.3f} ± {:.3f}'.format(*x) for x in row]\n",
    "                row[min_indx] = self.bold(row[min_indx])\n",
    "                table.add_row(value_label, *row)\n",
    "\n",
    "        # Show the results in a table.\n",
    "        display(Markdown(str(table)))\n",
    "\n",
    "    @staticmethod\n",
    "    def mean(x):\n",
    "        return math.fsum(x) / len(x)\n",
    "\n",
    "    @staticmethod\n",
    "    def stddev(x):\n",
    "        mean = Timer.mean(x)\n",
    "        sum_of_squares = math.fsum((v - mean)**2 for v in x)\n",
    "        return math.sqrt(sum_of_squares / (len(x) - 1))\n",
    "\n",
    "    @staticmethod\n",
    "    def bold(x):\n",
    "        return \"**{}**\".format(x)\n",
    "    \n",
    "    def _timeit(self, call, setup, repeat=5):\n",
    "        \"\"\"Perform the actual timing and return a formatted string of the runtime\"\"\"\n",
    "        result = timeit.repeat(call, setup, number=100000, repeat=repeat)\n",
    "        return self.mean(result), self.stddev(result)\n",
    "\n",
    "class Table(list):\n",
    "    \"\"\"List of strings that can be made into a Markdown table.\"\"\"\n",
    "    def add_row(self, *elements):\n",
    "        self.append('|'.join(elements))\n",
    "    def add_header(self, *elements):\n",
    "        self.add_row(*elements)\n",
    "        seperators = ['---'] * len(elements)\n",
    "        seperators = [sep + (':' if i != 0 else '') for i, sep in enumerate(seperators)]\n",
    "        self.add_row(*seperators)\n",
    "    def __str__(self):\n",
    "        return '\\n'.join(self)\n",
    "\n",
    "\n",
    "import sys\n",
    "print(sys.version_info)"
   ]
  },
  {
   "cell_type": "markdown",
   "metadata": {},
   "source": [
    "## Built-in Functions Drop-in Replacement Timing Results\n",
    "The following timing tests compare the performance of Python's builtin `int` and `float` functions against the implementations from `fastnumbers` for various input types."
   ]
  },
  {
   "cell_type": "code",
   "execution_count": 2,
   "metadata": {
    "scrolled": true
   },
   "outputs": [
    {
     "data": {
      "text/markdown": [
       "### Timing comparison of `int` functions"
      ],
      "text/plain": [
       "<IPython.core.display.Markdown object>"
      ]
     },
     "metadata": {},
     "output_type": "display_data"
    },
    {
     "data": {
      "text/markdown": [
       "Input type|builtin (ms)|fastnumbers (ms)\n",
       "---|---:|---:\n",
       "Small Int String|20.979 ± 1.132|**14.467 ± 1.031**\n",
       "Int String|21.856 ± 0.724|**15.621 ± 0.471**\n",
       "Large Int String|**29.114 ± 0.464**|30.062 ± 1.599\n",
       "Int|12.319 ± 0.149|**10.412 ± 0.252**\n",
       "Float|27.806 ± 0.204|**25.298 ± 0.371**"
      ],
      "text/plain": [
       "<IPython.core.display.Markdown object>"
      ]
     },
     "metadata": {},
     "output_type": "display_data"
    }
   ],
   "source": [
    "timer = Timer('Timing comparison of `int` functions')\n",
    "timer.add_function('int', 'builtin')\n",
    "timer.add_function('int', 'fastnumbers', 'from fastnumbers import int')\n",
    "timer.time_functions(repeat=100)"
   ]
  },
  {
   "cell_type": "code",
   "execution_count": 3,
   "metadata": {},
   "outputs": [
    {
     "data": {
      "text/markdown": [
       "### Timing comparison of `float` functions"
      ],
      "text/plain": [
       "<IPython.core.display.Markdown object>"
      ]
     },
     "metadata": {},
     "output_type": "display_data"
    },
    {
     "data": {
      "text/markdown": [
       "Input type|builtin (ms)|fastnumbers (ms)\n",
       "---|---:|---:\n",
       "Small Int String|18.151 ± 0.731|**13.858 ± 0.245**\n",
       "Int String|18.776 ± 0.389|**14.338 ± 0.105**\n",
       "Large Int String|**41.426 ± 0.517**|42.038 ± 0.293\n",
       "Small Float String|18.502 ± 0.126|**14.161 ± 0.116**\n",
       "Float String|43.327 ± 0.219|**15.619 ± 0.044**\n",
       "Large Float String|74.260 ± 1.893|**73.192 ± 0.971**\n",
       "Int|12.323 ± 0.016|**10.358 ± 0.035**\n",
       "Float|10.979 ± 0.026|**9.304 ± 0.176**"
      ],
      "text/plain": [
       "<IPython.core.display.Markdown object>"
      ]
     },
     "metadata": {},
     "output_type": "display_data"
    }
   ],
   "source": [
    "timer = Timer('Timing comparison of `float` functions')\n",
    "timer.add_function('float', 'builtin')\n",
    "timer.add_function('float', 'fastnumbers', 'from fastnumbers import float')\n",
    "timer.time_functions(repeat=100)"
   ]
  },
  {
   "cell_type": "markdown",
   "metadata": {},
   "source": [
    "## Error-Handling Conversion Functions Timing Results\n",
    "The following timing tests compare the performance of the `fastnumbers` functions that convert input to numeric types while doing error handling with common equivalent pure-Python implementations."
   ]
  },
  {
   "cell_type": "code",
   "execution_count": 4,
   "metadata": {},
   "outputs": [
    {
     "data": {
      "text/markdown": [
       "### Timing comparison of `int` functions with error handling"
      ],
      "text/plain": [
       "<IPython.core.display.Markdown object>"
      ]
     },
     "metadata": {},
     "output_type": "display_data"
    },
    {
     "data": {
      "text/markdown": [
       "Input type|try/except (ms)|regex (ms)|fastnumbers (ms)\n",
       "---|---:|---:|---:\n",
       "Non-number String|144.683 ± 3.347|41.749 ± 0.246|**21.335 ± 0.162**\n",
       "Small Int String|32.662 ± 0.886|71.386 ± 1.048|**13.753 ± 0.038**\n",
       "Int String|33.090 ± 0.127|73.380 ± 1.152|**15.589 ± 0.024**\n",
       "Large Int String|41.284 ± 0.056|106.675 ± 1.183|**30.585 ± 0.018**\n",
       "Small Float String|137.226 ± 3.178|46.039 ± 0.076|**13.533 ± 0.010**\n",
       "Float String|142.712 ± 1.011|53.792 ± 0.047|**13.981 ± 0.049**\n",
       "Large Float String|150.679 ± 0.756|53.280 ± 0.008|**14.280 ± 0.034**\n",
       "Int|24.021 ± 0.021|92.668 ± 0.470|**11.265 ± 0.029**\n",
       "Float|39.637 ± 0.028|113.185 ± 2.360|**28.474 ± 0.022**"
      ],
      "text/plain": [
       "<IPython.core.display.Markdown object>"
      ]
     },
     "metadata": {},
     "output_type": "display_data"
    }
   ],
   "source": [
    "def int_re(x, int_match=re.compile(r'[-+]?\\d+$').match):\n",
    "    \"\"\"Function to simulate fast_int but with regular expressions.\"\"\"\n",
    "    try:\n",
    "        if int_match(x):\n",
    "            return int(x)\n",
    "        else:\n",
    "            return x\n",
    "    except TypeError:\n",
    "        return int(x)\n",
    "\n",
    "def int_try(x):\n",
    "    \"\"\"Function to simulate fast_int but with try/except.\"\"\"\n",
    "    try:\n",
    "        return int(x)\n",
    "    except ValueError:\n",
    "        return x\n",
    "\n",
    "timer = Timer('Timing comparison of `int` functions with error handling')\n",
    "timer.add_function('int_try', 'try/except', 'from __main__ import int_try')\n",
    "timer.add_function('int_re', 'regex', 'from __main__ import int_re')\n",
    "timer.add_function('fast_int', 'fastnumbers', 'from fastnumbers import fast_int')\n",
    "timer.time_functions()"
   ]
  },
  {
   "cell_type": "code",
   "execution_count": 5,
   "metadata": {},
   "outputs": [
    {
     "data": {
      "text/markdown": [
       "### Timing comparison of `float` functions with error handling"
      ],
      "text/plain": [
       "<IPython.core.display.Markdown object>"
      ]
     },
     "metadata": {},
     "output_type": "display_data"
    },
    {
     "data": {
      "text/markdown": [
       "Input type|try/except (ms)|regex (ms)|fastnumbers (ms)\n",
       "---|---:|---:|---:\n",
       "Non-number String|83.510 ± 3.017|46.939 ± 0.359|**20.820 ± 0.047**\n",
       "Small Int String|28.160 ± 0.188|79.882 ± 2.368|**15.813 ± 0.051**\n",
       "Int String|31.155 ± 0.567|84.160 ± 2.408|**16.009 ± 0.455**\n",
       "Large Int String|52.098 ± 0.037|129.641 ± 0.340|**43.951 ± 0.474**\n",
       "Small Float String|29.229 ± 0.202|79.912 ± 2.453|**15.724 ± 0.303**\n",
       "Float String|54.785 ± 1.037|121.975 ± 0.538|**17.163 ± 0.004**\n",
       "Large Float String|84.763 ± 0.353|161.045 ± 2.012|**74.414 ± 0.104**\n",
       "Int|22.444 ± 0.013|90.434 ± 0.368|**11.567 ± 0.005**\n",
       "Float|21.335 ± 0.070|89.935 ± 0.230|**10.479 ± 0.031**"
      ],
      "text/plain": [
       "<IPython.core.display.Markdown object>"
      ]
     },
     "metadata": {},
     "output_type": "display_data"
    }
   ],
   "source": [
    "def float_re(x, float_match=re.compile(r'[-+]?\\d*\\.?\\d+(?:[eE][-+]?\\d+)?$').match):\n",
    "    \"\"\"Function to simulate fast_float but with regular expressions.\"\"\"\n",
    "    try:\n",
    "        if float_match(x):\n",
    "            return float(x)\n",
    "        else:\n",
    "            return x\n",
    "    except TypeError:\n",
    "        return float(x)\n",
    "\n",
    "def float_try(x):\n",
    "    \"\"\"Function to simulate fast_float but with try/except.\"\"\"\n",
    "    try:\n",
    "        return float(x)\n",
    "    except ValueError:\n",
    "        return x\n",
    "\n",
    "timer = Timer('Timing comparison of `float` functions with error handling')\n",
    "timer.add_function('float_try', 'try/except', 'from __main__ import float_try')\n",
    "timer.add_function('float_re', 'regex', 'from __main__ import float_re')\n",
    "timer.add_function('fast_float', 'fastnumbers', 'from fastnumbers import fast_float')\n",
    "timer.time_functions()"
   ]
  },
  {
   "cell_type": "code",
   "execution_count": 6,
   "metadata": {},
   "outputs": [
    {
     "data": {
      "text/markdown": [
       "### Timing comparison of `float` (but coerce to `int` if possible) functions with error handling"
      ],
      "text/plain": [
       "<IPython.core.display.Markdown object>"
      ]
     },
     "metadata": {},
     "output_type": "display_data"
    },
    {
     "data": {
      "text/markdown": [
       "Input type|try/except (ms)|regex (ms)|fastnumbers (ms)\n",
       "---|---:|---:|---:\n",
       "Non-number String|86.011 ± 10.141|78.260 ± 0.350|**22.121 ± 0.315**\n",
       "Small Int String|49.187 ± 2.165|65.275 ± 0.477|**14.633 ± 0.022**\n",
       "Int String|52.408 ± 0.105|72.847 ± 1.617|**16.873 ± 0.008**\n",
       "Large Int String|90.163 ± 0.172|102.653 ± 0.029|**33.967 ± 0.067**\n",
       "Small Float String|49.394 ± 0.112|113.780 ± 2.718|**18.058 ± 0.006**\n",
       "Float String|94.656 ± 0.157|165.167 ± 5.397|**32.193 ± 0.042**\n",
       "Large Float String|174.448 ± 5.179|202.332 ± 2.477|**111.109 ± 0.992**\n",
       "Int|44.910 ± 0.195|93.687 ± 0.066|**11.376 ± 0.012**\n",
       "Float|75.685 ± 0.049|94.530 ± 0.395|**47.864 ± 0.117**"
      ],
      "text/plain": [
       "<IPython.core.display.Markdown object>"
      ]
     },
     "metadata": {},
     "output_type": "display_data"
    }
   ],
   "source": [
    "def real_re(x,\n",
    "            int_match=re.compile(r'[-+]?\\d+$').match,\n",
    "            real_match=re.compile(r'[-+]?\\d*\\.?\\d+(?:[eE][-+]?\\d+)?$').match):\n",
    "    \"\"\"Function to simulate fast_real but with regular expressions.\"\"\"\n",
    "    try:\n",
    "        if int_match(x):\n",
    "            return int(x)\n",
    "        elif real_match(x):\n",
    "            return float(x)\n",
    "        else:\n",
    "            return x\n",
    "    except TypeError:\n",
    "        if type(x) in (float, int):\n",
    "            return x\n",
    "        else:\n",
    "            raise TypeError\n",
    "\n",
    "def real_try(x):\n",
    "    \"\"\"Function to simulate fast_real but with try/except.\"\"\"\n",
    "    try:\n",
    "        a = float(x)\n",
    "    except ValueError:\n",
    "        return x\n",
    "    else:\n",
    "        b = int(a)\n",
    "        return b if a == b else b\n",
    "\n",
    "timer = Timer('Timing comparison of `float` (but coerce to `int` if possible) functions with error handling')\n",
    "timer.add_function('real_try', 'try/except', 'from __main__ import real_try')\n",
    "timer.add_function('real_re', 'regex', 'from __main__ import real_re')\n",
    "timer.add_function('fast_real', 'fastnumbers', 'from fastnumbers import fast_real')\n",
    "timer.time_functions()"
   ]
  },
  {
   "cell_type": "code",
   "execution_count": 7,
   "metadata": {},
   "outputs": [
    {
     "data": {
      "text/markdown": [
       "### Timing comparison of forced `int` functions with error handling"
      ],
      "text/plain": [
       "<IPython.core.display.Markdown object>"
      ]
     },
     "metadata": {},
     "output_type": "display_data"
    },
    {
     "data": {
      "text/markdown": [
       "Input type|try/except (ms)|regex (ms)|fastnumbers (ms)\n",
       "---|---:|---:|---:\n",
       "Non-number String|220.782 ± 5.873|78.113 ± 2.879|**23.518 ± 0.345**\n",
       "Small Int String|32.161 ± 0.363|63.187 ± 1.494|**14.501 ± 0.036**\n",
       "Int String|31.157 ± 0.242|66.524 ± 0.087|**17.052 ± 0.018**\n",
       "Large Int String|39.329 ± 0.151|179.512 ± 1.573|**33.950 ± 0.209**\n",
       "Small Float String|167.763 ± 1.714|117.728 ± 0.715|**20.554 ± 0.053**\n",
       "Float String|216.373 ± 10.684|207.621 ± 10.602|**32.358 ± 0.077**\n",
       "Large Float String|267.190 ± 6.281|244.906 ± 4.435|**110.536 ± 1.295**\n",
       "Int|23.086 ± 0.858|99.587 ± 0.961|**11.349 ± 0.143**\n",
       "Float|38.894 ± 0.875|110.764 ± 5.551|**25.543 ± 0.194**"
      ],
      "text/plain": [
       "<IPython.core.display.Markdown object>"
      ]
     },
     "metadata": {},
     "output_type": "display_data"
    }
   ],
   "source": [
    "def forceint_re(x,\n",
    "                int_match=re.compile(r'[-+]\\d+$').match,\n",
    "                float_match=re.compile(r'[-+]?\\d*\\.?\\d+(?:[eE][-+]?\\d+)?$').match):\n",
    "    \"\"\"Function to simulate fast_forceint but with regular expressions.\"\"\"\n",
    "    try:\n",
    "        if int_match(x):\n",
    "            return int(x)\n",
    "        elif float_match(x):\n",
    "            return int(float(x))\n",
    "        else:\n",
    "            return x\n",
    "    except TypeError:\n",
    "        return int(x)\n",
    "\n",
    "def forceint_try(x):\n",
    "    \"\"\"Function to simulate fast_forceint but with try/except.\"\"\"\n",
    "    try:\n",
    "        return int(x)\n",
    "    except ValueError:\n",
    "        try:\n",
    "            return int(float(x))\n",
    "        except ValueError:\n",
    "            return x\n",
    "\n",
    "timer = Timer('Timing comparison of forced `int` functions with error handling')\n",
    "timer.add_function('forceint_try', 'try/except', 'from __main__ import forceint_try')\n",
    "timer.add_function('forceint_re', 'regex', 'from __main__ import forceint_re')\n",
    "timer.add_function('fast_forceint', 'fastnumbers', 'from fastnumbers import fast_forceint')\n",
    "timer.time_functions()"
   ]
  },
  {
   "cell_type": "markdown",
   "metadata": {
    "collapsed": true
   },
   "source": [
    "## Checking Functions Timing Results\n",
    "The following timing tests compare the performance of the `fastnumbers` functions that check if an input *could* be converted to numeric type with common equivalent pure-Python implementations."
   ]
  },
  {
   "cell_type": "code",
   "execution_count": 8,
   "metadata": {},
   "outputs": [
    {
     "data": {
      "text/markdown": [
       "### Timing comparison to check if value can be converted to `int`"
      ],
      "text/plain": [
       "<IPython.core.display.Markdown object>"
      ]
     },
     "metadata": {},
     "output_type": "display_data"
    },
    {
     "data": {
      "text/markdown": [
       "Input type|try/except (ms)|regex (ms)|fastnumbers (ms)\n",
       "---|---:|---:|---:\n",
       "Non-number String|141.093 ± 5.387|70.776 ± 0.301|**21.645 ± 0.532**\n",
       "Small Int String|44.548 ± 0.098|74.475 ± 1.835|**12.804 ± 0.319**\n",
       "Int String|43.706 ± 0.625|77.166 ± 0.051|**13.167 ± 0.004**\n",
       "Large Int String|53.041 ± 1.504|101.407 ± 0.402|**16.835 ± 0.414**\n",
       "Small Float String|136.773 ± 2.733|75.112 ± 0.119|**12.675 ± 0.016**\n",
       "Float String|142.669 ± 1.529|83.172 ± 0.504|**13.444 ± 0.015**\n",
       "Large Float String|147.643 ± 2.316|82.862 ± 1.113|**13.367 ± 0.021**\n",
       "Int|34.570 ± 0.054|32.585 ± 0.061|**10.106 ± 0.037**\n",
       "Float|49.457 ± 0.148|30.953 ± 0.116|**10.060 ± 0.011**"
      ],
      "text/plain": [
       "<IPython.core.display.Markdown object>"
      ]
     },
     "metadata": {},
     "output_type": "display_data"
    }
   ],
   "source": [
    "def isint_re(x, int_match=re.compile(r'[-+]?\\d+$').match):\n",
    "    \"\"\"Function to simulate isint but with regular expressions.\"\"\"\n",
    "    t = type(x)\n",
    "    return t == int if t in (float, int) else bool(int_match(x))\n",
    "\n",
    "def isint_try(x):\n",
    "    \"\"\"Function to simulate isint but with try/except.\"\"\"\n",
    "    try:\n",
    "        int(x)\n",
    "    except ValueError:\n",
    "        return False\n",
    "    else:\n",
    "        return type(x) != float\n",
    "\n",
    "timer = Timer('Timing comparison to check if value can be converted to `int`')\n",
    "timer.add_function('isint_try', 'try/except', 'from __main__ import isint_try')\n",
    "timer.add_function('isint_re', 'regex', 'from __main__ import isint_re')\n",
    "timer.add_function('isint', 'fastnumbers', 'from fastnumbers import isint')\n",
    "timer.time_functions()"
   ]
  },
  {
   "cell_type": "code",
   "execution_count": 9,
   "metadata": {},
   "outputs": [
    {
     "data": {
      "text/markdown": [
       "### Timing comparison to check if value can be converted to `float`"
      ],
      "text/plain": [
       "<IPython.core.display.Markdown object>"
      ]
     },
     "metadata": {},
     "output_type": "display_data"
    },
    {
     "data": {
      "text/markdown": [
       "Input type|try/except (ms)|regex (ms)|fastnumbers (ms)\n",
       "---|---:|---:|---:\n",
       "Non-number String|83.848 ± 7.001|74.631 ± 0.095|**21.260 ± 0.371**\n",
       "Small Int String|41.149 ± 0.429|90.871 ± 2.201|**14.011 ± 0.084**\n",
       "Int String|44.037 ± 0.390|89.396 ± 0.961|**13.440 ± 0.007**\n",
       "Large Int String|65.682 ± 0.083|112.739 ± 0.381|**14.927 ± 0.021**\n",
       "Small Float String|41.853 ± 0.026|88.599 ± 2.144|**13.295 ± 0.148**\n",
       "Float String|67.390 ± 0.473|101.040 ± 0.035|**13.950 ± 0.010**\n",
       "Large Float String|98.492 ± 0.300|111.738 ± 3.609|**14.489 ± 0.513**\n",
       "Int|34.600 ± 0.027|37.252 ± 6.607|**10.963 ± 0.373**\n",
       "Float|34.284 ± 0.699|29.926 ± 0.016|**9.633 ± 0.018**"
      ],
      "text/plain": [
       "<IPython.core.display.Markdown object>"
      ]
     },
     "metadata": {},
     "output_type": "display_data"
    }
   ],
   "source": [
    "def isfloat_re(x, float_match=re.compile(r'[-+]?\\d*\\.?\\d+(?:[eE][-+]?\\d+)?$').match):\n",
    "    \"\"\"Function to simulate isfloat but with regular expressions.\"\"\"\n",
    "    t = type(x)\n",
    "    return t == float if t in (float, int) else bool(float_match(x))\n",
    "\n",
    "def isfloat_try(x):\n",
    "    \"\"\"Function to simulate isfloat but with try/except.\"\"\"\n",
    "    try:\n",
    "        float(x)\n",
    "    except ValueError:\n",
    "        return False\n",
    "    else:\n",
    "        return type(x) != int\n",
    "\n",
    "timer = Timer('Timing comparison to check if value can be converted to `float`')\n",
    "timer.add_function('isfloat_try', 'try/except', 'from __main__ import isfloat_try')\n",
    "timer.add_function('isfloat_re', 'regex', 'from __main__ import isfloat_re')\n",
    "timer.add_function('isfloat', 'fastnumbers', 'from fastnumbers import isfloat')\n",
    "timer.time_functions()"
   ]
  },
  {
   "cell_type": "code",
   "execution_count": 10,
   "metadata": {},
   "outputs": [
    {
     "data": {
      "text/markdown": [
       "### Timing comparison to check if value can be converted to `float` or `int`"
      ],
      "text/plain": [
       "<IPython.core.display.Markdown object>"
      ]
     },
     "metadata": {},
     "output_type": "display_data"
    },
    {
     "data": {
      "text/markdown": [
       "Input type|try/except (ms)|regex (ms)|fastnumbers (ms)\n",
       "---|---:|---:|---:\n",
       "Non-number String|85.985 ± 8.067|82.365 ± 0.703|**21.755 ± 0.398**\n",
       "Small Int String|27.934 ± 0.019|89.240 ± 2.058|**13.647 ± 0.446**\n",
       "Int String|29.389 ± 0.630|91.554 ± 0.838|**13.491 ± 0.124**\n",
       "Large Int String|53.059 ± 0.657|115.372 ± 0.990|**15.133 ± 0.564**\n",
       "Small Float String|28.742 ± 0.081|89.933 ± 5.897|**13.198 ± 0.012**\n",
       "Float String|53.800 ± 0.026|105.325 ± 0.781|**14.158 ± 0.126**\n",
       "Large Float String|84.577 ± 0.568|114.008 ± 0.612|**14.250 ± 0.005**\n",
       "Int|22.443 ± 0.019|27.993 ± 0.026|**9.574 ± 0.006**\n",
       "Float|21.392 ± 0.463|26.376 ± 0.129|**9.759 ± 0.137**"
      ],
      "text/plain": [
       "<IPython.core.display.Markdown object>"
      ]
     },
     "metadata": {},
     "output_type": "display_data"
    }
   ],
   "source": [
    "def isreal_re(x, real_match=re.compile(r'[-+]?\\d*\\.?\\d+(?:[eE][-+]?\\d+)?$').match):\n",
    "    \"\"\"Function to simulate isreal but with regular expressions.\"\"\"\n",
    "    return type(x) in (float, int) or bool(real_match(x))\n",
    "\n",
    "def isreal_try(x):\n",
    "    \"\"\"Function to simulate isreal but with try/except.\"\"\"\n",
    "    try:\n",
    "        float(x)\n",
    "    except ValueError:\n",
    "        return False\n",
    "    else:\n",
    "        return True\n",
    "\n",
    "timer = Timer('Timing comparison to check if value can be converted to `float` or `int`')\n",
    "timer.add_function('isreal_try', 'try/except', 'from __main__ import isreal_try')\n",
    "timer.add_function('isreal_re', 'regex', 'from __main__ import isreal_re')\n",
    "timer.add_function('isreal', 'fastnumbers', 'from fastnumbers import isreal')\n",
    "timer.time_functions()"
   ]
  },
  {
   "cell_type": "code",
   "execution_count": 11,
   "metadata": {},
   "outputs": [
    {
     "data": {
      "text/markdown": [
       "### Timing comparison to check if value can be coerced losslessly to `int`"
      ],
      "text/plain": [
       "<IPython.core.display.Markdown object>"
      ]
     },
     "metadata": {},
     "output_type": "display_data"
    },
    {
     "data": {
      "text/markdown": [
       "Input type|try/except (ms)|regex (ms)|fastnumbers (ms)\n",
       "---|---:|---:|---:\n",
       "Non-number String|222.218 ± 9.050|80.082 ± 1.280|**20.220 ± 0.022**\n",
       "Small Int String|53.629 ± 0.268|44.853 ± 0.114|**12.722 ± 0.045**\n",
       "Int String|57.669 ± 0.310|48.050 ± 0.130|**12.674 ± 0.058**\n",
       "Large Int String|98.850 ± 0.392|70.958 ± 0.095|**14.075 ± 0.101**\n",
       "Small Float String|165.709 ± 1.333|118.616 ± 1.261|**12.805 ± 0.007**\n",
       "Float String|196.835 ± 1.935|171.553 ± 1.162|**13.725 ± 0.017**\n",
       "Large Float String|236.102 ± 5.235|209.288 ± 1.628|**14.554 ± 0.036**\n",
       "Int|40.924 ± 0.028|91.617 ± 0.498|**9.495 ± 0.072**\n",
       "Float|75.837 ± 0.351|132.797 ± 0.305|**30.942 ± 0.588**"
      ],
      "text/plain": [
       "<IPython.core.display.Markdown object>"
      ]
     },
     "metadata": {},
     "output_type": "display_data"
    }
   ],
   "source": [
    "def isintlike_re(x,\n",
    "                 int_match=re.compile(r'[-+]?\\d+$').match,\n",
    "                 float_match=re.compile(r'[-+]?\\d*\\.?\\d+(?:[eE][-+]?\\d+)?$').match):\n",
    "    \"\"\"Function to simulate isintlike but with regular expressions.\"\"\"\n",
    "    try:\n",
    "        if int_match(x):\n",
    "            return True\n",
    "        elif float_match(x):\n",
    "            return float(x).is_integer()\n",
    "        else:\n",
    "            return False\n",
    "    except TypeError:\n",
    "        return int(x) == x\n",
    "\n",
    "def isintlike_try(x):\n",
    "    \"\"\"Function to simulate isintlike but with try/except.\"\"\"\n",
    "    try:\n",
    "        a = int(x)\n",
    "    except ValueError:\n",
    "        try:\n",
    "            a = float(x)\n",
    "        except ValueError:\n",
    "            return False\n",
    "        else:\n",
    "            return a.is_integer()\n",
    "    else:\n",
    "        return a == float(x)\n",
    "\n",
    "timer = Timer('Timing comparison to check if value can be coerced losslessly to `int`')\n",
    "timer.add_function('isintlike_try', 'try/except', 'from __main__ import isintlike_try')\n",
    "timer.add_function('isintlike_re', 'regex', 'from __main__ import isintlike_re')\n",
    "timer.add_function('isintlike', 'fastnumbers', 'from fastnumbers import isintlike')\n",
    "timer.time_functions()"
   ]
  },
  {
   "cell_type": "code",
   "execution_count": null,
   "metadata": {},
   "outputs": [],
   "source": []
  }
 ],
 "metadata": {
  "anaconda-cloud": {},
  "kernelspec": {
   "display_name": "Python 3",
   "language": "python",
   "name": "python3"
  },
  "language_info": {
   "codemirror_mode": {
    "name": "ipython",
    "version": 3
   },
   "file_extension": ".py",
   "mimetype": "text/x-python",
   "name": "python",
   "nbconvert_exporter": "python",
   "pygments_lexer": "ipython3",
   "version": "3.6.9"
  }
 },
 "nbformat": 4,
 "nbformat_minor": 1
}
