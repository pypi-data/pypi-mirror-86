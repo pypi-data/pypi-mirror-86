{
 "cells": [
  {
   "cell_type": "code",
   "execution_count": 13,
   "metadata": {},
   "outputs": [],
   "source": [
    "import logging\n",
    "import ppx\n",
    "import ann_solo\n",
    "import numpy as np\n",
    "import pandas as pd\n",
    "import matplotlib.pyplot as plt\n",
    "import seaborn as sns\n",
    "\n",
    "logging.basicConfig(level=logging.INFO)\n",
    "sns.set()"
   ]
  },
  {
   "cell_type": "code",
   "execution_count": 10,
   "metadata": {},
   "outputs": [
    {
     "name": "stdout",
     "output_type": "stream",
     "text": [
      "['human_yeast_targetdecoy.splib', 'iPRG2012.mgf']\n"
     ]
    }
   ],
   "source": [
    "dataset = ppx.PXDataset(\"PXD013641\")\n",
    "files = [f for f in dataset.list_files() \n",
    "         if f.endswith((\"splib\", \"mgf\"))]\n",
    "print(files)\n",
    "lib, mgf = dataset.download(files, dest_dir=\"data\")"
   ]
  },
  {
   "cell_type": "code",
   "execution_count": 9,
   "metadata": {},
   "outputs": [
    {
     "name": "stderr",
     "output_type": "stream",
     "text": [
      "WARNING:root:Missing spectral library configuration file\n",
      "INFO:root:Create the spectral library configuration for file data/human_yeast_targetdecoy.splib\n",
      "Library spectra read: 1180172spectra [03:51, 5099.74spectra/s]\n",
      "WARNING:root:ANN indexes were created using non-compatible settings\n",
      "WARNING:root:Missing ANN index for charge 1\n",
      "WARNING:root:Missing ANN index for charge 2\n",
      "WARNING:root:Missing ANN index for charge 3\n",
      "WARNING:root:Missing ANN index for charge 4\n",
      "WARNING:root:Missing ANN index for charge 5\n",
      "WARNING:root:Missing ANN index for charge 6\n",
      "INFO:root:Build the spectral library ANN indexes               \n",
      "INFO:root:Process file data/iPRG2012.mgf\n",
      "INFO:root:4157 spectra identified after the standard search                         \n",
      "INFO:root:Save identifications to file data/iPRG2012.mzTab\n"
     ]
    },
    {
     "data": {
      "text/plain": [
       "'data/iPRG2012.mzTab'"
      ]
     },
     "execution_count": 9,
     "metadata": {},
     "output_type": "execute_result"
    }
   ],
   "source": [
    "mztab = ann_solo.ann_solo(lib, mgf, mgf.replace(\"mgf\", \"mzTab\"),\n",
    "                          precursor_tolerance_mass=20,\n",
    "                          precursor_tolerance_mode='ppm',\n",
    "                          precursor_tolerance_mass_open=300,\n",
    "                          precursor_tolerance_mode_open=\"Da\",\n",
    "                          fragment_mz_tolerance=0.02,\n",
    "                          allow_peark_shifts=True,\n",
    "                          remove_precursor=True)"
   ]
  },
  {
   "cell_type": "code",
   "execution_count": 9,
   "metadata": {},
   "outputs": [
    {
     "data": {
      "text/html": [
       "<div>\n",
       "<style scoped>\n",
       "    .dataframe tbody tr th:only-of-type {\n",
       "        vertical-align: middle;\n",
       "    }\n",
       "\n",
       "    .dataframe tbody tr th {\n",
       "        vertical-align: top;\n",
       "    }\n",
       "\n",
       "    .dataframe thead th {\n",
       "        text-align: right;\n",
       "    }\n",
       "</style>\n",
       "<table border=\"1\" class=\"dataframe\">\n",
       "  <thead>\n",
       "    <tr style=\"text-align: right;\">\n",
       "      <th></th>\n",
       "      <th>sequence</th>\n",
       "      <th>charge</th>\n",
       "      <th>accession</th>\n",
       "      <th>exp_mass_to_charge</th>\n",
       "      <th>calc_mass_to_charge</th>\n",
       "      <th>mass_shift</th>\n",
       "    </tr>\n",
       "    <tr>\n",
       "      <th>PSM_ID</th>\n",
       "      <th></th>\n",
       "      <th></th>\n",
       "      <th></th>\n",
       "      <th></th>\n",
       "      <th></th>\n",
       "      <th></th>\n",
       "    </tr>\n",
       "  </thead>\n",
       "  <tbody>\n",
       "    <tr>\n",
       "      <th>26</th>\n",
       "      <td>YGSTNTRGDNEGQR</td>\n",
       "      <td>3</td>\n",
       "      <td>352476</td>\n",
       "      <td>518.902917</td>\n",
       "      <td>518.901234</td>\n",
       "      <td>0.005050</td>\n",
       "    </tr>\n",
       "    <tr>\n",
       "      <th>28</th>\n",
       "      <td>LQEEERER</td>\n",
       "      <td>2</td>\n",
       "      <td>413738</td>\n",
       "      <td>544.770339</td>\n",
       "      <td>544.770180</td>\n",
       "      <td>0.000318</td>\n",
       "    </tr>\n",
       "    <tr>\n",
       "      <th>34</th>\n",
       "      <td>FTDTRKDEQER</td>\n",
       "      <td>3</td>\n",
       "      <td>247372</td>\n",
       "      <td>475.562710</td>\n",
       "      <td>475.563671</td>\n",
       "      <td>-0.002883</td>\n",
       "    </tr>\n",
       "    <tr>\n",
       "      <th>51</th>\n",
       "      <td>ISKPQNFGEVQSR</td>\n",
       "      <td>3</td>\n",
       "      <td>301952</td>\n",
       "      <td>497.266962</td>\n",
       "      <td>497.263444</td>\n",
       "      <td>0.010556</td>\n",
       "    </tr>\n",
       "    <tr>\n",
       "      <th>66</th>\n",
       "      <td>SQGQINAARR</td>\n",
       "      <td>2</td>\n",
       "      <td>429328</td>\n",
       "      <td>550.798415</td>\n",
       "      <td>550.799607</td>\n",
       "      <td>-0.002384</td>\n",
       "    </tr>\n",
       "  </tbody>\n",
       "</table>\n",
       "</div>"
      ],
      "text/plain": [
       "              sequence  charge  accession  exp_mass_to_charge  \\\n",
       "PSM_ID                                                          \n",
       "26      YGSTNTRGDNEGQR       3     352476          518.902917   \n",
       "28            LQEEERER       2     413738          544.770339   \n",
       "34         FTDTRKDEQER       3     247372          475.562710   \n",
       "51       ISKPQNFGEVQSR       3     301952          497.266962   \n",
       "66          SQGQINAARR       2     429328          550.798415   \n",
       "\n",
       "        calc_mass_to_charge  mass_shift  \n",
       "PSM_ID                                   \n",
       "26               518.901234    0.005050  \n",
       "28               544.770180    0.000318  \n",
       "34               475.563671   -0.002883  \n",
       "51               497.263444    0.010556  \n",
       "66               550.799607   -0.002384  "
      ]
     },
     "execution_count": 9,
     "metadata": {},
     "output_type": "execute_result"
    }
   ],
   "source": [
    "mztab = \"data/iPRG2012.mzTab\"\n",
    "keep_cols = [\"sequence\",\n",
    "             \"charge\",\n",
    "             \"accession\", \n",
    "             \"exp_mass_to_charge\", \n",
    "             \"calc_mass_to_charge\"]\n",
    "\n",
    "ssms = ann_solo.reader.read_mztab_ssms(mztab)[keep_cols]\n",
    "ssms[\"mass_shift\"] = (ssms.exp_mass_to_charge - ssms.calc_mass_to_charge) * ssms.charge\n",
    "ssms.head()"
   ]
  },
  {
   "cell_type": "code",
   "execution_count": 15,
   "metadata": {},
   "outputs": [
    {
     "data": {
      "image/png": "[encoded data removed]",
      "text/plain": [
       "<Figure size 432x288 with 1 Axes>"
      ]
     },
     "metadata": {},
     "output_type": "display_data"
    }
   ],
   "source": [
    "plt.figure()\n",
    "plt.hist(ssms.mass_shift, bins=np.arange(ssms.mass_shift.min(), ssms.mass_shift.max(), 0.1))\n",
    "plt.show()"
   ]
  }
 ],
 "metadata": {
  "kernelspec": {
   "display_name": "Python 3",
   "language": "python",
   "name": "python3"
  },
  "language_info": {
   "codemirror_mode": {
    "name": "ipython",
    "version": 3
   },
   "file_extension": ".py",
   "mimetype": "text/x-python",
   "name": "python",
   "nbconvert_exporter": "python",
   "pygments_lexer": "ipython3",
   "version": "3.7.6"
  }
 },
 "nbformat": 4,
 "nbformat_minor": 4
}
